{
 "cells": [
  {
   "cell_type": "code",
   "execution_count": 1,
   "id": "9c46a19a",
   "metadata": {
    "ExecuteTime": {
     "end_time": "2022-12-12T23:22:54.169885Z",
     "start_time": "2022-12-12T23:22:46.048026Z"
    }
   },
   "outputs": [
    {
     "name": "stderr",
     "output_type": "stream",
     "text": [
      "2022-12-12 18:22:54.047588: I tensorflow/core/platform/cpu_feature_guard.cc:193] This TensorFlow binary is optimized with oneAPI Deep Neural Network Library (oneDNN) to use the following CPU instructions in performance-critical operations:  SSE4.1 SSE4.2 AVX AVX2 FMA\n",
      "To enable them in other operations, rebuild TensorFlow with the appropriate compiler flags.\n"
     ]
    }
   ],
   "source": [
    "from core.runner import Runner\n",
    "import tensorflow as tf\n",
    "\n",
    "grid_length = 8\n",
    "\n",
    "runner = Runner(\n",
    "    grid_length=grid_length,\n",
    "    main_layer_hidden_nodes=[80, 40, 20],\n",
    "    branch1_hidden_nodes=[10],\n",
    "    branch2_hidden_nodes=[10],\n",
    "    exploration_rate=0.5,\n",
    "    learning_rate=0.005,\n",
    "    environment_mode=\"spinfoam_vertex\"\n",
    ")"
   ]
  },
  {
   "cell_type": "code",
   "execution_count": null,
   "id": "7216a41f",
   "metadata": {
    "ExecuteTime": {
     "start_time": "2022-12-12T23:23:36.826Z"
    }
   },
   "outputs": [
    {
     "name": "stdout",
     "output_type": "stream",
     "text": [
      "Iteration: 0 Average Loss: 29.4460258\n",
      "Iteration: 1000 Average Loss: 2.94355965\n",
      "Iteration: 2000 Average Loss: 2.65810752\n",
      "Iteration: 3000 Average Loss: 2.38932133\n",
      "Iteration: 4000 Average Loss: 2.12302446\n",
      "Iteration: 5000 Average Loss: 2.5067749\n",
      "Iteration: 6000 Average Loss: 1.58465111\n",
      "Iteration: 7000 Average Loss: 1.44875538\n",
      "Iteration: 8000 Average Loss: 1.57229376\n",
      "Iteration: 9000 Average Loss: 1.60856199\n",
      "Iteration: 10000 Average Loss: 1.59234273\n",
      "Iteration: 11000 Average Loss: 1.56522393\n",
      "Iteration: 12000 Average Loss: 1.70676792\n",
      "Iteration: 13000 Average Loss: 1.43888962\n",
      "Iteration: 14000 Average Loss: 1.27018249\n",
      "Iteration: 15000 Average Loss: 1.40723062\n",
      "Iteration: 16000 Average Loss: 1.28698468\n",
      "Iteration: 17000 Average Loss: 1.50784612\n",
      "Iteration: 18000 Average Loss: 1.35830343\n",
      "Iteration: 19000 Average Loss: 1.4558382\n",
      "Iteration: 20000 Average Loss: 1.34285867\n",
      "Iteration: 21000 Average Loss: 1.37678421\n",
      "Iteration: 22000 Average Loss: 1.67767429\n"
     ]
    }
   ],
   "source": [
    "import time\n",
    "\n",
    "batch_size = tf.constant(500)\n",
    "n_iterations = tf.constant(int(5e4))\n",
    "check_loss_every_n_iterations = tf.constant(int(1e3))\n",
    "\n",
    "start = time.time()\n",
    "ave_losses = runner.train_agent(batch_size, n_iterations, check_loss_every_n_iterations)\n",
    "time_elapsed = time.time() - start\n",
    "print(f\"Time Elapsed: {time_elapsed} s\")"
   ]
  },
  {
   "cell_type": "code",
   "execution_count": null,
   "id": "9acb80cb",
   "metadata": {},
   "outputs": [],
   "source": []
  }
 ],
 "metadata": {
  "kernelspec": {
   "display_name": "Python [conda env:GFlowNets_on_SpinFoams] *",
   "language": "python",
   "name": "conda-env-GFlowNets_on_SpinFoams-py"
  },
  "language_info": {
   "codemirror_mode": {
    "name": "ipython",
    "version": 3
   },
   "file_extension": ".py",
   "mimetype": "text/x-python",
   "name": "python",
   "nbconvert_exporter": "python",
   "pygments_lexer": "ipython3",
   "version": "3.10.6"
  }
 },
 "nbformat": 4,
 "nbformat_minor": 5
}
