{
 "cells": [
  {
   "cell_type": "code",
   "execution_count": 1,
   "id": "9c46a19a",
   "metadata": {
    "ExecuteTime": {
     "end_time": "2022-12-13T20:14:12.379144Z",
     "start_time": "2022-12-13T20:14:06.612507Z"
    }
   },
   "outputs": [
    {
     "name": "stderr",
     "output_type": "stream",
     "text": [
      "2022-12-13 15:14:12.317155: I tensorflow/core/platform/cpu_feature_guard.cc:193] This TensorFlow binary is optimized with oneAPI Deep Neural Network Library (oneDNN) to use the following CPU instructions in performance-critical operations:  SSE4.1 SSE4.2 AVX AVX2 FMA\n",
      "To enable them in other operations, rebuild TensorFlow with the appropriate compiler flags.\n"
     ]
    }
   ],
   "source": [
    "from core.runner import Runner\n",
    "import tensorflow as tf\n",
    "\n",
    "grid_length = 8\n",
    "\n",
    "runner = Runner(\n",
    "    grid_length=grid_length,\n",
    "    main_layer_hidden_nodes=[320, 160, 20],\n",
    "    branch1_hidden_nodes=[],\n",
    "    branch2_hidden_nodes=[],\n",
    "    exploration_rate=0.01,\n",
    "    learning_rate=0.001,\n",
    "    environment_mode=\"spinfoam_vertex\"\n",
    ")"
   ]
  },
  {
   "cell_type": "code",
   "execution_count": 2,
   "id": "3dd86283",
   "metadata": {
    "ExecuteTime": {
     "end_time": "2022-12-13T22:33:20.978309Z",
     "start_time": "2022-12-13T20:14:15.508943Z"
    }
   },
   "outputs": [
    {
     "name": "stdout",
     "output_type": "stream",
     "text": [
      "Iteration: 0 Average Loss: 32.4256897\n",
      "Iteration: 1000 Average Loss: 4.41987228\n",
      "Iteration: 2000 Average Loss: 2.47530293\n",
      "Iteration: 3000 Average Loss: 2.89474463\n",
      "Iteration: 4000 Average Loss: 2.30647182\n",
      "Iteration: 5000 Average Loss: 1.68733418\n",
      "Iteration: 6000 Average Loss: 1.5593816\n",
      "Iteration: 7000 Average Loss: 1.51608992\n",
      "Iteration: 8000 Average Loss: 1.68831611\n",
      "Iteration: 9000 Average Loss: 1.69748533\n",
      "Iteration: 10000 Average Loss: 1.43996131\n",
      "Iteration: 11000 Average Loss: 1.21751\n",
      "Iteration: 12000 Average Loss: 1.10202312\n",
      "Iteration: 13000 Average Loss: 1.17498815\n",
      "Iteration: 14000 Average Loss: 0.992367566\n",
      "Time Elapsed: 8345.445195198059 s\n"
     ]
    }
   ],
   "source": [
    "import time\n",
    "\n",
    "batch_size = tf.constant(500)\n",
    "n_iterations = tf.constant(int(1.5e4))\n",
    "check_loss_every_n_iterations = tf.constant(int(1e3))\n",
    "\n",
    "start = time.time()\n",
    "ave_losses = runner.train_agent(batch_size, n_iterations, check_loss_every_n_iterations)\n",
    "time_elapsed = time.time() - start\n",
    "print(f\"Time Elapsed: {time_elapsed} s\")"
   ]
  },
  {
   "cell_type": "code",
   "execution_count": 3,
   "id": "f51be370",
   "metadata": {
    "ExecuteTime": {
     "end_time": "2022-12-13T22:37:47.696540Z",
     "start_time": "2022-12-13T22:37:46.008895Z"
    }
   },
   "outputs": [
    {
     "name": "stdout",
     "output_type": "stream",
     "text": [
      "tf.Tensor(1.1583915, shape=(), dtype=float32)\n"
     ]
    },
    {
     "data": {
      "text/plain": [
       "[<matplotlib.lines.Line2D at 0x14ef51630>]"
      ]
     },
     "execution_count": 3,
     "metadata": {},
     "output_type": "execute_result"
    },
    {
     "data": {
      "image/png": "[encoded data removed]",
      "text/plain": [
       "<Figure size 640x480 with 1 Axes>"
      ]
     },
     "metadata": {},
     "output_type": "display_data"
    }
   ],
   "source": [
    "import matplotlib.pyplot as plt\n",
    "print(ave_losses[-1])\n",
    "plt.plot(ave_losses.numpy())"
   ]
  },
  {
   "cell_type": "code",
   "execution_count": 6,
   "id": "bb3ce627",
   "metadata": {
    "ExecuteTime": {
     "end_time": "2022-12-13T22:42:56.548354Z",
     "start_time": "2022-12-13T22:42:48.250416Z"
    }
   },
   "outputs": [
    {
     "name": "stdout",
     "output_type": "stream",
     "text": [
      "Percentage of coordinates sampled uniquely: 26.71%\n"
     ]
    }
   ],
   "source": [
    "batch_size = tf.constant(int(5e4))\n",
    "\n",
    "agent_distr = runner.get_normalized_agent_sample_distribution(batch_size)\n",
    "\n",
    "grid_dim = 5\n",
    "n_unique_samples = tf.shape(tf.where(agent_distr))[0]\n",
    "frac_unique_coords = n_unique_samples / (grid_length ** grid_dim)\n",
    "print(f\"Percentage of coordinates sampled uniquely: {float(frac_unique_coords*100):.2f}%\")"
   ]
  },
  {
   "cell_type": "code",
   "execution_count": 7,
   "id": "ff284fd8",
   "metadata": {
    "ExecuteTime": {
     "end_time": "2022-12-13T22:44:00.083167Z",
     "start_time": "2022-12-13T22:44:00.070757Z"
    }
   },
   "outputs": [],
   "source": [
    "env_distr = runner.env.rewards / tf.math.reduce_sum(runner.env.rewards)"
   ]
  },
  {
   "cell_type": "code",
   "execution_count": 8,
   "id": "4811c5ac",
   "metadata": {
    "ExecuteTime": {
     "end_time": "2022-12-13T22:44:13.507794Z",
     "start_time": "2022-12-13T22:44:13.486650Z"
    }
   },
   "outputs": [],
   "source": [
    "import numpy as np\n",
    "\n",
    "def _plot_l1_errors_per_probability_interval(agent_prob, env_prob, \n",
    "#                                              filename, \n",
    "                                             n_intervals\n",
    "                                            ):\n",
    "    result = agent_prob.ravel()\n",
    "    expected = env_prob.ravel()\n",
    "    max_expected = expected.max()\n",
    "    expected_pcts = expected * 100 / max_expected\n",
    "\n",
    "    interval_edges = np.linspace(0, 100, n_intervals + 1)\n",
    "    starts = interval_edges[:-1]\n",
    "    ends = interval_edges[1:]\n",
    "\n",
    "    frac_l1_errors = np.abs(result - expected) / max_expected\n",
    "    errors = []\n",
    "    labels = []\n",
    "    for s, e in zip(starts, ends):\n",
    "        inds = np.where((s < expected_pcts) & (expected_pcts <= e))\n",
    "        errors_per_interval = frac_l1_errors[inds]\n",
    "        if len(errors_per_interval):\n",
    "            interval_label = f\"{s:.2f}% < pct <= {e:.2f}%\"\n",
    "            errors.append(errors_per_interval)\n",
    "            labels.append(interval_label)\n",
    "\n",
    "#     print(errors)\n",
    "    fig, ax = plt.subplots()\n",
    "    ax.violinplot(errors)\n",
    "    ax.set_xticks(np.arange(1, len(labels) + 1), labels=labels, rotation=15)\n",
    "    ax.set_ylim(0, 1.0)\n",
    "    ax.set_ylabel(\"Fractional L1 Errors\")\n",
    "    ax.set_xlabel(\"Percentage of max theoretical probability\")\n",
    "    plt.tight_layout()\n",
    "#     fig.savefig(f\"./plot_results/{filename}\")\n",
    "    return errors"
   ]
  },
  {
   "cell_type": "code",
   "execution_count": 9,
   "id": "e4dc8d07",
   "metadata": {
    "ExecuteTime": {
     "end_time": "2022-12-13T22:44:28.680451Z",
     "start_time": "2022-12-13T22:44:28.165427Z"
    }
   },
   "outputs": [
    {
     "data": {
      "image/png": "[encoded data removed]",
      "text/plain": [
       "<Figure size 640x480 with 1 Axes>"
      ]
     },
     "metadata": {},
     "output_type": "display_data"
    }
   ],
   "source": [
    "errors = _plot_l1_errors_per_probability_interval(\n",
    "    agent_distr.numpy(), env_distr.numpy(), n_intervals=4\n",
    ")"
   ]
  },
  {
   "cell_type": "code",
   "execution_count": 11,
   "id": "85947a95",
   "metadata": {
    "ExecuteTime": {
     "end_time": "2022-12-13T22:45:19.904854Z",
     "start_time": "2022-12-13T22:45:19.887511Z"
    }
   },
   "outputs": [
    {
     "data": {
      "text/plain": [
       "[array([5.7635468e-04, 2.7919549e-04, 5.1134703e-04, ..., 2.1435235e-07,\n",
       "        4.7912425e-05, 1.0551037e-03], dtype=float32),\n",
       " array([0.06084052], dtype=float32)]"
      ]
     },
     "execution_count": 11,
     "metadata": {},
     "output_type": "execute_result"
    }
   ],
   "source": [
    "errors"
   ]
  },
  {
   "cell_type": "code",
   "execution_count": null,
   "id": "913999bd",
   "metadata": {},
   "outputs": [],
   "source": []
  }
 ],
 "metadata": {
  "kernelspec": {
   "display_name": "Python [conda env:GFlowNets_on_SpinFoams] *",
   "language": "python",
   "name": "conda-env-GFlowNets_on_SpinFoams-py"
  },
  "language_info": {
   "codemirror_mode": {
    "name": "ipython",
    "version": 3
   },
   "file_extension": ".py",
   "mimetype": "text/x-python",
   "name": "python",
   "nbconvert_exporter": "python",
   "pygments_lexer": "ipython3",
   "version": "3.10.6"
  }
 },
 "nbformat": 4,
 "nbformat_minor": 5
}
