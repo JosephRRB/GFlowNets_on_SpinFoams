{
 "cells": [
  {
   "cell_type": "code",
   "execution_count": 1,
   "id": "9c46a19a",
   "metadata": {
    "ExecuteTime": {
     "end_time": "2022-12-13T01:03:56.856474Z",
     "start_time": "2022-12-13T01:03:50.943078Z"
    }
   },
   "outputs": [
    {
     "name": "stderr",
     "output_type": "stream",
     "text": [
      "2022-12-12 20:03:56.782588: I tensorflow/core/platform/cpu_feature_guard.cc:193] This TensorFlow binary is optimized with oneAPI Deep Neural Network Library (oneDNN) to use the following CPU instructions in performance-critical operations:  SSE4.1 SSE4.2 AVX AVX2 FMA\n",
      "To enable them in other operations, rebuild TensorFlow with the appropriate compiler flags.\n"
     ]
    }
   ],
   "source": [
    "from core.runner import Runner\n",
    "import tensorflow as tf\n",
    "\n",
    "grid_length = 8\n",
    "\n",
    "runner = Runner(\n",
    "    grid_length=grid_length,\n",
    "    main_layer_hidden_nodes=[160, 80, 40, 20, 10],\n",
    "    branch1_hidden_nodes=[],\n",
    "    branch2_hidden_nodes=[],\n",
    "    exploration_rate=0.01,\n",
    "    learning_rate=0.01,\n",
    "    environment_mode=\"spinfoam_vertex\"\n",
    ")"
   ]
  },
  {
   "cell_type": "code",
   "execution_count": 2,
   "id": "3dd86283",
   "metadata": {
    "ExecuteTime": {
     "end_time": "2022-12-13T02:20:36.760470Z",
     "start_time": "2022-12-13T01:03:59.516781Z"
    }
   },
   "outputs": [
    {
     "name": "stdout",
     "output_type": "stream",
     "text": [
      "Iteration: 0 Average Loss: 28.7407532\n",
      "Iteration: 1000 Average Loss: 2.9569068\n",
      "Iteration: 2000 Average Loss: 2.13026762\n",
      "Iteration: 3000 Average Loss: 1.63027489\n",
      "Iteration: 4000 Average Loss: 1.38929367\n",
      "Iteration: 5000 Average Loss: 1.3693645\n",
      "Iteration: 6000 Average Loss: 1.34773874\n",
      "Iteration: 7000 Average Loss: 1.25343096\n",
      "Iteration: 8000 Average Loss: 1.13402808\n",
      "Iteration: 9000 Average Loss: 1.13706183\n",
      "Iteration: 10000 Average Loss: 1.04787374\n",
      "Iteration: 11000 Average Loss: 0.986692488\n",
      "Iteration: 12000 Average Loss: 1.07858205\n",
      "Iteration: 13000 Average Loss: 0.912518919\n",
      "Iteration: 14000 Average Loss: 0.889588237\n",
      "Time Elapsed: 4597.051502227783 s\n"
     ]
    }
   ],
   "source": [
    "import time\n",
    "\n",
    "batch_size = tf.constant(500)\n",
    "n_iterations = tf.constant(int(1.5e4))\n",
    "check_loss_every_n_iterations = tf.constant(int(1e3))\n",
    "\n",
    "start = time.time()\n",
    "ave_losses = runner.train_agent(batch_size, n_iterations, check_loss_every_n_iterations)\n",
    "time_elapsed = time.time() - start\n",
    "print(f\"Time Elapsed: {time_elapsed} s\")"
   ]
  },
  {
   "cell_type": "code",
   "execution_count": null,
   "id": "f51be370",
   "metadata": {},
   "outputs": [],
   "source": []
  }
 ],
 "metadata": {
  "kernelspec": {
   "display_name": "Python [conda env:GFlowNets_on_SpinFoams] *",
   "language": "python",
   "name": "conda-env-GFlowNets_on_SpinFoams-py"
  },
  "language_info": {
   "codemirror_mode": {
    "name": "ipython",
    "version": 3
   },
   "file_extension": ".py",
   "mimetype": "text/x-python",
   "name": "python",
   "nbconvert_exporter": "python",
   "pygments_lexer": "ipython3",
   "version": "3.10.6"
  }
 },
 "nbformat": 4,
 "nbformat_minor": 5
}
