{
 "cells": [
  {
   "cell_type": "code",
   "execution_count": null,
   "id": "9c46a19a",
   "metadata": {},
   "outputs": [],
   "source": [
    "grid_length = 8\n",
    "\n",
    "runner = Runner(\n",
    "    grid_length=grid_length,\n",
    "    main_layer_hidden_nodes=[80, 40, 20],\n",
    "    branch1_hidden_nodes=[10],\n",
    "    branch2_hidden_nodes=[10],\n",
    "    exploration_rate=0.5,\n",
    "    learning_rate=0.005\n",
    ")"
   ]
  }
 ],
 "metadata": {
  "kernelspec": {
   "display_name": "Python [conda env:GFlowNets_on_SpinFoams] *",
   "language": "python",
   "name": "conda-env-GFlowNets_on_SpinFoams-py"
  },
  "language_info": {
   "codemirror_mode": {
    "name": "ipython",
    "version": 3
   },
   "file_extension": ".py",
   "mimetype": "text/x-python",
   "name": "python",
   "nbconvert_exporter": "python",
   "pygments_lexer": "ipython3",
   "version": "3.10.6"
  }
 },
 "nbformat": 4,
 "nbformat_minor": 5
}
