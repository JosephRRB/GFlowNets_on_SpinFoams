{
 "cells": [
  {
   "cell_type": "code",
   "execution_count": 1,
   "metadata": {},
   "outputs": [
    {
     "name": "stderr",
     "output_type": "stream",
     "text": [
      "2023-05-02 21:18:23.388727: I tensorflow/core/platform/cpu_feature_guard.cc:193] This TensorFlow binary is optimized with oneAPI Deep Neural Network Library (oneDNN) to use the following CPU instructions in performance-critical operations:  AVX2 FMA\n",
      "To enable them in other operations, rebuild TensorFlow with the appropriate compiler flags.\n",
      "2023-05-02 21:18:23.505549: W tensorflow/compiler/xla/stream_executor/platform/default/dso_loader.cc:64] Could not load dynamic library 'libcudart.so.11.0'; dlerror: libcudart.so.11.0: cannot open shared object file: No such file or directory\n",
      "2023-05-02 21:18:23.505568: I tensorflow/compiler/xla/stream_executor/cuda/cudart_stub.cc:29] Ignore above cudart dlerror if you do not have a GPU set up on your machine.\n",
      "2023-05-02 21:18:23.973851: W tensorflow/compiler/xla/stream_executor/platform/default/dso_loader.cc:64] Could not load dynamic library 'libnvinfer.so.7'; dlerror: libnvinfer.so.7: cannot open shared object file: No such file or directory\n",
      "2023-05-02 21:18:23.973921: W tensorflow/compiler/xla/stream_executor/platform/default/dso_loader.cc:64] Could not load dynamic library 'libnvinfer_plugin.so.7'; dlerror: libnvinfer_plugin.so.7: cannot open shared object file: No such file or directory\n",
      "2023-05-02 21:18:23.973928: W tensorflow/compiler/tf2tensorrt/utils/py_utils.cc:38] TF-TRT Warning: Cannot dlopen some TensorRT libraries. If you would like to use Nvidia GPU with TensorRT, please make sure the missing libraries mentioned above are installed properly.\n",
      "2023-05-02 21:18:24.628105: E tensorflow/compiler/xla/stream_executor/cuda/cuda_driver.cc:267] failed call to cuInit: CUDA_ERROR_UNKNOWN: unknown error\n",
      "2023-05-02 21:18:24.628174: I tensorflow/compiler/xla/stream_executor/cuda/cuda_diagnostics.cc:169] retrieving CUDA diagnostic information for host: LA-LL-02\n",
      "2023-05-02 21:18:24.628201: I tensorflow/compiler/xla/stream_executor/cuda/cuda_diagnostics.cc:176] hostname: LA-LL-02\n",
      "2023-05-02 21:18:24.628306: I tensorflow/compiler/xla/stream_executor/cuda/cuda_diagnostics.cc:200] libcuda reported version is: 470.182.3\n",
      "2023-05-02 21:18:24.628355: I tensorflow/compiler/xla/stream_executor/cuda/cuda_diagnostics.cc:204] kernel reported version is: 470.182.3\n",
      "2023-05-02 21:18:24.628368: I tensorflow/compiler/xla/stream_executor/cuda/cuda_diagnostics.cc:310] kernel version seems to match DSO: 470.182.3\n",
      "2023-05-02 21:18:24.628809: I tensorflow/core/platform/cpu_feature_guard.cc:193] This TensorFlow binary is optimized with oneAPI Deep Neural Network Library (oneDNN) to use the following CPU instructions in performance-critical operations:  AVX2 FMA\n",
      "To enable them in other operations, rebuild TensorFlow with the appropriate compiler flags.\n"
     ]
    }
   ],
   "source": [
    "from core.environment import _load_vertex_amplitudes\n",
    "import tensorflow as tf\n",
    "\n",
    "\n",
    "spin_j = 3.0\n",
    "vertex_amplitudes = tf.convert_to_tensor(_load_vertex_amplitudes(spin_j), dtype=tf.float64)\n"
   ]
  },
  {
   "cell_type": "code",
   "execution_count": 2,
   "metadata": {},
   "outputs": [
    {
     "data": {
      "text/plain": [
       "<tf.Tensor: shape=(), dtype=float64, numpy=-5.071973704515683e-13>"
      ]
     },
     "execution_count": 2,
     "metadata": {},
     "output_type": "execute_result"
    }
   ],
   "source": [
    "vertex_amplitudes[0,3,0,2,0]"
   ]
  },
  {
   "cell_type": "code",
   "execution_count": 4,
   "metadata": {},
   "outputs": [
    {
     "data": {
      "text/plain": [
       "<tf.Tensor: shape=(2,), dtype=float64, numpy=array([4.97932225e-155, 1.19072268e-152])>"
      ]
     },
     "execution_count": 4,
     "metadata": {},
     "output_type": "execute_result"
    }
   ],
   "source": [
    "def get_amplitude_per_star_edge(amplitudes, sub_coordinates):\n",
    "    amplitude = tf.gather_nd(amplitudes, sub_coordinates)\n",
    "    return amplitude\n",
    "\n",
    "def calculate_star_amplitude(amplitudes, coordinates):\n",
    "    vertex_1 = get_amplitude_per_star_edge(amplitudes, coordinates[:, :4])\n",
    "    vertex_2 = get_amplitude_per_star_edge(amplitudes, coordinates[:, 4:8])\n",
    "    vertex_3 = get_amplitude_per_star_edge(amplitudes, coordinates[:, 8:12])\n",
    "    vertex_4 = get_amplitude_per_star_edge(amplitudes, coordinates[:, 12:16])\n",
    "    vertex_5 = get_amplitude_per_star_edge(amplitudes, coordinates[:, 16:20])\n",
    "    \n",
    "    star_amplitude = tf.einsum(\n",
    "        \"abcde, ie, id, ic, ib, ia -> i\",\n",
    "        amplitudes, vertex_1, vertex_2, vertex_3, vertex_4, vertex_5\n",
    "    )\n",
    "    return star_amplitude\n",
    "\n",
    "positions = tf.constant([\n",
    "    [0,1,4,3,4,0,1,4,3,2,0,1,4,3,0,0,1,4,3,0],\n",
    "    [2,0,1,4,3,0,0,1,4,3,0,0,1,4,3,4,0,1,4,3]\n",
    "])\n",
    "\n",
    "square_amplitudes = tf.math.square(calculate_star_amplitude(vertex_amplitudes, positions))\n",
    "square_amplitudes"
   ]
  },
  {
   "cell_type": "code",
   "execution_count": 7,
   "metadata": {},
   "outputs": [
    {
     "name": "stdout",
     "output_type": "stream",
     "text": [
      "tf.Tensor(4.979322253013463e-155, shape=(), dtype=float64)\n",
      "tf.Tensor(1.1907226844767894e-152, shape=(), dtype=float64)\n"
     ]
    }
   ],
   "source": [
    "print(square_amplitudes[0])\n",
    "print(square_amplitudes[1])"
   ]
  },
  {
   "cell_type": "code",
   "execution_count": 6,
   "metadata": {},
   "outputs": [
    {
     "name": "stdout",
     "output_type": "stream",
     "text": [
      "4.979322253013463e-155\n",
      "1.19072268447679e-152\n"
     ]
    }
   ],
   "source": [
    "inds1 = [0,1,4,3,4,0,1,4,3,2,0,1,4,3,0,0,1,4,3,0]\n",
    "inds2 = [2,0,1,4,3,0,0,1,4,3,0,0,1,4,3,4,0,1,4,3]\n",
    "\n",
    "star_ampl_np1 = star_reward_np(vertex_amplitudes.numpy(), inds1, optimize_path=path_star_contraction)\n",
    "star_ampl_np2 = star_reward_np(vertex_amplitudes.numpy(), inds2, optimize_path=path_star_contraction)\n",
    "\n",
    "print(star_ampl_np1)\n",
    "print(star_ampl_np2)"
   ]
  },
  {
   "cell_type": "code",
   "execution_count": 5,
   "metadata": {},
   "outputs": [],
   "source": [
    "import numpy as np\n",
    "\n",
    "vector = vertex_amplitudes[0,0,0,0,:]\n",
    "\n",
    "path_star_contraction = np.einsum_path('abcde, e, d, c, b, a->', vertex_amplitudes,vector,vector,vector,vector,vector, optimize='optimal')[0]\n",
    "\n",
    "def star_reward_np(tensor, indices, optimize_path=False):\n",
    "\n",
    "    return np.square(np.einsum('abcde, e, d, c, b, a ->', tensor,  \n",
    "                              tensor[indices[0], indices[1], indices[2], indices[3], :], \n",
    "                              tensor[indices[4], indices[5], indices[6], indices[7], :],\n",
    "                              tensor[indices[8], indices[9], indices[10], indices[11], :],\n",
    "                              tensor[indices[12], indices[13], indices[14], indices[15], :],\n",
    "                              tensor[indices[16], indices[17], indices[18], indices[19], :],\n",
    "                              optimize=optimize_path))"
   ]
  },
  {
   "cell_type": "code",
   "execution_count": null,
   "metadata": {},
   "outputs": [],
   "source": []
  },
  {
   "cell_type": "code",
   "execution_count": null,
   "metadata": {},
   "outputs": [],
   "source": []
  },
  {
   "cell_type": "code",
   "execution_count": null,
   "metadata": {},
   "outputs": [],
   "source": []
  },
  {
   "cell_type": "code",
   "execution_count": 3,
   "metadata": {},
   "outputs": [],
   "source": [
    "\n",
    "def star_reward_tf(tensor, indices):\n",
    "    return tf.math.square(tf.einsum('abcde, e, d, c, b, a ->', tensor,  \n",
    "                              tensor[indices[0], indices[1], indices[2], indices[3], :], \n",
    "                              tensor[indices[4], indices[5], indices[6], indices[7], :],\n",
    "                              tensor[indices[8], indices[9], indices[10], indices[11], :],\n",
    "                              tensor[indices[12], indices[13], indices[14], indices[15], :],\n",
    "                              tensor[indices[16], indices[17], indices[18], indices[19], :],))"
   ]
  },
  {
   "cell_type": "code",
   "execution_count": 4,
   "metadata": {},
   "outputs": [
    {
     "name": "stdout",
     "output_type": "stream",
     "text": [
      "tf.Tensor(4.979322253013459e-155, shape=(), dtype=float64)\n",
      "tf.Tensor(1.1907226844767896e-152, shape=(), dtype=float64)\n"
     ]
    }
   ],
   "source": [
    "indices = tf.constant([\n",
    "    [0,1,4,3,4,0,1,4,3,2,0,1,4,3,0,0,1,4,3,0],\n",
    "    [2,0,1,4,3,0,0,1,4,3,0,0,1,4,3,4,0,1,4,3]\n",
    "])\n",
    "\n",
    "star_ampl_sq1 = star_reward_tf(vertex_amplitudes, indices[0, :])\n",
    "star_ampl_sq2 = star_reward_tf(vertex_amplitudes, indices[1, :])\n",
    "\n",
    "print(star_ampl_sq1)\n",
    "print(star_ampl_sq2)"
   ]
  },
  {
   "cell_type": "code",
   "execution_count": 10,
   "metadata": {},
   "outputs": [
    {
     "data": {
      "text/plain": [
       "<tf.Tensor: shape=(), dtype=float64, numpy=4.979322253013459e-155>"
      ]
     },
     "execution_count": 10,
     "metadata": {},
     "output_type": "execute_result"
    }
   ],
   "source": [
    "star_ampl_sq"
   ]
  },
  {
   "cell_type": "code",
   "execution_count": 5,
   "metadata": {},
   "outputs": [
    {
     "name": "stdout",
     "output_type": "stream",
     "text": [
      "tf.Tensor(\n",
      "[-1.57567289e-14 -2.28265984e-14  2.11701924e-14 -1.26545086e-14\n",
      "  9.88215802e-15  4.28683633e-14  1.82147419e-14], shape=(7,), dtype=float64)\n",
      "tf.Tensor(\n",
      "[-1.61490574e-13  4.98911489e-14  4.03432774e-15  2.15526947e-14\n",
      "  5.68630915e-14  1.13815414e-14 -5.39893546e-14], shape=(7,), dtype=float64)\n"
     ]
    }
   ],
   "source": [
    "row = 0\n",
    "\n",
    "print(vertex_amplitudes[indices[row, 0], indices[row, 1], indices[row, 2], indices[row, 3], :])\n",
    "\n",
    "row = 1\n",
    "\n",
    "print(vertex_amplitudes[indices[row, 0], indices[row, 1], indices[row, 2], indices[row, 3], :])\n"
   ]
  },
  {
   "cell_type": "code",
   "execution_count": 5,
   "metadata": {},
   "outputs": [
    {
     "data": {
      "text/plain": [
       "<tf.Tensor: shape=(2, 7), dtype=float64, numpy=\n",
       "array([[-1.57567289e-14, -2.28265984e-14,  2.11701924e-14,\n",
       "        -1.26545086e-14,  9.88215802e-15,  4.28683633e-14,\n",
       "         1.82147419e-14],\n",
       "       [-1.61490574e-13,  4.98911489e-14,  4.03432774e-15,\n",
       "         2.15526947e-14,  5.68630915e-14,  1.13815414e-14,\n",
       "        -5.39893546e-14]])>"
      ]
     },
     "execution_count": 5,
     "metadata": {},
     "output_type": "execute_result"
    }
   ],
   "source": [
    "vertex_1"
   ]
  },
  {
   "cell_type": "code",
   "execution_count": 40,
   "metadata": {},
   "outputs": [
    {
     "data": {
      "text/plain": [
       "<tf.Tensor: shape=(2, 7), dtype=float64, numpy=\n",
       "array([[-1.57567289e-14, -2.28265984e-14,  2.11701924e-14,\n",
       "        -1.26545086e-14,  9.88215802e-15,  4.28683633e-14,\n",
       "         1.82147419e-14],\n",
       "       [-1.61490574e-13,  4.98911489e-14,  4.03432774e-15,\n",
       "         2.15526947e-14,  5.68630915e-14,  1.13815414e-14,\n",
       "        -5.39893546e-14]])>"
      ]
     },
     "execution_count": 40,
     "metadata": {},
     "output_type": "execute_result"
    }
   ],
   "source": [
    "tf.gather_nd(vertex_amplitudes, inds_1)"
   ]
  },
  {
   "cell_type": "code",
   "execution_count": 6,
   "metadata": {
    "collapsed": true
   },
   "outputs": [
    {
     "ename": "TypeError",
     "evalue": "Only integers, slices (`:`), ellipsis (`...`), tf.newaxis (`None`) and scalar tf.int32/tf.int64 tensors are valid indices, got <tf.Tensor: shape=(2,), dtype=int32, numpy=array([0, 2], dtype=int32)>",
     "output_type": "error",
     "traceback": [
      "\u001b[0;31m---------------------------------------------------------------------------\u001b[0m",
      "\u001b[0;31mTypeError\u001b[0m                                 Traceback (most recent call last)",
      "Cell \u001b[0;32mIn[6], line 1\u001b[0m\n\u001b[0;32m----> 1\u001b[0m \u001b[43mvertex_amplitudes\u001b[49m\u001b[43m[\u001b[49m\u001b[43mindices\u001b[49m\u001b[43m[\u001b[49m\u001b[43m:\u001b[49m\u001b[43m,\u001b[49m\u001b[43m \u001b[49m\u001b[38;5;241;43m0\u001b[39;49m\u001b[43m]\u001b[49m\u001b[43m,\u001b[49m\u001b[43m \u001b[49m\u001b[43mindices\u001b[49m\u001b[43m[\u001b[49m\u001b[43m:\u001b[49m\u001b[43m,\u001b[49m\u001b[43m \u001b[49m\u001b[38;5;241;43m1\u001b[39;49m\u001b[43m]\u001b[49m\u001b[43m,\u001b[49m\u001b[43m \u001b[49m\u001b[43mindices\u001b[49m\u001b[43m[\u001b[49m\u001b[43m:\u001b[49m\u001b[43m,\u001b[49m\u001b[43m \u001b[49m\u001b[38;5;241;43m2\u001b[39;49m\u001b[43m]\u001b[49m\u001b[43m,\u001b[49m\u001b[43m \u001b[49m\u001b[43mindices\u001b[49m\u001b[43m[\u001b[49m\u001b[43m:\u001b[49m\u001b[43m,\u001b[49m\u001b[43m \u001b[49m\u001b[38;5;241;43m3\u001b[39;49m\u001b[43m]\u001b[49m\u001b[43m,\u001b[49m\u001b[43m \u001b[49m\u001b[43m:\u001b[49m\u001b[43m]\u001b[49m\n",
      "File \u001b[0;32m~/anaconda3/envs/GFlowNets_on_SpinFoams/lib/python3.8/site-packages/tensorflow/python/util/traceback_utils.py:153\u001b[0m, in \u001b[0;36mfilter_traceback.<locals>.error_handler\u001b[0;34m(*args, **kwargs)\u001b[0m\n\u001b[1;32m    151\u001b[0m \u001b[38;5;28;01mexcept\u001b[39;00m \u001b[38;5;167;01mException\u001b[39;00m \u001b[38;5;28;01mas\u001b[39;00m e:\n\u001b[1;32m    152\u001b[0m   filtered_tb \u001b[38;5;241m=\u001b[39m _process_traceback_frames(e\u001b[38;5;241m.\u001b[39m__traceback__)\n\u001b[0;32m--> 153\u001b[0m   \u001b[38;5;28;01mraise\u001b[39;00m e\u001b[38;5;241m.\u001b[39mwith_traceback(filtered_tb) \u001b[38;5;28;01mfrom\u001b[39;00m \u001b[38;5;28mNone\u001b[39m\n\u001b[1;32m    154\u001b[0m \u001b[38;5;28;01mfinally\u001b[39;00m:\n\u001b[1;32m    155\u001b[0m   \u001b[38;5;28;01mdel\u001b[39;00m filtered_tb\n",
      "File \u001b[0;32m~/anaconda3/envs/GFlowNets_on_SpinFoams/lib/python3.8/site-packages/tensorflow/python/ops/array_ops.py:906\u001b[0m, in \u001b[0;36m_check_index\u001b[0;34m(idx)\u001b[0m\n\u001b[1;32m    901\u001b[0m dtype \u001b[38;5;241m=\u001b[39m \u001b[38;5;28mgetattr\u001b[39m(idx, \u001b[38;5;124m\"\u001b[39m\u001b[38;5;124mdtype\u001b[39m\u001b[38;5;124m\"\u001b[39m, \u001b[38;5;28;01mNone\u001b[39;00m)\n\u001b[1;32m    902\u001b[0m \u001b[38;5;28;01mif\u001b[39;00m (dtype \u001b[38;5;129;01mis\u001b[39;00m \u001b[38;5;28;01mNone\u001b[39;00m \u001b[38;5;129;01mor\u001b[39;00m dtypes\u001b[38;5;241m.\u001b[39mas_dtype(dtype) \u001b[38;5;129;01mnot\u001b[39;00m \u001b[38;5;129;01min\u001b[39;00m _SUPPORTED_SLICE_DTYPES \u001b[38;5;129;01mor\u001b[39;00m\n\u001b[1;32m    903\u001b[0m     idx\u001b[38;5;241m.\u001b[39mshape \u001b[38;5;129;01mand\u001b[39;00m \u001b[38;5;28mlen\u001b[39m(idx\u001b[38;5;241m.\u001b[39mshape) \u001b[38;5;241m==\u001b[39m \u001b[38;5;241m1\u001b[39m):\n\u001b[1;32m    904\u001b[0m   \u001b[38;5;66;03m# TODO(slebedev): IndexError seems more appropriate here, but it\u001b[39;00m\n\u001b[1;32m    905\u001b[0m   \u001b[38;5;66;03m# will break `_slice_helper` contract.\u001b[39;00m\n\u001b[0;32m--> 906\u001b[0m   \u001b[38;5;28;01mraise\u001b[39;00m \u001b[38;5;167;01mTypeError\u001b[39;00m(_SLICE_TYPE_ERROR \u001b[38;5;241m+\u001b[39m \u001b[38;5;124m\"\u001b[39m\u001b[38;5;124m, got \u001b[39m\u001b[38;5;132;01m{!r}\u001b[39;00m\u001b[38;5;124m\"\u001b[39m\u001b[38;5;241m.\u001b[39mformat(idx))\n",
      "\u001b[0;31mTypeError\u001b[0m: Only integers, slices (`:`), ellipsis (`...`), tf.newaxis (`None`) and scalar tf.int32/tf.int64 tensors are valid indices, got <tf.Tensor: shape=(2,), dtype=int32, numpy=array([0, 2], dtype=int32)>"
     ]
    }
   ],
   "source": [
    "vertex_amplitudes[indices[:, 0], indices[:, 1], indices[:, 2], indices[:, 3], :]"
   ]
  },
  {
   "cell_type": "code",
   "execution_count": 14,
   "metadata": {},
   "outputs": [
    {
     "data": {
      "text/plain": [
       "<tf.Tensor: shape=(2, 4), dtype=int32, numpy=\n",
       "array([[0, 1, 4, 3],\n",
       "       [2, 0, 1, 4]], dtype=int32)>"
      ]
     },
     "execution_count": 14,
     "metadata": {},
     "output_type": "execute_result"
    }
   ],
   "source": [
    "tf.concat([\n",
    "    tf.reshape(indices[:, 0], shape=(-1, 1)), \n",
    "    tf.reshape(indices[:, 1], shape=(-1, 1)), \n",
    "    tf.reshape(indices[:, 2], shape=(-1, 1)), \n",
    "    tf.reshape(indices[:, 3], shape=(-1, 1))\n",
    "], 1)"
   ]
  },
  {
   "cell_type": "code",
   "execution_count": 23,
   "metadata": {},
   "outputs": [
    {
     "data": {
      "text/plain": [
       "<tf.Tensor: shape=(2, 4), dtype=int32, numpy=\n",
       "array([[0, 1, 4, 3],\n",
       "       [2, 0, 1, 4]], dtype=int32)>"
      ]
     },
     "execution_count": 23,
     "metadata": {},
     "output_type": "execute_result"
    }
   ],
   "source": [
    "inds_1 = tf.transpose(tf.gather(tf.transpose(indices), [0, 1, 2, 3]))\n",
    "inds_1\n",
    "# tf.gather_nd(indices, [[0], [1], [2], [3]])"
   ]
  },
  {
   "cell_type": "code",
   "execution_count": null,
   "metadata": {},
   "outputs": [],
   "source": []
  },
  {
   "cell_type": "code",
   "execution_count": null,
   "metadata": {},
   "outputs": [],
   "source": []
  },
  {
   "cell_type": "code",
   "execution_count": null,
   "metadata": {},
   "outputs": [],
   "source": []
  },
  {
   "cell_type": "code",
   "execution_count": null,
   "metadata": {},
   "outputs": [],
   "source": []
  },
  {
   "cell_type": "code",
   "execution_count": null,
   "metadata": {},
   "outputs": [],
   "source": [
    "4.979322253013476e-155"
   ]
  },
  {
   "cell_type": "code",
   "execution_count": 15,
   "metadata": {},
   "outputs": [
    {
     "data": {
      "text/plain": [
       "4.979322253013463e-155"
      ]
     },
     "execution_count": 15,
     "metadata": {},
     "output_type": "execute_result"
    }
   ],
   "source": [
    "import numpy as np\n",
    "\n",
    "vector = vertex_amplitudes[0,0,0,0,:]\n",
    "\n",
    "path_star_contraction = np.einsum_path('abcde, e, d, c, b, a->', vertex_amplitudes,vector,vector,vector,vector,vector, optimize='optimal')[0]\n",
    "\n",
    "def star_reward_np(tensor, indices, optimize_path=False):\n",
    "\n",
    "    return np.square(np.einsum('abcde, e, d, c, b, a ->', tensor,  \n",
    "                              tensor[indices[0], indices[1], indices[2], indices[3], :], \n",
    "                              tensor[indices[4], indices[5], indices[6], indices[7], :],\n",
    "                              tensor[indices[8], indices[9], indices[10], indices[11], :],\n",
    "                              tensor[indices[12], indices[13], indices[14], indices[15], :],\n",
    "                              tensor[indices[16], indices[17], indices[18], indices[19], :],\n",
    "                              optimize=optimize_path))\n",
    "\n",
    "star_ampl_np = star_reward_np(vertex_amplitudes, indices, optimize_path=path_star_contraction)\n",
    "\n",
    "star_ampl_np"
   ]
  },
  {
   "cell_type": "code",
   "execution_count": 14,
   "metadata": {},
   "outputs": [
    {
     "data": {
      "text/plain": [
       "'1.24.3'"
      ]
     },
     "execution_count": 14,
     "metadata": {},
     "output_type": "execute_result"
    }
   ],
   "source": [
    "np.__version__"
   ]
  },
  {
   "cell_type": "code",
   "execution_count": null,
   "metadata": {},
   "outputs": [],
   "source": []
  },
  {
   "cell_type": "code",
   "execution_count": null,
   "metadata": {},
   "outputs": [],
   "source": []
  },
  {
   "cell_type": "code",
   "execution_count": null,
   "metadata": {},
   "outputs": [],
   "source": []
  },
  {
   "cell_type": "code",
   "execution_count": null,
   "metadata": {},
   "outputs": [],
   "source": []
  },
  {
   "cell_type": "code",
   "execution_count": 1,
   "metadata": {},
   "outputs": [
    {
     "name": "stderr",
     "output_type": "stream",
     "text": [
      "2023-05-02 17:42:03.312939: I tensorflow/core/platform/cpu_feature_guard.cc:193] This TensorFlow binary is optimized with oneAPI Deep Neural Network Library (oneDNN) to use the following CPU instructions in performance-critical operations:  AVX2 FMA\n",
      "To enable them in other operations, rebuild TensorFlow with the appropriate compiler flags.\n",
      "2023-05-02 17:42:03.414996: W tensorflow/compiler/xla/stream_executor/platform/default/dso_loader.cc:64] Could not load dynamic library 'libcudart.so.11.0'; dlerror: libcudart.so.11.0: cannot open shared object file: No such file or directory\n",
      "2023-05-02 17:42:03.415011: I tensorflow/compiler/xla/stream_executor/cuda/cudart_stub.cc:29] Ignore above cudart dlerror if you do not have a GPU set up on your machine.\n",
      "2023-05-02 17:42:03.962067: W tensorflow/compiler/xla/stream_executor/platform/default/dso_loader.cc:64] Could not load dynamic library 'libnvinfer.so.7'; dlerror: libnvinfer.so.7: cannot open shared object file: No such file or directory\n",
      "2023-05-02 17:42:03.962121: W tensorflow/compiler/xla/stream_executor/platform/default/dso_loader.cc:64] Could not load dynamic library 'libnvinfer_plugin.so.7'; dlerror: libnvinfer_plugin.so.7: cannot open shared object file: No such file or directory\n",
      "2023-05-02 17:42:03.962128: W tensorflow/compiler/tf2tensorrt/utils/py_utils.cc:38] TF-TRT Warning: Cannot dlopen some TensorRT libraries. If you would like to use Nvidia GPU with TensorRT, please make sure the missing libraries mentioned above are installed properly.\n",
      "2023-05-02 17:42:04.642935: E tensorflow/compiler/xla/stream_executor/cuda/cuda_driver.cc:267] failed call to cuInit: CUDA_ERROR_UNKNOWN: unknown error\n",
      "2023-05-02 17:42:04.642959: I tensorflow/compiler/xla/stream_executor/cuda/cuda_diagnostics.cc:169] retrieving CUDA diagnostic information for host: LA-LL-02\n",
      "2023-05-02 17:42:04.642966: I tensorflow/compiler/xla/stream_executor/cuda/cuda_diagnostics.cc:176] hostname: LA-LL-02\n",
      "2023-05-02 17:42:04.643022: I tensorflow/compiler/xla/stream_executor/cuda/cuda_diagnostics.cc:200] libcuda reported version is: 470.182.3\n",
      "2023-05-02 17:42:04.643041: I tensorflow/compiler/xla/stream_executor/cuda/cuda_diagnostics.cc:204] kernel reported version is: 470.182.3\n",
      "2023-05-02 17:42:04.643046: I tensorflow/compiler/xla/stream_executor/cuda/cuda_diagnostics.cc:310] kernel version seems to match DSO: 470.182.3\n",
      "2023-05-02 17:42:04.643321: I tensorflow/core/platform/cpu_feature_guard.cc:193] This TensorFlow binary is optimized with oneAPI Deep Neural Network Library (oneDNN) to use the following CPU instructions in performance-critical operations:  AVX2 FMA\n",
      "To enable them in other operations, rebuild TensorFlow with the appropriate compiler flags.\n"
     ]
    }
   ],
   "source": [
    "from core.runner import Runner\n",
    "\n",
    "spin_j=6.0\n",
    "\n",
    "runner = Runner(\n",
    "    spin_j=spin_j,\n",
    "    main_layer_hidden_nodes=(30, 20),\n",
    "    branch1_hidden_nodes=(),\n",
    "    branch2_hidden_nodes=(),\n",
    "    activation=\"swish\",\n",
    "    exploration_rate=0.5,\n",
    "    learning_rate=0.0005\n",
    ")"
   ]
  },
  {
   "cell_type": "code",
   "execution_count": 2,
   "metadata": {},
   "outputs": [
    {
     "name": "stdout",
     "output_type": "stream",
     "text": [
      "Nth iteration: 200 Trained on K samples: 200000 Average Loss: 14.975511406501706\n",
      "Nth iteration: 400 Trained on K samples: 400000 Average Loss: 10.020720962883116\n",
      "Nth iteration: 600 Trained on K samples: 600000 Average Loss: 8.1552368808280171\n",
      "Nth iteration: 800 Trained on K samples: 800000 Average Loss: 7.2488440170338055\n",
      "Nth iteration: 1000 Trained on K samples: 1000000 Average Loss: 6.8194516521088229\n",
      "Nth iteration: 1200 Trained on K samples: 1200000 Average Loss: 6.18904817690786\n",
      "Nth iteration: 1400 Trained on K samples: 1400000 Average Loss: 5.5526010397086827\n",
      "Nth iteration: 1600 Trained on K samples: 1600000 Average Loss: 5.0371540702234068\n",
      "Nth iteration: 1800 Trained on K samples: 1800000 Average Loss: 2.6948004715999359\n",
      "Nth iteration: 2000 Trained on K samples: 2000000 Average Loss: 2.6997496227374111\n"
     ]
    }
   ],
   "source": [
    "import os\n",
    "from datetime import datetime\n",
    "\n",
    "training_run_datetime = datetime.now().strftime(\"%B %d, %Y at %H:%M:%S\")\n",
    "directory_for_generated_samples = (\n",
    "    f\"generated_samples_during_training/j={spin_j}/Training run on {training_run_datetime}\"\n",
    ")\n",
    "\n",
    "\n",
    "batch_size = int(1e3)\n",
    "n_iterations = int(2e3)\n",
    "evaluation_batch_size = int(5e4)\n",
    "generate_samples_every_m_training_samples = int(2e5)\n",
    "\n",
    "ave_losses = runner.train_agent(\n",
    "    batch_size, n_iterations, \n",
    "    evaluation_batch_size, generate_samples_every_m_training_samples,\n",
    "    directory_for_generated_samples\n",
    ")"
   ]
  },
  {
   "cell_type": "code",
   "execution_count": null,
   "metadata": {},
   "outputs": [],
   "source": []
  },
  {
   "cell_type": "code",
   "execution_count": null,
   "metadata": {},
   "outputs": [],
   "source": []
  },
  {
   "cell_type": "code",
   "execution_count": 3,
   "metadata": {},
   "outputs": [
    {
     "data": {
      "text/plain": [
       "0.050681554"
      ]
     },
     "execution_count": 3,
     "metadata": {},
     "output_type": "execute_result"
    }
   ],
   "source": [
    "import numpy as np\n",
    "np.max(runner.env.rewards.numpy())"
   ]
  },
  {
   "cell_type": "code",
   "execution_count": 4,
   "metadata": {},
   "outputs": [],
   "source": [
    "from core.environment import _load_vertex_amplitudes\n",
    "import tensorflow as tf\n",
    "\n",
    "vertex_amplitudes = tf.convert_to_tensor(\n",
    "    _load_vertex_amplitudes(spin_j), dtype=tf.float64\n",
    ")"
   ]
  },
  {
   "cell_type": "code",
   "execution_count": 6,
   "metadata": {},
   "outputs": [
    {
     "name": "stdout",
     "output_type": "stream",
     "text": [
      "tf.Tensor(4.546738552978475e-12, shape=(), dtype=float64)\n",
      "tf.Tensor(5.139392850111489e-19, shape=(), dtype=float64)\n"
     ]
    }
   ],
   "source": [
    "print(tf.reduce_max(tf.abs(vertex_amplitudes)))\n",
    "print(tf.reduce_min(tf.abs(vertex_amplitudes)))"
   ]
  },
  {
   "cell_type": "code",
   "execution_count": 7,
   "metadata": {},
   "outputs": [
    {
     "name": "stdout",
     "output_type": "stream",
     "text": [
      "tf.Tensor(2.0672831469140794e-23, shape=(), dtype=float64)\n",
      "tf.Tensor(2.64133588677771e-37, shape=(), dtype=float64)\n"
     ]
    }
   ],
   "source": [
    "print(tf.reduce_max(tf.square(vertex_amplitudes)))\n",
    "print(tf.reduce_min(tf.square(vertex_amplitudes)))"
   ]
  },
  {
   "cell_type": "code",
   "execution_count": 8,
   "metadata": {},
   "outputs": [
    {
     "data": {
      "text/plain": [
       "<tf.Tensor: shape=(), dtype=float64, numpy=4.0789654928991435e-22>"
      ]
     },
     "execution_count": 8,
     "metadata": {},
     "output_type": "execute_result"
    }
   ],
   "source": [
    "tf.math.reduce_sum(tf.math.square(vertex_amplitudes))"
   ]
  },
  {
   "cell_type": "code",
   "execution_count": 9,
   "metadata": {},
   "outputs": [
    {
     "data": {
      "text/plain": [
       "<tf.Tensor: shape=(), dtype=float64, numpy=2.019644892771782e-11>"
      ]
     },
     "execution_count": 9,
     "metadata": {},
     "output_type": "execute_result"
    }
   ],
   "source": [
    "scale = tf.math.sqrt(tf.math.reduce_sum(tf.math.square(vertex_amplitudes)))\n",
    "scale"
   ]
  },
  {
   "cell_type": "code",
   "execution_count": 10,
   "metadata": {},
   "outputs": [
    {
     "name": "stdout",
     "output_type": "stream",
     "text": [
      "tf.Tensor(0.22512564308958702, shape=(), dtype=float64)\n",
      "tf.Tensor(2.5447012336203973e-08, shape=(), dtype=float64)\n"
     ]
    }
   ],
   "source": [
    "print(tf.reduce_max(tf.abs(vertex_amplitudes / scale)))\n",
    "print(tf.reduce_min(tf.abs(vertex_amplitudes / scale)))"
   ]
  },
  {
   "cell_type": "code",
   "execution_count": 17,
   "metadata": {},
   "outputs": [
    {
     "data": {
      "text/plain": [
       "<tf.Tensor: shape=(), dtype=float64, numpy=2.019644892771782e-11>"
      ]
     },
     "execution_count": 17,
     "metadata": {},
     "output_type": "execute_result"
    }
   ],
   "source": [
    "scale2 = tf.math.sqrt(tf.math.reduce_sum(tf.abs(tf.math.pow(vertex_amplitudes, 2))))\n",
    "scale2"
   ]
  },
  {
   "cell_type": "code",
   "execution_count": 18,
   "metadata": {},
   "outputs": [
    {
     "name": "stdout",
     "output_type": "stream",
     "text": [
      "tf.Tensor(0.22512564308958702, shape=(), dtype=float64)\n",
      "tf.Tensor(2.5447012336203973e-08, shape=(), dtype=float64)\n"
     ]
    }
   ],
   "source": [
    "print(tf.reduce_max(tf.abs(vertex_amplitudes / scale2)))\n",
    "print(tf.reduce_min(tf.abs(vertex_amplitudes / scale2)))"
   ]
  },
  {
   "cell_type": "code",
   "execution_count": 56,
   "metadata": {},
   "outputs": [
    {
     "data": {
      "text/plain": [
       "<tf.Tensor: shape=(), dtype=float64, numpy=4.546738552978475e-12>"
      ]
     },
     "execution_count": 56,
     "metadata": {},
     "output_type": "execute_result"
    }
   ],
   "source": [
    "a = tf.reduce_max(tf.abs(vertex_amplitudes))\n",
    "a"
   ]
  },
  {
   "cell_type": "code",
   "execution_count": 52,
   "metadata": {},
   "outputs": [
    {
     "data": {
      "text/plain": [
       "<tf.Tensor: shape=(), dtype=float64, numpy=7.372955354552784e-86>"
      ]
     },
     "execution_count": 52,
     "metadata": {},
     "output_type": "execute_result"
    }
   ],
   "source": [
    "(b * np.sqrt(10))**12"
   ]
  },
  {
   "cell_type": "code",
   "execution_count": 47,
   "metadata": {},
   "outputs": [
    {
     "data": {
      "text/plain": [
       "<tf.Tensor: shape=(), dtype=float64, numpy=0.0001301816580368215>"
      ]
     },
     "execution_count": 47,
     "metadata": {},
     "output_type": "execute_result"
    }
   ],
   "source": [
    "a**6"
   ]
  },
  {
   "cell_type": "code",
   "execution_count": 54,
   "metadata": {},
   "outputs": [
    {
     "data": {
      "text/plain": [
       "<tf.Tensor: shape=(), dtype=float64, numpy=1.6947264089215933e-08>"
      ]
     },
     "execution_count": 54,
     "metadata": {},
     "output_type": "execute_result"
    }
   ],
   "source": [
    "a**12"
   ]
  },
  {
   "cell_type": "code",
   "execution_count": 25,
   "metadata": {},
   "outputs": [
    {
     "data": {
      "text/plain": [
       "<tf.Tensor: shape=(), dtype=float64, numpy=2.5447012336203973e-08>"
      ]
     },
     "execution_count": 25,
     "metadata": {},
     "output_type": "execute_result"
    }
   ],
   "source": [
    "b = tf.reduce_min(tf.abs(vertex_amplitudes / scale))\n",
    "b"
   ]
  },
  {
   "cell_type": "code",
   "execution_count": 26,
   "metadata": {},
   "outputs": [
    {
     "data": {
      "text/plain": [
       "<tf.Tensor: shape=(), dtype=float64, numpy=2.7153186469644377e-46>"
      ]
     },
     "execution_count": 26,
     "metadata": {},
     "output_type": "execute_result"
    }
   ],
   "source": [
    "b**6"
   ]
  },
  {
   "cell_type": "code",
   "execution_count": 55,
   "metadata": {},
   "outputs": [
    {
     "data": {
      "text/plain": [
       "<tf.Tensor: shape=(), dtype=float64, numpy=7.372955354552785e-92>"
      ]
     },
     "execution_count": 55,
     "metadata": {},
     "output_type": "execute_result"
    }
   ],
   "source": [
    "b**12"
   ]
  },
  {
   "cell_type": "code",
   "execution_count": 39,
   "metadata": {},
   "outputs": [
    {
     "data": {
      "text/plain": [
       "<tf.Tensor: shape=(), dtype=float32, numpy=0.0>"
      ]
     },
     "execution_count": 39,
     "metadata": {},
     "output_type": "execute_result"
    }
   ],
   "source": [
    "tf.cast(b**6 * 1e3, dtype=tf.float32)"
   ]
  },
  {
   "cell_type": "code",
   "execution_count": null,
   "metadata": {},
   "outputs": [],
   "source": [
    "(b )"
   ]
  },
  {
   "cell_type": "code",
   "execution_count": null,
   "metadata": {},
   "outputs": [],
   "source": []
  },
  {
   "cell_type": "code",
   "execution_count": null,
   "metadata": {},
   "outputs": [],
   "source": []
  },
  {
   "cell_type": "code",
   "execution_count": null,
   "metadata": {},
   "outputs": [],
   "source": []
  },
  {
   "cell_type": "code",
   "execution_count": 6,
   "metadata": {},
   "outputs": [
    {
     "data": {
      "text/plain": [
       "[<matplotlib.lines.Line2D at 0x7f4704093310>]"
      ]
     },
     "execution_count": 6,
     "metadata": {},
     "output_type": "execute_result"
    },
    {
     "data": {
      "image/png": "[encoded data removed]",
      "text/plain": [
       "<Figure size 640x480 with 1 Axes>"
      ]
     },
     "metadata": {},
     "output_type": "display_data"
    }
   ],
   "source": [
    "import matplotlib.pyplot as plt\n",
    "\n",
    "plt.plot(ave_losses)"
   ]
  },
  {
   "cell_type": "code",
   "execution_count": null,
   "metadata": {},
   "outputs": [],
   "source": []
  },
  {
   "cell_type": "code",
   "execution_count": null,
   "metadata": {},
   "outputs": [],
   "source": []
  },
  {
   "cell_type": "code",
   "execution_count": 20,
   "metadata": {},
   "outputs": [],
   "source": [
    "import tensorflow as tf\n",
    "\n",
    "current_position = tf.constant(\n",
    "    [[6, 3, 0, 7, 3]] * 5 +\n",
    "    [[7, 1, 7, 4, 2]] * 5,\n",
    "    dtype=tf.int32\n",
    ")\n",
    "\n",
    "action_mask = runner.agent._find_forbidden_forward_actions(current_position)"
   ]
  },
  {
   "cell_type": "code",
   "execution_count": 21,
   "metadata": {},
   "outputs": [
    {
     "data": {
      "text/plain": [
       "<tf.Tensor: shape=(10, 5), dtype=bool, numpy=\n",
       "array([[False, False, False,  True, False],\n",
       "       [False, False, False,  True, False],\n",
       "       [False, False, False,  True, False],\n",
       "       [False, False, False,  True, False],\n",
       "       [False, False, False,  True, False],\n",
       "       [ True, False,  True, False, False],\n",
       "       [ True, False,  True, False, False],\n",
       "       [ True, False,  True, False, False],\n",
       "       [ True, False,  True, False, False],\n",
       "       [ True, False,  True, False, False]])>"
      ]
     },
     "execution_count": 21,
     "metadata": {},
     "output_type": "execute_result"
    }
   ],
   "source": [
    "action_mask"
   ]
  },
  {
   "cell_type": "code",
   "execution_count": 24,
   "metadata": {},
   "outputs": [],
   "source": [
    "forward_actions = tf.random.uniform(shape=(10, 6), minval=0, maxval=2, dtype=tf.int32)"
   ]
  },
  {
   "cell_type": "code",
   "execution_count": 25,
   "metadata": {},
   "outputs": [
    {
     "data": {
      "text/plain": [
       "<tf.Tensor: shape=(10, 6), dtype=int32, numpy=\n",
       "array([[0, 1, 1, 0, 0, 1],\n",
       "       [1, 1, 0, 1, 1, 1],\n",
       "       [1, 0, 1, 1, 0, 1],\n",
       "       [1, 1, 0, 1, 1, 1],\n",
       "       [1, 1, 0, 0, 1, 0],\n",
       "       [1, 0, 1, 0, 0, 0],\n",
       "       [1, 1, 0, 0, 0, 0],\n",
       "       [0, 1, 1, 0, 0, 0],\n",
       "       [0, 0, 1, 1, 0, 1],\n",
       "       [1, 1, 1, 1, 1, 0]], dtype=int32)>"
      ]
     },
     "execution_count": 25,
     "metadata": {},
     "output_type": "execute_result"
    }
   ],
   "source": [
    "forward_actions"
   ]
  },
  {
   "cell_type": "code",
   "execution_count": 26,
   "metadata": {},
   "outputs": [],
   "source": [
    "invalid_action_inds = tf.where(\n",
    "    tf.cast(action_mask, dtype=tf.int32)*forward_actions[:, :-1]\n",
    ")"
   ]
  },
  {
   "cell_type": "code",
   "execution_count": 27,
   "metadata": {},
   "outputs": [
    {
     "data": {
      "text/plain": [
       "<tf.Tensor: shape=(10,), dtype=int64, numpy=array([1, 2, 3, 5, 5, 6, 7, 8, 9, 9])>"
      ]
     },
     "execution_count": 27,
     "metadata": {},
     "output_type": "execute_result"
    }
   ],
   "source": [
    "row_inds = invalid_action_inds[:, 0]\n",
    "row_inds"
   ]
  },
  {
   "cell_type": "code",
   "execution_count": 31,
   "metadata": {},
   "outputs": [
    {
     "data": {
      "text/plain": [
       "<tf.Tensor: shape=(10, 6), dtype=int32, numpy=\n",
       "array([[1, 1, 0, 1, 1, 1],\n",
       "       [1, 0, 1, 1, 0, 1],\n",
       "       [1, 1, 0, 1, 1, 1],\n",
       "       [1, 0, 1, 0, 0, 0],\n",
       "       [1, 0, 1, 0, 0, 0],\n",
       "       [1, 1, 0, 0, 0, 0],\n",
       "       [0, 1, 1, 0, 0, 0],\n",
       "       [0, 0, 1, 1, 0, 1],\n",
       "       [1, 1, 1, 1, 1, 0],\n",
       "       [1, 1, 1, 1, 1, 0]], dtype=int32)>"
      ]
     },
     "execution_count": 31,
     "metadata": {},
     "output_type": "execute_result"
    }
   ],
   "source": [
    "invalid_actions"
   ]
  },
  {
   "cell_type": "code",
   "execution_count": 28,
   "metadata": {},
   "outputs": [],
   "source": [
    "invalid_actions = tf.gather(forward_actions, row_inds)"
   ]
  },
  {
   "cell_type": "code",
   "execution_count": 29,
   "metadata": {},
   "outputs": [],
   "source": [
    "positions = tf.gather(current_position, row_inds)"
   ]
  },
  {
   "cell_type": "code",
   "execution_count": 44,
   "metadata": {},
   "outputs": [
    {
     "data": {
      "text/plain": [
       "<tf.Tensor: shape=(), dtype=int32, numpy=10>"
      ]
     },
     "execution_count": 44,
     "metadata": {},
     "output_type": "execute_result"
    }
   ],
   "source": [
    "tf.shape(invalid_action_inds)[0]"
   ]
  },
  {
   "cell_type": "code",
   "execution_count": 42,
   "metadata": {},
   "outputs": [
    {
     "ename": "InvalidArgumentError",
     "evalue": "Expected 'tf.Tensor(False, shape=(), dtype=bool)' to be true. Summarized data: b'agent chose actions=[[1 1 0 1 1 1]\\n [1 0 1 1 0 1]\\n [1 1 0 1 1 1]\\n [1 0 1 0 0 0]\\n [1 0 1 0 0 0]\\n [1 1 0 0 0 0]\\n [0 1 1 0 0 0]\\n [0 0 1 1 0 1]\\n [1 1 1 1 1 0]\\n [1 1 1 1 1 0]] for states=[[6 3 0 7 3]\\n [6 3 0 7 3]\\n [6 3 0 7 3]\\n [7 1 7 4 2]\\n [7 1 7 4 2]\\n [7 1 7 4 2]\\n [7 1 7 4 2]\\n [7 1 7 4 2]\\n [7 1 7 4 2]\\n [7 1 7 4 2]] which would be out of bounds'",
     "output_type": "error",
     "traceback": [
      "\u001b[0;31m---------------------------------------------------------------------------\u001b[0m",
      "\u001b[0;31mInvalidArgumentError\u001b[0m                      Traceback (most recent call last)",
      "Cell \u001b[0;32mIn[42], line 1\u001b[0m\n\u001b[0;32m----> 1\u001b[0m \u001b[43mtf\u001b[49m\u001b[38;5;241;43m.\u001b[39;49m\u001b[43mAssert\u001b[49m\u001b[43m(\u001b[49m\u001b[43mtf\u001b[49m\u001b[38;5;241;43m.\u001b[39;49m\u001b[43mmath\u001b[49m\u001b[38;5;241;43m.\u001b[39;49m\u001b[43mequal\u001b[49m\u001b[43m(\u001b[49m\u001b[43minvalid_action_inds\u001b[49m\u001b[38;5;241;43m.\u001b[39;49m\u001b[43mshape\u001b[49m\u001b[43m[\u001b[49m\u001b[38;5;241;43m0\u001b[39;49m\u001b[43m]\u001b[49m\u001b[43m,\u001b[49m\u001b[43m \u001b[49m\u001b[38;5;241;43m0\u001b[39;49m\u001b[43m)\u001b[49m\u001b[43m,\u001b[49m\u001b[43m \u001b[49m\u001b[43m[\u001b[49m\u001b[38;5;124;43mf\u001b[39;49m\u001b[38;5;124;43m\"\u001b[39;49m\u001b[38;5;124;43magent chose actions=\u001b[39;49m\u001b[38;5;132;43;01m{\u001b[39;49;00m\u001b[43minvalid_actions\u001b[49m\u001b[38;5;241;43m.\u001b[39;49m\u001b[43mnumpy\u001b[49m\u001b[43m(\u001b[49m\u001b[43m)\u001b[49m\u001b[38;5;132;43;01m}\u001b[39;49;00m\u001b[38;5;124;43m for states=\u001b[39;49m\u001b[38;5;132;43;01m{\u001b[39;49;00m\u001b[43mpositions\u001b[49m\u001b[38;5;241;43m.\u001b[39;49m\u001b[43mnumpy\u001b[49m\u001b[43m(\u001b[49m\u001b[43m)\u001b[49m\u001b[38;5;132;43;01m}\u001b[39;49;00m\u001b[38;5;124;43m which would be out of bounds\u001b[39;49m\u001b[38;5;124;43m\"\u001b[39;49m\u001b[43m]\u001b[49m\u001b[43m)\u001b[49m\n",
      "File \u001b[0;32m~/anaconda3/envs/GFlowNets_on_SpinFoams/lib/python3.8/site-packages/tensorflow/python/util/traceback_utils.py:153\u001b[0m, in \u001b[0;36mfilter_traceback.<locals>.error_handler\u001b[0;34m(*args, **kwargs)\u001b[0m\n\u001b[1;32m    151\u001b[0m \u001b[38;5;28;01mexcept\u001b[39;00m \u001b[38;5;167;01mException\u001b[39;00m \u001b[38;5;28;01mas\u001b[39;00m e:\n\u001b[1;32m    152\u001b[0m   filtered_tb \u001b[38;5;241m=\u001b[39m _process_traceback_frames(e\u001b[38;5;241m.\u001b[39m__traceback__)\n\u001b[0;32m--> 153\u001b[0m   \u001b[38;5;28;01mraise\u001b[39;00m e\u001b[38;5;241m.\u001b[39mwith_traceback(filtered_tb) \u001b[38;5;28;01mfrom\u001b[39;00m \u001b[38;5;28mNone\u001b[39m\n\u001b[1;32m    154\u001b[0m \u001b[38;5;28;01mfinally\u001b[39;00m:\n\u001b[1;32m    155\u001b[0m   \u001b[38;5;28;01mdel\u001b[39;00m filtered_tb\n",
      "File \u001b[0;32m~/anaconda3/envs/GFlowNets_on_SpinFoams/lib/python3.8/site-packages/tensorflow/python/ops/control_flow_ops.py:156\u001b[0m, in \u001b[0;36mAssert\u001b[0;34m(condition, data, summarize, name)\u001b[0m\n\u001b[1;32m    154\u001b[0m     xs \u001b[38;5;241m=\u001b[39m ops\u001b[38;5;241m.\u001b[39mconvert_n_to_tensor(data)\n\u001b[1;32m    155\u001b[0m     data_str \u001b[38;5;241m=\u001b[39m [_summarize_eager(x, summarize) \u001b[38;5;28;01mfor\u001b[39;00m x \u001b[38;5;129;01min\u001b[39;00m xs]\n\u001b[0;32m--> 156\u001b[0m     \u001b[38;5;28;01mraise\u001b[39;00m errors\u001b[38;5;241m.\u001b[39mInvalidArgumentError(\n\u001b[1;32m    157\u001b[0m         node_def\u001b[38;5;241m=\u001b[39m\u001b[38;5;28;01mNone\u001b[39;00m,\n\u001b[1;32m    158\u001b[0m         op\u001b[38;5;241m=\u001b[39m\u001b[38;5;28;01mNone\u001b[39;00m,\n\u001b[1;32m    159\u001b[0m         message\u001b[38;5;241m=\u001b[39m\u001b[38;5;124m\"\u001b[39m\u001b[38;5;124mExpected \u001b[39m\u001b[38;5;124m'\u001b[39m\u001b[38;5;132;01m%s\u001b[39;00m\u001b[38;5;124m'\u001b[39m\u001b[38;5;124m to be true. Summarized data: \u001b[39m\u001b[38;5;132;01m%s\u001b[39;00m\u001b[38;5;124m\"\u001b[39m \u001b[38;5;241m%\u001b[39m\n\u001b[1;32m    160\u001b[0m         (condition, \u001b[38;5;124m\"\u001b[39m\u001b[38;5;130;01m\\n\u001b[39;00m\u001b[38;5;124m\"\u001b[39m\u001b[38;5;241m.\u001b[39mjoin(data_str)))\n\u001b[1;32m    161\u001b[0m   \u001b[38;5;28;01mreturn\u001b[39;00m\n\u001b[1;32m    163\u001b[0m \u001b[38;5;28;01mwith\u001b[39;00m ops\u001b[38;5;241m.\u001b[39mname_scope(name, \u001b[38;5;124m\"\u001b[39m\u001b[38;5;124mAssert\u001b[39m\u001b[38;5;124m\"\u001b[39m, [condition, data]) \u001b[38;5;28;01mas\u001b[39;00m name:\n",
      "\u001b[0;31mInvalidArgumentError\u001b[0m: Expected 'tf.Tensor(False, shape=(), dtype=bool)' to be true. Summarized data: b'agent chose actions=[[1 1 0 1 1 1]\\n [1 0 1 1 0 1]\\n [1 1 0 1 1 1]\\n [1 0 1 0 0 0]\\n [1 0 1 0 0 0]\\n [1 1 0 0 0 0]\\n [0 1 1 0 0 0]\\n [0 0 1 1 0 1]\\n [1 1 1 1 1 0]\\n [1 1 1 1 1 0]] for states=[[6 3 0 7 3]\\n [6 3 0 7 3]\\n [6 3 0 7 3]\\n [7 1 7 4 2]\\n [7 1 7 4 2]\\n [7 1 7 4 2]\\n [7 1 7 4 2]\\n [7 1 7 4 2]\\n [7 1 7 4 2]\\n [7 1 7 4 2]] which would be out of bounds'"
     ]
    }
   ],
   "source": [
    "tf.Assert(tf.math.equal(invalid_action_inds.shape[0], 0), [f\"agent chose actions={invalid_actions.numpy()} for states={positions.numpy()} which would be out of bounds\"])"
   ]
  },
  {
   "cell_type": "code",
   "execution_count": 37,
   "metadata": {},
   "outputs": [
    {
     "data": {
      "text/plain": [
       "'agent chose actions=[[1 1 0 1 1 1]\\n [1 0 1 1 0 1]\\n [1 1 0 1 1 1]\\n [1 0 1 0 0 0]\\n [1 0 1 0 0 0]\\n [1 1 0 0 0 0]\\n [0 1 1 0 0 0]\\n [0 0 1 1 0 1]\\n [1 1 1 1 1 0]\\n [1 1 1 1 1 0]] for states=[[6 3 0 7 3]\\n [6 3 0 7 3]\\n [6 3 0 7 3]\\n [7 1 7 4 2]\\n [7 1 7 4 2]\\n [7 1 7 4 2]\\n [7 1 7 4 2]\\n [7 1 7 4 2]\\n [7 1 7 4 2]\\n [7 1 7 4 2]] which would be out of bounds'"
      ]
     },
     "execution_count": 37,
     "metadata": {},
     "output_type": "execute_result"
    }
   ],
   "source": [
    "f\"agent chose actions={invalid_actions.numpy()} for states={positions.numpy()} which would be out of bounds\""
   ]
  },
  {
   "cell_type": "code",
   "execution_count": 32,
   "metadata": {},
   "outputs": [
    {
     "data": {
      "text/plain": [
       "<tf.Tensor: shape=(10, 5), dtype=int32, numpy=\n",
       "array([[7, 4, 0, 8, 4],\n",
       "       [7, 3, 1, 8, 3],\n",
       "       [7, 4, 0, 8, 4],\n",
       "       [8, 1, 8, 4, 2],\n",
       "       [8, 1, 8, 4, 2],\n",
       "       [8, 2, 7, 4, 2],\n",
       "       [7, 2, 8, 4, 2],\n",
       "       [7, 1, 8, 5, 2],\n",
       "       [8, 2, 8, 5, 3],\n",
       "       [8, 2, 8, 5, 3]], dtype=int32)>"
      ]
     },
     "execution_count": 32,
     "metadata": {},
     "output_type": "execute_result"
    }
   ],
   "source": [
    "positions + invalid_actions[:, :-1]"
   ]
  },
  {
   "cell_type": "code",
   "execution_count": null,
   "metadata": {},
   "outputs": [],
   "source": []
  },
  {
   "cell_type": "code",
   "execution_count": null,
   "metadata": {},
   "outputs": [],
   "source": []
  },
  {
   "cell_type": "code",
   "execution_count": null,
   "metadata": {},
   "outputs": [],
   "source": []
  },
  {
   "cell_type": "code",
   "execution_count": null,
   "metadata": {},
   "outputs": [],
   "source": []
  },
  {
   "cell_type": "code",
   "execution_count": null,
   "metadata": {},
   "outputs": [],
   "source": []
  },
  {
   "cell_type": "code",
   "execution_count": null,
   "metadata": {},
   "outputs": [],
   "source": []
  },
  {
   "cell_type": "code",
   "execution_count": null,
   "metadata": {},
   "outputs": [],
   "source": []
  },
  {
   "cell_type": "code",
   "execution_count": null,
   "metadata": {},
   "outputs": [],
   "source": []
  },
  {
   "cell_type": "code",
   "execution_count": null,
   "metadata": {},
   "outputs": [],
   "source": []
  },
  {
   "cell_type": "code",
   "execution_count": 2,
   "metadata": {},
   "outputs": [
    {
     "name": "stdout",
     "output_type": "stream",
     "text": [
      "Nth iteration: 400 Trained on K samples: 200000 Average Loss: 10.7737885\n",
      "Nth iteration: 800 Trained on K samples: 400000 Average Loss: 3.78747153\n",
      "Nth iteration: 1200 Trained on K samples: 600000 Average Loss: 3.02624369\n",
      "Nth iteration: 1600 Trained on K samples: 800000 Average Loss: 2.39456272\n",
      "Nth iteration: 2000 Trained on K samples: 1000000 Average Loss: 1.30132568\n",
      "Nth iteration: 2400 Trained on K samples: 1200000 Average Loss: 0.960249662\n",
      "Nth iteration: 2800 Trained on K samples: 1400000 Average Loss: 1.0163343\n",
      "Nth iteration: 3200 Trained on K samples: 1600000 Average Loss: 1.02409196\n",
      "Nth iteration: 3600 Trained on K samples: 1800000 Average Loss: 0.772269547\n",
      "Nth iteration: 4000 Trained on K samples: 2000000 Average Loss: 1.1601485\n",
      "Nth iteration: 4400 Trained on K samples: 2200000 Average Loss: 1.40087819\n",
      "Nth iteration: 4800 Trained on K samples: 2400000 Average Loss: 0.827846229\n"
     ]
    }
   ],
   "source": [
    "batch_size = int(5e2)\n",
    "n_iterations = int(5e3)\n",
    "evaluation_batch_size = int(5e4)\n",
    "generate_samples_every_m_training_samples = int(2e5)\n",
    "\n",
    "ave_losses = runner.train_agent(\n",
    "    batch_size, n_iterations, \n",
    "    evaluation_batch_size, generate_samples_every_m_training_samples\n",
    ")"
   ]
  },
  {
   "cell_type": "code",
   "execution_count": 3,
   "metadata": {},
   "outputs": [
    {
     "data": {
      "text/plain": [
       "[<matplotlib.lines.Line2D at 0x7f365192ffa0>]"
      ]
     },
     "execution_count": 3,
     "metadata": {},
     "output_type": "execute_result"
    },
    {
     "data": {
      "image/png": "[encoded data removed]",
      "text/plain": [
       "<Figure size 640x480 with 1 Axes>"
      ]
     },
     "metadata": {},
     "output_type": "display_data"
    }
   ],
   "source": [
    "import matplotlib.pyplot as plt\n",
    "\n",
    "plt.plot(ave_losses)"
   ]
  },
  {
   "cell_type": "code",
   "execution_count": null,
   "metadata": {},
   "outputs": [],
   "source": []
  },
  {
   "cell_type": "code",
   "execution_count": null,
   "metadata": {},
   "outputs": [],
   "source": []
  },
  {
   "cell_type": "code",
   "execution_count": null,
   "metadata": {},
   "outputs": [],
   "source": []
  },
  {
   "cell_type": "code",
   "execution_count": null,
   "metadata": {},
   "outputs": [],
   "source": []
  },
  {
   "cell_type": "code",
   "execution_count": null,
   "metadata": {},
   "outputs": [],
   "source": []
  },
  {
   "cell_type": "code",
   "execution_count": null,
   "metadata": {},
   "outputs": [],
   "source": []
  },
  {
   "cell_type": "code",
   "execution_count": 1,
   "metadata": {},
   "outputs": [
    {
     "name": "stderr",
     "output_type": "stream",
     "text": [
      "2023-04-30 14:55:06.953359: I tensorflow/core/platform/cpu_feature_guard.cc:193] This TensorFlow binary is optimized with oneAPI Deep Neural Network Library (oneDNN) to use the following CPU instructions in performance-critical operations:  AVX2 FMA\n",
      "To enable them in other operations, rebuild TensorFlow with the appropriate compiler flags.\n",
      "2023-04-30 14:55:07.047613: W tensorflow/compiler/xla/stream_executor/platform/default/dso_loader.cc:64] Could not load dynamic library 'libcudart.so.11.0'; dlerror: libcudart.so.11.0: cannot open shared object file: No such file or directory\n",
      "2023-04-30 14:55:07.047627: I tensorflow/compiler/xla/stream_executor/cuda/cudart_stub.cc:29] Ignore above cudart dlerror if you do not have a GPU set up on your machine.\n",
      "2023-04-30 14:55:07.591293: W tensorflow/compiler/xla/stream_executor/platform/default/dso_loader.cc:64] Could not load dynamic library 'libnvinfer.so.7'; dlerror: libnvinfer.so.7: cannot open shared object file: No such file or directory\n",
      "2023-04-30 14:55:07.591345: W tensorflow/compiler/xla/stream_executor/platform/default/dso_loader.cc:64] Could not load dynamic library 'libnvinfer_plugin.so.7'; dlerror: libnvinfer_plugin.so.7: cannot open shared object file: No such file or directory\n",
      "2023-04-30 14:55:07.591352: W tensorflow/compiler/tf2tensorrt/utils/py_utils.cc:38] TF-TRT Warning: Cannot dlopen some TensorRT libraries. If you would like to use Nvidia GPU with TensorRT, please make sure the missing libraries mentioned above are installed properly.\n",
      "2023-04-30 14:55:08.241598: E tensorflow/compiler/xla/stream_executor/cuda/cuda_driver.cc:267] failed call to cuInit: CUDA_ERROR_UNKNOWN: unknown error\n",
      "2023-04-30 14:55:08.241623: I tensorflow/compiler/xla/stream_executor/cuda/cuda_diagnostics.cc:169] retrieving CUDA diagnostic information for host: LA-LL-02\n",
      "2023-04-30 14:55:08.241629: I tensorflow/compiler/xla/stream_executor/cuda/cuda_diagnostics.cc:176] hostname: LA-LL-02\n",
      "2023-04-30 14:55:08.241682: I tensorflow/compiler/xla/stream_executor/cuda/cuda_diagnostics.cc:200] libcuda reported version is: 470.182.3\n",
      "2023-04-30 14:55:08.241702: I tensorflow/compiler/xla/stream_executor/cuda/cuda_diagnostics.cc:204] kernel reported version is: 470.182.3\n",
      "2023-04-30 14:55:08.241708: I tensorflow/compiler/xla/stream_executor/cuda/cuda_diagnostics.cc:310] kernel version seems to match DSO: 470.182.3\n",
      "2023-04-30 14:55:08.241968: I tensorflow/core/platform/cpu_feature_guard.cc:193] This TensorFlow binary is optimized with oneAPI Deep Neural Network Library (oneDNN) to use the following CPU instructions in performance-critical operations:  AVX2 FMA\n",
      "To enable them in other operations, rebuild TensorFlow with the appropriate compiler flags.\n"
     ]
    },
    {
     "ename": "NameError",
     "evalue": "name 'runner' is not defined",
     "output_type": "error",
     "traceback": [
      "\u001b[0;31m---------------------------------------------------------------------------\u001b[0m",
      "\u001b[0;31mNameError\u001b[0m                                 Traceback (most recent call last)",
      "Cell \u001b[0;32mIn[1], line 7\u001b[0m\n\u001b[1;32m      4\u001b[0m n_iterations \u001b[38;5;241m=\u001b[39m tf\u001b[38;5;241m.\u001b[39mconstant(\u001b[38;5;28mint\u001b[39m(\u001b[38;5;241m1e4\u001b[39m))\n\u001b[1;32m      5\u001b[0m check_loss_every_n_iterations \u001b[38;5;241m=\u001b[39m tf\u001b[38;5;241m.\u001b[39mconstant(\u001b[38;5;28mint\u001b[39m(\u001b[38;5;241m1e3\u001b[39m))\n\u001b[0;32m----> 7\u001b[0m ave_losses, training_samples \u001b[38;5;241m=\u001b[39m \u001b[43mrunner\u001b[49m\u001b[38;5;241m.\u001b[39mtrain_agent(batch_size, n_iterations, check_loss_every_n_iterations)\n",
      "\u001b[0;31mNameError\u001b[0m: name 'runner' is not defined"
     ]
    }
   ],
   "source": [
    "import tensorflow as tf\n",
    "\n",
    "batch_size = tf.constant(1000)\n",
    "n_iterations = tf.constant(int(1e4))\n",
    "check_loss_every_n_iterations = tf.constant(int(1e3))\n",
    "\n",
    "ave_losses, training_samples = runner.train_agent(batch_size, n_iterations, check_loss_every_n_iterations)"
   ]
  },
  {
   "cell_type": "code",
   "execution_count": 1,
   "metadata": {},
   "outputs": [
    {
     "ename": "NameError",
     "evalue": "name 'tf' is not defined",
     "output_type": "error",
     "traceback": [
      "\u001b[0;31m---------------------------------------------------------------------------\u001b[0m",
      "\u001b[0;31mNameError\u001b[0m                                 Traceback (most recent call last)",
      "Cell \u001b[0;32mIn[1], line 1\u001b[0m\n\u001b[0;32m----> 1\u001b[0m \u001b[43mtf\u001b[49m\u001b[38;5;241m.\u001b[39m__version__\n",
      "\u001b[0;31mNameError\u001b[0m: name 'tf' is not defined"
     ]
    }
   ],
   "source": [
    "tf.__version__"
   ]
  },
  {
   "cell_type": "code",
   "execution_count": null,
   "metadata": {},
   "outputs": [],
   "source": [
    "import matplotlib.pyplot as plt\n",
    "\n",
    "plt.plot(ave_losses)"
   ]
  },
  {
   "cell_type": "code",
   "execution_count": 17,
   "metadata": {},
   "outputs": [
    {
     "ename": "ValueError",
     "evalue": "Evaluate only in multiples of training_batch_size=1000",
     "output_type": "error",
     "traceback": [
      "\u001b[0;31m---------------------------------------------------------------------------\u001b[0m",
      "\u001b[0;31mValueError\u001b[0m                                Traceback (most recent call last)",
      "Cell \u001b[0;32mIn[17], line 5\u001b[0m\n\u001b[1;32m      2\u001b[0m evaluate_every_m_training_samples \u001b[38;5;241m=\u001b[39m \u001b[38;5;241m100\u001b[39m\n\u001b[1;32m      4\u001b[0m \u001b[38;5;28;01mif\u001b[39;00m evaluate_every_m_training_samples \u001b[38;5;241m%\u001b[39m training_batch_size \u001b[38;5;241m!=\u001b[39m \u001b[38;5;241m0\u001b[39m:\n\u001b[0;32m----> 5\u001b[0m     \u001b[38;5;28;01mraise\u001b[39;00m \u001b[38;5;167;01mValueError\u001b[39;00m(\n\u001b[1;32m      6\u001b[0m         \u001b[38;5;124mf\u001b[39m\u001b[38;5;124m\"\u001b[39m\u001b[38;5;124mEvaluate only in multiples of \u001b[39m\u001b[38;5;124m\"\u001b[39m\n\u001b[1;32m      7\u001b[0m         \u001b[38;5;124mf\u001b[39m\u001b[38;5;124m\"\u001b[39m\u001b[38;5;124mtraining_batch_size=\u001b[39m\u001b[38;5;132;01m{\u001b[39;00mtraining_batch_size\u001b[38;5;132;01m}\u001b[39;00m\u001b[38;5;124m\"\u001b[39m\n\u001b[1;32m      8\u001b[0m     )\n",
      "\u001b[0;31mValueError\u001b[0m: Evaluate only in multiples of training_batch_size=1000"
     ]
    }
   ],
   "source": [
    "training_batch_size = 1000\n",
    "evaluate_every_m_training_samples = 100\n",
    "\n",
    "if evaluate_every_m_training_samples % training_batch_size != 0:\n",
    "    raise ValueError(\n",
    "        f\"Evaluate only in multiples of \"\n",
    "        f\"training_batch_size={training_batch_size}\"\n",
    "    )\n",
    "# valid_eval = tf.math.equal(tf.math.floormod(evaluate_every_m_training_samples, training_batch_size), 0)\n",
    "# tf.Assert(valid_eval, [f\"Evaluate only in multiples of training_batch_size={training_batch_size}\"])"
   ]
  },
  {
   "cell_type": "code",
   "execution_count": 19,
   "metadata": {},
   "outputs": [
    {
     "name": "stdout",
     "output_type": "stream",
     "text": [
      "training_batch_size=1000 Ave Loss:\n"
     ]
    }
   ],
   "source": [
    "tf.print(f\"training_batch_size={training_batch_size}\", \"Ave Loss:\")"
   ]
  },
  {
   "cell_type": "code",
   "execution_count": 22,
   "metadata": {},
   "outputs": [
    {
     "data": {
      "text/plain": [
       "'training_batch_size=1000, Ave'"
      ]
     },
     "execution_count": 22,
     "metadata": {},
     "output_type": "execute_result"
    }
   ],
   "source": [
    "a = (\n",
    "    f\"training_batch_size={training_batch_size}, \"\n",
    "    \"Ave\"\n",
    ")\n",
    "a"
   ]
  },
  {
   "cell_type": "code",
   "execution_count": null,
   "metadata": {},
   "outputs": [],
   "source": []
  },
  {
   "cell_type": "code",
   "execution_count": 4,
   "metadata": {},
   "outputs": [],
   "source": [
    "_, samples = runner._training_step(100)"
   ]
  },
  {
   "cell_type": "code",
   "execution_count": 11,
   "metadata": {},
   "outputs": [],
   "source": [
    "import numpy as np\n",
    "\n",
    "np.savetxt(\"test.csv\", samples.numpy(), fmt='%i', delimiter=\",\", header=\"i1, i2, i3, i4, i5\", comments=\"\")"
   ]
  },
  {
   "cell_type": "code",
   "execution_count": 8,
   "metadata": {},
   "outputs": [
    {
     "data": {
      "text/plain": [
       "array([[2, 1, 7, 0, 7],\n",
       "       [7, 1, 2, 1, 1],\n",
       "       [7, 1, 1, 2, 1],\n",
       "       [1, 7, 3, 1, 7],\n",
       "       [2, 2, 1, 7, 1],\n",
       "       [1, 7, 1, 7, 3],\n",
       "       [2, 4, 0, 2, 7],\n",
       "       [3, 1, 7, 2, 6],\n",
       "       [7, 1, 1, 1, 1],\n",
       "       [7, 2, 0, 7, 0],\n",
       "       [7, 1, 7, 1, 1],\n",
       "       [2, 7, 0, 7, 0],\n",
       "       [1, 1, 1, 2, 1],\n",
       "       [0, 3, 1, 1, 0],\n",
       "       [2, 7, 1, 0, 3],\n",
       "       [3, 1, 7, 2, 2],\n",
       "       [7, 0, 7, 1, 1],\n",
       "       [7, 1, 1, 1, 2],\n",
       "       [7, 1, 2, 2, 2],\n",
       "       [7, 2, 7, 0, 5],\n",
       "       [1, 7, 1, 1, 1],\n",
       "       [3, 0, 7, 2, 1],\n",
       "       [7, 1, 0, 7, 1],\n",
       "       [1, 2, 2, 1, 7],\n",
       "       [3, 7, 0, 1, 7],\n",
       "       [0, 1, 7, 1, 7],\n",
       "       [3, 1, 2, 7, 0],\n",
       "       [0, 2, 1, 2, 7],\n",
       "       [2, 2, 1, 1, 7],\n",
       "       [0, 1, 1, 0, 7],\n",
       "       [7, 2, 1, 2, 1],\n",
       "       [1, 2, 7, 1, 7],\n",
       "       [1, 1, 7, 2, 7],\n",
       "       [7, 0, 4, 4, 0],\n",
       "       [7, 0, 7, 1, 2],\n",
       "       [3, 7, 1, 7, 2],\n",
       "       [7, 1, 7, 3, 2],\n",
       "       [2, 7, 1, 1, 7],\n",
       "       [3, 3, 3, 3, 6],\n",
       "       [3, 0, 1, 1, 1],\n",
       "       [0, 2, 7, 1, 0],\n",
       "       [1, 0, 7, 0, 7],\n",
       "       [3, 7, 3, 4, 7],\n",
       "       [7, 1, 1, 2, 2],\n",
       "       [0, 7, 2, 2, 7],\n",
       "       [3, 3, 1, 3, 1],\n",
       "       [7, 1, 2, 7, 0],\n",
       "       [3, 3, 7, 1, 0],\n",
       "       [4, 4, 0, 3, 1],\n",
       "       [7, 0, 6, 1, 2],\n",
       "       [1, 2, 1, 2, 1],\n",
       "       [1, 7, 0, 7, 1],\n",
       "       [7, 0, 7, 1, 0],\n",
       "       [7, 1, 7, 3, 1],\n",
       "       [7, 2, 0, 2, 0],\n",
       "       [0, 1, 0, 1, 7],\n",
       "       [7, 2, 7, 1, 2],\n",
       "       [7, 1, 1, 7, 1],\n",
       "       [7, 1, 2, 7, 0],\n",
       "       [4, 7, 2, 4, 7],\n",
       "       [7, 2, 2, 7, 1],\n",
       "       [1, 1, 6, 3, 7],\n",
       "       [3, 1, 1, 1, 0],\n",
       "       [7, 0, 7, 0, 1],\n",
       "       [7, 0, 0, 7, 0],\n",
       "       [4, 0, 1, 2, 0],\n",
       "       [0, 4, 0, 7, 1],\n",
       "       [2, 0, 1, 1, 7],\n",
       "       [3, 0, 0, 7, 1],\n",
       "       [0, 1, 7, 1, 1],\n",
       "       [1, 0, 7, 1, 1],\n",
       "       [7, 2, 0, 1, 2],\n",
       "       [1, 7, 1, 7, 2],\n",
       "       [2, 2, 0, 7, 1],\n",
       "       [7, 1, 2, 7, 1],\n",
       "       [7, 1, 1, 1, 1],\n",
       "       [0, 0, 3, 0, 0],\n",
       "       [2, 0, 1, 0, 1],\n",
       "       [7, 2, 7, 3, 4],\n",
       "       [1, 1, 7, 1, 7],\n",
       "       [2, 0, 3, 0, 1],\n",
       "       [1, 7, 0, 1, 1],\n",
       "       [1, 1, 1, 7, 1],\n",
       "       [2, 7, 0, 0, 1],\n",
       "       [4, 5, 4, 1, 2],\n",
       "       [4, 0, 7, 2, 1],\n",
       "       [1, 1, 1, 1, 3],\n",
       "       [7, 3, 0, 2, 0],\n",
       "       [4, 0, 7, 1, 0],\n",
       "       [7, 0, 7, 2, 1],\n",
       "       [1, 0, 7, 1, 1],\n",
       "       [7, 2, 3, 2, 1],\n",
       "       [1, 7, 1, 2, 7],\n",
       "       [2, 7, 1, 2, 1],\n",
       "       [1, 4, 0, 7, 3],\n",
       "       [7, 1, 0, 1, 0],\n",
       "       [3, 0, 1, 2, 1],\n",
       "       [2, 2, 1, 2, 7],\n",
       "       [1, 1, 7, 0, 3],\n",
       "       [2, 2, 3, 7, 1]], dtype=int32)"
      ]
     },
     "execution_count": 8,
     "metadata": {},
     "output_type": "execute_result"
    }
   ],
   "source": [
    "samples.numpy()"
   ]
  },
  {
   "cell_type": "code",
   "execution_count": 1,
   "metadata": {
    "ExecuteTime": {
     "end_time": "2023-02-03T17:57:08.864565Z",
     "start_time": "2023-02-03T17:57:01.978918Z"
    }
   },
   "outputs": [],
   "source": [
    "import tensorflow as tf\n",
    "\n",
    "@tf.function\n",
    "def _compute_entropy(prob):\n",
    "    entropy = -tf.reduce_sum(\n",
    "        tf.where(\n",
    "            tf.not_equal(prob, 0.0), \n",
    "            prob*tf.math.log(prob), \n",
    "            0.0\n",
    "        )\n",
    "    )\n",
    "    return entropy\n",
    "\n",
    "@tf.function\n",
    "def _compute_js_divergence(prob1, prob2):\n",
    "    js_div = (\n",
    "        _compute_entropy(0.5*(prob1 + prob2))\n",
    "        - 0.5*(\n",
    "            _compute_entropy(prob1) + \n",
    "            _compute_entropy(prob2)\n",
    "        )\n",
    "    )\n",
    "    return js_div / tf.math.log(2.0)"
   ]
  },
  {
   "cell_type": "code",
   "execution_count": 2,
   "metadata": {
    "ExecuteTime": {
     "end_time": "2023-02-03T17:57:10.723266Z",
     "start_time": "2023-02-03T17:57:10.136874Z"
    }
   },
   "outputs": [
    {
     "name": "stderr",
     "output_type": "stream",
     "text": [
      "2023-02-03 12:57:10.140724: I tensorflow/core/platform/cpu_feature_guard.cc:193] This TensorFlow binary is optimized with oneAPI Deep Neural Network Library (oneDNN) to use the following CPU instructions in performance-critical operations:  SSE4.1 SSE4.2 AVX AVX2 FMA\n",
      "To enable them in other operations, rebuild TensorFlow with the appropriate compiler flags.\n"
     ]
    },
    {
     "data": {
      "text/plain": [
       "<tf.Tensor: shape=(), dtype=float32, numpy=0.0>"
      ]
     },
     "execution_count": 2,
     "metadata": {},
     "output_type": "execute_result"
    }
   ],
   "source": [
    "prob1 = tf.constant([0.75, 0.25, 0.0, 0.0])\n",
    "prob2 = tf.constant([0.75, 0.25, 0.0, 0.0])\n",
    "\n",
    "# prob1 = tf.constant([1.0, 0.0])\n",
    "# prob2 = tf.constant([0.0, 1.0])\n",
    "\n",
    "_compute_js_divergence(prob1, prob2)"
   ]
  },
  {
   "cell_type": "code",
   "execution_count": 1,
   "metadata": {
    "ExecuteTime": {
     "end_time": "2022-12-06T18:37:18.806593Z",
     "start_time": "2022-12-06T18:37:12.603473Z"
    }
   },
   "outputs": [
    {
     "name": "stderr",
     "output_type": "stream",
     "text": [
      "2022-12-06 13:37:18.737344: I tensorflow/core/platform/cpu_feature_guard.cc:193] This TensorFlow binary is optimized with oneAPI Deep Neural Network Library (oneDNN) to use the following CPU instructions in performance-critical operations:  SSE4.1 SSE4.2 AVX AVX2 FMA\n",
      "To enable them in other operations, rebuild TensorFlow with the appropriate compiler flags.\n"
     ]
    }
   ],
   "source": [
    "from core.runner import Runner\n",
    "import tensorflow as tf\n",
    "\n",
    "grid_dim = 2\n",
    "grid_length = 8\n",
    "\n",
    "runner = Runner(\n",
    "    grid_dimension=grid_dim, grid_length=grid_length,\n",
    "    main_layer_hidden_nodes=[30, 20],\n",
    "    branch1_hidden_nodes=[10],\n",
    "    branch2_hidden_nodes=[10],\n",
    "    exploration_rate=0.5,\n",
    "    learning_rate=0.0005\n",
    ")"
   ]
  },
  {
   "cell_type": "code",
   "execution_count": 2,
   "metadata": {
    "ExecuteTime": {
     "end_time": "2022-12-06T18:49:06.043573Z",
     "start_time": "2022-12-06T18:37:27.670264Z"
    }
   },
   "outputs": [
    {
     "name": "stdout",
     "output_type": "stream",
     "text": [
      "Iteration: 0 Average Loss: 15.0529785\n",
      "Iteration: 1000 Average Loss: 2.57931089\n",
      "Iteration: 2000 Average Loss: 1.54026902\n",
      "Iteration: 3000 Average Loss: 0.899267554\n",
      "Iteration: 4000 Average Loss: 0.562584043\n",
      "Iteration: 5000 Average Loss: 0.275739461\n",
      "Iteration: 6000 Average Loss: 0.104513198\n",
      "Iteration: 7000 Average Loss: 0.0283013694\n",
      "Iteration: 8000 Average Loss: 0.00380449346\n",
      "Iteration: 9000 Average Loss: 0.000206010314\n",
      "Iteration: 10000 Average Loss: 1.62136421e-05\n",
      "Iteration: 11000 Average Loss: 2.94706092e-06\n",
      "Iteration: 12000 Average Loss: 1.511714e-06\n",
      "Iteration: 13000 Average Loss: 1.17214395e-05\n",
      "Iteration: 14000 Average Loss: 3.92846368e-06\n",
      "Iteration: 15000 Average Loss: 1.99823698e-05\n",
      "Iteration: 16000 Average Loss: 2.60148916e-08\n",
      "Iteration: 17000 Average Loss: 1.10261499e-06\n",
      "Iteration: 18000 Average Loss: 2.45046067e-06\n",
      "Iteration: 19000 Average Loss: 7.65055859e-08\n",
      "Time Elapsed: 698.3649249076843 s\n"
     ]
    }
   ],
   "source": [
    "import time\n",
    "\n",
    "batch_size = tf.constant(500)\n",
    "n_iterations = tf.constant(int(2e4))\n",
    "check_loss_every_n_iterations = tf.constant(int(1e3))\n",
    "\n",
    "start = time.time()\n",
    "ave_losses = runner.train_agent(batch_size, n_iterations, check_loss_every_n_iterations)\n",
    "time_elapsed = time.time() - start\n",
    "print(f\"Time Elapsed: {time_elapsed} s\")"
   ]
  },
  {
   "cell_type": "code",
   "execution_count": 3,
   "metadata": {
    "ExecuteTime": {
     "end_time": "2022-12-06T18:49:16.290741Z",
     "start_time": "2022-12-06T18:49:14.715038Z"
    }
   },
   "outputs": [
    {
     "data": {
      "text/plain": [
       "[<matplotlib.lines.Line2D at 0x14d63b280>]"
      ]
     },
     "execution_count": 3,
     "metadata": {},
     "output_type": "execute_result"
    },
    {
     "data": {
      "image/png": "[encoded data removed]",
      "text/plain": [
       "<Figure size 640x480 with 1 Axes>"
      ]
     },
     "metadata": {},
     "output_type": "display_data"
    }
   ],
   "source": [
    "import matplotlib.pyplot as plt\n",
    "\n",
    "plt.plot(ave_losses.numpy())"
   ]
  },
  {
   "cell_type": "code",
   "execution_count": 4,
   "metadata": {
    "ExecuteTime": {
     "end_time": "2022-12-05T20:21:10.192008Z",
     "start_time": "2022-12-05T20:21:10.180114Z"
    }
   },
   "outputs": [],
   "source": [
    "# ~3m 27s -> tf.function on main agent methods\n",
    "# ~3m 17s -> tf.function on all\n",
    "\n",
    "# ~1m 39.5s, 1m 14s -> tf.function on _generate_traj only\n",
    "# ~1m 2s, 59.3s -> tf.function on _generate_traj + main agent methods\n",
    "# ~1m 6s, 58.9s -> tf.function on all\n",
    "\n",
    "# ~31s, 26.2s -> tf.function _training_step + all\n",
    "# ~25.4s, 26.8s -> tf.function entire training loop + all"
   ]
  },
  {
   "cell_type": "code",
   "execution_count": null,
   "metadata": {},
   "outputs": [],
   "source": []
  },
  {
   "cell_type": "code",
   "execution_count": null,
   "metadata": {},
   "outputs": [],
   "source": []
  },
  {
   "cell_type": "code",
   "execution_count": 4,
   "metadata": {
    "ExecuteTime": {
     "end_time": "2022-12-06T18:49:23.531858Z",
     "start_time": "2022-12-06T18:49:22.687699Z"
    }
   },
   "outputs": [
    {
     "data": {
      "text/plain": [
       "<tf.Tensor: shape=(8, 8), dtype=float32, numpy=\n",
       "array([[0.0546, 0.0546, 0.    , 0.    , 0.    , 0.    , 0.0506, 0.0556],\n",
       "       [0.0508, 0.0954, 0.    , 0.    , 0.    , 0.    , 0.0998, 0.0512],\n",
       "       [0.    , 0.    , 0.    , 0.    , 0.    , 0.0002, 0.    , 0.0002],\n",
       "       [0.0002, 0.    , 0.    , 0.    , 0.    , 0.    , 0.    , 0.    ],\n",
       "       [0.    , 0.    , 0.    , 0.    , 0.    , 0.    , 0.    , 0.0002],\n",
       "       [0.    , 0.    , 0.    , 0.    , 0.    , 0.    , 0.    , 0.    ],\n",
       "       [0.0486, 0.0984, 0.0002, 0.    , 0.    , 0.0004, 0.1002, 0.0486],\n",
       "       [0.049 , 0.0472, 0.    , 0.    , 0.0002, 0.    , 0.0466, 0.0472]],\n",
       "      dtype=float32)>"
      ]
     },
     "execution_count": 4,
     "metadata": {},
     "output_type": "execute_result"
    }
   ],
   "source": [
    "agent_distr = runner._get_normalized_agent_sample_distribution(5000)\n",
    "agent_distr"
   ]
  },
  {
   "cell_type": "code",
   "execution_count": 5,
   "metadata": {
    "ExecuteTime": {
     "end_time": "2022-12-06T18:49:28.702042Z",
     "start_time": "2022-12-06T18:49:28.237365Z"
    }
   },
   "outputs": [
    {
     "data": {
      "text/plain": [
       "<matplotlib.image.AxesImage at 0x14d83cd30>"
      ]
     },
     "execution_count": 5,
     "metadata": {},
     "output_type": "execute_result"
    },
    {
     "data": {
      "image/png": "[encoded data removed]",
      "text/plain": [
       "<Figure size 640x480 with 1 Axes>"
      ]
     },
     "metadata": {},
     "output_type": "display_data"
    }
   ],
   "source": [
    "plt.imshow(agent_distr.numpy())"
   ]
  },
  {
   "cell_type": "code",
   "execution_count": 6,
   "metadata": {
    "ExecuteTime": {
     "end_time": "2022-12-06T18:49:37.055341Z",
     "start_time": "2022-12-06T18:49:37.036226Z"
    }
   },
   "outputs": [
    {
     "data": {
      "text/plain": [
       "<tf.Tensor: shape=(8, 8), dtype=float32, numpy=\n",
       "array([[4.9890354e-02, 4.9890354e-02, 4.9840513e-05, 4.9840513e-05,\n",
       "        4.9840513e-05, 4.9840513e-05, 4.9890354e-02, 4.9890354e-02],\n",
       "       [4.9890354e-02, 9.9730864e-02, 4.9840513e-05, 4.9840513e-05,\n",
       "        4.9840513e-05, 4.9840513e-05, 9.9730864e-02, 4.9890354e-02],\n",
       "       [4.9840513e-05, 4.9840513e-05, 4.9840513e-05, 4.9840513e-05,\n",
       "        4.9840513e-05, 4.9840513e-05, 4.9840513e-05, 4.9840513e-05],\n",
       "       [4.9840513e-05, 4.9840513e-05, 4.9840513e-05, 4.9840513e-05,\n",
       "        4.9840513e-05, 4.9840513e-05, 4.9840513e-05, 4.9840513e-05],\n",
       "       [4.9840513e-05, 4.9840513e-05, 4.9840513e-05, 4.9840513e-05,\n",
       "        4.9840513e-05, 4.9840513e-05, 4.9840513e-05, 4.9840513e-05],\n",
       "       [4.9840513e-05, 4.9840513e-05, 4.9840513e-05, 4.9840513e-05,\n",
       "        4.9840513e-05, 4.9840513e-05, 4.9840513e-05, 4.9840513e-05],\n",
       "       [4.9890354e-02, 9.9730864e-02, 4.9840513e-05, 4.9840513e-05,\n",
       "        4.9840513e-05, 4.9840513e-05, 9.9730864e-02, 4.9890354e-02],\n",
       "       [4.9890354e-02, 4.9890354e-02, 4.9840513e-05, 4.9840513e-05,\n",
       "        4.9840513e-05, 4.9840513e-05, 4.9890354e-02, 4.9890354e-02]],\n",
       "      dtype=float32)>"
      ]
     },
     "execution_count": 6,
     "metadata": {},
     "output_type": "execute_result"
    }
   ],
   "source": [
    "env_distr = runner.env.rewards / tf.math.reduce_sum(runner.env.rewards)\n",
    "env_distr"
   ]
  },
  {
   "cell_type": "code",
   "execution_count": 7,
   "metadata": {
    "ExecuteTime": {
     "end_time": "2022-12-06T18:49:38.604257Z",
     "start_time": "2022-12-06T18:49:38.042511Z"
    }
   },
   "outputs": [
    {
     "data": {
      "text/plain": [
       "<matplotlib.image.AxesImage at 0x14d687250>"
      ]
     },
     "execution_count": 7,
     "metadata": {},
     "output_type": "execute_result"
    },
    {
     "data": {
      "image/png": "[encoded data removed]",
      "text/plain": [
       "<Figure size 640x480 with 1 Axes>"
      ]
     },
     "metadata": {},
     "output_type": "display_data"
    }
   ],
   "source": [
    "plt.imshow(env_distr.numpy())"
   ]
  },
  {
   "cell_type": "code",
   "execution_count": null,
   "metadata": {},
   "outputs": [],
   "source": []
  },
  {
   "cell_type": "code",
   "execution_count": null,
   "metadata": {},
   "outputs": [],
   "source": []
  },
  {
   "cell_type": "code",
   "execution_count": null,
   "metadata": {},
   "outputs": [],
   "source": []
  },
  {
   "cell_type": "code",
   "execution_count": null,
   "metadata": {},
   "outputs": [],
   "source": []
  },
  {
   "cell_type": "code",
   "execution_count": 9,
   "metadata": {
    "ExecuteTime": {
     "end_time": "2022-12-06T17:24:53.096720Z",
     "start_time": "2022-12-06T17:24:53.079872Z"
    }
   },
   "outputs": [],
   "source": [
    "import numpy as np\n",
    "\n",
    "def _plot_l1_errors_per_probability_interval(agent_prob, env_prob, \n",
    "#                                              filename, \n",
    "                                             n_intervals\n",
    "                                            ):\n",
    "    result = agent_prob.ravel()\n",
    "    expected = env_prob.ravel()\n",
    "    max_expected = expected.max()\n",
    "    assert max_expected != 0\n",
    "    expected_pcts = expected * 100 / max_expected\n",
    "\n",
    "    interval_edges = np.linspace(0, 100, n_intervals + 1)\n",
    "    starts = interval_edges[:-1]\n",
    "    ends = interval_edges[1:]\n",
    "\n",
    "    frac_l1_errors = np.abs(result - expected) / max_expected\n",
    "    errors = []\n",
    "    labels = []\n",
    "    for s, e in zip(starts, ends):\n",
    "        inds = np.where((s < expected_pcts) & (expected_pcts <= e))\n",
    "        errors_per_interval = frac_l1_errors[inds]\n",
    "        if len(errors_per_interval):\n",
    "            interval_label = f\"{s:.2f}% < pct <= {e:.2f}%\"\n",
    "            errors.append(errors_per_interval)\n",
    "            labels.append(interval_label)\n",
    "\n",
    "#     print(errors)\n",
    "    fig, ax = plt.subplots()\n",
    "    ax.violinplot(errors)\n",
    "    ax.set_xticks(np.arange(1, len(labels) + 1), labels=labels, rotation=15)\n",
    "    ax.set_ylim(0, 1.5)\n",
    "    ax.set_ylabel(\"Fractional L1 Errors\")\n",
    "    ax.set_xlabel(\"Percentage of max theoretical probability\")\n",
    "    plt.tight_layout()\n",
    "#     fig.savefig(f\"./plot_results/{filename}\")\n",
    "    return errors"
   ]
  },
  {
   "cell_type": "code",
   "execution_count": 10,
   "metadata": {
    "ExecuteTime": {
     "end_time": "2022-12-06T17:24:54.832286Z",
     "start_time": "2022-12-06T17:24:54.174906Z"
    },
    "scrolled": false
   },
   "outputs": [
    {
     "name": "stdout",
     "output_type": "stream",
     "text": [
      "[array([1.3053652e+00, 6.5243274e-01, 4.9975014e-04, ..., 1.0832233e-01,\n",
      "       4.9975014e-04, 4.9975014e-04], dtype=float32), array([8.640804  , 2.6555903 , 0.5002499 , 0.5002499 , 0.9144371 ,\n",
      "       0.26150462, 0.5002499 , 0.5002499 , 0.5002499 , 0.5002499 ,\n",
      "       0.5002499 , 0.5002499 , 0.5002499 , 0.5002499 , 0.5002499 ,\n",
      "       0.5002499 , 2.6555903 , 0.5879709 , 0.5002499 , 0.5002499 ,\n",
      "       0.47914878, 0.39142784, 0.5002499 , 0.5002499 , 0.5002499 ,\n",
      "       0.5002499 , 0.5002499 , 0.5002499 , 0.5002499 , 0.5002499 ,\n",
      "       0.5002499 , 0.5002499 , 0.5002499 , 0.5002499 , 0.5002499 ,\n",
      "       0.5002499 , 0.5002499 , 0.5002499 , 0.5002499 , 0.5002499 ,\n",
      "       0.5002499 , 0.5002499 , 0.5002499 , 0.39142784, 0.5002499 ,\n",
      "       0.5002499 , 0.5002499 , 0.5002499 , 0.5002499 , 0.5002499 ,\n",
      "       0.5002499 , 0.5002499 , 0.5002499 , 0.5002499 , 0.5002499 ,\n",
      "       0.5002499 , 0.5002499 , 0.5002499 , 0.5002499 , 0.5002499 ,\n",
      "       0.5002499 , 0.5002499 , 0.39142784, 0.5002499 , 2.220302  ,\n",
      "       1.1320813 , 0.39142784, 0.5002499 , 0.9144371 , 0.17378366,\n",
      "       0.5002499 , 0.5002499 , 0.5002499 , 0.5002499 , 0.5002499 ,\n",
      "       0.5002499 , 0.5002499 , 0.5002499 , 0.5002499 , 0.5002499 ,\n",
      "       0.9144371 , 0.04386051, 0.5002499 , 0.5002499 , 0.0649616 ,\n",
      "       0.28260574, 0.5002499 , 0.5002499 , 0.5002499 , 0.5002499 ,\n",
      "       0.5002499 , 0.39142784, 0.5002499 , 0.5002499 , 0.5002499 ,\n",
      "       0.5002499 , 0.5002499 , 0.5002499 , 0.39142784, 0.5002499 ,\n",
      "       0.5002499 , 0.5002499 , 0.5002499 , 0.5002499 , 0.5002499 ,\n",
      "       0.39142784, 0.5002499 , 0.39142784, 0.39142784, 0.5002499 ,\n",
      "       0.5002499 , 0.5002499 , 0.5002499 , 0.5002499 , 0.5002499 ,\n",
      "       0.5002499 , 0.39142784, 0.5002499 , 0.5002499 , 0.5002499 ,\n",
      "       0.39142784, 0.5002499 , 0.5002499 , 0.5002499 , 0.5002499 ,\n",
      "       0.5002499 , 0.5002499 , 0.5002499 , 0.5002499 , 0.5002499 ,\n",
      "       0.5002499 , 0.5002499 , 0.5002499 , 0.5002499 , 0.5002499 ,\n",
      "       0.5002499 , 0.39142784, 0.39142784, 0.5002499 , 0.39142784,\n",
      "       0.5002499 , 0.5002499 , 0.5002499 , 0.5002499 , 0.5002499 ,\n",
      "       0.39142784, 0.5002499 , 0.5002499 , 0.5002499 , 0.5002499 ,\n",
      "       0.5002499 , 0.5002499 , 0.5002499 , 0.5002499 , 0.5002499 ,\n",
      "       0.5002499 , 0.5002499 , 0.5002499 , 0.5002499 , 0.5002499 ,\n",
      "       0.5002499 , 0.5002499 , 0.5002499 , 0.5002499 , 0.5002499 ,\n",
      "       0.39142784, 0.5002499 , 0.5002499 , 0.5002499 , 0.5002499 ,\n",
      "       0.5002499 , 0.5002499 , 0.5002499 , 0.5002499 , 0.5002499 ,\n",
      "       0.5002499 , 0.5002499 , 0.5002499 , 0.5002499 , 0.5002499 ,\n",
      "       0.5002499 , 0.5002499 , 0.5002499 , 0.5002499 , 0.39142784,\n",
      "       0.39142784, 0.5002499 , 0.28260574, 0.5002499 , 0.5002499 ,\n",
      "       0.28260574, 0.39142784, 0.39142784, 0.5002499 , 0.5002499 ,\n",
      "       0.5002499 , 0.5002499 , 0.5002499 , 0.5002499 , 0.5002499 ,\n",
      "       0.39142784, 0.5002499 , 0.5002499 , 0.39142784, 0.5002499 ,\n",
      "       0.5002499 , 0.5002499 , 0.5002499 , 0.28260574, 0.5002499 ,\n",
      "       0.5002499 , 0.5002499 , 0.5002499 , 0.39142784, 0.5002499 ,\n",
      "       0.5002499 , 0.5002499 , 0.5002499 , 0.5002499 , 0.5002499 ,\n",
      "       0.5002499 , 0.5002499 , 0.5002499 , 0.39142784, 0.39142784,\n",
      "       0.5002499 , 0.5002499 , 0.5002499 , 0.5002499 , 0.5002499 ,\n",
      "       0.5002499 , 0.5002499 , 0.5002499 , 0.5002499 , 0.5002499 ,\n",
      "       0.39142784, 0.39142784, 0.5002499 , 0.39142784, 0.5002499 ,\n",
      "       0.5002499 , 0.5002499 , 0.39142784, 0.5002499 , 0.5002499 ,\n",
      "       0.5002499 , 0.5002499 , 0.5002499 , 0.39142784, 0.5002499 ,\n",
      "       0.5002499 , 0.5002499 , 0.28260574, 0.5002499 , 0.5002499 ,\n",
      "       0.39142784, 1.8938358 , 0.04386051, 0.5002499 , 0.5002499 ,\n",
      "       0.04386051, 0.3703267 , 0.5002499 , 0.5002499 , 0.5002499 ,\n",
      "       0.5002499 , 0.5002499 , 0.5002499 , 0.5002499 , 0.5002499 ,\n",
      "       0.5002499 , 0.5002499 , 0.3703267 , 0.39142784, 0.5002499 ,\n",
      "       0.5002499 , 0.39142784, 0.28260574, 0.5002499 , 0.5002499 ,\n",
      "       0.39142784, 0.5002499 , 0.5002499 , 0.5002499 , 0.5002499 ,\n",
      "       0.5002499 , 0.5002499 , 0.5002499 , 0.5002499 , 0.5002499 ,\n",
      "       0.5002499 , 0.5002499 , 0.5002499 , 0.39142784, 0.5002499 ,\n",
      "       0.5002499 , 0.39142784, 0.5002499 , 0.5002499 , 0.5002499 ,\n",
      "       0.5002499 , 0.5002499 , 0.5002499 , 0.5002499 , 0.5002499 ,\n",
      "       0.5002499 , 0.5002499 , 0.5002499 , 0.5002499 , 0.5002499 ,\n",
      "       0.5002499 , 0.5002499 , 0.5002499 , 0.5002499 , 0.5002499 ,\n",
      "       0.5002499 , 0.5002499 , 0.5002499 , 0.5002499 , 0.5002499 ,\n",
      "       1.0232592 , 0.1526826 , 0.5002499 , 0.5002499 , 0.17378366,\n",
      "       0.17378366, 0.5002499 , 0.5002499 , 0.5002499 , 0.5002499 ,\n",
      "       0.5002499 , 0.5002499 , 0.5002499 , 0.5002499 , 0.5002499 ,\n",
      "       0.5002499 , 0.04386051, 0.0649616 , 0.5002499 , 0.5002499 ,\n",
      "       0.0649616 , 0.5002499 , 0.5002499 , 0.5002499 , 0.5002499 ,\n",
      "       0.5002499 , 0.5002499 , 0.5002499 , 0.5002499 , 0.5002499 ,\n",
      "       0.5002499 , 0.5002499 , 0.39142784, 0.5002499 , 0.5002499 ,\n",
      "       0.5002499 , 0.5002499 , 0.5002499 , 0.5002499 , 0.5002499 ,\n",
      "       0.5002499 , 0.5002499 , 0.5002499 , 0.5002499 , 0.5002499 ,\n",
      "       0.5002499 , 0.5002499 , 0.5002499 , 0.5002499 , 0.5002499 ,\n",
      "       0.5002499 , 0.5002499 , 0.5002499 , 0.5002499 , 0.5002499 ,\n",
      "       0.5002499 , 0.5002499 , 0.39142784, 0.5002499 , 0.5002499 ,\n",
      "       0.5002499 , 0.5002499 , 0.5002499 , 0.5002499 , 0.5002499 ,\n",
      "       0.5002499 , 0.5002499 , 0.5002499 , 0.5002499 , 0.5002499 ,\n",
      "       0.5002499 , 0.5002499 , 0.5002499 , 0.5002499 , 0.5002499 ,\n",
      "       0.5002499 , 0.5002499 , 0.5002499 , 0.5002499 , 0.5002499 ,\n",
      "       0.5002499 , 0.5002499 , 0.5002499 , 0.5002499 , 0.5002499 ,\n",
      "       0.5002499 , 0.5002499 , 0.5002499 , 0.5002499 , 0.5002499 ,\n",
      "       0.5002499 , 0.5002499 , 0.5002499 , 0.5002499 , 0.5002499 ,\n",
      "       0.5002499 , 0.5002499 , 0.5002499 , 0.5002499 , 0.5002499 ,\n",
      "       0.5002499 , 0.5002499 , 0.5002499 , 0.5002499 , 0.5002499 ,\n",
      "       0.5002499 , 0.5002499 , 0.5002499 , 0.39142784, 0.5002499 ,\n",
      "       0.5002499 , 0.5002499 , 0.5002499 , 0.5002499 , 0.5002499 ,\n",
      "       0.5002499 , 0.5002499 , 0.5002499 , 0.5002499 , 0.5002499 ,\n",
      "       0.5002499 , 0.5002499 , 0.5002499 , 0.5002499 , 0.5002499 ,\n",
      "       0.39142784, 0.5002499 , 0.5002499 , 0.5002499 , 0.5002499 ,\n",
      "       0.5002499 , 0.5002499 , 0.5002499 , 0.5002499 , 0.5002499 ,\n",
      "       0.5002499 , 0.5002499 , 0.5002499 , 0.5002499 , 0.5002499 ,\n",
      "       0.5002499 , 0.5002499 , 0.5002499 , 0.5002499 , 0.5002499 ,\n",
      "       0.5002499 , 0.5002499 , 0.5002499 , 0.5002499 , 0.5002499 ,\n",
      "       0.5002499 , 0.5002499 , 0.5002499 , 0.5002499 , 0.5002499 ,\n",
      "       0.39142784, 0.5002499 , 0.5002499 , 0.5002499 , 0.5002499 ,\n",
      "       0.5002499 , 0.5002499 , 0.5002499 , 0.5002499 , 0.5002499 ,\n",
      "       0.5002499 , 0.5002499 , 0.5002499 , 0.5002499 , 0.5002499 ,\n",
      "       0.5002499 , 0.5002499 , 0.5002499 , 0.5002499 , 0.5002499 ,\n",
      "       0.5002499 , 0.5002499 , 0.5002499 , 0.5002499 , 0.5002499 ,\n",
      "       0.5002499 , 0.5002499 , 0.5002499 , 0.5002499 , 0.39142784,\n",
      "       0.5002499 , 0.39142784, 0.5002499 , 0.5002499 , 0.5002499 ,\n",
      "       0.5002499 , 0.5002499 , 0.5002499 , 0.5002499 , 0.5002499 ,\n",
      "       0.5002499 , 0.5002499 , 0.5002499 , 0.5002499 , 0.5002499 ,\n",
      "       0.5002499 , 0.5002499 , 0.5002499 , 0.5002499 , 0.5002499 ,\n",
      "       0.39142784, 0.5002499 , 0.5002499 , 0.5002499 , 0.5002499 ,\n",
      "       0.5002499 , 0.5002499 , 0.5002499 , 0.5002499 , 0.5002499 ,\n",
      "       0.5002499 , 0.5002499 , 0.5002499 , 0.5002499 , 0.5002499 ,\n",
      "       0.5002499 , 0.5002499 , 0.5002499 , 0.39142784, 0.5002499 ,\n",
      "       0.5002499 , 0.5002499 , 0.5002499 , 0.5002499 , 0.5002499 ,\n",
      "       0.5002499 , 0.5002499 , 0.5002499 , 0.5002499 , 0.39142784,\n",
      "       0.5002499 , 0.39142784, 0.5002499 , 0.5002499 , 0.5002499 ,\n",
      "       0.28260574, 0.5002499 , 0.5002499 , 0.5002499 , 0.5002499 ,\n",
      "       0.39142784, 0.5002499 , 0.5002499 , 0.5002499 , 0.5002499 ,\n",
      "       0.5002499 , 0.5002499 , 0.5002499 , 0.5002499 , 0.39142784,\n",
      "       0.5002499 , 0.5002499 , 0.39142784, 0.5002499 , 0.5002499 ,\n",
      "       0.5002499 , 0.5002499 , 0.5002499 , 0.39142784, 0.39142784,\n",
      "       0.5002499 , 0.5002499 , 0.5002499 , 0.5002499 , 0.5002499 ,\n",
      "       0.5002499 , 0.39142784, 0.5002499 , 0.5002499 , 0.5002499 ,\n",
      "       0.5002499 , 0.5002499 , 0.5002499 , 0.5002499 , 0.5002499 ,\n",
      "       0.5002499 , 0.5002499 , 0.5002499 , 0.5002499 , 0.5002499 ,\n",
      "       0.5002499 , 0.5002499 , 0.5002499 , 0.5002499 , 0.5002499 ,\n",
      "       0.5002499 , 0.5002499 , 0.5002499 , 0.5002499 , 0.5002499 ,\n",
      "       0.5002499 , 0.5002499 , 0.5002499 , 0.5002499 , 0.39142784,\n",
      "       0.5002499 , 0.5002499 , 0.5002499 , 0.5002499 , 0.5002499 ,\n",
      "       0.5002499 , 0.5002499 , 0.5002499 , 0.5002499 , 0.5002499 ,\n",
      "       0.28260574, 0.5002499 , 0.5002499 , 0.5002499 , 0.5002499 ,\n",
      "       0.5002499 , 0.5002499 , 0.5002499 , 0.39142784, 0.5002499 ,\n",
      "       0.5002499 , 0.5002499 , 0.5002499 , 0.5002499 , 0.5002499 ,\n",
      "       0.5002499 , 0.5002499 , 0.39142784, 0.5002499 , 0.5002499 ,\n",
      "       0.39142784, 0.17378366, 0.39142784, 0.39142784, 0.5002499 ,\n",
      "       0.5002499 , 0.5002499 , 0.5002499 , 0.5002499 , 0.5002499 ,\n",
      "       0.5002499 , 0.5002499 , 0.5002499 , 0.39142784, 0.5002499 ,\n",
      "       0.5002499 , 0.5002499 , 0.39142784, 0.39142784, 0.39142784,\n",
      "       0.39142784, 0.5002499 , 0.5002499 , 0.5002499 , 0.5002499 ,\n",
      "       0.39142784, 0.5002499 , 0.5002499 , 0.5002499 , 0.5002499 ,\n",
      "       0.39142784, 0.5002499 , 0.5002499 , 0.39142784, 0.5002499 ,\n",
      "       0.5002499 , 0.5002499 , 0.39142784, 0.5002499 , 0.5002499 ,\n",
      "       0.5002499 , 0.39142784, 0.5002499 , 0.5002499 , 0.5002499 ,\n",
      "       0.5002499 , 0.5002499 , 0.5002499 , 0.39142784, 0.5002499 ,\n",
      "       0.5002499 , 0.5002499 , 0.39142784, 0.5002499 , 0.5002499 ,\n",
      "       0.5002499 , 0.5002499 , 0.5002499 , 0.5002499 , 0.5002499 ,\n",
      "       0.5002499 , 0.39142784, 0.39142784, 0.5002499 , 0.5002499 ,\n",
      "       0.39142784, 0.5002499 , 0.5002499 , 0.5002499 , 0.5002499 ,\n",
      "       0.39142784, 0.5002499 , 0.5002499 , 0.5002499 , 0.39142784,\n",
      "       0.5002499 , 0.5002499 , 0.5002499 , 0.39142784, 0.39142784,\n",
      "       0.5002499 , 0.39142784, 0.5002499 , 0.5002499 , 0.5002499 ,\n",
      "       0.5002499 , 0.5002499 , 0.5002499 , 0.5002499 , 0.5002499 ,\n",
      "       0.5002499 , 0.5002499 , 0.5002499 , 0.5002499 , 0.5002499 ,\n",
      "       0.5002499 , 0.5002499 , 0.5002499 , 0.5002499 , 0.5002499 ,\n",
      "       0.5002499 , 0.5002499 , 0.39142784, 0.5002499 , 0.5002499 ,\n",
      "       0.5002499 , 0.5002499 , 0.5002499 , 0.5002499 , 0.5002499 ,\n",
      "       0.5002499 , 0.5002499 , 0.5002499 , 0.5002499 , 0.5002499 ,\n",
      "       0.5002499 , 0.5002499 , 0.5002499 , 0.5002499 , 0.5002499 ,\n",
      "       0.5002499 , 0.5002499 , 0.5002499 , 0.5002499 , 0.5002499 ,\n",
      "       0.5002499 , 0.5002499 , 0.39142784, 0.5002499 , 0.5002499 ,\n",
      "       0.5002499 , 0.39142784, 0.5002499 , 0.5002499 , 0.5002499 ,\n",
      "       0.5002499 , 0.5002499 , 0.5002499 , 0.5002499 , 0.5002499 ,\n",
      "       0.5002499 , 0.5002499 , 0.5002499 , 0.5002499 , 0.5002499 ,\n",
      "       0.5002499 , 0.5002499 , 0.5002499 , 0.39142784, 0.5002499 ,\n",
      "       0.5002499 , 0.39142784, 0.5002499 , 0.5002499 , 0.5002499 ,\n",
      "       0.5002499 , 0.5002499 , 0.5002499 , 0.5002499 , 0.5002499 ,\n",
      "       0.5002499 , 0.5002499 , 0.39142784, 0.5002499 , 0.5002499 ,\n",
      "       0.5002499 , 0.5002499 , 0.5002499 , 0.5002499 , 0.5002499 ,\n",
      "       0.5002499 , 0.5002499 , 0.39142784, 0.5002499 , 0.5002499 ,\n",
      "       0.5002499 , 0.5002499 , 0.5002499 , 0.5002499 , 0.5002499 ,\n",
      "       0.5002499 , 0.5002499 , 0.5002499 , 0.5002499 , 0.5002499 ,\n",
      "       0.5002499 , 0.39142784, 0.5002499 , 0.5002499 , 0.5002499 ,\n",
      "       0.5002499 , 0.5002499 , 0.39142784, 0.5002499 , 0.5002499 ,\n",
      "       0.5002499 , 0.5002499 , 0.5002499 , 0.5002499 , 0.5002499 ,\n",
      "       0.39142784, 0.5002499 , 0.5002499 , 0.5002499 , 0.5002499 ,\n",
      "       0.5002499 , 0.5002499 , 0.5002499 , 0.5002499 , 0.5002499 ,\n",
      "       0.5002499 , 0.5002499 , 0.5002499 , 0.5002499 , 0.5002499 ,\n",
      "       0.5002499 , 0.5002499 , 0.39142784, 0.5002499 , 0.5002499 ,\n",
      "       0.5002499 , 0.5002499 , 0.5002499 , 0.5002499 , 0.5002499 ,\n",
      "       0.5002499 , 0.5002499 , 0.39142784, 0.5002499 , 0.5002499 ,\n",
      "       0.5002499 , 0.5002499 , 0.5002499 , 0.39142784, 0.5002499 ,\n",
      "       0.5002499 , 0.39142784, 0.5002499 , 0.5002499 , 0.5002499 ,\n",
      "       0.5002499 , 0.5002499 , 0.5002499 , 0.5002499 , 0.5002499 ,\n",
      "       0.5002499 , 0.5002499 , 0.39142784, 0.5002499 , 0.5002499 ,\n",
      "       0.5002499 , 0.39142784, 0.5002499 , 0.5002499 , 0.5002499 ,\n",
      "       0.5002499 , 0.5002499 , 0.28260574, 0.5002499 , 0.5002499 ,\n",
      "       0.28260574, 0.5002499 , 0.39142784, 0.5002499 , 0.5002499 ,\n",
      "       0.5002499 , 0.5002499 , 0.5002499 , 0.5002499 , 0.5002499 ,\n",
      "       0.5002499 , 0.5002499 , 0.39142784, 0.5002499 , 0.28260574,\n",
      "       0.5002499 , 0.5002499 , 0.5002499 , 0.5002499 , 0.5002499 ,\n",
      "       0.39142784, 0.5002499 , 0.5002499 , 0.5002499 , 0.5002499 ,\n",
      "       0.5002499 , 0.5002499 , 0.5002499 , 0.5002499 , 0.28260574,\n",
      "       0.5002499 , 0.5002499 , 0.5002499 , 0.39142784, 0.5002499 ,\n",
      "       0.39142784, 0.5002499 , 0.5002499 , 0.5002499 , 0.5002499 ,\n",
      "       0.5002499 , 0.5002499 , 0.5002499 , 0.5002499 , 0.5002499 ,\n",
      "       0.5002499 , 0.5002499 , 0.5002499 , 0.5002499 , 0.5002499 ,\n",
      "       0.5002499 , 0.39142784, 0.5002499 , 0.39142784, 0.39142784,\n",
      "       0.39142784, 0.5002499 , 0.5002499 , 0.5002499 , 0.39142784,\n",
      "       0.5002499 , 0.5002499 , 0.39142784, 0.39142784, 0.5002499 ,\n",
      "       0.5002499 , 0.5002499 , 0.5002499 , 0.39142784, 0.5002499 ,\n",
      "       0.5002499 , 0.5002499 , 0.5002499 , 0.5002499 , 0.5002499 ,\n",
      "       0.5002499 , 0.5002499 , 0.5002499 , 0.39142784, 0.5002499 ,\n",
      "       0.5002499 , 0.5002499 ], dtype=float32), array([0.56471175, 1.        , 1.        , 1.        , 1.        ,\n",
      "       1.        , 1.        , 1.        , 1.        , 1.        ,\n",
      "       1.        , 1.        , 1.        , 1.        , 0.78235584,\n",
      "       1.        , 1.        , 1.        , 1.        , 1.        ,\n",
      "       1.        , 0.8911779 , 1.        , 1.        , 1.        ,\n",
      "       1.        , 1.        , 1.        , 1.        , 1.        ,\n",
      "       1.        , 1.        ], dtype=float32)]\n"
     ]
    },
    {
     "data": {
      "image/png": "[encoded data removed]",
      "text/plain": [
       "<Figure size 640x480 with 1 Axes>"
      ]
     },
     "metadata": {},
     "output_type": "display_data"
    }
   ],
   "source": [
    "errors = _plot_l1_errors_per_probability_interval(\n",
    "    agent_distr.numpy(), env_distr.numpy(), n_intervals=4\n",
    ")"
   ]
  },
  {
   "cell_type": "code",
   "execution_count": null,
   "metadata": {},
   "outputs": [],
   "source": []
  },
  {
   "cell_type": "code",
   "execution_count": null,
   "metadata": {},
   "outputs": [],
   "source": []
  },
  {
   "cell_type": "code",
   "execution_count": null,
   "metadata": {},
   "outputs": [],
   "source": []
  },
  {
   "cell_type": "code",
   "execution_count": null,
   "metadata": {},
   "outputs": [],
   "source": []
  },
  {
   "cell_type": "code",
   "execution_count": 1,
   "metadata": {
    "ExecuteTime": {
     "end_time": "2022-11-28T18:21:56.988329Z",
     "start_time": "2022-11-28T18:21:48.174111Z"
    }
   },
   "outputs": [],
   "source": [
    "import numpy as np\n",
    "import tensorflow as tf\n",
    "\n",
    "class PolicyNetwork(tf.keras.Model):\n",
    "    def __init__(self, n_hidden, n_output_1, n_output_2):\n",
    "        super().__init__()\n",
    "        self.n_hidden = n_hidden\n",
    "        self.n_output_1 = n_output_1\n",
    "        self.n_output_2 = n_output_2\n",
    "        \n",
    "        self.flatten = tf.keras.layers.Flatten()\n",
    "        self.dense_1 = tf.keras.layers.Dense(self.n_hidden)\n",
    "        self.dense_2 = tf.keras.layers.Dense(self.n_output_1)\n",
    "        self.dense_3 = tf.keras.layers.Dense(self.n_output_2)\n",
    "    \n",
    "    def call(self, data_input):\n",
    "        hidden = self.flatten(data_input)\n",
    "        hidden = self.dense_1(hidden)\n",
    "        hidden = tf.keras.activations.tanh(hidden)\n",
    "        output_1 = self.dense_2(hidden)\n",
    "        output_2 = self.dense_3(hidden)\n",
    "        return output_1, output_2\n",
    "\n",
    "class Agent:\n",
    "    NEG_INF = -10000000000.0\n",
    "    def __init__(self, env_grid_length):\n",
    "        self.policy = PolicyNetwork(40, 5, 6)\n",
    "        self.env_grid_length = env_grid_length\n",
    "        \n",
    "    def backward_action(self, current_position):\n",
    "        encoded_position = tf.one_hot(\n",
    "            current_position, depth=self.env_grid_length, axis=-1\n",
    "        )\n",
    "        action_logits = self.policy.predict(encoded_position)[0]\n",
    "        \n",
    "        back_coord_mask = tf.math.equal(current_position, 0)\n",
    "        masked_logits = self._mask_action_logits(\n",
    "            action_logits, back_coord_mask\n",
    "        )\n",
    "        \n",
    "        action_indices = tf.random.categorical(masked_logits, 1)\n",
    "        encoded_actions = tf.one_hot(\n",
    "            tf.reshape(action_indices, shape=(-1,)), depth=5, dtype=tf.int32\n",
    "        )\n",
    "        \n",
    "        is_at_origin = tf.math.reduce_all(\n",
    "            back_coord_mask, axis=1, keepdims=True\n",
    "        )\n",
    "        action_mask = tf.cast(\n",
    "            tf.math.logical_not(is_at_origin), \n",
    "            dtype=tf.int32\n",
    "        )\n",
    "        back_actions = encoded_actions*action_mask\n",
    "        return back_actions\n",
    "    \n",
    "    def forward_action(self, current_position, still_sampling):\n",
    "        encoded_position = tf.one_hot(\n",
    "            current_position, depth=self.env_grid_length, axis=-1\n",
    "        )\n",
    "        action_logits = self.policy.predict(encoded_position)[1]\n",
    "        \n",
    "        forward_coord_mask = tf.math.equal(current_position, self.env_grid_length-1)\n",
    "        masked_logits = self._mask_action_logits(\n",
    "            action_logits, forward_coord_mask\n",
    "        )\n",
    "        action_indices = tf.random.categorical(masked_logits, 1)\n",
    "        encoded_actions = tf.one_hot(\n",
    "            tf.reshape(action_indices, shape=(-1,)), depth=6, dtype=tf.int32\n",
    "        )\n",
    "\n",
    "        forward_actions = encoded_actions*still_sampling\n",
    "        updated_still_sampling = (\n",
    "            still_sampling - tf.reshape(forward_actions[:, -1], shape=(-1, 1))\n",
    "        )\n",
    "        return forward_actions, updated_still_sampling\n",
    "    \n",
    "    def _mask_action_logits(self, action_logits, mask):\n",
    "        avoid_inds = tf.where(mask)\n",
    "        # Need validation that masked are not sampled\n",
    "        masked_logits = tf.tensor_scatter_nd_add(\n",
    "            action_logits, avoid_inds, \n",
    "            tf.constant([self.NEG_INF]*avoid_inds.shape[0])\n",
    "        )\n",
    "        return masked_logits\n",
    "        \n",
    "    def calculate_log_proba_ratios(self, trajectories, backward_actions, forward_actions):\n",
    "        reshaped_positions = tf.reshape(trajectories, shape=(-1, 5))\n",
    "        encoded_positions = tf.one_hot(\n",
    "            reshaped_positions, \n",
    "            depth=self.env_grid_length, axis=-1\n",
    "        )\n",
    "        backward_logits, forward_logits = self.policy.predict(encoded_positions)\n",
    "        \n",
    "        back_coord_mask = tf.math.equal(reshaped_positions, 0)\n",
    "        backward_log_probas = self._action_log_probas(\n",
    "            backward_logits, back_coord_mask, backward_actions\n",
    "        )\n",
    "        \n",
    "        forward_coord_mask = tf.math.equal(reshaped_positions, self.env_grid_length-1)\n",
    "        forward_log_probas = self._action_log_probas(\n",
    "            forward_logits, forward_coord_mask, forward_actions\n",
    "        )\n",
    "        log_proba_ratios = (\n",
    "            tf.reduce_sum(forward_log_probas, axis=0)\n",
    "            - tf.reduce_sum(backward_log_probas, axis=0)\n",
    "        )\n",
    "        return log_proba_ratios\n",
    "    \n",
    "    def _action_log_probas(self, logits, mask, actions):\n",
    "        masked_logits = self._mask_action_logits(logits, mask)\n",
    "        log_softmax = tf.nn.log_softmax(masked_logits)\n",
    "        action_log_probas = tf.reduce_sum(\n",
    "            (\n",
    "                tf.reshape(log_softmax, shape=actions.shape)\n",
    "                * tf.cast(actions, dtype=tf.float32)\n",
    "            ), \n",
    "            axis=2, keepdims=True\n",
    "        )\n",
    "        return action_log_probas\n",
    "        \n",
    "    \n",
    "def backward_step(current_position, back_action):\n",
    "    new_position = current_position - back_action\n",
    "    return new_position\n",
    "\n",
    "def forward_step(current_position, forward_action):\n",
    "    new_position = current_position + forward_action[:, :-1]\n",
    "    return new_position"
   ]
  },
  {
   "cell_type": "code",
   "execution_count": 2,
   "metadata": {
    "ExecuteTime": {
     "end_time": "2022-11-28T18:22:05.162521Z",
     "start_time": "2022-11-28T18:22:03.693055Z"
    }
   },
   "outputs": [
    {
     "name": "stderr",
     "output_type": "stream",
     "text": [
      "2022-11-28 13:22:03.707186: I tensorflow/core/platform/cpu_feature_guard.cc:193] This TensorFlow binary is optimized with oneAPI Deep Neural Network Library (oneDNN) to use the following CPU instructions in performance-critical operations:  SSE4.1 SSE4.2 AVX AVX2 FMA\n",
      "To enable them in other operations, rebuild TensorFlow with the appropriate compiler flags.\n"
     ]
    },
    {
     "name": "stdout",
     "output_type": "stream",
     "text": [
      "1/1 [==============================] - 1s 613ms/step\n",
      "1/1 [==============================] - 0s 44ms/step\n",
      "1/1 [==============================] - 0s 44ms/step\n",
      "1/1 [==============================] - 0s 43ms/step\n",
      "1/1 [==============================] - 0s 45ms/step\n"
     ]
    }
   ],
   "source": [
    "batch_size = 2\n",
    "grid_length = 3\n",
    "\n",
    "current_position = tf.random.uniform(\n",
    "    shape=(batch_size, 5), minval=0, maxval=grid_length, dtype=tf.int32\n",
    ")\n",
    "\n",
    "agent = Agent(grid_length)\n",
    "\n",
    "trajectory = [current_position]\n",
    "actions = []\n",
    "\n",
    "sampling = tf.constant(True)\n",
    "\n",
    "while sampling:\n",
    "    action = agent.backward_action(current_position)\n",
    "    current_position = backward_step(current_position, action)\n",
    "    trajectory.append(current_position)\n",
    "    actions.append(action)\n",
    "    \n",
    "    sampling = tf.math.reduce_any(tf.math.not_equal(current_position, 0))\n",
    "    \n",
    "trajectory = tf.stack(trajectory)\n",
    "back_actions = tf.stack(\n",
    "    actions + [tf.zeros(shape=action.shape, dtype=tf.int32)]\n",
    ")\n",
    "forward_actions = tf.stack(\n",
    "    [tf.zeros(shape=action.shape, dtype=tf.int32)] + actions\n",
    ")\n",
    "terminal_action = tf.concat([\n",
    "    tf.ones(shape=(1, forward_actions.shape[1], 1), dtype=tf.int32),\n",
    "    tf.zeros(shape=(forward_actions.shape[0]-1, forward_actions.shape[1], 1), dtype=tf.int32)\n",
    "], axis=0)\n",
    "forward_actions = tf.concat([forward_actions, terminal_action], axis=2)"
   ]
  },
  {
   "cell_type": "code",
   "execution_count": 5,
   "metadata": {
    "ExecuteTime": {
     "end_time": "2022-11-28T18:24:53.583844Z",
     "start_time": "2022-11-28T18:24:53.419238Z"
    }
   },
   "outputs": [
    {
     "name": "stdout",
     "output_type": "stream",
     "text": [
      "1/1 [==============================] - 0s 46ms/step\n"
     ]
    }
   ],
   "source": [
    "reshaped_positions = tf.reshape(\n",
    "    trajectory, shape=(-1, 5)\n",
    ")\n",
    "encoded_positions = tf.one_hot(\n",
    "    reshaped_positions, depth=agent.env_grid_length, axis=-1\n",
    ")\n",
    "backward_logits, forward_logits = agent.policy.predict(encoded_positions)"
   ]
  },
  {
   "cell_type": "code",
   "execution_count": 9,
   "metadata": {
    "ExecuteTime": {
     "end_time": "2022-11-28T18:33:44.788431Z",
     "start_time": "2022-11-28T18:33:44.768380Z"
    },
    "collapsed": true
   },
   "outputs": [
    {
     "data": {
      "text/plain": [
       "<tf.Tensor: shape=(6, 2, 5), dtype=float32, numpy=\n",
       "array([[[-0.23548968, -0.26008025,  0.11483984, -0.702302  ,\n",
       "         -0.0604808 ],\n",
       "        [ 0.38584766, -0.8233105 ,  0.4131026 , -0.09923801,\n",
       "          0.24121872]],\n",
       "\n",
       "       [[ 0.0616312 , -0.6460254 , -0.274077  , -0.29941976,\n",
       "         -0.51742333],\n",
       "        [ 0.76052   , -1.1629812 ,  0.01576799,  0.13912646,\n",
       "         -0.1952158 ]],\n",
       "\n",
       "       [[ 0.4248379 , -0.96971416, -0.5705446 , -0.22338192,\n",
       "         -0.41284347],\n",
       "        [ 0.43369436, -0.8747481 , -0.30431262, -0.08567044,\n",
       "         -0.0693572 ]],\n",
       "\n",
       "       [[ 0.48393357, -0.7595472 , -0.35507637, -0.09592444,\n",
       "         -0.1311387 ],\n",
       "        [ 0.37987295, -0.77397275, -0.12350652, -0.23063526,\n",
       "          0.5399213 ]],\n",
       "\n",
       "       [[ 0.43369436, -0.8747481 , -0.30431262, -0.08567044,\n",
       "         -0.0693572 ],\n",
       "        [ 0.37987295, -0.77397275, -0.12350652, -0.23063526,\n",
       "          0.5399213 ]],\n",
       "\n",
       "       [[ 0.37987295, -0.77397275, -0.12350652, -0.23063526,\n",
       "          0.5399213 ],\n",
       "        [ 0.37987295, -0.77397275, -0.12350652, -0.23063526,\n",
       "          0.5399213 ]]], dtype=float32)>"
      ]
     },
     "execution_count": 9,
     "metadata": {},
     "output_type": "execute_result"
    }
   ],
   "source": [
    "reshaped_logits = tf.reshape(backward_logits, shape=back_actions.shape)\n",
    "reshaped_logits"
   ]
  },
  {
   "cell_type": "code",
   "execution_count": 10,
   "metadata": {
    "ExecuteTime": {
     "end_time": "2022-11-28T18:33:55.713786Z",
     "start_time": "2022-11-28T18:33:55.696759Z"
    },
    "collapsed": true
   },
   "outputs": [
    {
     "data": {
      "text/plain": [
       "<tf.Tensor: shape=(6, 2, 5), dtype=bool, numpy=\n",
       "array([[[ True, False, False,  True, False],\n",
       "        [False,  True,  True,  True, False]],\n",
       "\n",
       "       [[ True, False, False,  True, False],\n",
       "        [False,  True,  True,  True, False]],\n",
       "\n",
       "       [[ True, False,  True,  True, False],\n",
       "        [ True,  True,  True,  True, False]],\n",
       "\n",
       "       [[ True, False,  True,  True, False],\n",
       "        [ True,  True,  True,  True,  True]],\n",
       "\n",
       "       [[ True,  True,  True,  True, False],\n",
       "        [ True,  True,  True,  True,  True]],\n",
       "\n",
       "       [[ True,  True,  True,  True,  True],\n",
       "        [ True,  True,  True,  True,  True]]])>"
      ]
     },
     "execution_count": 10,
     "metadata": {},
     "output_type": "execute_result"
    }
   ],
   "source": [
    "back_coord_mask = tf.math.equal(trajectory, 0)\n",
    "back_coord_mask"
   ]
  },
  {
   "cell_type": "code",
   "execution_count": 11,
   "metadata": {
    "ExecuteTime": {
     "end_time": "2022-11-28T18:35:14.545756Z",
     "start_time": "2022-11-28T18:35:14.525366Z"
    },
    "collapsed": true
   },
   "outputs": [
    {
     "data": {
      "text/plain": [
       "<tf.Tensor: shape=(6, 2, 5), dtype=float32, numpy=\n",
       "array([[[-1.00000000e+10, -2.60080248e-01,  1.14839844e-01,\n",
       "         -1.00000000e+10, -6.04808033e-02],\n",
       "        [ 3.85847658e-01, -1.00000000e+10, -1.00000000e+10,\n",
       "         -1.00000000e+10,  2.41218716e-01]],\n",
       "\n",
       "       [[-1.00000000e+10, -6.46025419e-01, -2.74076998e-01,\n",
       "         -1.00000000e+10, -5.17423332e-01],\n",
       "        [ 7.60519981e-01, -1.00000000e+10, -1.00000000e+10,\n",
       "         -1.00000000e+10, -1.95215806e-01]],\n",
       "\n",
       "       [[-1.00000000e+10, -9.69714165e-01, -1.00000000e+10,\n",
       "         -1.00000000e+10, -4.12843466e-01],\n",
       "        [-1.00000000e+10, -1.00000000e+10, -1.00000000e+10,\n",
       "         -1.00000000e+10, -6.93572015e-02]],\n",
       "\n",
       "       [[-1.00000000e+10, -7.59547174e-01, -1.00000000e+10,\n",
       "         -1.00000000e+10, -1.31138697e-01],\n",
       "        [-1.00000000e+10, -1.00000000e+10, -1.00000000e+10,\n",
       "         -1.00000000e+10, -1.00000000e+10]],\n",
       "\n",
       "       [[-1.00000000e+10, -1.00000000e+10, -1.00000000e+10,\n",
       "         -1.00000000e+10, -6.93572015e-02],\n",
       "        [-1.00000000e+10, -1.00000000e+10, -1.00000000e+10,\n",
       "         -1.00000000e+10, -1.00000000e+10]],\n",
       "\n",
       "       [[-1.00000000e+10, -1.00000000e+10, -1.00000000e+10,\n",
       "         -1.00000000e+10, -1.00000000e+10],\n",
       "        [-1.00000000e+10, -1.00000000e+10, -1.00000000e+10,\n",
       "         -1.00000000e+10, -1.00000000e+10]]], dtype=float32)>"
      ]
     },
     "execution_count": 11,
     "metadata": {},
     "output_type": "execute_result"
    }
   ],
   "source": [
    "masked_logits = agent._mask_action_logits(reshaped_logits, back_coord_mask)\n",
    "masked_logits"
   ]
  },
  {
   "cell_type": "code",
   "execution_count": 12,
   "metadata": {
    "ExecuteTime": {
     "end_time": "2022-11-28T18:37:05.923949Z",
     "start_time": "2022-11-28T18:37:05.903321Z"
    }
   },
   "outputs": [
    {
     "data": {
      "text/plain": [
       "<tf.Tensor: shape=(6, 2, 5), dtype=float32, numpy=\n",
       "array([[[-1.0000000e+10, -1.3017678e+00, -9.2684770e-01, -1.0000000e+10,\n",
       "         -1.1021683e+00],\n",
       "        [-6.2344515e-01, -1.0000000e+10, -1.0000000e+10, -1.0000000e+10,\n",
       "         -7.6807410e-01]],\n",
       "\n",
       "       [[-1.0000000e+10, -1.2775379e+00, -9.0558952e-01, -1.0000000e+10,\n",
       "         -1.1489358e+00],\n",
       "        [-3.2536009e-01, -1.0000000e+10, -1.0000000e+10, -1.0000000e+10,\n",
       "         -1.2810959e+00]],\n",
       "\n",
       "       [[-1.0000000e+10, -1.0098549e+00, -1.0000000e+10, -1.0000000e+10,\n",
       "         -4.5298424e-01],\n",
       "        [-1.0000000e+10, -1.0000000e+10, -1.0000000e+10, -1.0000000e+10,\n",
       "          0.0000000e+00]],\n",
       "\n",
       "       [[-1.0000000e+10, -1.0559222e+00, -1.0000000e+10, -1.0000000e+10,\n",
       "         -4.2751363e-01],\n",
       "        [-1.6094379e+00, -1.6094379e+00, -1.6094379e+00, -1.6094379e+00,\n",
       "         -1.6094379e+00]],\n",
       "\n",
       "       [[-1.0000000e+10, -1.0000000e+10, -1.0000000e+10, -1.0000000e+10,\n",
       "          0.0000000e+00],\n",
       "        [-1.6094379e+00, -1.6094379e+00, -1.6094379e+00, -1.6094379e+00,\n",
       "         -1.6094379e+00]],\n",
       "\n",
       "       [[-1.6094379e+00, -1.6094379e+00, -1.6094379e+00, -1.6094379e+00,\n",
       "         -1.6094379e+00],\n",
       "        [-1.6094379e+00, -1.6094379e+00, -1.6094379e+00, -1.6094379e+00,\n",
       "         -1.6094379e+00]]], dtype=float32)>"
      ]
     },
     "execution_count": 12,
     "metadata": {},
     "output_type": "execute_result"
    }
   ],
   "source": [
    "log_softmax = tf.nn.log_softmax(masked_logits)\n",
    "log_softmax"
   ]
  },
  {
   "cell_type": "code",
   "execution_count": 18,
   "metadata": {
    "ExecuteTime": {
     "end_time": "2022-11-28T18:40:17.878927Z",
     "start_time": "2022-11-28T18:40:17.852497Z"
    }
   },
   "outputs": [
    {
     "data": {
      "text/plain": [
       "<tf.Tensor: shape=(6, 2, 1), dtype=float32, numpy=\n",
       "array([[[-1.1021683],\n",
       "        [-0.7680741]],\n",
       "\n",
       "       [[-0.9055895],\n",
       "        [-0.3253601]],\n",
       "\n",
       "       [[-1.0098549],\n",
       "        [ 0.       ]],\n",
       "\n",
       "       [[-1.0559222],\n",
       "        [ 0.       ]],\n",
       "\n",
       "       [[ 0.       ],\n",
       "        [ 0.       ]],\n",
       "\n",
       "       [[ 0.       ],\n",
       "        [ 0.       ]]], dtype=float32)>"
      ]
     },
     "execution_count": 18,
     "metadata": {},
     "output_type": "execute_result"
    }
   ],
   "source": [
    "action_log_probas = tf.reduce_sum(\n",
    "            (\n",
    "                log_softmax\n",
    "                * tf.cast(back_actions, dtype=tf.float32)\n",
    "            ), \n",
    "            axis=2, keepdims=True\n",
    "        )\n",
    "action_log_probas"
   ]
  },
  {
   "cell_type": "code",
   "execution_count": null,
   "metadata": {},
   "outputs": [],
   "source": []
  },
  {
   "cell_type": "code",
   "execution_count": 2,
   "metadata": {
    "ExecuteTime": {
     "end_time": "2022-11-26T16:25:14.650962Z",
     "start_time": "2022-11-26T16:25:12.368656Z"
    }
   },
   "outputs": [
    {
     "name": "stderr",
     "output_type": "stream",
     "text": [
      "2022-11-26 11:25:12.378387: I tensorflow/core/platform/cpu_feature_guard.cc:193] This TensorFlow binary is optimized with oneAPI Deep Neural Network Library (oneDNN) to use the following CPU instructions in performance-critical operations:  SSE4.1 SSE4.2 AVX AVX2 FMA\n",
      "To enable them in other operations, rebuild TensorFlow with the appropriate compiler flags.\n"
     ]
    },
    {
     "name": "stdout",
     "output_type": "stream",
     "text": [
      "1/1 [==============================] - 1s 665ms/step\n",
      "1/1 [==============================] - 0s 46ms/step\n",
      "1/1 [==============================] - 0s 72ms/step\n",
      "1/1 [==============================] - 0s 43ms/step\n",
      "1/1 [==============================] - 0s 45ms/step\n",
      "1/1 [==============================] - 0s 43ms/step\n",
      "1/1 [==============================] - 0s 47ms/step\n",
      "1/1 [==============================] - 0s 47ms/step\n",
      "1/1 [==============================] - 0s 43ms/step\n",
      "1/1 [==============================] - 0s 54ms/step\n",
      "1/1 [==============================] - 0s 56ms/step\n"
     ]
    }
   ],
   "source": [
    "batch_size = 2\n",
    "grid_length = 3\n",
    "\n",
    "current_position = tf.zeros(shape=(batch_size, 5), dtype=tf.int32)\n",
    "\n",
    "still_sampling = tf.ones(shape=(batch_size, 1), dtype=tf.int32)\n",
    "\n",
    "agent = Agent(grid_length)\n",
    "\n",
    "trajectory = [current_position]\n",
    "actions = []\n",
    "\n",
    "sampling = tf.constant(True)\n",
    "\n",
    "while sampling:\n",
    "    action, still_sampling = agent.forward_action(current_position, still_sampling)\n",
    "    current_position = forward_step(current_position, action)\n",
    "    trajectory.append(current_position)\n",
    "    actions.append(action)\n",
    "    \n",
    "    sampling = tf.math.reduce_any(tf.math.equal(still_sampling, 1))\n",
    "    \n",
    "trajectories = tf.stack(trajectory[:-1])\n",
    "forward_actions = tf.stack(actions)\n",
    "back_actions = tf.stack(\n",
    "    [tf.zeros(shape=action.shape, dtype=tf.int32)] + actions[:-1]\n",
    ")[:, :, :-1]"
   ]
  },
  {
   "cell_type": "code",
   "execution_count": 3,
   "metadata": {
    "ExecuteTime": {
     "end_time": "2022-11-26T16:26:03.389492Z",
     "start_time": "2022-11-26T16:26:03.229010Z"
    }
   },
   "outputs": [
    {
     "name": "stdout",
     "output_type": "stream",
     "text": [
      "1/1 [==============================] - 0s 46ms/step\n"
     ]
    }
   ],
   "source": [
    "log_proba_ratios = agent.calculate_log_proba_ratios(trajectories, back_actions, forward_actions)"
   ]
  },
  {
   "cell_type": "code",
   "execution_count": 4,
   "metadata": {
    "ExecuteTime": {
     "end_time": "2022-11-26T16:26:08.045622Z",
     "start_time": "2022-11-26T16:26:08.018897Z"
    }
   },
   "outputs": [
    {
     "data": {
      "text/plain": [
       "<tf.Tensor: shape=(2, 1), dtype=float32, numpy=\n",
       "array([[-2.0942345],\n",
       "       [-4.389408 ]], dtype=float32)>"
      ]
     },
     "execution_count": 4,
     "metadata": {},
     "output_type": "execute_result"
    }
   ],
   "source": [
    "log_proba_ratios"
   ]
  },
  {
   "cell_type": "code",
   "execution_count": null,
   "metadata": {},
   "outputs": [],
   "source": []
  },
  {
   "cell_type": "code",
   "execution_count": 6,
   "metadata": {
    "ExecuteTime": {
     "end_time": "2022-11-26T16:36:50.714274Z",
     "start_time": "2022-11-26T16:36:50.683399Z"
    }
   },
   "outputs": [
    {
     "name": "stdout",
     "output_type": "stream",
     "text": [
      "[[2 1 2 0 2]\n",
      " [1 0 0 1 1]]\n",
      "[[0 0 0 0 0 1]\n",
      " [0 0 0 0 0 1]]\n",
      " \n",
      "[[2 1 1 0 2]\n",
      " [1 0 0 1 0]]\n",
      "[[0 0 1 0 0 0]\n",
      " [0 0 0 0 1 0]]\n",
      " \n",
      "[[2 1 1 0 1]\n",
      " [1 0 0 0 0]]\n",
      "[[0 0 0 0 1 0]\n",
      " [0 0 0 1 0 0]]\n",
      " \n",
      "[[2 0 1 0 1]\n",
      " [0 0 0 0 0]]\n",
      "[[0 1 0 0 0 0]\n",
      " [1 0 0 0 0 0]]\n",
      " \n",
      "[[2 0 0 0 1]\n",
      " [0 0 0 0 0]]\n",
      "[[0 0 1 0 0 0]\n",
      " [0 0 0 0 0 0]]\n",
      " \n",
      "[[2 0 0 0 0]\n",
      " [0 0 0 0 0]]\n",
      "[[0 0 0 0 1 0]\n",
      " [0 0 0 0 0 0]]\n",
      " \n",
      "[[1 0 0 0 0]\n",
      " [0 0 0 0 0]]\n",
      "[[1 0 0 0 0 0]\n",
      " [0 0 0 0 0 0]]\n",
      " \n",
      "[[0 0 0 0 0]\n",
      " [0 0 0 0 0]]\n",
      "[[1 0 0 0 0 0]\n",
      " [0 0 0 0 0 0]]\n",
      " \n"
     ]
    }
   ],
   "source": [
    "# for i in range(trajectories.shape[0]):\n",
    "#     print(trajectories[i].numpy())\n",
    "for i in range(trajectory.shape[0]):\n",
    "    print(trajectory[i].numpy())\n",
    "#     print(back_actions[i].numpy())\n",
    "    print(forward_actions[i].numpy())\n",
    "    \n",
    "    print(\" \")\n"
   ]
  },
  {
   "cell_type": "code",
   "execution_count": 8,
   "metadata": {
    "ExecuteTime": {
     "end_time": "2022-11-26T16:29:10.994804Z",
     "start_time": "2022-11-26T16:29:10.980113Z"
    }
   },
   "outputs": [
    {
     "data": {
      "text/plain": [
       "array([[0, 0, 0, 0, 0],\n",
       "       [0, 0, 0, 0, 0]], dtype=int32)"
      ]
     },
     "execution_count": 8,
     "metadata": {},
     "output_type": "execute_result"
    }
   ],
   "source": [
    "trajectories[0].numpy()"
   ]
  },
  {
   "cell_type": "code",
   "execution_count": null,
   "metadata": {},
   "outputs": [],
   "source": []
  },
  {
   "cell_type": "code",
   "execution_count": null,
   "metadata": {},
   "outputs": [],
   "source": []
  },
  {
   "cell_type": "code",
   "execution_count": 2,
   "metadata": {
    "ExecuteTime": {
     "end_time": "2022-11-28T15:43:06.123086Z",
     "start_time": "2022-11-28T15:43:06.003219Z"
    }
   },
   "outputs": [
    {
     "name": "stderr",
     "output_type": "stream",
     "text": [
      "2022-11-28 10:43:06.048788: I tensorflow/core/platform/cpu_feature_guard.cc:193] This TensorFlow binary is optimized with oneAPI Deep Neural Network Library (oneDNN) to use the following CPU instructions in performance-critical operations:  SSE4.1 SSE4.2 AVX AVX2 FMA\n",
      "To enable them in other operations, rebuild TensorFlow with the appropriate compiler flags.\n"
     ]
    }
   ],
   "source": [
    "batch_size = 2\n",
    "grid_length = 3\n",
    "\n",
    "current_position = tf.zeros(shape=(batch_size, 5), dtype=tf.int32)"
   ]
  },
  {
   "cell_type": "code",
   "execution_count": 5,
   "metadata": {
    "ExecuteTime": {
     "end_time": "2022-11-28T15:43:51.720642Z",
     "start_time": "2022-11-28T15:43:51.521350Z"
    }
   },
   "outputs": [
    {
     "data": {
      "text/plain": [
       "TensorShape([2, 5, 3])"
      ]
     },
     "execution_count": 5,
     "metadata": {},
     "output_type": "execute_result"
    }
   ],
   "source": [
    "encoded_position = tf.one_hot(\n",
    "    current_position, depth=grid_length, axis=-1\n",
    ")\n",
    "encoded_position.shape\n",
    "# action_logits = agent.policy.predict(encoded_position)[1]"
   ]
  },
  {
   "cell_type": "code",
   "execution_count": 5,
   "metadata": {
    "ExecuteTime": {
     "end_time": "2022-11-26T15:35:35.734728Z",
     "start_time": "2022-11-26T15:35:35.720041Z"
    }
   },
   "outputs": [
    {
     "data": {
      "text/plain": [
       "array([[-0.07625479,  0.4640083 ,  0.7695974 , -0.19566244,  0.6321984 ,\n",
       "        -0.21472165],\n",
       "       [-0.5566637 , -0.4198146 ,  0.10789481, -0.11928588, -0.47295618,\n",
       "         0.3594875 ],\n",
       "       [-0.57462955, -0.4009842 , -0.01289883, -0.2477252 ,  0.2719962 ,\n",
       "         1.1727577 ],\n",
       "       [-0.48233846,  0.5258819 , -0.05161139, -0.18701427, -0.04986178,\n",
       "         0.8647301 ],\n",
       "       [-0.34452277,  0.14486817,  0.98264873, -0.11964285,  0.44183105,\n",
       "         0.54161984],\n",
       "       [-0.19272466,  0.44203725,  0.14470568, -0.06648636,  0.21518183,\n",
       "         0.128223  ],\n",
       "       [ 0.4041801 ,  0.08560756,  1.1249523 ,  0.08282763,  1.188159  ,\n",
       "        -0.24961102],\n",
       "       [-0.27462223,  0.2650061 ,  0.44844192,  0.25598887,  0.30509508,\n",
       "         0.35549003],\n",
       "       [ 0.5249356 ,  0.44303495,  0.06983183, -0.2523699 ,  0.1049982 ,\n",
       "        -0.7105261 ],\n",
       "       [-0.7454594 , -0.04934999,  0.4450338 , -0.4214905 ,  0.3147267 ,\n",
       "         1.1449875 ]], dtype=float32)"
      ]
     },
     "execution_count": 5,
     "metadata": {},
     "output_type": "execute_result"
    }
   ],
   "source": [
    "action_logits"
   ]
  },
  {
   "cell_type": "code",
   "execution_count": 6,
   "metadata": {
    "ExecuteTime": {
     "end_time": "2022-11-26T15:35:41.800728Z",
     "start_time": "2022-11-26T15:35:41.787247Z"
    }
   },
   "outputs": [
    {
     "data": {
      "text/plain": [
       "<tf.Tensor: shape=(10, 5), dtype=bool, numpy=\n",
       "array([[False, False, False, False, False],\n",
       "       [False, False,  True, False, False],\n",
       "       [False, False, False, False, False],\n",
       "       [False,  True, False, False, False],\n",
       "       [ True, False, False,  True, False],\n",
       "       [False,  True,  True, False, False],\n",
       "       [ True, False, False,  True, False],\n",
       "       [ True,  True,  True, False, False],\n",
       "       [False,  True,  True,  True,  True],\n",
       "       [False, False, False, False, False]])>"
      ]
     },
     "execution_count": 6,
     "metadata": {},
     "output_type": "execute_result"
    }
   ],
   "source": [
    "forward_coord_mask = tf.math.equal(current_position, agent.env_grid_length-1)\n",
    "forward_coord_mask"
   ]
  },
  {
   "cell_type": "code",
   "execution_count": 7,
   "metadata": {
    "ExecuteTime": {
     "end_time": "2022-11-26T15:35:46.207226Z",
     "start_time": "2022-11-26T15:35:46.189835Z"
    }
   },
   "outputs": [
    {
     "data": {
      "text/plain": [
       "<tf.Tensor: shape=(10, 6), dtype=float32, numpy=\n",
       "array([[-7.6254785e-02,  4.6400830e-01,  7.6959741e-01, -1.9566244e-01,\n",
       "         6.3219839e-01, -2.1472165e-01],\n",
       "       [-5.5666369e-01, -4.1981459e-01, -1.0000000e+10, -1.1928588e-01,\n",
       "        -4.7295618e-01,  3.5948750e-01],\n",
       "       [-5.7462955e-01, -4.0098420e-01, -1.2898833e-02, -2.4772520e-01,\n",
       "         2.7199620e-01,  1.1727577e+00],\n",
       "       [-4.8233846e-01, -1.0000000e+10, -5.1611394e-02, -1.8701427e-01,\n",
       "        -4.9861781e-02,  8.6473012e-01],\n",
       "       [-1.0000000e+10,  1.4486817e-01,  9.8264873e-01, -1.0000000e+10,\n",
       "         4.4183105e-01,  5.4161984e-01],\n",
       "       [-1.9272466e-01, -1.0000000e+10, -1.0000000e+10, -6.6486359e-02,\n",
       "         2.1518183e-01,  1.2822300e-01],\n",
       "       [-1.0000000e+10,  8.5607558e-02,  1.1249523e+00, -1.0000000e+10,\n",
       "         1.1881590e+00, -2.4961102e-01],\n",
       "       [-1.0000000e+10, -1.0000000e+10, -1.0000000e+10,  2.5598887e-01,\n",
       "         3.0509508e-01,  3.5549003e-01],\n",
       "       [ 5.2493560e-01, -1.0000000e+10, -1.0000000e+10, -1.0000000e+10,\n",
       "        -1.0000000e+10, -7.1052611e-01],\n",
       "       [-7.4545938e-01, -4.9349986e-02,  4.4503379e-01, -4.2149049e-01,\n",
       "         3.1472671e-01,  1.1449875e+00]], dtype=float32)>"
      ]
     },
     "execution_count": 7,
     "metadata": {},
     "output_type": "execute_result"
    }
   ],
   "source": [
    "masked_logits = agent._mask_action_logits(\n",
    "    action_logits, forward_coord_mask\n",
    ")\n",
    "masked_logits"
   ]
  },
  {
   "cell_type": "code",
   "execution_count": 8,
   "metadata": {
    "ExecuteTime": {
     "end_time": "2022-11-26T15:35:50.960017Z",
     "start_time": "2022-11-26T15:35:50.942801Z"
    }
   },
   "outputs": [
    {
     "data": {
      "text/plain": [
       "<tf.Tensor: shape=(10, 6), dtype=int32, numpy=\n",
       "array([[0, 0, 0, 1, 0, 0],\n",
       "       [0, 0, 0, 0, 0, 1],\n",
       "       [0, 1, 0, 0, 0, 0],\n",
       "       [0, 0, 1, 0, 0, 0],\n",
       "       [0, 0, 0, 0, 1, 0],\n",
       "       [0, 0, 0, 0, 0, 1],\n",
       "       [0, 0, 0, 0, 1, 0],\n",
       "       [0, 0, 0, 1, 0, 0],\n",
       "       [1, 0, 0, 0, 0, 0],\n",
       "       [0, 0, 1, 0, 0, 0]], dtype=int32)>"
      ]
     },
     "execution_count": 8,
     "metadata": {},
     "output_type": "execute_result"
    }
   ],
   "source": [
    "action_indices = tf.random.categorical(masked_logits, 1)\n",
    "encoded_actions = tf.one_hot(\n",
    "    tf.reshape(action_indices, shape=(-1,)), depth=6, dtype=tf.int32\n",
    ")\n",
    "encoded_actions"
   ]
  },
  {
   "cell_type": "code",
   "execution_count": 9,
   "metadata": {
    "ExecuteTime": {
     "end_time": "2022-11-26T15:41:18.802434Z",
     "start_time": "2022-11-26T15:41:18.783794Z"
    }
   },
   "outputs": [
    {
     "data": {
      "text/plain": [
       "<tf.Tensor: shape=(10, 6), dtype=int32, numpy=\n",
       "array([[0, 0, 0, 1, 0, 0],\n",
       "       [0, 0, 0, 0, 0, 1],\n",
       "       [0, 1, 0, 0, 0, 0],\n",
       "       [0, 0, 1, 0, 0, 0],\n",
       "       [0, 0, 0, 0, 1, 0],\n",
       "       [0, 0, 0, 0, 0, 1],\n",
       "       [0, 0, 0, 0, 1, 0],\n",
       "       [0, 0, 0, 1, 0, 0],\n",
       "       [1, 0, 0, 0, 0, 0],\n",
       "       [0, 0, 1, 0, 0, 0]], dtype=int32)>"
      ]
     },
     "execution_count": 9,
     "metadata": {},
     "output_type": "execute_result"
    }
   ],
   "source": [
    "actions_for_ongoing_trajectories = encoded_actions*still_sampling\n",
    "actions_for_ongoing_trajectories"
   ]
  },
  {
   "cell_type": "code",
   "execution_count": 13,
   "metadata": {
    "ExecuteTime": {
     "end_time": "2022-11-26T15:45:47.986527Z",
     "start_time": "2022-11-26T15:45:47.967496Z"
    }
   },
   "outputs": [
    {
     "data": {
      "text/plain": [
       "<tf.Tensor: shape=(10, 1), dtype=int32, numpy=\n",
       "array([[1],\n",
       "       [0],\n",
       "       [1],\n",
       "       [1],\n",
       "       [1],\n",
       "       [0],\n",
       "       [1],\n",
       "       [1],\n",
       "       [1],\n",
       "       [1]], dtype=int32)>"
      ]
     },
     "execution_count": 13,
     "metadata": {},
     "output_type": "execute_result"
    }
   ],
   "source": [
    "updated_still_sampling = still_sampling - tf.reshape(actions_for_ongoing_trajectories[:, -1], shape=(-1, 1))\n",
    "updated_still_sampling"
   ]
  },
  {
   "cell_type": "code",
   "execution_count": null,
   "metadata": {},
   "outputs": [],
   "source": [
    "# is_at_origin = tf.math.reduce_all(\n",
    "#     back_coord_mask, axis=1, keepdims=True\n",
    "# )\n",
    "action_mask = tf.cast(\n",
    "    tf.math.logical_not(is_at_origin), \n",
    "    dtype=tf.int32\n",
    ")\n",
    "back_actions = encoded_actions*action_mask"
   ]
  },
  {
   "cell_type": "code",
   "execution_count": null,
   "metadata": {},
   "outputs": [],
   "source": []
  },
  {
   "cell_type": "code",
   "execution_count": null,
   "metadata": {},
   "outputs": [],
   "source": []
  },
  {
   "cell_type": "code",
   "execution_count": 3,
   "metadata": {
    "ExecuteTime": {
     "end_time": "2022-11-25T21:17:29.696621Z",
     "start_time": "2022-11-25T21:17:29.526587Z"
    }
   },
   "outputs": [
    {
     "name": "stdout",
     "output_type": "stream",
     "text": [
      "1/1 [==============================] - 0s 57ms/step\n"
     ]
    }
   ],
   "source": [
    "log_proba_ratios = agent.calculate_log_proba_ratios(trajectory, back_actions, forward_actions)"
   ]
  },
  {
   "cell_type": "code",
   "execution_count": 4,
   "metadata": {
    "ExecuteTime": {
     "end_time": "2022-11-25T21:17:34.711666Z",
     "start_time": "2022-11-25T21:17:34.676253Z"
    }
   },
   "outputs": [
    {
     "data": {
      "text/plain": [
       "<tf.Tensor: shape=(2, 1), dtype=float32, numpy=\n",
       "array([[-6.537716],\n",
       "       [-8.074623]], dtype=float32)>"
      ]
     },
     "execution_count": 4,
     "metadata": {},
     "output_type": "execute_result"
    }
   ],
   "source": [
    "log_proba_ratios"
   ]
  },
  {
   "cell_type": "code",
   "execution_count": 8,
   "metadata": {
    "ExecuteTime": {
     "end_time": "2022-11-25T20:55:52.314449Z",
     "start_time": "2022-11-25T20:55:52.289445Z"
    }
   },
   "outputs": [
    {
     "data": {
      "text/plain": [
       "<tf.Tensor: shape=(8, 2, 5), dtype=int32, numpy=\n",
       "array([[[0, 1, 2, 2, 1],\n",
       "        [2, 0, 2, 1, 2]],\n",
       "\n",
       "       [[0, 1, 2, 1, 1],\n",
       "        [2, 0, 1, 1, 2]],\n",
       "\n",
       "       [[0, 1, 2, 1, 0],\n",
       "        [2, 0, 1, 1, 1]],\n",
       "\n",
       "       [[0, 1, 1, 1, 0],\n",
       "        [2, 0, 1, 1, 0]],\n",
       "\n",
       "       [[0, 0, 1, 1, 0],\n",
       "        [2, 0, 1, 0, 0]],\n",
       "\n",
       "       [[0, 0, 0, 1, 0],\n",
       "        [1, 0, 1, 0, 0]],\n",
       "\n",
       "       [[0, 0, 0, 0, 0],\n",
       "        [1, 0, 0, 0, 0]],\n",
       "\n",
       "       [[0, 0, 0, 0, 0],\n",
       "        [0, 0, 0, 0, 0]]], dtype=int32)>"
      ]
     },
     "execution_count": 8,
     "metadata": {},
     "output_type": "execute_result"
    }
   ],
   "source": [
    "trajectory"
   ]
  },
  {
   "cell_type": "code",
   "execution_count": 4,
   "metadata": {
    "ExecuteTime": {
     "end_time": "2022-11-25T20:53:29.615082Z",
     "start_time": "2022-11-25T20:53:29.466223Z"
    }
   },
   "outputs": [
    {
     "name": "stdout",
     "output_type": "stream",
     "text": [
      "1/1 [==============================] - 0s 46ms/step\n"
     ]
    },
    {
     "data": {
      "text/plain": [
       "array([[ 0.36606342, -0.50462985,  0.89018464,  0.21219297, -0.3064791 ,\n",
       "         0.51369846],\n",
       "       [-0.06173432, -0.24918589,  0.33766556,  0.19875363,  0.05723034,\n",
       "         0.36787444],\n",
       "       [ 0.1182244 , -0.35777742,  0.4566329 ,  0.17104968, -0.29075134,\n",
       "         0.6330337 ],\n",
       "       [ 0.24353316,  0.15930244,  0.382346  ,  0.19979723,  0.59276474,\n",
       "         0.16319683],\n",
       "       [ 0.21388142, -0.36071864,  0.47404975,  0.21301773, -0.46088445,\n",
       "         0.79795426],\n",
       "       [ 0.03015062,  0.50287676,  0.16799748,  0.2246193 ,  0.7768584 ,\n",
       "         0.5853298 ],\n",
       "       [ 0.5263218 , -0.01107349,  0.50734246,  0.19541554,  0.11375482,\n",
       "         0.6073983 ],\n",
       "       [ 0.10943656,  0.36290202,  0.2654329 ,  0.29338276,  0.71696436,\n",
       "         0.6251638 ],\n",
       "       [ 0.31811303,  0.13062839,  0.4559734 ,  0.17071219,  0.1198009 ,\n",
       "         0.46686274],\n",
       "       [-0.02628805,  0.3948001 ,  0.32909453,  0.05131832,  0.6474758 ,\n",
       "         0.7828636 ],\n",
       "       [ 0.22249931,  0.49489203,  0.2441214 ,  0.23936433, -0.331806  ,\n",
       "         0.42174542],\n",
       "       [ 0.17521617,  0.12523799,  0.71395993, -0.1604046 ,  0.36243492,\n",
       "         0.5172597 ],\n",
       "       [ 0.0826416 ,  0.606868  ,  0.38171828, -0.05783132, -0.41399062,\n",
       "         0.66153413],\n",
       "       [ 0.106298  ,  0.5190128 ,  0.6092542 , -0.08275726, -0.07993959,\n",
       "         0.503672  ],\n",
       "       [ 0.0826416 ,  0.606868  ,  0.38171828, -0.05783132, -0.41399062,\n",
       "         0.66153413],\n",
       "       [ 0.0826416 ,  0.606868  ,  0.38171828, -0.05783132, -0.41399062,\n",
       "         0.66153413]], dtype=float32)"
      ]
     },
     "execution_count": 4,
     "metadata": {},
     "output_type": "execute_result"
    }
   ],
   "source": [
    "reshaped_positions = tf.reshape(trajectory, shape=(-1, 5))\n",
    "encoded_positions = tf.one_hot(\n",
    "    reshaped_positions, \n",
    "    depth=agent.env_grid_length, axis=-1\n",
    ")\n",
    "logits = agent.policy.predict(encoded_positions)[1]\n",
    "logits"
   ]
  },
  {
   "cell_type": "code",
   "execution_count": 5,
   "metadata": {
    "ExecuteTime": {
     "end_time": "2022-11-25T20:55:31.074382Z",
     "start_time": "2022-11-25T20:55:31.065427Z"
    }
   },
   "outputs": [],
   "source": [
    "forward_coord_mask = tf.math.equal(reshaped_positions, agent.env_grid_length-1)\n",
    "masked_logits = agent._mask_action_logits(logits, forward_coord_mask)\n",
    "log_softmax = tf.nn.log_softmax(masked_logits)"
   ]
  },
  {
   "cell_type": "code",
   "execution_count": 10,
   "metadata": {
    "ExecuteTime": {
     "end_time": "2022-11-25T20:58:12.535985Z",
     "start_time": "2022-11-25T20:58:12.513300Z"
    }
   },
   "outputs": [
    {
     "data": {
      "text/plain": [
       "<tf.Tensor: shape=(8, 2, 1), dtype=float32, numpy=\n",
       "array([[[-0.9799405],\n",
       "        [-0.8687525]],\n",
       "\n",
       "       [[-1.5592407],\n",
       "        [-1.234432 ]],\n",
       "\n",
       "       [[-2.2567647],\n",
       "        [-1.3098645]],\n",
       "\n",
       "       [[-1.6344278],\n",
       "        [-1.3623778]],\n",
       "\n",
       "       [[-1.9488367],\n",
       "        [-2.0312302]],\n",
       "\n",
       "       [[-1.7943294],\n",
       "        [-1.9450111]],\n",
       "\n",
       "       [[-2.1282582],\n",
       "        [-1.4863207]],\n",
       "\n",
       "       [[ 0.       ],\n",
       "        [-1.9877853]]], dtype=float32)>"
      ]
     },
     "execution_count": 10,
     "metadata": {},
     "output_type": "execute_result"
    }
   ],
   "source": [
    "action_log_probas = tf.reduce_sum(\n",
    "    (\n",
    "        tf.reshape(log_softmax, shape=forward_actions.shape)\n",
    "        * tf.cast(forward_actions, dtype=tf.float32)\n",
    "    ), \n",
    "    axis=2, keepdims=True\n",
    ")\n",
    "action_log_probas"
   ]
  },
  {
   "cell_type": "code",
   "execution_count": 9,
   "metadata": {
    "ExecuteTime": {
     "end_time": "2022-11-25T20:57:37.661912Z",
     "start_time": "2022-11-25T20:57:37.642778Z"
    }
   },
   "outputs": [
    {
     "data": {
      "text/plain": [
       "<tf.Tensor: shape=(8, 2, 6), dtype=int32, numpy=\n",
       "array([[[0, 0, 0, 0, 0, 1],\n",
       "        [0, 0, 0, 0, 0, 1]],\n",
       "\n",
       "       [[0, 0, 0, 1, 0, 0],\n",
       "        [0, 0, 1, 0, 0, 0]],\n",
       "\n",
       "       [[0, 0, 0, 0, 1, 0],\n",
       "        [0, 0, 0, 0, 1, 0]],\n",
       "\n",
       "       [[0, 0, 1, 0, 0, 0],\n",
       "        [0, 0, 0, 0, 1, 0]],\n",
       "\n",
       "       [[0, 1, 0, 0, 0, 0],\n",
       "        [0, 0, 0, 1, 0, 0]],\n",
       "\n",
       "       [[0, 0, 1, 0, 0, 0],\n",
       "        [1, 0, 0, 0, 0, 0]],\n",
       "\n",
       "       [[0, 0, 0, 1, 0, 0],\n",
       "        [0, 0, 1, 0, 0, 0]],\n",
       "\n",
       "       [[0, 0, 0, 0, 0, 0],\n",
       "        [1, 0, 0, 0, 0, 0]]], dtype=int32)>"
      ]
     },
     "execution_count": 9,
     "metadata": {},
     "output_type": "execute_result"
    }
   ],
   "source": [
    "forward_actions"
   ]
  },
  {
   "cell_type": "code",
   "execution_count": null,
   "metadata": {},
   "outputs": [],
   "source": []
  },
  {
   "cell_type": "code",
   "execution_count": 10,
   "metadata": {
    "ExecuteTime": {
     "end_time": "2022-11-25T19:15:32.087704Z",
     "start_time": "2022-11-25T19:15:32.065606Z"
    }
   },
   "outputs": [
    {
     "data": {
      "text/plain": [
       "<tf.Tensor: shape=(14, 1), dtype=float32, numpy=\n",
       "array([[-0.91850126],\n",
       "       [-1.6424545 ],\n",
       "       [-1.4310194 ],\n",
       "       [-1.9285947 ],\n",
       "       [-0.9301102 ],\n",
       "       [-1.8424559 ],\n",
       "       [-1.0008314 ],\n",
       "       [-0.5848421 ],\n",
       "       [-0.44553822],\n",
       "       [-0.7281079 ],\n",
       "       [ 0.        ],\n",
       "       [-0.23103859],\n",
       "       [ 0.        ],\n",
       "       [ 0.        ]], dtype=float32)>"
      ]
     },
     "execution_count": 10,
     "metadata": {},
     "output_type": "execute_result"
    }
   ],
   "source": [
    "chosen_log_softmax = tf.reduce_sum(log_softmax*tf.reshape(tf.cast(back_actions, dtype=tf.float32), shape=(-1, 5)), axis=1, keepdims=True)\n",
    "chosen_log_softmax"
   ]
  },
  {
   "cell_type": "code",
   "execution_count": 11,
   "metadata": {
    "ExecuteTime": {
     "end_time": "2022-11-25T19:15:57.884645Z",
     "start_time": "2022-11-25T19:15:57.863626Z"
    }
   },
   "outputs": [
    {
     "data": {
      "text/plain": [
       "<tf.Tensor: shape=(7, 2, 1), dtype=float32, numpy=\n",
       "array([[[-0.91850126],\n",
       "        [-1.6424545 ]],\n",
       "\n",
       "       [[-1.4310194 ],\n",
       "        [-1.9285947 ]],\n",
       "\n",
       "       [[-0.9301102 ],\n",
       "        [-1.8424559 ]],\n",
       "\n",
       "       [[-1.0008314 ],\n",
       "        [-0.5848421 ]],\n",
       "\n",
       "       [[-0.44553822],\n",
       "        [-0.7281079 ]],\n",
       "\n",
       "       [[ 0.        ],\n",
       "        [-0.23103859]],\n",
       "\n",
       "       [[ 0.        ],\n",
       "        [ 0.        ]]], dtype=float32)>"
      ]
     },
     "execution_count": 11,
     "metadata": {},
     "output_type": "execute_result"
    }
   ],
   "source": [
    "tf.stack(tf.split(chosen_log_softmax, back_actions.shape[0]))"
   ]
  },
  {
   "cell_type": "code",
   "execution_count": 28,
   "metadata": {
    "ExecuteTime": {
     "end_time": "2022-11-24T21:47:16.393293Z",
     "start_time": "2022-11-24T21:47:16.365918Z"
    }
   },
   "outputs": [
    {
     "data": {
      "text/plain": [
       "[<tf.Tensor: shape=(2, 5), dtype=float32, numpy=\n",
       " array([[-1.5279682e+00, -2.0923474e+00, -6.4403170e-01, -1.0000000e+10,\n",
       "         -2.0065184e+00],\n",
       "        [-1.0000000e+10, -9.5508361e-01, -1.0000000e+10, -1.0000000e+10,\n",
       "         -4.8577532e-01]], dtype=float32)>,\n",
       " <tf.Tensor: shape=(2, 5), dtype=float32, numpy=\n",
       " array([[-1.0000000e+10, -1.4237180e+00, -5.3001684e-01, -1.0000000e+10,\n",
       "         -1.7685046e+00],\n",
       "        [-1.0000000e+10, -9.4627082e-01, -1.0000000e+10, -1.0000000e+10,\n",
       "         -4.9132681e-01]], dtype=float32)>,\n",
       " <tf.Tensor: shape=(2, 5), dtype=float32, numpy=\n",
       " array([[-1.000000e+10, -1.232618e+00, -7.472019e-01, -1.000000e+10,\n",
       "         -1.449100e+00],\n",
       "        [-1.000000e+10, -1.000000e+10, -1.000000e+10, -1.000000e+10,\n",
       "          0.000000e+00]], dtype=float32)>,\n",
       " <tf.Tensor: shape=(2, 5), dtype=float32, numpy=\n",
       " array([[-1.0000000e+10, -4.7735494e-01, -1.0000000e+10, -1.0000000e+10,\n",
       "         -9.6869588e-01],\n",
       "        [-1.6094379e+00, -1.6094379e+00, -1.6094379e+00, -1.6094379e+00,\n",
       "         -1.6094379e+00]], dtype=float32)>,\n",
       " <tf.Tensor: shape=(2, 5), dtype=float32, numpy=\n",
       " array([[-1.000000e+10, -9.462708e-01, -1.000000e+10, -1.000000e+10,\n",
       "         -4.913268e-01],\n",
       "        [-1.609438e+00, -1.609438e+00, -1.609438e+00, -1.609438e+00,\n",
       "         -1.609438e+00]], dtype=float32)>,\n",
       " <tf.Tensor: shape=(2, 5), dtype=float32, numpy=\n",
       " array([[-1.000000e+10,  0.000000e+00, -1.000000e+10, -1.000000e+10,\n",
       "         -1.000000e+10],\n",
       "        [-1.609438e+00, -1.609438e+00, -1.609438e+00, -1.609438e+00,\n",
       "         -1.609438e+00]], dtype=float32)>]"
      ]
     },
     "execution_count": 28,
     "metadata": {},
     "output_type": "execute_result"
    }
   ],
   "source": [
    "tf.split(log_softmax, back_actions.shape[0])"
   ]
  },
  {
   "cell_type": "code",
   "execution_count": null,
   "metadata": {},
   "outputs": [],
   "source": []
  },
  {
   "cell_type": "code",
   "execution_count": null,
   "metadata": {},
   "outputs": [],
   "source": []
  },
  {
   "cell_type": "code",
   "execution_count": null,
   "metadata": {},
   "outputs": [],
   "source": []
  },
  {
   "cell_type": "code",
   "execution_count": null,
   "metadata": {},
   "outputs": [],
   "source": []
  },
  {
   "cell_type": "code",
   "execution_count": 4,
   "metadata": {
    "ExecuteTime": {
     "end_time": "2022-11-24T19:39:30.903956Z",
     "start_time": "2022-11-24T19:39:30.882667Z"
    }
   },
   "outputs": [
    {
     "data": {
      "text/plain": [
       "<tf.Tensor: shape=(3, 5), dtype=int32, numpy=\n",
       "array([[1, 3, 2, 6, 6],\n",
       "       [5, 5, 3, 5, 3],\n",
       "       [2, 0, 0, 0, 0]], dtype=int32)>"
      ]
     },
     "execution_count": 4,
     "metadata": {},
     "output_type": "execute_result"
    }
   ],
   "source": [
    "# Remove if already at origin for back sampling\n",
    "\n",
    "current_position = tf.concat([current_position, \n",
    "                              tf.constant([\n",
    "                                  [2, 0, 0, 0, 0],\n",
    "#                                   [0, 0, 0, 0, 0]\n",
    "                              ])\n",
    "                             ], axis=0)\n",
    "current_position"
   ]
  },
  {
   "cell_type": "code",
   "execution_count": 6,
   "metadata": {
    "ExecuteTime": {
     "end_time": "2022-11-24T19:39:58.482982Z",
     "start_time": "2022-11-24T19:39:57.500471Z"
    }
   },
   "outputs": [
    {
     "name": "stdout",
     "output_type": "stream",
     "text": [
      "1/1 [==============================] - 0s 387ms/step\n",
      "1/1 [==============================] - 0s 51ms/step\n",
      "1/1 [==============================] - 0s 52ms/step\n",
      "1/1 [==============================] - 0s 43ms/step\n"
     ]
    }
   ],
   "source": [
    "agent = Agent(grid_length)\n",
    "\n",
    "trajectory = [current_position]\n",
    "back_actions = []\n",
    "\n",
    "for _ in range(4):\n",
    "    back_action = agent.backward_action(current_position)\n",
    "    current_position = backward_step(current_position, back_action)\n",
    "    trajectory.append(current_position)\n",
    "    back_actions.append(back_action)"
   ]
  },
  {
   "cell_type": "code",
   "execution_count": 7,
   "metadata": {
    "ExecuteTime": {
     "end_time": "2022-11-24T19:40:00.114929Z",
     "start_time": "2022-11-24T19:40:00.094251Z"
    }
   },
   "outputs": [
    {
     "data": {
      "text/plain": [
       "[<tf.Tensor: shape=(3, 5), dtype=int32, numpy=\n",
       " array([[1, 3, 2, 6, 6],\n",
       "        [5, 5, 3, 5, 3],\n",
       "        [2, 0, 0, 0, 0]], dtype=int32)>,\n",
       " <tf.Tensor: shape=(3, 5), dtype=int32, numpy=\n",
       " array([[0, 3, 2, 6, 6],\n",
       "        [5, 4, 3, 5, 3],\n",
       "        [1, 0, 0, 0, 0]], dtype=int32)>,\n",
       " <tf.Tensor: shape=(3, 5), dtype=int32, numpy=\n",
       " array([[0, 2, 2, 6, 6],\n",
       "        [5, 4, 3, 5, 2],\n",
       "        [0, 0, 0, 0, 0]], dtype=int32)>,\n",
       " <tf.Tensor: shape=(3, 5), dtype=int32, numpy=\n",
       " array([[0, 1, 2, 6, 6],\n",
       "        [5, 4, 3, 4, 2],\n",
       "        [0, 0, 0, 0, 0]], dtype=int32)>,\n",
       " <tf.Tensor: shape=(3, 5), dtype=int32, numpy=\n",
       " array([[0, 1, 2, 6, 5],\n",
       "        [5, 4, 2, 4, 2],\n",
       "        [0, 0, 0, 0, 0]], dtype=int32)>]"
      ]
     },
     "execution_count": 7,
     "metadata": {},
     "output_type": "execute_result"
    }
   ],
   "source": [
    "trajectory"
   ]
  },
  {
   "cell_type": "code",
   "execution_count": null,
   "metadata": {},
   "outputs": [],
   "source": []
  },
  {
   "cell_type": "code",
   "execution_count": 8,
   "metadata": {
    "ExecuteTime": {
     "end_time": "2022-11-24T19:40:05.932298Z",
     "start_time": "2022-11-24T19:40:05.916946Z"
    }
   },
   "outputs": [
    {
     "data": {
      "text/plain": [
       "<tf.Tensor: shape=(4, 3, 5), dtype=int32, numpy=\n",
       "array([[[1, 0, 0, 0, 0],\n",
       "        [0, 1, 0, 0, 0],\n",
       "        [1, 0, 0, 0, 0]],\n",
       "\n",
       "       [[0, 1, 0, 0, 0],\n",
       "        [0, 0, 0, 0, 1],\n",
       "        [1, 0, 0, 0, 0]],\n",
       "\n",
       "       [[0, 1, 0, 0, 0],\n",
       "        [0, 0, 0, 1, 0],\n",
       "        [0, 0, 0, 0, 0]],\n",
       "\n",
       "       [[0, 0, 0, 0, 1],\n",
       "        [0, 0, 1, 0, 0],\n",
       "        [0, 0, 0, 0, 0]]], dtype=int32)>"
      ]
     },
     "execution_count": 8,
     "metadata": {},
     "output_type": "execute_result"
    }
   ],
   "source": [
    "a = tf.stack(back_actions)\n",
    "a"
   ]
  },
  {
   "cell_type": "code",
   "execution_count": 14,
   "metadata": {
    "ExecuteTime": {
     "end_time": "2022-11-24T19:44:49.831872Z",
     "start_time": "2022-11-24T19:44:49.765330Z"
    }
   },
   "outputs": [],
   "source": [
    "mask = tf.cast(tf.ones(shape=a.shape, dtype=tf.int32)*tf.reduce_sum(a, axis=2, keepdims=True), dtype=tf.bool)"
   ]
  },
  {
   "cell_type": "code",
   "execution_count": 16,
   "metadata": {
    "ExecuteTime": {
     "end_time": "2022-11-24T19:45:53.949583Z",
     "start_time": "2022-11-24T19:45:53.800692Z"
    }
   },
   "outputs": [],
   "source": [
    "b = tf.ragged.boolean_mask(a, mask)"
   ]
  },
  {
   "cell_type": "code",
   "execution_count": 17,
   "metadata": {
    "ExecuteTime": {
     "end_time": "2022-11-24T19:45:56.442925Z",
     "start_time": "2022-11-24T19:45:56.417777Z"
    }
   },
   "outputs": [
    {
     "data": {
      "text/plain": [
       "<tf.RaggedTensor [[[1, 0, 0, 0, 0], [0, 1, 0, 0, 0], [1, 0, 0, 0, 0]],\n",
       " [[0, 1, 0, 0, 0], [0, 0, 0, 0, 1], [1, 0, 0, 0, 0]],\n",
       " [[0, 1, 0, 0, 0], [0, 0, 0, 1, 0], []],\n",
       " [[0, 0, 0, 0, 1], [0, 0, 1, 0, 0], []]]>"
      ]
     },
     "execution_count": 17,
     "metadata": {},
     "output_type": "execute_result"
    }
   ],
   "source": [
    "b"
   ]
  },
  {
   "cell_type": "code",
   "execution_count": 9,
   "metadata": {
    "ExecuteTime": {
     "end_time": "2022-11-24T18:51:58.661270Z",
     "start_time": "2022-11-24T18:51:58.643429Z"
    }
   },
   "outputs": [
    {
     "data": {
      "text/plain": [
       "<tf.Tensor: shape=(11, 5), dtype=int32, numpy=\n",
       "array([[5, 3, 2, 1, 1],\n",
       "       [4, 5, 5, 4, 4],\n",
       "       [1, 2, 2, 0, 5],\n",
       "       [3, 2, 0, 6, 0],\n",
       "       [3, 4, 5, 3, 3],\n",
       "       [0, 1, 5, 2, 1],\n",
       "       [2, 0, 4, 4, 0],\n",
       "       [6, 6, 0, 0, 4],\n",
       "       [1, 6, 1, 4, 6],\n",
       "       [0, 3, 0, 5, 6],\n",
       "       [1, 0, 0, 0, 0]], dtype=int32)>"
      ]
     },
     "execution_count": 9,
     "metadata": {},
     "output_type": "execute_result"
    }
   ],
   "source": [
    "new_position = backward_step(current_position, back_actions)\n",
    "new_position"
   ]
  },
  {
   "cell_type": "code",
   "execution_count": 10,
   "metadata": {
    "ExecuteTime": {
     "end_time": "2022-11-24T18:52:13.321991Z",
     "start_time": "2022-11-24T18:52:13.131666Z"
    }
   },
   "outputs": [
    {
     "name": "stdout",
     "output_type": "stream",
     "text": [
      "1/1 [==============================] - 0s 57ms/step\n",
      "tf.Tensor(\n",
      "[[0 0 0 0 1]\n",
      " [0 0 0 1 0]\n",
      " [0 1 0 0 0]\n",
      " [1 0 0 0 0]\n",
      " [0 0 0 1 0]\n",
      " [0 0 0 1 0]\n",
      " [0 0 1 0 0]\n",
      " [0 1 0 0 0]\n",
      " [0 1 0 0 0]\n",
      " [0 0 0 0 1]\n",
      " [1 0 0 0 0]], shape=(11, 5), dtype=int32)\n",
      "tf.Tensor(\n",
      "[[1]\n",
      " [1]\n",
      " [1]\n",
      " [1]\n",
      " [1]\n",
      " [1]\n",
      " [1]\n",
      " [1]\n",
      " [1]\n",
      " [1]\n",
      " [1]], shape=(11, 1), dtype=int32)\n"
     ]
    },
    {
     "data": {
      "text/plain": [
       "<tf.Tensor: shape=(11, 5), dtype=int32, numpy=\n",
       "array([[0, 0, 0, 0, 1],\n",
       "       [0, 0, 0, 1, 0],\n",
       "       [0, 1, 0, 0, 0],\n",
       "       [1, 0, 0, 0, 0],\n",
       "       [0, 0, 0, 1, 0],\n",
       "       [0, 0, 0, 1, 0],\n",
       "       [0, 0, 1, 0, 0],\n",
       "       [0, 1, 0, 0, 0],\n",
       "       [0, 1, 0, 0, 0],\n",
       "       [0, 0, 0, 0, 1],\n",
       "       [1, 0, 0, 0, 0]], dtype=int32)>"
      ]
     },
     "execution_count": 10,
     "metadata": {},
     "output_type": "execute_result"
    }
   ],
   "source": [
    "back_actions = agent.backward_action(new_position)\n",
    "back_actions"
   ]
  },
  {
   "cell_type": "code",
   "execution_count": 11,
   "metadata": {
    "ExecuteTime": {
     "end_time": "2022-11-24T18:52:23.684583Z",
     "start_time": "2022-11-24T18:52:23.667819Z"
    }
   },
   "outputs": [
    {
     "data": {
      "text/plain": [
       "<tf.Tensor: shape=(11, 5), dtype=int32, numpy=\n",
       "array([[5, 3, 2, 1, 0],\n",
       "       [4, 5, 5, 3, 4],\n",
       "       [1, 1, 2, 0, 5],\n",
       "       [2, 2, 0, 6, 0],\n",
       "       [3, 4, 5, 2, 3],\n",
       "       [0, 1, 5, 1, 1],\n",
       "       [2, 0, 3, 4, 0],\n",
       "       [6, 5, 0, 0, 4],\n",
       "       [1, 5, 1, 4, 6],\n",
       "       [0, 3, 0, 5, 5],\n",
       "       [0, 0, 0, 0, 0]], dtype=int32)>"
      ]
     },
     "execution_count": 11,
     "metadata": {},
     "output_type": "execute_result"
    }
   ],
   "source": [
    "new_position = backward_step(new_position, back_actions)\n",
    "new_position"
   ]
  },
  {
   "cell_type": "code",
   "execution_count": null,
   "metadata": {},
   "outputs": [],
   "source": []
  },
  {
   "cell_type": "code",
   "execution_count": 12,
   "metadata": {
    "ExecuteTime": {
     "end_time": "2022-11-24T18:52:29.475351Z",
     "start_time": "2022-11-24T18:52:29.150096Z"
    }
   },
   "outputs": [
    {
     "name": "stdout",
     "output_type": "stream",
     "text": [
      "1/1 [==============================] - 0s 43ms/step\n",
      "tf.Tensor(\n",
      "[[0 0 0 1 0]\n",
      " [0 0 0 1 0]\n",
      " [0 0 1 0 0]\n",
      " [1 0 0 0 0]\n",
      " [0 0 1 0 0]\n",
      " [0 0 0 1 0]\n",
      " [0 0 1 0 0]\n",
      " [0 1 0 0 0]\n",
      " [1 0 0 0 0]\n",
      " [0 1 0 0 0]\n",
      " [0 0 1 0 0]], shape=(11, 5), dtype=int32)\n",
      "tf.Tensor(\n",
      "[[1]\n",
      " [1]\n",
      " [1]\n",
      " [1]\n",
      " [1]\n",
      " [1]\n",
      " [1]\n",
      " [1]\n",
      " [1]\n",
      " [1]\n",
      " [0]], shape=(11, 1), dtype=int32)\n"
     ]
    },
    {
     "data": {
      "text/plain": [
       "<tf.Tensor: shape=(11, 5), dtype=int32, numpy=\n",
       "array([[0, 0, 0, 1, 0],\n",
       "       [0, 0, 0, 1, 0],\n",
       "       [0, 0, 1, 0, 0],\n",
       "       [1, 0, 0, 0, 0],\n",
       "       [0, 0, 1, 0, 0],\n",
       "       [0, 0, 0, 1, 0],\n",
       "       [0, 0, 1, 0, 0],\n",
       "       [0, 1, 0, 0, 0],\n",
       "       [1, 0, 0, 0, 0],\n",
       "       [0, 1, 0, 0, 0],\n",
       "       [0, 0, 0, 0, 0]], dtype=int32)>"
      ]
     },
     "execution_count": 12,
     "metadata": {},
     "output_type": "execute_result"
    }
   ],
   "source": [
    "back_actions = agent.backward_action(new_position)\n",
    "back_actions"
   ]
  },
  {
   "cell_type": "code",
   "execution_count": 13,
   "metadata": {
    "ExecuteTime": {
     "end_time": "2022-11-24T18:52:38.720512Z",
     "start_time": "2022-11-24T18:52:38.703563Z"
    }
   },
   "outputs": [
    {
     "data": {
      "text/plain": [
       "<tf.Tensor: shape=(11, 5), dtype=int32, numpy=\n",
       "array([[5, 3, 2, 0, 0],\n",
       "       [4, 5, 5, 2, 4],\n",
       "       [1, 1, 1, 0, 5],\n",
       "       [1, 2, 0, 6, 0],\n",
       "       [3, 4, 4, 2, 3],\n",
       "       [0, 1, 5, 0, 1],\n",
       "       [2, 0, 2, 4, 0],\n",
       "       [6, 4, 0, 0, 4],\n",
       "       [0, 5, 1, 4, 6],\n",
       "       [0, 2, 0, 5, 5],\n",
       "       [0, 0, 0, 0, 0]], dtype=int32)>"
      ]
     },
     "execution_count": 13,
     "metadata": {},
     "output_type": "execute_result"
    }
   ],
   "source": [
    "new_position = backward_step(new_position, back_actions)\n",
    "new_position"
   ]
  },
  {
   "cell_type": "code",
   "execution_count": 14,
   "metadata": {
    "ExecuteTime": {
     "end_time": "2022-11-24T18:52:48.734697Z",
     "start_time": "2022-11-24T18:52:48.549665Z"
    }
   },
   "outputs": [
    {
     "name": "stdout",
     "output_type": "stream",
     "text": [
      "1/1 [==============================] - 0s 59ms/step\n",
      "tf.Tensor(\n",
      "[[0 0 1 0 0]\n",
      " [0 0 0 0 1]\n",
      " [0 0 1 0 0]\n",
      " [1 0 0 0 0]\n",
      " [0 0 0 1 0]\n",
      " [0 0 0 0 1]\n",
      " [0 0 0 1 0]\n",
      " [0 0 0 0 1]\n",
      " [0 1 0 0 0]\n",
      " [0 0 0 0 1]\n",
      " [0 1 0 0 0]], shape=(11, 5), dtype=int32)\n",
      "tf.Tensor(\n",
      "[[1]\n",
      " [1]\n",
      " [1]\n",
      " [1]\n",
      " [1]\n",
      " [1]\n",
      " [1]\n",
      " [1]\n",
      " [1]\n",
      " [1]\n",
      " [0]], shape=(11, 1), dtype=int32)\n"
     ]
    },
    {
     "data": {
      "text/plain": [
       "<tf.Tensor: shape=(11, 5), dtype=int32, numpy=\n",
       "array([[0, 0, 1, 0, 0],\n",
       "       [0, 0, 0, 0, 1],\n",
       "       [0, 0, 1, 0, 0],\n",
       "       [1, 0, 0, 0, 0],\n",
       "       [0, 0, 0, 1, 0],\n",
       "       [0, 0, 0, 0, 1],\n",
       "       [0, 0, 0, 1, 0],\n",
       "       [0, 0, 0, 0, 1],\n",
       "       [0, 1, 0, 0, 0],\n",
       "       [0, 0, 0, 0, 1],\n",
       "       [0, 0, 0, 0, 0]], dtype=int32)>"
      ]
     },
     "execution_count": 14,
     "metadata": {},
     "output_type": "execute_result"
    }
   ],
   "source": [
    "back_actions = agent.backward_action(new_position)\n",
    "back_actions"
   ]
  },
  {
   "cell_type": "code",
   "execution_count": 15,
   "metadata": {
    "ExecuteTime": {
     "end_time": "2022-11-24T18:52:52.749951Z",
     "start_time": "2022-11-24T18:52:52.734892Z"
    }
   },
   "outputs": [
    {
     "data": {
      "text/plain": [
       "<tf.Tensor: shape=(11, 5), dtype=int32, numpy=\n",
       "array([[5, 3, 1, 0, 0],\n",
       "       [4, 5, 5, 2, 3],\n",
       "       [1, 1, 0, 0, 5],\n",
       "       [0, 2, 0, 6, 0],\n",
       "       [3, 4, 4, 1, 3],\n",
       "       [0, 1, 5, 0, 0],\n",
       "       [2, 0, 2, 3, 0],\n",
       "       [6, 4, 0, 0, 3],\n",
       "       [0, 4, 1, 4, 6],\n",
       "       [0, 2, 0, 5, 4],\n",
       "       [0, 0, 0, 0, 0]], dtype=int32)>"
      ]
     },
     "execution_count": 15,
     "metadata": {},
     "output_type": "execute_result"
    }
   ],
   "source": [
    "new_position = backward_step(new_position, back_actions)\n",
    "new_position"
   ]
  },
  {
   "cell_type": "code",
   "execution_count": null,
   "metadata": {},
   "outputs": [],
   "source": []
  },
  {
   "cell_type": "code",
   "execution_count": null,
   "metadata": {},
   "outputs": [],
   "source": []
  },
  {
   "cell_type": "code",
   "execution_count": null,
   "metadata": {},
   "outputs": [],
   "source": []
  },
  {
   "cell_type": "code",
   "execution_count": null,
   "metadata": {},
   "outputs": [],
   "source": []
  },
  {
   "cell_type": "code",
   "execution_count": null,
   "metadata": {},
   "outputs": [],
   "source": []
  },
  {
   "cell_type": "code",
   "execution_count": null,
   "metadata": {},
   "outputs": [],
   "source": []
  },
  {
   "cell_type": "code",
   "execution_count": null,
   "metadata": {},
   "outputs": [],
   "source": []
  },
  {
   "cell_type": "code",
   "execution_count": null,
   "metadata": {},
   "outputs": [],
   "source": []
  },
  {
   "cell_type": "code",
   "execution_count": null,
   "metadata": {},
   "outputs": [],
   "source": []
  },
  {
   "cell_type": "code",
   "execution_count": null,
   "metadata": {},
   "outputs": [],
   "source": []
  },
  {
   "cell_type": "code",
   "execution_count": 10,
   "metadata": {
    "ExecuteTime": {
     "end_time": "2022-11-24T17:17:06.448104Z",
     "start_time": "2022-11-24T17:17:06.194334Z"
    }
   },
   "outputs": [
    {
     "name": "stdout",
     "output_type": "stream",
     "text": [
      "1/1 [==============================] - 0s 156ms/step\n"
     ]
    },
    {
     "data": {
      "text/plain": [
       "array([[-6.4809972e-01,  5.3084195e-01,  2.4392086e-01, -5.3548342e-01,\n",
       "        -4.3538299e-01],\n",
       "       [-1.1343048e-01, -1.7665544e-01, -1.6544846e-01,  3.6007795e-01,\n",
       "         3.9295644e-01],\n",
       "       [ 3.7668648e-01,  3.0121180e-01,  1.9785663e-01,  3.6049068e-02,\n",
       "        -1.0613856e+00],\n",
       "       [-4.0208122e-01, -3.5049197e-01,  2.6646286e-01,  3.1395680e-01,\n",
       "         1.4197114e-01],\n",
       "       [ 3.0549276e-01, -3.1088769e-02,  2.2941329e-01, -8.6708754e-02,\n",
       "        -6.2300704e-02],\n",
       "       [-1.2447351e+00,  4.9847800e-01,  6.4200854e-01,  3.6725062e-01,\n",
       "         4.3760002e-01],\n",
       "       [-2.8469381e-01,  8.6022317e-02,  8.6110282e-01,  4.6994925e-02,\n",
       "        -2.1885723e-02],\n",
       "       [-1.2475082e-01, -4.0141165e-01,  2.9444158e-02, -1.9728884e-01,\n",
       "         2.9799452e-01],\n",
       "       [-5.1271170e-04,  2.3457837e-01, -5.1820165e-01, -4.6456134e-01,\n",
       "        -1.1830505e+00],\n",
       "       [ 2.8238037e-01,  1.9005036e-01, -2.9617256e-01,  2.3690698e-01,\n",
       "        -4.1451451e-01]], dtype=float32)"
      ]
     },
     "execution_count": 10,
     "metadata": {},
     "output_type": "execute_result"
    }
   ],
   "source": [
    "encoded = tf.one_hot(current_position, depth=grid_length, axis=-1)\n",
    "action_logits = policy.predict(encoded)\n",
    "action_logits"
   ]
  },
  {
   "cell_type": "markdown",
   "metadata": {},
   "source": [
    "# Mask logits to remove out of bounds actions"
   ]
  },
  {
   "cell_type": "code",
   "execution_count": 11,
   "metadata": {
    "ExecuteTime": {
     "end_time": "2022-11-24T18:35:33.134714Z",
     "start_time": "2022-11-24T18:35:33.117522Z"
    }
   },
   "outputs": [
    {
     "data": {
      "text/plain": [
       "<tf.Tensor: shape=(12, 5), dtype=int32, numpy=\n",
       "array([[5, 5, 2, 2, 4],\n",
       "       [1, 0, 1, 5, 5],\n",
       "       [2, 6, 6, 2, 4],\n",
       "       [6, 4, 2, 6, 6],\n",
       "       [0, 2, 6, 1, 3],\n",
       "       [3, 6, 5, 1, 4],\n",
       "       [1, 3, 0, 1, 2],\n",
       "       [6, 6, 0, 1, 1],\n",
       "       [3, 5, 5, 2, 2],\n",
       "       [2, 6, 6, 6, 5],\n",
       "       [2, 0, 0, 0, 0],\n",
       "       [0, 0, 0, 0, 0]], dtype=int32)>"
      ]
     },
     "execution_count": 11,
     "metadata": {},
     "output_type": "execute_result"
    }
   ],
   "source": [
    "current_position = tf.concat([current_position, tf.constant([[0, 0, 0, 0, 0]])], axis=0)\n",
    "current_position"
   ]
  },
  {
   "cell_type": "code",
   "execution_count": 12,
   "metadata": {
    "ExecuteTime": {
     "end_time": "2022-11-24T18:35:43.996123Z",
     "start_time": "2022-11-24T18:35:43.985098Z"
    }
   },
   "outputs": [],
   "source": [
    "# Back Sampling\n",
    "\n",
    "back_coord_mask = tf.math.equal(current_position, 0)\n",
    "avoid_inds = tf.where(back_coord_mask)"
   ]
  },
  {
   "cell_type": "code",
   "execution_count": 14,
   "metadata": {
    "ExecuteTime": {
     "end_time": "2022-11-24T18:36:06.415855Z",
     "start_time": "2022-11-24T18:36:06.396198Z"
    }
   },
   "outputs": [
    {
     "data": {
      "text/plain": [
       "<tf.Tensor: shape=(12, 5), dtype=bool, numpy=\n",
       "array([[False, False, False, False, False],\n",
       "       [False,  True, False, False, False],\n",
       "       [False, False, False, False, False],\n",
       "       [False, False, False, False, False],\n",
       "       [ True, False, False, False, False],\n",
       "       [False, False, False, False, False],\n",
       "       [False, False,  True, False, False],\n",
       "       [False, False,  True, False, False],\n",
       "       [False, False, False, False, False],\n",
       "       [False, False, False, False, False],\n",
       "       [False,  True,  True,  True,  True],\n",
       "       [ True,  True,  True,  True,  True]])>"
      ]
     },
     "execution_count": 14,
     "metadata": {},
     "output_type": "execute_result"
    }
   ],
   "source": [
    "back_coord_mask"
   ]
  },
  {
   "cell_type": "code",
   "execution_count": 20,
   "metadata": {
    "ExecuteTime": {
     "end_time": "2022-11-24T18:40:08.771857Z",
     "start_time": "2022-11-24T18:40:08.753650Z"
    }
   },
   "outputs": [
    {
     "data": {
      "text/plain": [
       "<tf.Tensor: shape=(12, 1), dtype=int32, numpy=\n",
       "array([[0],\n",
       "       [0],\n",
       "       [0],\n",
       "       [0],\n",
       "       [0],\n",
       "       [0],\n",
       "       [0],\n",
       "       [0],\n",
       "       [0],\n",
       "       [0],\n",
       "       [0],\n",
       "       [1]], dtype=int32)>"
      ]
     },
     "execution_count": 20,
     "metadata": {},
     "output_type": "execute_result"
    }
   ],
   "source": [
    "tf.cast(tf.math.reduce_all(back_coord_mask, axis=1, keepdims=True), dtype=tf.int32)"
   ]
  },
  {
   "cell_type": "code",
   "execution_count": 13,
   "metadata": {
    "ExecuteTime": {
     "end_time": "2022-11-24T18:35:54.088021Z",
     "start_time": "2022-11-24T18:35:52.953711Z"
    }
   },
   "outputs": [
    {
     "ename": "NameError",
     "evalue": "name 'action_logits' is not defined",
     "output_type": "error",
     "traceback": [
      "\u001b[0;31m---------------------------------------------------------------------------\u001b[0m",
      "\u001b[0;31mNameError\u001b[0m                                 Traceback (most recent call last)",
      "Cell \u001b[0;32mIn [13], line 3\u001b[0m\n\u001b[1;32m      1\u001b[0m neg_inf \u001b[38;5;241m=\u001b[39m \u001b[38;5;241m-\u001b[39m\u001b[38;5;241m10000000000.0\u001b[39m\n\u001b[1;32m      2\u001b[0m masked_logits \u001b[38;5;241m=\u001b[39m tf\u001b[38;5;241m.\u001b[39mtensor_scatter_nd_add(\n\u001b[0;32m----> 3\u001b[0m     \u001b[43maction_logits\u001b[49m, avoid_inds, tf\u001b[38;5;241m.\u001b[39mconstant([neg_inf]\u001b[38;5;241m*\u001b[39mavoid_inds\u001b[38;5;241m.\u001b[39mshape[\u001b[38;5;241m0\u001b[39m])\n\u001b[1;32m      4\u001b[0m )\n\u001b[1;32m      5\u001b[0m masked_logits\n",
      "\u001b[0;31mNameError\u001b[0m: name 'action_logits' is not defined"
     ]
    }
   ],
   "source": [
    "neg_inf = -10000000000.0\n",
    "masked_logits = tf.tensor_scatter_nd_add(\n",
    "    action_logits, avoid_inds, tf.constant([neg_inf]*avoid_inds.shape[0])\n",
    ")\n",
    "masked_logits"
   ]
  },
  {
   "cell_type": "code",
   "execution_count": 27,
   "metadata": {
    "ExecuteTime": {
     "end_time": "2022-11-24T17:46:19.314410Z",
     "start_time": "2022-11-24T17:46:19.295959Z"
    }
   },
   "outputs": [
    {
     "data": {
      "text/plain": [
       "<tf.Tensor: shape=(10, 1), dtype=int64, numpy=\n",
       "array([[2],\n",
       "       [1],\n",
       "       [3],\n",
       "       [0],\n",
       "       [0],\n",
       "       [2],\n",
       "       [1],\n",
       "       [4],\n",
       "       [0],\n",
       "       [1]])>"
      ]
     },
     "execution_count": 27,
     "metadata": {},
     "output_type": "execute_result"
    }
   ],
   "source": [
    "actions = tf.random.categorical(masked_logits, 1)\n",
    "actions"
   ]
  },
  {
   "cell_type": "code",
   "execution_count": 34,
   "metadata": {
    "ExecuteTime": {
     "end_time": "2022-11-24T17:49:55.272035Z",
     "start_time": "2022-11-24T17:49:55.251331Z"
    }
   },
   "outputs": [
    {
     "data": {
      "text/plain": [
       "<tf.Tensor: shape=(10, 5), dtype=float32, numpy=\n",
       "array([[0., 0., 1., 0., 0.],\n",
       "       [0., 1., 0., 0., 0.],\n",
       "       [0., 0., 0., 1., 0.],\n",
       "       [1., 0., 0., 0., 0.],\n",
       "       [1., 0., 0., 0., 0.],\n",
       "       [0., 0., 1., 0., 0.],\n",
       "       [0., 1., 0., 0., 0.],\n",
       "       [0., 0., 0., 0., 1.],\n",
       "       [1., 0., 0., 0., 0.],\n",
       "       [0., 1., 0., 0., 0.]], dtype=float32)>"
      ]
     },
     "execution_count": 34,
     "metadata": {},
     "output_type": "execute_result"
    }
   ],
   "source": [
    "encoded_actions = tf.one_hot(tf.reshape(actions, shape=(-1,)), depth=5)\n",
    "encoded_actions"
   ]
  },
  {
   "cell_type": "code",
   "execution_count": null,
   "metadata": {},
   "outputs": [],
   "source": []
  },
  {
   "cell_type": "code",
   "execution_count": null,
   "metadata": {},
   "outputs": [],
   "source": []
  },
  {
   "cell_type": "code",
   "execution_count": null,
   "metadata": {},
   "outputs": [],
   "source": []
  },
  {
   "cell_type": "code",
   "execution_count": null,
   "metadata": {},
   "outputs": [],
   "source": []
  },
  {
   "cell_type": "code",
   "execution_count": null,
   "metadata": {},
   "outputs": [],
   "source": []
  },
  {
   "cell_type": "code",
   "execution_count": null,
   "metadata": {},
   "outputs": [],
   "source": []
  },
  {
   "cell_type": "code",
   "execution_count": null,
   "metadata": {},
   "outputs": [],
   "source": []
  },
  {
   "cell_type": "code",
   "execution_count": 26,
   "metadata": {
    "ExecuteTime": {
     "end_time": "2022-11-25T20:39:54.129342Z",
     "start_time": "2022-11-25T20:39:54.109365Z"
    }
   },
   "outputs": [
    {
     "data": {
      "text/plain": [
       "<tf.Tensor: shape=(), dtype=float32, numpy=1.0>"
      ]
     },
     "execution_count": 26,
     "metadata": {},
     "output_type": "execute_result"
    }
   ],
   "source": [
    "# gradient test\n",
    "\n",
    "x = tf.Variable(1.0)\n",
    "a = 1\n",
    "with tf.GradientTape() as tape:\n",
    "    y = a*tf.math.log(x)\n",
    "    \n",
    "dy_dx = tape.gradient(y, x)\n",
    "dy_dx"
   ]
  },
  {
   "cell_type": "code",
   "execution_count": null,
   "metadata": {},
   "outputs": [],
   "source": []
  },
  {
   "cell_type": "code",
   "execution_count": null,
   "metadata": {},
   "outputs": [],
   "source": []
  },
  {
   "cell_type": "code",
   "execution_count": null,
   "metadata": {},
   "outputs": [],
   "source": []
  },
  {
   "cell_type": "code",
   "execution_count": null,
   "metadata": {},
   "outputs": [],
   "source": []
  },
  {
   "cell_type": "code",
   "execution_count": 1,
   "metadata": {
    "ExecuteTime": {
     "end_time": "2022-12-01T22:59:46.914759Z",
     "start_time": "2022-12-01T22:59:39.276965Z"
    }
   },
   "outputs": [],
   "source": [
    "# rewards\n",
    "\n",
    "import tensorflow as tf\n",
    "\n",
    "def _generate_rewards(grid_dimension, grid_length, r0, r1, r2):\n",
    "    # grid_length >= 7\n",
    "    coords_transf = tf.math.abs(tf.range(grid_length, dtype=tf.float32)/(grid_length - 1) - 0.5)\n",
    "\n",
    "    mid_level_1d = tf.cast(tf.math.greater(coords_transf, 0.25), dtype=tf.float32)\n",
    "    high_level_1d = tf.cast(tf.math.logical_and(tf.math.greater(coords_transf, 0.3), tf.math.less(coords_transf, 0.4)), dtype=tf.float32)\n",
    "    \n",
    "    mid_level = tf.reshape(\n",
    "        mid_level_1d, \n",
    "        shape=[-1]+[1]*(grid_dimension-1)\n",
    "    )\n",
    "    high_level = tf.reshape(\n",
    "        high_level_1d, \n",
    "        shape=[-1]+[1]*(grid_dimension-1)\n",
    "    )\n",
    "\n",
    "    for i in range(1, grid_dimension):\n",
    "        shape = [1] * grid_dimension\n",
    "        shape[i] = -1\n",
    "        mid_level *= tf.reshape(mid_level_1d, shape=shape)\n",
    "        high_level *= tf.reshape(high_level_1d, shape=shape)\n",
    "\n",
    "    rewards = r0 + r1*mid_level + r2*high_level\n",
    "    return rewards"
   ]
  },
  {
   "cell_type": "code",
   "execution_count": 9,
   "metadata": {
    "ExecuteTime": {
     "end_time": "2022-12-01T23:09:45.678887Z",
     "start_time": "2022-12-01T23:09:45.649874Z"
    }
   },
   "outputs": [
    {
     "data": {
      "text/plain": [
       "<tf.Tensor: shape=(8, 8, 8), dtype=float32, numpy=\n",
       "array([[[1.1, 1.1, 0.1, 0.1, 0.1, 0.1, 1.1, 1.1],\n",
       "        [1.1, 1.1, 0.1, 0.1, 0.1, 0.1, 1.1, 1.1],\n",
       "        [0.1, 0.1, 0.1, 0.1, 0.1, 0.1, 0.1, 0.1],\n",
       "        [0.1, 0.1, 0.1, 0.1, 0.1, 0.1, 0.1, 0.1],\n",
       "        [0.1, 0.1, 0.1, 0.1, 0.1, 0.1, 0.1, 0.1],\n",
       "        [0.1, 0.1, 0.1, 0.1, 0.1, 0.1, 0.1, 0.1],\n",
       "        [1.1, 1.1, 0.1, 0.1, 0.1, 0.1, 1.1, 1.1],\n",
       "        [1.1, 1.1, 0.1, 0.1, 0.1, 0.1, 1.1, 1.1]],\n",
       "\n",
       "       [[1.1, 1.1, 0.1, 0.1, 0.1, 0.1, 1.1, 1.1],\n",
       "        [1.1, 2.1, 0.1, 0.1, 0.1, 0.1, 2.1, 1.1],\n",
       "        [0.1, 0.1, 0.1, 0.1, 0.1, 0.1, 0.1, 0.1],\n",
       "        [0.1, 0.1, 0.1, 0.1, 0.1, 0.1, 0.1, 0.1],\n",
       "        [0.1, 0.1, 0.1, 0.1, 0.1, 0.1, 0.1, 0.1],\n",
       "        [0.1, 0.1, 0.1, 0.1, 0.1, 0.1, 0.1, 0.1],\n",
       "        [1.1, 2.1, 0.1, 0.1, 0.1, 0.1, 2.1, 1.1],\n",
       "        [1.1, 1.1, 0.1, 0.1, 0.1, 0.1, 1.1, 1.1]],\n",
       "\n",
       "       [[0.1, 0.1, 0.1, 0.1, 0.1, 0.1, 0.1, 0.1],\n",
       "        [0.1, 0.1, 0.1, 0.1, 0.1, 0.1, 0.1, 0.1],\n",
       "        [0.1, 0.1, 0.1, 0.1, 0.1, 0.1, 0.1, 0.1],\n",
       "        [0.1, 0.1, 0.1, 0.1, 0.1, 0.1, 0.1, 0.1],\n",
       "        [0.1, 0.1, 0.1, 0.1, 0.1, 0.1, 0.1, 0.1],\n",
       "        [0.1, 0.1, 0.1, 0.1, 0.1, 0.1, 0.1, 0.1],\n",
       "        [0.1, 0.1, 0.1, 0.1, 0.1, 0.1, 0.1, 0.1],\n",
       "        [0.1, 0.1, 0.1, 0.1, 0.1, 0.1, 0.1, 0.1]],\n",
       "\n",
       "       [[0.1, 0.1, 0.1, 0.1, 0.1, 0.1, 0.1, 0.1],\n",
       "        [0.1, 0.1, 0.1, 0.1, 0.1, 0.1, 0.1, 0.1],\n",
       "        [0.1, 0.1, 0.1, 0.1, 0.1, 0.1, 0.1, 0.1],\n",
       "        [0.1, 0.1, 0.1, 0.1, 0.1, 0.1, 0.1, 0.1],\n",
       "        [0.1, 0.1, 0.1, 0.1, 0.1, 0.1, 0.1, 0.1],\n",
       "        [0.1, 0.1, 0.1, 0.1, 0.1, 0.1, 0.1, 0.1],\n",
       "        [0.1, 0.1, 0.1, 0.1, 0.1, 0.1, 0.1, 0.1],\n",
       "        [0.1, 0.1, 0.1, 0.1, 0.1, 0.1, 0.1, 0.1]],\n",
       "\n",
       "       [[0.1, 0.1, 0.1, 0.1, 0.1, 0.1, 0.1, 0.1],\n",
       "        [0.1, 0.1, 0.1, 0.1, 0.1, 0.1, 0.1, 0.1],\n",
       "        [0.1, 0.1, 0.1, 0.1, 0.1, 0.1, 0.1, 0.1],\n",
       "        [0.1, 0.1, 0.1, 0.1, 0.1, 0.1, 0.1, 0.1],\n",
       "        [0.1, 0.1, 0.1, 0.1, 0.1, 0.1, 0.1, 0.1],\n",
       "        [0.1, 0.1, 0.1, 0.1, 0.1, 0.1, 0.1, 0.1],\n",
       "        [0.1, 0.1, 0.1, 0.1, 0.1, 0.1, 0.1, 0.1],\n",
       "        [0.1, 0.1, 0.1, 0.1, 0.1, 0.1, 0.1, 0.1]],\n",
       "\n",
       "       [[0.1, 0.1, 0.1, 0.1, 0.1, 0.1, 0.1, 0.1],\n",
       "        [0.1, 0.1, 0.1, 0.1, 0.1, 0.1, 0.1, 0.1],\n",
       "        [0.1, 0.1, 0.1, 0.1, 0.1, 0.1, 0.1, 0.1],\n",
       "        [0.1, 0.1, 0.1, 0.1, 0.1, 0.1, 0.1, 0.1],\n",
       "        [0.1, 0.1, 0.1, 0.1, 0.1, 0.1, 0.1, 0.1],\n",
       "        [0.1, 0.1, 0.1, 0.1, 0.1, 0.1, 0.1, 0.1],\n",
       "        [0.1, 0.1, 0.1, 0.1, 0.1, 0.1, 0.1, 0.1],\n",
       "        [0.1, 0.1, 0.1, 0.1, 0.1, 0.1, 0.1, 0.1]],\n",
       "\n",
       "       [[1.1, 1.1, 0.1, 0.1, 0.1, 0.1, 1.1, 1.1],\n",
       "        [1.1, 2.1, 0.1, 0.1, 0.1, 0.1, 2.1, 1.1],\n",
       "        [0.1, 0.1, 0.1, 0.1, 0.1, 0.1, 0.1, 0.1],\n",
       "        [0.1, 0.1, 0.1, 0.1, 0.1, 0.1, 0.1, 0.1],\n",
       "        [0.1, 0.1, 0.1, 0.1, 0.1, 0.1, 0.1, 0.1],\n",
       "        [0.1, 0.1, 0.1, 0.1, 0.1, 0.1, 0.1, 0.1],\n",
       "        [1.1, 2.1, 0.1, 0.1, 0.1, 0.1, 2.1, 1.1],\n",
       "        [1.1, 1.1, 0.1, 0.1, 0.1, 0.1, 1.1, 1.1]],\n",
       "\n",
       "       [[1.1, 1.1, 0.1, 0.1, 0.1, 0.1, 1.1, 1.1],\n",
       "        [1.1, 1.1, 0.1, 0.1, 0.1, 0.1, 1.1, 1.1],\n",
       "        [0.1, 0.1, 0.1, 0.1, 0.1, 0.1, 0.1, 0.1],\n",
       "        [0.1, 0.1, 0.1, 0.1, 0.1, 0.1, 0.1, 0.1],\n",
       "        [0.1, 0.1, 0.1, 0.1, 0.1, 0.1, 0.1, 0.1],\n",
       "        [0.1, 0.1, 0.1, 0.1, 0.1, 0.1, 0.1, 0.1],\n",
       "        [1.1, 1.1, 0.1, 0.1, 0.1, 0.1, 1.1, 1.1],\n",
       "        [1.1, 1.1, 0.1, 0.1, 0.1, 0.1, 1.1, 1.1]]], dtype=float32)>"
      ]
     },
     "execution_count": 9,
     "metadata": {},
     "output_type": "execute_result"
    }
   ],
   "source": [
    "rewards = _generate_rewards(3, 8, 0.1, 1, 1)\n",
    "rewards"
   ]
  },
  {
   "cell_type": "code",
   "execution_count": 10,
   "metadata": {
    "ExecuteTime": {
     "end_time": "2022-12-01T23:11:02.276595Z",
     "start_time": "2022-12-01T23:11:02.267468Z"
    }
   },
   "outputs": [],
   "source": [
    "pos = tf.constant([\n",
    "    [2, 4, 5],\n",
    "    [7, 1, 6],\n",
    "    [1, 6, 1]\n",
    "])"
   ]
  },
  {
   "cell_type": "code",
   "execution_count": 12,
   "metadata": {
    "ExecuteTime": {
     "end_time": "2022-12-01T23:13:37.343147Z",
     "start_time": "2022-12-01T23:13:37.324836Z"
    }
   },
   "outputs": [
    {
     "data": {
      "text/plain": [
       "<tf.Tensor: shape=(3, 1), dtype=float32, numpy=\n",
       "array([[0.1],\n",
       "       [1.1],\n",
       "       [2.1]], dtype=float32)>"
      ]
     },
     "execution_count": 12,
     "metadata": {},
     "output_type": "execute_result"
    }
   ],
   "source": [
    "tf.reshape(tf.gather_nd(rewards, pos), shape=(-1, 1))"
   ]
  },
  {
   "cell_type": "code",
   "execution_count": 2,
   "metadata": {
    "ExecuteTime": {
     "end_time": "2022-12-01T22:53:58.753182Z",
     "start_time": "2022-12-01T22:53:58.686164Z"
    }
   },
   "outputs": [
    {
     "name": "stderr",
     "output_type": "stream",
     "text": [
      "2022-12-01 17:53:58.698297: I tensorflow/core/platform/cpu_feature_guard.cc:193] This TensorFlow binary is optimized with oneAPI Deep Neural Network Library (oneDNN) to use the following CPU instructions in performance-critical operations:  SSE4.1 SSE4.2 AVX AVX2 FMA\n",
      "To enable them in other operations, rebuild TensorFlow with the appropriate compiler flags.\n"
     ]
    },
    {
     "data": {
      "text/plain": [
       "<tf.Tensor: shape=(7,), dtype=float32, numpy=array([0., 1., 0., 0., 0., 1., 0.], dtype=float32)>"
      ]
     },
     "execution_count": 2,
     "metadata": {},
     "output_type": "execute_result"
    }
   ],
   "source": [
    "grid_length = 7\n",
    "coords_transf = tf.math.abs(tf.range(grid_length, dtype=tf.float32)/(grid_length - 1) - 0.5)\n",
    "\n",
    "mid_level_1d = tf.cast(tf.math.greater(coords_transf, 0.25), dtype=tf.float32)\n",
    "high_level_1d = tf.cast(tf.math.logical_and(tf.math.greater(coords_transf, 0.3), tf.math.less(coords_transf, 0.4)), dtype=tf.float32)\n",
    "high_level_1d"
   ]
  },
  {
   "cell_type": "code",
   "execution_count": 3,
   "metadata": {
    "ExecuteTime": {
     "end_time": "2022-12-01T22:53:58.795377Z",
     "start_time": "2022-12-01T22:53:58.760334Z"
    }
   },
   "outputs": [],
   "source": [
    "grid_dimension = 2\n",
    "mid_level = tf.reshape(\n",
    "    mid_level_1d, \n",
    "    shape=[-1]+[1]*(grid_dimension-1)\n",
    ")\n",
    "high_level = tf.reshape(\n",
    "    high_level_1d, \n",
    "    shape=[-1]+[1]*(grid_dimension-1)\n",
    ")\n",
    "\n",
    "for i in range(1, grid_dimension):\n",
    "    shape = [1] * grid_dimension\n",
    "    shape[i] = -1\n",
    "    mid_level *= tf.reshape(mid_level_1d, shape=shape)\n",
    "    high_level *= tf.reshape(high_level_1d, shape=shape)"
   ]
  },
  {
   "cell_type": "code",
   "execution_count": 4,
   "metadata": {
    "ExecuteTime": {
     "end_time": "2022-12-01T22:54:10.833447Z",
     "start_time": "2022-12-01T22:54:10.815074Z"
    }
   },
   "outputs": [
    {
     "data": {
      "text/plain": [
       "<tf.Tensor: shape=(7, 7), dtype=float32, numpy=\n",
       "array([[1., 1., 0., 0., 0., 1., 1.],\n",
       "       [1., 2., 0., 0., 0., 2., 1.],\n",
       "       [0., 0., 0., 0., 0., 0., 0.],\n",
       "       [0., 0., 0., 0., 0., 0., 0.],\n",
       "       [0., 0., 0., 0., 0., 0., 0.],\n",
       "       [1., 2., 0., 0., 0., 2., 1.],\n",
       "       [1., 1., 0., 0., 0., 1., 1.]], dtype=float32)>"
      ]
     },
     "execution_count": 4,
     "metadata": {},
     "output_type": "execute_result"
    }
   ],
   "source": [
    "mid_level + high_level"
   ]
  },
  {
   "cell_type": "code",
   "execution_count": null,
   "metadata": {},
   "outputs": [],
   "source": []
  }
 ],
 "metadata": {
  "kernelspec": {
   "display_name": "Python [conda env:GFlowNets_on_SpinFoams] *",
   "language": "python",
   "name": "conda-env-GFlowNets_on_SpinFoams-py"
  },
  "language_info": {
   "codemirror_mode": {
    "name": "ipython",
    "version": 3
   },
   "file_extension": ".py",
   "mimetype": "text/x-python",
   "name": "python",
   "nbconvert_exporter": "python",
   "pygments_lexer": "ipython3",
   "version": "3.8.16"
  }
 },
 "nbformat": 4,
 "nbformat_minor": 2
}
