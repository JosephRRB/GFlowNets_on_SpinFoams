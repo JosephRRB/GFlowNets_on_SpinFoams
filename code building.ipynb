{
 "cells": [
  {
   "cell_type": "code",
   "execution_count": 1,
   "metadata": {
    "ExecuteTime": {
     "end_time": "2022-11-25T21:16:29.543764Z",
     "start_time": "2022-11-25T21:16:21.236087Z"
    }
   },
   "outputs": [],
   "source": [
    "import numpy as np\n",
    "import tensorflow as tf\n",
    "\n",
    "class PolicyNetwork(tf.keras.Model):\n",
    "    def __init__(self, n_hidden, n_output_1, n_output_2):\n",
    "        super().__init__()\n",
    "        self.n_hidden = n_hidden\n",
    "        self.n_output_1 = n_output_1\n",
    "        self.n_output_2 = n_output_2\n",
    "        \n",
    "        self.flatten = tf.keras.layers.Flatten()\n",
    "        self.dense_1 = tf.keras.layers.Dense(self.n_hidden)\n",
    "        self.dense_2 = tf.keras.layers.Dense(self.n_output_1)\n",
    "        self.dense_3 = tf.keras.layers.Dense(self.n_output_2)\n",
    "    \n",
    "    def call(self, data_input):\n",
    "        hidden = self.flatten(data_input)\n",
    "        hidden = self.dense_1(hidden)\n",
    "        hidden = tf.keras.activations.tanh(hidden)\n",
    "        output_1 = self.dense_2(hidden)\n",
    "        output_2 = self.dense_3(hidden)\n",
    "        return output_1, output_2\n",
    "\n",
    "class Agent:\n",
    "    NEG_INF = -10000000000.0\n",
    "    def __init__(self, env_grid_length):\n",
    "        self.policy = PolicyNetwork(40, 5, 6)\n",
    "        self.env_grid_length = env_grid_length\n",
    "        \n",
    "    def backward_action(self, current_position):\n",
    "        encoded_position = tf.one_hot(\n",
    "            current_position, depth=self.env_grid_length, axis=-1\n",
    "        )\n",
    "        action_logits = self.policy.predict(encoded_position)[0]\n",
    "        \n",
    "        back_coord_mask = tf.math.equal(current_position, 0)\n",
    "        masked_logits = self._mask_action_logits(\n",
    "            action_logits, back_coord_mask\n",
    "        )\n",
    "        \n",
    "        action_indices = tf.random.categorical(masked_logits, 1)\n",
    "        encoded_actions = tf.one_hot(\n",
    "            tf.reshape(action_indices, shape=(-1,)), depth=5, dtype=tf.int32\n",
    "        )\n",
    "        \n",
    "        is_at_origin = tf.math.reduce_all(\n",
    "            back_coord_mask, axis=1, keepdims=True\n",
    "        )\n",
    "        action_mask = tf.cast(\n",
    "            tf.math.logical_not(is_at_origin), \n",
    "            dtype=tf.int32\n",
    "        )\n",
    "        back_actions = encoded_actions*action_mask\n",
    "        return back_actions\n",
    "    \n",
    "    def _mask_action_logits(self, action_logits, mask):\n",
    "        avoid_inds = tf.where(mask)\n",
    "        # Need validation that masked are not sampled\n",
    "        masked_logits = tf.tensor_scatter_nd_add(\n",
    "            action_logits, avoid_inds, \n",
    "            tf.constant([self.NEG_INF]*avoid_inds.shape[0])\n",
    "        )\n",
    "        return masked_logits\n",
    "        \n",
    "    def calculate_log_proba_ratios(self, trajectories, backward_actions, forward_actions):\n",
    "        reshaped_positions = tf.reshape(trajectories, shape=(-1, 5))\n",
    "        encoded_positions = tf.one_hot(\n",
    "            reshaped_positions, \n",
    "            depth=self.env_grid_length, axis=-1\n",
    "        )\n",
    "        backward_logits, forward_logits = self.policy.predict(encoded_positions)\n",
    "        \n",
    "        back_coord_mask = tf.math.equal(reshaped_positions, 0)\n",
    "        backward_log_probas = self._action_log_probas(\n",
    "            backward_logits, back_coord_mask, backward_actions\n",
    "        )\n",
    "        \n",
    "        forward_coord_mask = tf.math.equal(reshaped_positions, self.env_grid_length-1)\n",
    "        forward_log_probas = self._action_log_probas(\n",
    "            forward_logits, forward_coord_mask, forward_actions\n",
    "        )\n",
    "        log_proba_ratios = (\n",
    "            tf.reduce_sum(forward_log_probas, axis=0)\n",
    "            - tf.reduce_sum(backward_log_probas, axis=0)\n",
    "        )\n",
    "        return log_proba_ratios\n",
    "    \n",
    "    def _action_log_probas(self, logits, mask, actions):\n",
    "        masked_logits = self._mask_action_logits(logits, mask)\n",
    "        log_softmax = tf.nn.log_softmax(masked_logits)\n",
    "        action_log_probas = tf.reduce_sum(\n",
    "            (\n",
    "                tf.reshape(log_softmax, shape=actions.shape)\n",
    "                * tf.cast(actions, dtype=tf.float32)\n",
    "            ), \n",
    "            axis=2, keepdims=True\n",
    "        )\n",
    "        return action_log_probas\n",
    "        \n",
    "    \n",
    "def backward_step(current_position, back_action):\n",
    "    new_position = current_position - back_action\n",
    "    return new_position"
   ]
  },
  {
   "cell_type": "code",
   "execution_count": 2,
   "metadata": {
    "ExecuteTime": {
     "end_time": "2022-11-25T21:16:32.487522Z",
     "start_time": "2022-11-25T21:16:30.690953Z"
    }
   },
   "outputs": [
    {
     "name": "stderr",
     "output_type": "stream",
     "text": [
      "2022-11-25 16:16:30.706918: I tensorflow/core/platform/cpu_feature_guard.cc:193] This TensorFlow binary is optimized with oneAPI Deep Neural Network Library (oneDNN) to use the following CPU instructions in performance-critical operations:  SSE4.1 SSE4.2 AVX AVX2 FMA\n",
      "To enable them in other operations, rebuild TensorFlow with the appropriate compiler flags.\n"
     ]
    },
    {
     "name": "stdout",
     "output_type": "stream",
     "text": [
      "1/1 [==============================] - 0s 437ms/step\n",
      "1/1 [==============================] - 0s 42ms/step\n",
      "1/1 [==============================] - 0s 44ms/step\n",
      "1/1 [==============================] - 0s 60ms/step\n",
      "1/1 [==============================] - 0s 90ms/step\n",
      "1/1 [==============================] - 0s 86ms/step\n",
      "1/1 [==============================] - 0s 81ms/step\n"
     ]
    }
   ],
   "source": [
    "batch_size = 2\n",
    "grid_length = 3\n",
    "\n",
    "current_position = tf.random.uniform(\n",
    "    shape=(batch_size, 5), minval=0, maxval=grid_length, dtype=tf.int32\n",
    ")\n",
    "\n",
    "agent = Agent(grid_length)\n",
    "\n",
    "trajectory = [current_position]\n",
    "actions = []\n",
    "\n",
    "sampling = tf.constant(True)\n",
    "\n",
    "while sampling:\n",
    "    action = agent.backward_action(current_position)\n",
    "    current_position = backward_step(current_position, action)\n",
    "    trajectory.append(current_position)\n",
    "    actions.append(action)\n",
    "    \n",
    "    sampling = tf.math.reduce_any(tf.math.not_equal(current_position, 0))\n",
    "    \n",
    "trajectory = tf.stack(trajectory)\n",
    "back_actions = tf.stack(\n",
    "    actions + [tf.zeros(shape=action.shape, dtype=tf.int32)]\n",
    ")\n",
    "forward_actions = tf.stack(\n",
    "    [tf.zeros(shape=action.shape, dtype=tf.int32)] + actions\n",
    ")\n",
    "terminal_action = tf.concat([\n",
    "    tf.ones(shape=(1, forward_actions.shape[1], 1), dtype=tf.int32),\n",
    "    tf.zeros(shape=(forward_actions.shape[0]-1, forward_actions.shape[1], 1), dtype=tf.int32)\n",
    "], axis=0)\n",
    "forward_actions = tf.concat([forward_actions, terminal_action], axis=2)"
   ]
  },
  {
   "cell_type": "code",
   "execution_count": 3,
   "metadata": {
    "ExecuteTime": {
     "end_time": "2022-11-25T21:17:29.696621Z",
     "start_time": "2022-11-25T21:17:29.526587Z"
    }
   },
   "outputs": [
    {
     "name": "stdout",
     "output_type": "stream",
     "text": [
      "1/1 [==============================] - 0s 57ms/step\n"
     ]
    }
   ],
   "source": [
    "log_proba_ratios = agent.calculate_log_proba_ratios(trajectory, back_actions, forward_actions)"
   ]
  },
  {
   "cell_type": "code",
   "execution_count": 4,
   "metadata": {
    "ExecuteTime": {
     "end_time": "2022-11-25T21:17:34.711666Z",
     "start_time": "2022-11-25T21:17:34.676253Z"
    }
   },
   "outputs": [
    {
     "data": {
      "text/plain": [
       "<tf.Tensor: shape=(2, 1), dtype=float32, numpy=\n",
       "array([[-6.537716],\n",
       "       [-8.074623]], dtype=float32)>"
      ]
     },
     "execution_count": 4,
     "metadata": {},
     "output_type": "execute_result"
    }
   ],
   "source": [
    "log_proba_ratios"
   ]
  },
  {
   "cell_type": "code",
   "execution_count": 8,
   "metadata": {
    "ExecuteTime": {
     "end_time": "2022-11-25T20:55:52.314449Z",
     "start_time": "2022-11-25T20:55:52.289445Z"
    }
   },
   "outputs": [
    {
     "data": {
      "text/plain": [
       "<tf.Tensor: shape=(8, 2, 5), dtype=int32, numpy=\n",
       "array([[[0, 1, 2, 2, 1],\n",
       "        [2, 0, 2, 1, 2]],\n",
       "\n",
       "       [[0, 1, 2, 1, 1],\n",
       "        [2, 0, 1, 1, 2]],\n",
       "\n",
       "       [[0, 1, 2, 1, 0],\n",
       "        [2, 0, 1, 1, 1]],\n",
       "\n",
       "       [[0, 1, 1, 1, 0],\n",
       "        [2, 0, 1, 1, 0]],\n",
       "\n",
       "       [[0, 0, 1, 1, 0],\n",
       "        [2, 0, 1, 0, 0]],\n",
       "\n",
       "       [[0, 0, 0, 1, 0],\n",
       "        [1, 0, 1, 0, 0]],\n",
       "\n",
       "       [[0, 0, 0, 0, 0],\n",
       "        [1, 0, 0, 0, 0]],\n",
       "\n",
       "       [[0, 0, 0, 0, 0],\n",
       "        [0, 0, 0, 0, 0]]], dtype=int32)>"
      ]
     },
     "execution_count": 8,
     "metadata": {},
     "output_type": "execute_result"
    }
   ],
   "source": [
    "trajectory"
   ]
  },
  {
   "cell_type": "code",
   "execution_count": 4,
   "metadata": {
    "ExecuteTime": {
     "end_time": "2022-11-25T20:53:29.615082Z",
     "start_time": "2022-11-25T20:53:29.466223Z"
    }
   },
   "outputs": [
    {
     "name": "stdout",
     "output_type": "stream",
     "text": [
      "1/1 [==============================] - 0s 46ms/step\n"
     ]
    },
    {
     "data": {
      "text/plain": [
       "array([[ 0.36606342, -0.50462985,  0.89018464,  0.21219297, -0.3064791 ,\n",
       "         0.51369846],\n",
       "       [-0.06173432, -0.24918589,  0.33766556,  0.19875363,  0.05723034,\n",
       "         0.36787444],\n",
       "       [ 0.1182244 , -0.35777742,  0.4566329 ,  0.17104968, -0.29075134,\n",
       "         0.6330337 ],\n",
       "       [ 0.24353316,  0.15930244,  0.382346  ,  0.19979723,  0.59276474,\n",
       "         0.16319683],\n",
       "       [ 0.21388142, -0.36071864,  0.47404975,  0.21301773, -0.46088445,\n",
       "         0.79795426],\n",
       "       [ 0.03015062,  0.50287676,  0.16799748,  0.2246193 ,  0.7768584 ,\n",
       "         0.5853298 ],\n",
       "       [ 0.5263218 , -0.01107349,  0.50734246,  0.19541554,  0.11375482,\n",
       "         0.6073983 ],\n",
       "       [ 0.10943656,  0.36290202,  0.2654329 ,  0.29338276,  0.71696436,\n",
       "         0.6251638 ],\n",
       "       [ 0.31811303,  0.13062839,  0.4559734 ,  0.17071219,  0.1198009 ,\n",
       "         0.46686274],\n",
       "       [-0.02628805,  0.3948001 ,  0.32909453,  0.05131832,  0.6474758 ,\n",
       "         0.7828636 ],\n",
       "       [ 0.22249931,  0.49489203,  0.2441214 ,  0.23936433, -0.331806  ,\n",
       "         0.42174542],\n",
       "       [ 0.17521617,  0.12523799,  0.71395993, -0.1604046 ,  0.36243492,\n",
       "         0.5172597 ],\n",
       "       [ 0.0826416 ,  0.606868  ,  0.38171828, -0.05783132, -0.41399062,\n",
       "         0.66153413],\n",
       "       [ 0.106298  ,  0.5190128 ,  0.6092542 , -0.08275726, -0.07993959,\n",
       "         0.503672  ],\n",
       "       [ 0.0826416 ,  0.606868  ,  0.38171828, -0.05783132, -0.41399062,\n",
       "         0.66153413],\n",
       "       [ 0.0826416 ,  0.606868  ,  0.38171828, -0.05783132, -0.41399062,\n",
       "         0.66153413]], dtype=float32)"
      ]
     },
     "execution_count": 4,
     "metadata": {},
     "output_type": "execute_result"
    }
   ],
   "source": [
    "reshaped_positions = tf.reshape(trajectory, shape=(-1, 5))\n",
    "encoded_positions = tf.one_hot(\n",
    "    reshaped_positions, \n",
    "    depth=agent.env_grid_length, axis=-1\n",
    ")\n",
    "logits = agent.policy.predict(encoded_positions)[1]\n",
    "logits"
   ]
  },
  {
   "cell_type": "code",
   "execution_count": 5,
   "metadata": {
    "ExecuteTime": {
     "end_time": "2022-11-25T20:55:31.074382Z",
     "start_time": "2022-11-25T20:55:31.065427Z"
    }
   },
   "outputs": [],
   "source": [
    "forward_coord_mask = tf.math.equal(reshaped_positions, agent.env_grid_length-1)\n",
    "masked_logits = agent._mask_action_logits(logits, forward_coord_mask)\n",
    "log_softmax = tf.nn.log_softmax(masked_logits)"
   ]
  },
  {
   "cell_type": "code",
   "execution_count": 10,
   "metadata": {
    "ExecuteTime": {
     "end_time": "2022-11-25T20:58:12.535985Z",
     "start_time": "2022-11-25T20:58:12.513300Z"
    }
   },
   "outputs": [
    {
     "data": {
      "text/plain": [
       "<tf.Tensor: shape=(8, 2, 1), dtype=float32, numpy=\n",
       "array([[[-0.9799405],\n",
       "        [-0.8687525]],\n",
       "\n",
       "       [[-1.5592407],\n",
       "        [-1.234432 ]],\n",
       "\n",
       "       [[-2.2567647],\n",
       "        [-1.3098645]],\n",
       "\n",
       "       [[-1.6344278],\n",
       "        [-1.3623778]],\n",
       "\n",
       "       [[-1.9488367],\n",
       "        [-2.0312302]],\n",
       "\n",
       "       [[-1.7943294],\n",
       "        [-1.9450111]],\n",
       "\n",
       "       [[-2.1282582],\n",
       "        [-1.4863207]],\n",
       "\n",
       "       [[ 0.       ],\n",
       "        [-1.9877853]]], dtype=float32)>"
      ]
     },
     "execution_count": 10,
     "metadata": {},
     "output_type": "execute_result"
    }
   ],
   "source": [
    "action_log_probas = tf.reduce_sum(\n",
    "    (\n",
    "        tf.reshape(log_softmax, shape=forward_actions.shape)\n",
    "        * tf.cast(forward_actions, dtype=tf.float32)\n",
    "    ), \n",
    "    axis=2, keepdims=True\n",
    ")\n",
    "action_log_probas"
   ]
  },
  {
   "cell_type": "code",
   "execution_count": 9,
   "metadata": {
    "ExecuteTime": {
     "end_time": "2022-11-25T20:57:37.661912Z",
     "start_time": "2022-11-25T20:57:37.642778Z"
    }
   },
   "outputs": [
    {
     "data": {
      "text/plain": [
       "<tf.Tensor: shape=(8, 2, 6), dtype=int32, numpy=\n",
       "array([[[0, 0, 0, 0, 0, 1],\n",
       "        [0, 0, 0, 0, 0, 1]],\n",
       "\n",
       "       [[0, 0, 0, 1, 0, 0],\n",
       "        [0, 0, 1, 0, 0, 0]],\n",
       "\n",
       "       [[0, 0, 0, 0, 1, 0],\n",
       "        [0, 0, 0, 0, 1, 0]],\n",
       "\n",
       "       [[0, 0, 1, 0, 0, 0],\n",
       "        [0, 0, 0, 0, 1, 0]],\n",
       "\n",
       "       [[0, 1, 0, 0, 0, 0],\n",
       "        [0, 0, 0, 1, 0, 0]],\n",
       "\n",
       "       [[0, 0, 1, 0, 0, 0],\n",
       "        [1, 0, 0, 0, 0, 0]],\n",
       "\n",
       "       [[0, 0, 0, 1, 0, 0],\n",
       "        [0, 0, 1, 0, 0, 0]],\n",
       "\n",
       "       [[0, 0, 0, 0, 0, 0],\n",
       "        [1, 0, 0, 0, 0, 0]]], dtype=int32)>"
      ]
     },
     "execution_count": 9,
     "metadata": {},
     "output_type": "execute_result"
    }
   ],
   "source": [
    "forward_actions"
   ]
  },
  {
   "cell_type": "code",
   "execution_count": null,
   "metadata": {},
   "outputs": [],
   "source": []
  },
  {
   "cell_type": "code",
   "execution_count": 10,
   "metadata": {
    "ExecuteTime": {
     "end_time": "2022-11-25T19:15:32.087704Z",
     "start_time": "2022-11-25T19:15:32.065606Z"
    }
   },
   "outputs": [
    {
     "data": {
      "text/plain": [
       "<tf.Tensor: shape=(14, 1), dtype=float32, numpy=\n",
       "array([[-0.91850126],\n",
       "       [-1.6424545 ],\n",
       "       [-1.4310194 ],\n",
       "       [-1.9285947 ],\n",
       "       [-0.9301102 ],\n",
       "       [-1.8424559 ],\n",
       "       [-1.0008314 ],\n",
       "       [-0.5848421 ],\n",
       "       [-0.44553822],\n",
       "       [-0.7281079 ],\n",
       "       [ 0.        ],\n",
       "       [-0.23103859],\n",
       "       [ 0.        ],\n",
       "       [ 0.        ]], dtype=float32)>"
      ]
     },
     "execution_count": 10,
     "metadata": {},
     "output_type": "execute_result"
    }
   ],
   "source": [
    "chosen_log_softmax = tf.reduce_sum(log_softmax*tf.reshape(tf.cast(back_actions, dtype=tf.float32), shape=(-1, 5)), axis=1, keepdims=True)\n",
    "chosen_log_softmax"
   ]
  },
  {
   "cell_type": "code",
   "execution_count": 11,
   "metadata": {
    "ExecuteTime": {
     "end_time": "2022-11-25T19:15:57.884645Z",
     "start_time": "2022-11-25T19:15:57.863626Z"
    }
   },
   "outputs": [
    {
     "data": {
      "text/plain": [
       "<tf.Tensor: shape=(7, 2, 1), dtype=float32, numpy=\n",
       "array([[[-0.91850126],\n",
       "        [-1.6424545 ]],\n",
       "\n",
       "       [[-1.4310194 ],\n",
       "        [-1.9285947 ]],\n",
       "\n",
       "       [[-0.9301102 ],\n",
       "        [-1.8424559 ]],\n",
       "\n",
       "       [[-1.0008314 ],\n",
       "        [-0.5848421 ]],\n",
       "\n",
       "       [[-0.44553822],\n",
       "        [-0.7281079 ]],\n",
       "\n",
       "       [[ 0.        ],\n",
       "        [-0.23103859]],\n",
       "\n",
       "       [[ 0.        ],\n",
       "        [ 0.        ]]], dtype=float32)>"
      ]
     },
     "execution_count": 11,
     "metadata": {},
     "output_type": "execute_result"
    }
   ],
   "source": [
    "tf.stack(tf.split(chosen_log_softmax, back_actions.shape[0]))"
   ]
  },
  {
   "cell_type": "code",
   "execution_count": 28,
   "metadata": {
    "ExecuteTime": {
     "end_time": "2022-11-24T21:47:16.393293Z",
     "start_time": "2022-11-24T21:47:16.365918Z"
    }
   },
   "outputs": [
    {
     "data": {
      "text/plain": [
       "[<tf.Tensor: shape=(2, 5), dtype=float32, numpy=\n",
       " array([[-1.5279682e+00, -2.0923474e+00, -6.4403170e-01, -1.0000000e+10,\n",
       "         -2.0065184e+00],\n",
       "        [-1.0000000e+10, -9.5508361e-01, -1.0000000e+10, -1.0000000e+10,\n",
       "         -4.8577532e-01]], dtype=float32)>,\n",
       " <tf.Tensor: shape=(2, 5), dtype=float32, numpy=\n",
       " array([[-1.0000000e+10, -1.4237180e+00, -5.3001684e-01, -1.0000000e+10,\n",
       "         -1.7685046e+00],\n",
       "        [-1.0000000e+10, -9.4627082e-01, -1.0000000e+10, -1.0000000e+10,\n",
       "         -4.9132681e-01]], dtype=float32)>,\n",
       " <tf.Tensor: shape=(2, 5), dtype=float32, numpy=\n",
       " array([[-1.000000e+10, -1.232618e+00, -7.472019e-01, -1.000000e+10,\n",
       "         -1.449100e+00],\n",
       "        [-1.000000e+10, -1.000000e+10, -1.000000e+10, -1.000000e+10,\n",
       "          0.000000e+00]], dtype=float32)>,\n",
       " <tf.Tensor: shape=(2, 5), dtype=float32, numpy=\n",
       " array([[-1.0000000e+10, -4.7735494e-01, -1.0000000e+10, -1.0000000e+10,\n",
       "         -9.6869588e-01],\n",
       "        [-1.6094379e+00, -1.6094379e+00, -1.6094379e+00, -1.6094379e+00,\n",
       "         -1.6094379e+00]], dtype=float32)>,\n",
       " <tf.Tensor: shape=(2, 5), dtype=float32, numpy=\n",
       " array([[-1.000000e+10, -9.462708e-01, -1.000000e+10, -1.000000e+10,\n",
       "         -4.913268e-01],\n",
       "        [-1.609438e+00, -1.609438e+00, -1.609438e+00, -1.609438e+00,\n",
       "         -1.609438e+00]], dtype=float32)>,\n",
       " <tf.Tensor: shape=(2, 5), dtype=float32, numpy=\n",
       " array([[-1.000000e+10,  0.000000e+00, -1.000000e+10, -1.000000e+10,\n",
       "         -1.000000e+10],\n",
       "        [-1.609438e+00, -1.609438e+00, -1.609438e+00, -1.609438e+00,\n",
       "         -1.609438e+00]], dtype=float32)>]"
      ]
     },
     "execution_count": 28,
     "metadata": {},
     "output_type": "execute_result"
    }
   ],
   "source": [
    "tf.split(log_softmax, back_actions.shape[0])"
   ]
  },
  {
   "cell_type": "code",
   "execution_count": null,
   "metadata": {},
   "outputs": [],
   "source": []
  },
  {
   "cell_type": "code",
   "execution_count": null,
   "metadata": {},
   "outputs": [],
   "source": []
  },
  {
   "cell_type": "code",
   "execution_count": null,
   "metadata": {},
   "outputs": [],
   "source": []
  },
  {
   "cell_type": "code",
   "execution_count": null,
   "metadata": {},
   "outputs": [],
   "source": []
  },
  {
   "cell_type": "code",
   "execution_count": 4,
   "metadata": {
    "ExecuteTime": {
     "end_time": "2022-11-24T19:39:30.903956Z",
     "start_time": "2022-11-24T19:39:30.882667Z"
    }
   },
   "outputs": [
    {
     "data": {
      "text/plain": [
       "<tf.Tensor: shape=(3, 5), dtype=int32, numpy=\n",
       "array([[1, 3, 2, 6, 6],\n",
       "       [5, 5, 3, 5, 3],\n",
       "       [2, 0, 0, 0, 0]], dtype=int32)>"
      ]
     },
     "execution_count": 4,
     "metadata": {},
     "output_type": "execute_result"
    }
   ],
   "source": [
    "# Remove if already at origin for back sampling\n",
    "\n",
    "current_position = tf.concat([current_position, \n",
    "                              tf.constant([\n",
    "                                  [2, 0, 0, 0, 0],\n",
    "#                                   [0, 0, 0, 0, 0]\n",
    "                              ])\n",
    "                             ], axis=0)\n",
    "current_position"
   ]
  },
  {
   "cell_type": "code",
   "execution_count": 6,
   "metadata": {
    "ExecuteTime": {
     "end_time": "2022-11-24T19:39:58.482982Z",
     "start_time": "2022-11-24T19:39:57.500471Z"
    }
   },
   "outputs": [
    {
     "name": "stdout",
     "output_type": "stream",
     "text": [
      "1/1 [==============================] - 0s 387ms/step\n",
      "1/1 [==============================] - 0s 51ms/step\n",
      "1/1 [==============================] - 0s 52ms/step\n",
      "1/1 [==============================] - 0s 43ms/step\n"
     ]
    }
   ],
   "source": [
    "agent = Agent(grid_length)\n",
    "\n",
    "trajectory = [current_position]\n",
    "back_actions = []\n",
    "\n",
    "for _ in range(4):\n",
    "    back_action = agent.backward_action(current_position)\n",
    "    current_position = backward_step(current_position, back_action)\n",
    "    trajectory.append(current_position)\n",
    "    back_actions.append(back_action)"
   ]
  },
  {
   "cell_type": "code",
   "execution_count": 7,
   "metadata": {
    "ExecuteTime": {
     "end_time": "2022-11-24T19:40:00.114929Z",
     "start_time": "2022-11-24T19:40:00.094251Z"
    }
   },
   "outputs": [
    {
     "data": {
      "text/plain": [
       "[<tf.Tensor: shape=(3, 5), dtype=int32, numpy=\n",
       " array([[1, 3, 2, 6, 6],\n",
       "        [5, 5, 3, 5, 3],\n",
       "        [2, 0, 0, 0, 0]], dtype=int32)>,\n",
       " <tf.Tensor: shape=(3, 5), dtype=int32, numpy=\n",
       " array([[0, 3, 2, 6, 6],\n",
       "        [5, 4, 3, 5, 3],\n",
       "        [1, 0, 0, 0, 0]], dtype=int32)>,\n",
       " <tf.Tensor: shape=(3, 5), dtype=int32, numpy=\n",
       " array([[0, 2, 2, 6, 6],\n",
       "        [5, 4, 3, 5, 2],\n",
       "        [0, 0, 0, 0, 0]], dtype=int32)>,\n",
       " <tf.Tensor: shape=(3, 5), dtype=int32, numpy=\n",
       " array([[0, 1, 2, 6, 6],\n",
       "        [5, 4, 3, 4, 2],\n",
       "        [0, 0, 0, 0, 0]], dtype=int32)>,\n",
       " <tf.Tensor: shape=(3, 5), dtype=int32, numpy=\n",
       " array([[0, 1, 2, 6, 5],\n",
       "        [5, 4, 2, 4, 2],\n",
       "        [0, 0, 0, 0, 0]], dtype=int32)>]"
      ]
     },
     "execution_count": 7,
     "metadata": {},
     "output_type": "execute_result"
    }
   ],
   "source": [
    "trajectory"
   ]
  },
  {
   "cell_type": "code",
   "execution_count": null,
   "metadata": {},
   "outputs": [],
   "source": []
  },
  {
   "cell_type": "code",
   "execution_count": 8,
   "metadata": {
    "ExecuteTime": {
     "end_time": "2022-11-24T19:40:05.932298Z",
     "start_time": "2022-11-24T19:40:05.916946Z"
    }
   },
   "outputs": [
    {
     "data": {
      "text/plain": [
       "<tf.Tensor: shape=(4, 3, 5), dtype=int32, numpy=\n",
       "array([[[1, 0, 0, 0, 0],\n",
       "        [0, 1, 0, 0, 0],\n",
       "        [1, 0, 0, 0, 0]],\n",
       "\n",
       "       [[0, 1, 0, 0, 0],\n",
       "        [0, 0, 0, 0, 1],\n",
       "        [1, 0, 0, 0, 0]],\n",
       "\n",
       "       [[0, 1, 0, 0, 0],\n",
       "        [0, 0, 0, 1, 0],\n",
       "        [0, 0, 0, 0, 0]],\n",
       "\n",
       "       [[0, 0, 0, 0, 1],\n",
       "        [0, 0, 1, 0, 0],\n",
       "        [0, 0, 0, 0, 0]]], dtype=int32)>"
      ]
     },
     "execution_count": 8,
     "metadata": {},
     "output_type": "execute_result"
    }
   ],
   "source": [
    "a = tf.stack(back_actions)\n",
    "a"
   ]
  },
  {
   "cell_type": "code",
   "execution_count": 14,
   "metadata": {
    "ExecuteTime": {
     "end_time": "2022-11-24T19:44:49.831872Z",
     "start_time": "2022-11-24T19:44:49.765330Z"
    }
   },
   "outputs": [],
   "source": [
    "mask = tf.cast(tf.ones(shape=a.shape, dtype=tf.int32)*tf.reduce_sum(a, axis=2, keepdims=True), dtype=tf.bool)"
   ]
  },
  {
   "cell_type": "code",
   "execution_count": 16,
   "metadata": {
    "ExecuteTime": {
     "end_time": "2022-11-24T19:45:53.949583Z",
     "start_time": "2022-11-24T19:45:53.800692Z"
    }
   },
   "outputs": [],
   "source": [
    "b = tf.ragged.boolean_mask(a, mask)"
   ]
  },
  {
   "cell_type": "code",
   "execution_count": 17,
   "metadata": {
    "ExecuteTime": {
     "end_time": "2022-11-24T19:45:56.442925Z",
     "start_time": "2022-11-24T19:45:56.417777Z"
    }
   },
   "outputs": [
    {
     "data": {
      "text/plain": [
       "<tf.RaggedTensor [[[1, 0, 0, 0, 0], [0, 1, 0, 0, 0], [1, 0, 0, 0, 0]],\n",
       " [[0, 1, 0, 0, 0], [0, 0, 0, 0, 1], [1, 0, 0, 0, 0]],\n",
       " [[0, 1, 0, 0, 0], [0, 0, 0, 1, 0], []],\n",
       " [[0, 0, 0, 0, 1], [0, 0, 1, 0, 0], []]]>"
      ]
     },
     "execution_count": 17,
     "metadata": {},
     "output_type": "execute_result"
    }
   ],
   "source": [
    "b"
   ]
  },
  {
   "cell_type": "code",
   "execution_count": 9,
   "metadata": {
    "ExecuteTime": {
     "end_time": "2022-11-24T18:51:58.661270Z",
     "start_time": "2022-11-24T18:51:58.643429Z"
    }
   },
   "outputs": [
    {
     "data": {
      "text/plain": [
       "<tf.Tensor: shape=(11, 5), dtype=int32, numpy=\n",
       "array([[5, 3, 2, 1, 1],\n",
       "       [4, 5, 5, 4, 4],\n",
       "       [1, 2, 2, 0, 5],\n",
       "       [3, 2, 0, 6, 0],\n",
       "       [3, 4, 5, 3, 3],\n",
       "       [0, 1, 5, 2, 1],\n",
       "       [2, 0, 4, 4, 0],\n",
       "       [6, 6, 0, 0, 4],\n",
       "       [1, 6, 1, 4, 6],\n",
       "       [0, 3, 0, 5, 6],\n",
       "       [1, 0, 0, 0, 0]], dtype=int32)>"
      ]
     },
     "execution_count": 9,
     "metadata": {},
     "output_type": "execute_result"
    }
   ],
   "source": [
    "new_position = backward_step(current_position, back_actions)\n",
    "new_position"
   ]
  },
  {
   "cell_type": "code",
   "execution_count": 10,
   "metadata": {
    "ExecuteTime": {
     "end_time": "2022-11-24T18:52:13.321991Z",
     "start_time": "2022-11-24T18:52:13.131666Z"
    }
   },
   "outputs": [
    {
     "name": "stdout",
     "output_type": "stream",
     "text": [
      "1/1 [==============================] - 0s 57ms/step\n",
      "tf.Tensor(\n",
      "[[0 0 0 0 1]\n",
      " [0 0 0 1 0]\n",
      " [0 1 0 0 0]\n",
      " [1 0 0 0 0]\n",
      " [0 0 0 1 0]\n",
      " [0 0 0 1 0]\n",
      " [0 0 1 0 0]\n",
      " [0 1 0 0 0]\n",
      " [0 1 0 0 0]\n",
      " [0 0 0 0 1]\n",
      " [1 0 0 0 0]], shape=(11, 5), dtype=int32)\n",
      "tf.Tensor(\n",
      "[[1]\n",
      " [1]\n",
      " [1]\n",
      " [1]\n",
      " [1]\n",
      " [1]\n",
      " [1]\n",
      " [1]\n",
      " [1]\n",
      " [1]\n",
      " [1]], shape=(11, 1), dtype=int32)\n"
     ]
    },
    {
     "data": {
      "text/plain": [
       "<tf.Tensor: shape=(11, 5), dtype=int32, numpy=\n",
       "array([[0, 0, 0, 0, 1],\n",
       "       [0, 0, 0, 1, 0],\n",
       "       [0, 1, 0, 0, 0],\n",
       "       [1, 0, 0, 0, 0],\n",
       "       [0, 0, 0, 1, 0],\n",
       "       [0, 0, 0, 1, 0],\n",
       "       [0, 0, 1, 0, 0],\n",
       "       [0, 1, 0, 0, 0],\n",
       "       [0, 1, 0, 0, 0],\n",
       "       [0, 0, 0, 0, 1],\n",
       "       [1, 0, 0, 0, 0]], dtype=int32)>"
      ]
     },
     "execution_count": 10,
     "metadata": {},
     "output_type": "execute_result"
    }
   ],
   "source": [
    "back_actions = agent.backward_action(new_position)\n",
    "back_actions"
   ]
  },
  {
   "cell_type": "code",
   "execution_count": 11,
   "metadata": {
    "ExecuteTime": {
     "end_time": "2022-11-24T18:52:23.684583Z",
     "start_time": "2022-11-24T18:52:23.667819Z"
    }
   },
   "outputs": [
    {
     "data": {
      "text/plain": [
       "<tf.Tensor: shape=(11, 5), dtype=int32, numpy=\n",
       "array([[5, 3, 2, 1, 0],\n",
       "       [4, 5, 5, 3, 4],\n",
       "       [1, 1, 2, 0, 5],\n",
       "       [2, 2, 0, 6, 0],\n",
       "       [3, 4, 5, 2, 3],\n",
       "       [0, 1, 5, 1, 1],\n",
       "       [2, 0, 3, 4, 0],\n",
       "       [6, 5, 0, 0, 4],\n",
       "       [1, 5, 1, 4, 6],\n",
       "       [0, 3, 0, 5, 5],\n",
       "       [0, 0, 0, 0, 0]], dtype=int32)>"
      ]
     },
     "execution_count": 11,
     "metadata": {},
     "output_type": "execute_result"
    }
   ],
   "source": [
    "new_position = backward_step(new_position, back_actions)\n",
    "new_position"
   ]
  },
  {
   "cell_type": "code",
   "execution_count": null,
   "metadata": {},
   "outputs": [],
   "source": []
  },
  {
   "cell_type": "code",
   "execution_count": 12,
   "metadata": {
    "ExecuteTime": {
     "end_time": "2022-11-24T18:52:29.475351Z",
     "start_time": "2022-11-24T18:52:29.150096Z"
    }
   },
   "outputs": [
    {
     "name": "stdout",
     "output_type": "stream",
     "text": [
      "1/1 [==============================] - 0s 43ms/step\n",
      "tf.Tensor(\n",
      "[[0 0 0 1 0]\n",
      " [0 0 0 1 0]\n",
      " [0 0 1 0 0]\n",
      " [1 0 0 0 0]\n",
      " [0 0 1 0 0]\n",
      " [0 0 0 1 0]\n",
      " [0 0 1 0 0]\n",
      " [0 1 0 0 0]\n",
      " [1 0 0 0 0]\n",
      " [0 1 0 0 0]\n",
      " [0 0 1 0 0]], shape=(11, 5), dtype=int32)\n",
      "tf.Tensor(\n",
      "[[1]\n",
      " [1]\n",
      " [1]\n",
      " [1]\n",
      " [1]\n",
      " [1]\n",
      " [1]\n",
      " [1]\n",
      " [1]\n",
      " [1]\n",
      " [0]], shape=(11, 1), dtype=int32)\n"
     ]
    },
    {
     "data": {
      "text/plain": [
       "<tf.Tensor: shape=(11, 5), dtype=int32, numpy=\n",
       "array([[0, 0, 0, 1, 0],\n",
       "       [0, 0, 0, 1, 0],\n",
       "       [0, 0, 1, 0, 0],\n",
       "       [1, 0, 0, 0, 0],\n",
       "       [0, 0, 1, 0, 0],\n",
       "       [0, 0, 0, 1, 0],\n",
       "       [0, 0, 1, 0, 0],\n",
       "       [0, 1, 0, 0, 0],\n",
       "       [1, 0, 0, 0, 0],\n",
       "       [0, 1, 0, 0, 0],\n",
       "       [0, 0, 0, 0, 0]], dtype=int32)>"
      ]
     },
     "execution_count": 12,
     "metadata": {},
     "output_type": "execute_result"
    }
   ],
   "source": [
    "back_actions = agent.backward_action(new_position)\n",
    "back_actions"
   ]
  },
  {
   "cell_type": "code",
   "execution_count": 13,
   "metadata": {
    "ExecuteTime": {
     "end_time": "2022-11-24T18:52:38.720512Z",
     "start_time": "2022-11-24T18:52:38.703563Z"
    }
   },
   "outputs": [
    {
     "data": {
      "text/plain": [
       "<tf.Tensor: shape=(11, 5), dtype=int32, numpy=\n",
       "array([[5, 3, 2, 0, 0],\n",
       "       [4, 5, 5, 2, 4],\n",
       "       [1, 1, 1, 0, 5],\n",
       "       [1, 2, 0, 6, 0],\n",
       "       [3, 4, 4, 2, 3],\n",
       "       [0, 1, 5, 0, 1],\n",
       "       [2, 0, 2, 4, 0],\n",
       "       [6, 4, 0, 0, 4],\n",
       "       [0, 5, 1, 4, 6],\n",
       "       [0, 2, 0, 5, 5],\n",
       "       [0, 0, 0, 0, 0]], dtype=int32)>"
      ]
     },
     "execution_count": 13,
     "metadata": {},
     "output_type": "execute_result"
    }
   ],
   "source": [
    "new_position = backward_step(new_position, back_actions)\n",
    "new_position"
   ]
  },
  {
   "cell_type": "code",
   "execution_count": 14,
   "metadata": {
    "ExecuteTime": {
     "end_time": "2022-11-24T18:52:48.734697Z",
     "start_time": "2022-11-24T18:52:48.549665Z"
    }
   },
   "outputs": [
    {
     "name": "stdout",
     "output_type": "stream",
     "text": [
      "1/1 [==============================] - 0s 59ms/step\n",
      "tf.Tensor(\n",
      "[[0 0 1 0 0]\n",
      " [0 0 0 0 1]\n",
      " [0 0 1 0 0]\n",
      " [1 0 0 0 0]\n",
      " [0 0 0 1 0]\n",
      " [0 0 0 0 1]\n",
      " [0 0 0 1 0]\n",
      " [0 0 0 0 1]\n",
      " [0 1 0 0 0]\n",
      " [0 0 0 0 1]\n",
      " [0 1 0 0 0]], shape=(11, 5), dtype=int32)\n",
      "tf.Tensor(\n",
      "[[1]\n",
      " [1]\n",
      " [1]\n",
      " [1]\n",
      " [1]\n",
      " [1]\n",
      " [1]\n",
      " [1]\n",
      " [1]\n",
      " [1]\n",
      " [0]], shape=(11, 1), dtype=int32)\n"
     ]
    },
    {
     "data": {
      "text/plain": [
       "<tf.Tensor: shape=(11, 5), dtype=int32, numpy=\n",
       "array([[0, 0, 1, 0, 0],\n",
       "       [0, 0, 0, 0, 1],\n",
       "       [0, 0, 1, 0, 0],\n",
       "       [1, 0, 0, 0, 0],\n",
       "       [0, 0, 0, 1, 0],\n",
       "       [0, 0, 0, 0, 1],\n",
       "       [0, 0, 0, 1, 0],\n",
       "       [0, 0, 0, 0, 1],\n",
       "       [0, 1, 0, 0, 0],\n",
       "       [0, 0, 0, 0, 1],\n",
       "       [0, 0, 0, 0, 0]], dtype=int32)>"
      ]
     },
     "execution_count": 14,
     "metadata": {},
     "output_type": "execute_result"
    }
   ],
   "source": [
    "back_actions = agent.backward_action(new_position)\n",
    "back_actions"
   ]
  },
  {
   "cell_type": "code",
   "execution_count": 15,
   "metadata": {
    "ExecuteTime": {
     "end_time": "2022-11-24T18:52:52.749951Z",
     "start_time": "2022-11-24T18:52:52.734892Z"
    }
   },
   "outputs": [
    {
     "data": {
      "text/plain": [
       "<tf.Tensor: shape=(11, 5), dtype=int32, numpy=\n",
       "array([[5, 3, 1, 0, 0],\n",
       "       [4, 5, 5, 2, 3],\n",
       "       [1, 1, 0, 0, 5],\n",
       "       [0, 2, 0, 6, 0],\n",
       "       [3, 4, 4, 1, 3],\n",
       "       [0, 1, 5, 0, 0],\n",
       "       [2, 0, 2, 3, 0],\n",
       "       [6, 4, 0, 0, 3],\n",
       "       [0, 4, 1, 4, 6],\n",
       "       [0, 2, 0, 5, 4],\n",
       "       [0, 0, 0, 0, 0]], dtype=int32)>"
      ]
     },
     "execution_count": 15,
     "metadata": {},
     "output_type": "execute_result"
    }
   ],
   "source": [
    "new_position = backward_step(new_position, back_actions)\n",
    "new_position"
   ]
  },
  {
   "cell_type": "code",
   "execution_count": null,
   "metadata": {},
   "outputs": [],
   "source": []
  },
  {
   "cell_type": "code",
   "execution_count": null,
   "metadata": {},
   "outputs": [],
   "source": []
  },
  {
   "cell_type": "code",
   "execution_count": null,
   "metadata": {},
   "outputs": [],
   "source": []
  },
  {
   "cell_type": "code",
   "execution_count": null,
   "metadata": {},
   "outputs": [],
   "source": []
  },
  {
   "cell_type": "code",
   "execution_count": null,
   "metadata": {},
   "outputs": [],
   "source": []
  },
  {
   "cell_type": "code",
   "execution_count": null,
   "metadata": {},
   "outputs": [],
   "source": []
  },
  {
   "cell_type": "code",
   "execution_count": null,
   "metadata": {},
   "outputs": [],
   "source": []
  },
  {
   "cell_type": "code",
   "execution_count": null,
   "metadata": {},
   "outputs": [],
   "source": []
  },
  {
   "cell_type": "code",
   "execution_count": null,
   "metadata": {},
   "outputs": [],
   "source": []
  },
  {
   "cell_type": "code",
   "execution_count": null,
   "metadata": {},
   "outputs": [],
   "source": []
  },
  {
   "cell_type": "code",
   "execution_count": 10,
   "metadata": {
    "ExecuteTime": {
     "end_time": "2022-11-24T17:17:06.448104Z",
     "start_time": "2022-11-24T17:17:06.194334Z"
    }
   },
   "outputs": [
    {
     "name": "stdout",
     "output_type": "stream",
     "text": [
      "1/1 [==============================] - 0s 156ms/step\n"
     ]
    },
    {
     "data": {
      "text/plain": [
       "array([[-6.4809972e-01,  5.3084195e-01,  2.4392086e-01, -5.3548342e-01,\n",
       "        -4.3538299e-01],\n",
       "       [-1.1343048e-01, -1.7665544e-01, -1.6544846e-01,  3.6007795e-01,\n",
       "         3.9295644e-01],\n",
       "       [ 3.7668648e-01,  3.0121180e-01,  1.9785663e-01,  3.6049068e-02,\n",
       "        -1.0613856e+00],\n",
       "       [-4.0208122e-01, -3.5049197e-01,  2.6646286e-01,  3.1395680e-01,\n",
       "         1.4197114e-01],\n",
       "       [ 3.0549276e-01, -3.1088769e-02,  2.2941329e-01, -8.6708754e-02,\n",
       "        -6.2300704e-02],\n",
       "       [-1.2447351e+00,  4.9847800e-01,  6.4200854e-01,  3.6725062e-01,\n",
       "         4.3760002e-01],\n",
       "       [-2.8469381e-01,  8.6022317e-02,  8.6110282e-01,  4.6994925e-02,\n",
       "        -2.1885723e-02],\n",
       "       [-1.2475082e-01, -4.0141165e-01,  2.9444158e-02, -1.9728884e-01,\n",
       "         2.9799452e-01],\n",
       "       [-5.1271170e-04,  2.3457837e-01, -5.1820165e-01, -4.6456134e-01,\n",
       "        -1.1830505e+00],\n",
       "       [ 2.8238037e-01,  1.9005036e-01, -2.9617256e-01,  2.3690698e-01,\n",
       "        -4.1451451e-01]], dtype=float32)"
      ]
     },
     "execution_count": 10,
     "metadata": {},
     "output_type": "execute_result"
    }
   ],
   "source": [
    "encoded = tf.one_hot(current_position, depth=grid_length, axis=-1)\n",
    "action_logits = policy.predict(encoded)\n",
    "action_logits"
   ]
  },
  {
   "cell_type": "markdown",
   "metadata": {},
   "source": [
    "# Mask logits to remove out of bounds actions"
   ]
  },
  {
   "cell_type": "code",
   "execution_count": 11,
   "metadata": {
    "ExecuteTime": {
     "end_time": "2022-11-24T18:35:33.134714Z",
     "start_time": "2022-11-24T18:35:33.117522Z"
    }
   },
   "outputs": [
    {
     "data": {
      "text/plain": [
       "<tf.Tensor: shape=(12, 5), dtype=int32, numpy=\n",
       "array([[5, 5, 2, 2, 4],\n",
       "       [1, 0, 1, 5, 5],\n",
       "       [2, 6, 6, 2, 4],\n",
       "       [6, 4, 2, 6, 6],\n",
       "       [0, 2, 6, 1, 3],\n",
       "       [3, 6, 5, 1, 4],\n",
       "       [1, 3, 0, 1, 2],\n",
       "       [6, 6, 0, 1, 1],\n",
       "       [3, 5, 5, 2, 2],\n",
       "       [2, 6, 6, 6, 5],\n",
       "       [2, 0, 0, 0, 0],\n",
       "       [0, 0, 0, 0, 0]], dtype=int32)>"
      ]
     },
     "execution_count": 11,
     "metadata": {},
     "output_type": "execute_result"
    }
   ],
   "source": [
    "current_position = tf.concat([current_position, tf.constant([[0, 0, 0, 0, 0]])], axis=0)\n",
    "current_position"
   ]
  },
  {
   "cell_type": "code",
   "execution_count": 12,
   "metadata": {
    "ExecuteTime": {
     "end_time": "2022-11-24T18:35:43.996123Z",
     "start_time": "2022-11-24T18:35:43.985098Z"
    }
   },
   "outputs": [],
   "source": [
    "# Back Sampling\n",
    "\n",
    "back_coord_mask = tf.math.equal(current_position, 0)\n",
    "avoid_inds = tf.where(back_coord_mask)"
   ]
  },
  {
   "cell_type": "code",
   "execution_count": 14,
   "metadata": {
    "ExecuteTime": {
     "end_time": "2022-11-24T18:36:06.415855Z",
     "start_time": "2022-11-24T18:36:06.396198Z"
    }
   },
   "outputs": [
    {
     "data": {
      "text/plain": [
       "<tf.Tensor: shape=(12, 5), dtype=bool, numpy=\n",
       "array([[False, False, False, False, False],\n",
       "       [False,  True, False, False, False],\n",
       "       [False, False, False, False, False],\n",
       "       [False, False, False, False, False],\n",
       "       [ True, False, False, False, False],\n",
       "       [False, False, False, False, False],\n",
       "       [False, False,  True, False, False],\n",
       "       [False, False,  True, False, False],\n",
       "       [False, False, False, False, False],\n",
       "       [False, False, False, False, False],\n",
       "       [False,  True,  True,  True,  True],\n",
       "       [ True,  True,  True,  True,  True]])>"
      ]
     },
     "execution_count": 14,
     "metadata": {},
     "output_type": "execute_result"
    }
   ],
   "source": [
    "back_coord_mask"
   ]
  },
  {
   "cell_type": "code",
   "execution_count": 20,
   "metadata": {
    "ExecuteTime": {
     "end_time": "2022-11-24T18:40:08.771857Z",
     "start_time": "2022-11-24T18:40:08.753650Z"
    }
   },
   "outputs": [
    {
     "data": {
      "text/plain": [
       "<tf.Tensor: shape=(12, 1), dtype=int32, numpy=\n",
       "array([[0],\n",
       "       [0],\n",
       "       [0],\n",
       "       [0],\n",
       "       [0],\n",
       "       [0],\n",
       "       [0],\n",
       "       [0],\n",
       "       [0],\n",
       "       [0],\n",
       "       [0],\n",
       "       [1]], dtype=int32)>"
      ]
     },
     "execution_count": 20,
     "metadata": {},
     "output_type": "execute_result"
    }
   ],
   "source": [
    "tf.cast(tf.math.reduce_all(back_coord_mask, axis=1, keepdims=True), dtype=tf.int32)"
   ]
  },
  {
   "cell_type": "code",
   "execution_count": 13,
   "metadata": {
    "ExecuteTime": {
     "end_time": "2022-11-24T18:35:54.088021Z",
     "start_time": "2022-11-24T18:35:52.953711Z"
    }
   },
   "outputs": [
    {
     "ename": "NameError",
     "evalue": "name 'action_logits' is not defined",
     "output_type": "error",
     "traceback": [
      "\u001b[0;31m---------------------------------------------------------------------------\u001b[0m",
      "\u001b[0;31mNameError\u001b[0m                                 Traceback (most recent call last)",
      "Cell \u001b[0;32mIn [13], line 3\u001b[0m\n\u001b[1;32m      1\u001b[0m neg_inf \u001b[38;5;241m=\u001b[39m \u001b[38;5;241m-\u001b[39m\u001b[38;5;241m10000000000.0\u001b[39m\n\u001b[1;32m      2\u001b[0m masked_logits \u001b[38;5;241m=\u001b[39m tf\u001b[38;5;241m.\u001b[39mtensor_scatter_nd_add(\n\u001b[0;32m----> 3\u001b[0m     \u001b[43maction_logits\u001b[49m, avoid_inds, tf\u001b[38;5;241m.\u001b[39mconstant([neg_inf]\u001b[38;5;241m*\u001b[39mavoid_inds\u001b[38;5;241m.\u001b[39mshape[\u001b[38;5;241m0\u001b[39m])\n\u001b[1;32m      4\u001b[0m )\n\u001b[1;32m      5\u001b[0m masked_logits\n",
      "\u001b[0;31mNameError\u001b[0m: name 'action_logits' is not defined"
     ]
    }
   ],
   "source": [
    "neg_inf = -10000000000.0\n",
    "masked_logits = tf.tensor_scatter_nd_add(\n",
    "    action_logits, avoid_inds, tf.constant([neg_inf]*avoid_inds.shape[0])\n",
    ")\n",
    "masked_logits"
   ]
  },
  {
   "cell_type": "code",
   "execution_count": 27,
   "metadata": {
    "ExecuteTime": {
     "end_time": "2022-11-24T17:46:19.314410Z",
     "start_time": "2022-11-24T17:46:19.295959Z"
    }
   },
   "outputs": [
    {
     "data": {
      "text/plain": [
       "<tf.Tensor: shape=(10, 1), dtype=int64, numpy=\n",
       "array([[2],\n",
       "       [1],\n",
       "       [3],\n",
       "       [0],\n",
       "       [0],\n",
       "       [2],\n",
       "       [1],\n",
       "       [4],\n",
       "       [0],\n",
       "       [1]])>"
      ]
     },
     "execution_count": 27,
     "metadata": {},
     "output_type": "execute_result"
    }
   ],
   "source": [
    "actions = tf.random.categorical(masked_logits, 1)\n",
    "actions"
   ]
  },
  {
   "cell_type": "code",
   "execution_count": 34,
   "metadata": {
    "ExecuteTime": {
     "end_time": "2022-11-24T17:49:55.272035Z",
     "start_time": "2022-11-24T17:49:55.251331Z"
    }
   },
   "outputs": [
    {
     "data": {
      "text/plain": [
       "<tf.Tensor: shape=(10, 5), dtype=float32, numpy=\n",
       "array([[0., 0., 1., 0., 0.],\n",
       "       [0., 1., 0., 0., 0.],\n",
       "       [0., 0., 0., 1., 0.],\n",
       "       [1., 0., 0., 0., 0.],\n",
       "       [1., 0., 0., 0., 0.],\n",
       "       [0., 0., 1., 0., 0.],\n",
       "       [0., 1., 0., 0., 0.],\n",
       "       [0., 0., 0., 0., 1.],\n",
       "       [1., 0., 0., 0., 0.],\n",
       "       [0., 1., 0., 0., 0.]], dtype=float32)>"
      ]
     },
     "execution_count": 34,
     "metadata": {},
     "output_type": "execute_result"
    }
   ],
   "source": [
    "encoded_actions = tf.one_hot(tf.reshape(actions, shape=(-1,)), depth=5)\n",
    "encoded_actions"
   ]
  },
  {
   "cell_type": "code",
   "execution_count": null,
   "metadata": {},
   "outputs": [],
   "source": []
  },
  {
   "cell_type": "code",
   "execution_count": null,
   "metadata": {},
   "outputs": [],
   "source": []
  },
  {
   "cell_type": "code",
   "execution_count": null,
   "metadata": {},
   "outputs": [],
   "source": []
  },
  {
   "cell_type": "code",
   "execution_count": null,
   "metadata": {},
   "outputs": [],
   "source": []
  },
  {
   "cell_type": "code",
   "execution_count": null,
   "metadata": {},
   "outputs": [],
   "source": []
  },
  {
   "cell_type": "code",
   "execution_count": null,
   "metadata": {},
   "outputs": [],
   "source": []
  },
  {
   "cell_type": "code",
   "execution_count": null,
   "metadata": {},
   "outputs": [],
   "source": []
  },
  {
   "cell_type": "code",
   "execution_count": 26,
   "metadata": {
    "ExecuteTime": {
     "end_time": "2022-11-25T20:39:54.129342Z",
     "start_time": "2022-11-25T20:39:54.109365Z"
    }
   },
   "outputs": [
    {
     "data": {
      "text/plain": [
       "<tf.Tensor: shape=(), dtype=float32, numpy=1.0>"
      ]
     },
     "execution_count": 26,
     "metadata": {},
     "output_type": "execute_result"
    }
   ],
   "source": [
    "# gradient test\n",
    "\n",
    "x = tf.Variable(1.0)\n",
    "a = 1\n",
    "with tf.GradientTape() as tape:\n",
    "    y = a*tf.math.log(x)\n",
    "    \n",
    "dy_dx = tape.gradient(y, x)\n",
    "dy_dx"
   ]
  },
  {
   "cell_type": "code",
   "execution_count": null,
   "metadata": {},
   "outputs": [],
   "source": []
  }
 ],
 "metadata": {
  "kernelspec": {
   "display_name": "Python [conda env:GFlowNets_on_SpinFoams] *",
   "language": "python",
   "name": "conda-env-GFlowNets_on_SpinFoams-py"
  },
  "language_info": {
   "codemirror_mode": {
    "name": "ipython",
    "version": 3
   },
   "file_extension": ".py",
   "mimetype": "text/x-python",
   "name": "python",
   "nbconvert_exporter": "python",
   "pygments_lexer": "ipython3",
   "version": "3.10.6"
  }
 },
 "nbformat": 4,
 "nbformat_minor": 2
}
