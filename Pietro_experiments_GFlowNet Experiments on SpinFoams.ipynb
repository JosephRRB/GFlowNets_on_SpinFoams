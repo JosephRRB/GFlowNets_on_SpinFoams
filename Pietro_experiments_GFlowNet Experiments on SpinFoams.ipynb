{
 "cells": [
  {
   "cell_type": "code",
   "execution_count": 1,
   "id": "9c46a19a",
   "metadata": {
    "ExecuteTime": {
     "end_time": "2023-02-04T02:59:51.716371Z",
     "start_time": "2023-02-04T02:59:45.296799Z"
    }
   },
   "outputs": [
    {
     "name": "stderr",
     "output_type": "stream",
     "text": [
      "2023-05-11 22:08:35.574280: I tensorflow/core/platform/cpu_feature_guard.cc:193] This TensorFlow binary is optimized with oneAPI Deep Neural Network Library (oneDNN) to use the following CPU instructions in performance-critical operations:  AVX2 FMA\n",
      "To enable them in other operations, rebuild TensorFlow with the appropriate compiler flags.\n",
      "2023-05-11 22:08:35.699200: E tensorflow/stream_executor/cuda/cuda_blas.cc:2981] Unable to register cuBLAS factory: Attempting to register factory for plugin cuBLAS when one has already been registered\n",
      "2023-05-11 22:08:36.236382: W tensorflow/stream_executor/platform/default/dso_loader.cc:64] Could not load dynamic library 'libnvinfer.so.7'; dlerror: libnvinfer.so.7: cannot open shared object file: No such file or directory; LD_LIBRARY_PATH: :/home/frisus/Scrivania/sl2cfoam-next-dev/lib:/home/frisus/anaconda3/envs/tf/lib/\n",
      "2023-05-11 22:08:36.236433: W tensorflow/stream_executor/platform/default/dso_loader.cc:64] Could not load dynamic library 'libnvinfer_plugin.so.7'; dlerror: libnvinfer_plugin.so.7: cannot open shared object file: No such file or directory; LD_LIBRARY_PATH: :/home/frisus/Scrivania/sl2cfoam-next-dev/lib:/home/frisus/anaconda3/envs/tf/lib/\n",
      "2023-05-11 22:08:36.236439: W tensorflow/compiler/tf2tensorrt/utils/py_utils.cc:38] TF-TRT Warning: Cannot dlopen some TensorRT libraries. If you would like to use Nvidia GPU with TensorRT, please make sure the missing libraries mentioned above are installed properly.\n"
     ]
    }
   ],
   "source": [
    "import os\n",
    "from datetime import datetime\n",
    "from pathlib import Path\n",
    "\n",
    "from core.runner import Runner\n",
    "from core.environment import SingleVertexSpinFoam, StarModelSpinFoam\n",
    "\n",
    "\n",
    "def train_gfn(\n",
    "    spin_j,\n",
    "    sf_model,\n",
    "    main_layer_hidden_nodes,\n",
    "    branch1_hidden_nodes,\n",
    "    branch2_hidden_nodes,\n",
    "    activation_function,\n",
    "    exploration_rate,\n",
    "    training_fraction_from_back_traj,\n",
    "    learning_rate,\n",
    "    batch_size,\n",
    "    n_iterations,\n",
    "    evaluation_batch_size,\n",
    "    generate_samples_every_m_training_samples,\n",
    "):\n",
    "    if sf_model == \"single_vertex_model\":\n",
    "        spinfoam_model = SingleVertexSpinFoam(spin_j=spin_j)\n",
    "    elif sf_model == \"star_model\":\n",
    "        spinfoam_model = StarModelSpinFoam(spin_j=spin_j)\n",
    "    else:\n",
    "        raise ValueError(\n",
    "            \"Spinfoam model not yet implemented. \" \"Custom Spinfoam class can be made.\"\n",
    "        )\n",
    "\n",
    "    # training_run_datetime = datetime.now().strftime(\"%B %d, %Y at %H:%M:%S\")\n",
    "\n",
    "    base_data_folder = Path(\n",
    "        f\"./data/\",\n",
    "        f\"GFlowNet/{sf_model}/j_{spin_j}/\",\n",
    "        f\"main_layer_hid_nodes_{main_layer_hidden_nodes}/\",\n",
    "        f\"exploration_rate_{exploration_rate}/learning_rate_{learning_rate}/activation_function_{activation_function}\",\n",
    "        f\"n_iterations_{n_iterations}/evaluation_batch_size_{evaluation_batch_size}/batch_size_{batch_size}\"\n",
    "    )\n",
    "\n",
    "    runner = Runner(\n",
    "        spinfoam_model=spinfoam_model,\n",
    "        main_layer_hidden_nodes=main_layer_hidden_nodes,\n",
    "        branch1_hidden_nodes=branch1_hidden_nodes,\n",
    "        branch2_hidden_nodes=branch2_hidden_nodes,\n",
    "        activation=activation_function,\n",
    "        exploration_rate=exploration_rate,\n",
    "        training_fraction_from_back_traj=training_fraction_from_back_traj,\n",
    "        learning_rate=learning_rate,\n",
    "    )\n",
    "\n",
    "    ave_losses = runner.train_agent(\n",
    "        batch_size,\n",
    "        n_iterations,\n",
    "        evaluation_batch_size,\n",
    "        generate_samples_every_m_training_samples,\n",
    "        base_data_folder,\n",
    "    )\n",
    "\n",
    "    return ave_losses"
   ]
  },
  {
   "attachments": {},
   "cell_type": "markdown",
   "id": "ed40d73f",
   "metadata": {},
   "source": [
    "## Vertex Amplitude"
   ]
  },
  {
   "cell_type": "code",
   "execution_count": 2,
   "id": "7937ad91",
   "metadata": {},
   "outputs": [],
   "source": [
    "spin_j = 2.0\n",
    "sf_model = \"single_vertex_model\"\n",
    "main_layer_hidden_nodes = (30, 20)\n",
    "branch1_hidden_nodes = ()\n",
    "branch2_hidden_nodes = ()\n",
    "activation = \"swish\"\n",
    "exploration_rate = 0.5\n",
    "training_fraction_from_back_traj = 0.0\n",
    "learning_rate = 0.0005\n",
    "batch_size = int(1e3)\n",
    "n_iterations = int(1e4)\n",
    "evaluation_batch_size = int(1e6)\n",
    "generate_samples_every_m_training_samples = int(1e6)"
   ]
  },
  {
   "cell_type": "code",
   "execution_count": 3,
   "id": "b2a4bb70",
   "metadata": {},
   "outputs": [
    {
     "name": "stderr",
     "output_type": "stream",
     "text": [
      "2023-05-11 22:08:49.750651: I tensorflow/stream_executor/cuda/cuda_gpu_executor.cc:980] successful NUMA node read from SysFS had negative value (-1), but there must be at least one NUMA node, so returning NUMA node zero\n",
      "2023-05-11 22:08:49.754692: I tensorflow/stream_executor/cuda/cuda_gpu_executor.cc:980] successful NUMA node read from SysFS had negative value (-1), but there must be at least one NUMA node, so returning NUMA node zero\n",
      "2023-05-11 22:08:49.755012: I tensorflow/stream_executor/cuda/cuda_gpu_executor.cc:980] successful NUMA node read from SysFS had negative value (-1), but there must be at least one NUMA node, so returning NUMA node zero\n",
      "2023-05-11 22:08:49.755625: I tensorflow/core/platform/cpu_feature_guard.cc:193] This TensorFlow binary is optimized with oneAPI Deep Neural Network Library (oneDNN) to use the following CPU instructions in performance-critical operations:  AVX2 FMA\n",
      "To enable them in other operations, rebuild TensorFlow with the appropriate compiler flags.\n",
      "2023-05-11 22:08:49.756275: I tensorflow/stream_executor/cuda/cuda_gpu_executor.cc:980] successful NUMA node read from SysFS had negative value (-1), but there must be at least one NUMA node, so returning NUMA node zero\n",
      "2023-05-11 22:08:49.756592: I tensorflow/stream_executor/cuda/cuda_gpu_executor.cc:980] successful NUMA node read from SysFS had negative value (-1), but there must be at least one NUMA node, so returning NUMA node zero\n",
      "2023-05-11 22:08:49.756877: I tensorflow/stream_executor/cuda/cuda_gpu_executor.cc:980] successful NUMA node read from SysFS had negative value (-1), but there must be at least one NUMA node, so returning NUMA node zero\n",
      "2023-05-11 22:08:50.172888: I tensorflow/stream_executor/cuda/cuda_gpu_executor.cc:980] successful NUMA node read from SysFS had negative value (-1), but there must be at least one NUMA node, so returning NUMA node zero\n",
      "2023-05-11 22:08:50.173331: I tensorflow/stream_executor/cuda/cuda_gpu_executor.cc:980] successful NUMA node read from SysFS had negative value (-1), but there must be at least one NUMA node, so returning NUMA node zero\n",
      "2023-05-11 22:08:50.173810: I tensorflow/stream_executor/cuda/cuda_gpu_executor.cc:980] successful NUMA node read from SysFS had negative value (-1), but there must be at least one NUMA node, so returning NUMA node zero\n",
      "2023-05-11 22:08:50.174073: I tensorflow/core/common_runtime/gpu/gpu_device.cc:1616] Created device /job:localhost/replica:0/task:0/device:GPU:0 with 6650 MB memory:  -> device: 0, name: NVIDIA GeForce RTX 2070 Super, pci bus id: 0000:01:00.0, compute capability: 7.5\n"
     ]
    },
    {
     "name": "stdout",
     "output_type": "stream",
     "text": [
      "Nth iteration: 1000 Trained on K samples: 1000000 Average Loss: 3.1506321372079147\n",
      "Nth iteration: 2000 Trained on K samples: 2000000 Average Loss: 1.6168387435448568\n",
      "Nth iteration: 3000 Trained on K samples: 3000000 Average Loss: 1.1542394526018567\n",
      "Nth iteration: 4000 Trained on K samples: 4000000 Average Loss: 0.92170160339876073\n",
      "Nth iteration: 5000 Trained on K samples: 5000000 Average Loss: 0.76620990842152092\n",
      "Nth iteration: 6000 Trained on K samples: 6000000 Average Loss: 0.50671854244202441\n",
      "Nth iteration: 7000 Trained on K samples: 7000000 Average Loss: 0.59575531626262579\n",
      "Nth iteration: 8000 Trained on K samples: 8000000 Average Loss: 0.62957022088041192\n",
      "Nth iteration: 9000 Trained on K samples: 9000000 Average Loss: 0.53589157364911966\n",
      "Nth iteration: 10000 Trained on K samples: 10000000 Average Loss: 0.5176212926511663\n",
      "INFO:tensorflow:Assets written to: data/GFlowNet/single_vertex_model/j_2.0/main_layer_hid_nodes_(30, 20)/exploration_rate_0.5/learning_rate_0.0005/activation_function_swish/n_iterations_10000/evaluation_batch_size_1000000/batch_size_1000/trained_agent_policy/assets\n"
     ]
    }
   ],
   "source": [
    "ave_losses = train_gfn(\n",
    "    spin_j,\n",
    "    sf_model,\n",
    "    main_layer_hidden_nodes,\n",
    "    branch1_hidden_nodes,\n",
    "    branch2_hidden_nodes,\n",
    "    activation,\n",
    "    exploration_rate,\n",
    "    training_fraction_from_back_traj,\n",
    "    learning_rate,\n",
    "    batch_size,\n",
    "    n_iterations,\n",
    "    evaluation_batch_size,\n",
    "    generate_samples_every_m_training_samples,\n",
    ")"
   ]
  },
  {
   "cell_type": "code",
   "execution_count": null,
   "id": "697f5f79",
   "metadata": {},
   "outputs": [],
   "source": []
  }
 ],
 "metadata": {
  "kernelspec": {
   "display_name": "Python 3 (ipykernel)",
   "language": "python",
   "name": "python3"
  },
  "language_info": {
   "codemirror_mode": {
    "name": "ipython",
    "version": 3
   },
   "file_extension": ".py",
   "mimetype": "text/x-python",
   "name": "python",
   "nbconvert_exporter": "python",
   "pygments_lexer": "ipython3",
   "version": "3.9.15"
  }
 },
 "nbformat": 4,
 "nbformat_minor": 5
}
