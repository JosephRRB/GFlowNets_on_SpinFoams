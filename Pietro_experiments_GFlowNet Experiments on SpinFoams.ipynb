{
 "cells": [
  {
   "cell_type": "code",
   "execution_count": 1,
   "id": "9c46a19a",
   "metadata": {
    "ExecuteTime": {
     "end_time": "2023-02-04T02:59:51.716371Z",
     "start_time": "2023-02-04T02:59:45.296799Z"
    }
   },
   "outputs": [
    {
     "name": "stderr",
     "output_type": "stream",
     "text": [
      "2023-05-07 14:43:45.278368: I tensorflow/core/platform/cpu_feature_guard.cc:193] This TensorFlow binary is optimized with oneAPI Deep Neural Network Library (oneDNN) to use the following CPU instructions in performance-critical operations:  AVX2 FMA\n",
      "To enable them in other operations, rebuild TensorFlow with the appropriate compiler flags.\n",
      "2023-05-07 14:43:45.408542: E tensorflow/stream_executor/cuda/cuda_blas.cc:2981] Unable to register cuBLAS factory: Attempting to register factory for plugin cuBLAS when one has already been registered\n",
      "2023-05-07 14:43:45.994543: W tensorflow/stream_executor/platform/default/dso_loader.cc:64] Could not load dynamic library 'libnvinfer.so.7'; dlerror: libnvinfer.so.7: cannot open shared object file: No such file or directory; LD_LIBRARY_PATH: :/home/frisus/Scrivania/sl2cfoam-next-dev/lib:/home/frisus/anaconda3/envs/tf/lib/\n",
      "2023-05-07 14:43:45.994602: W tensorflow/stream_executor/platform/default/dso_loader.cc:64] Could not load dynamic library 'libnvinfer_plugin.so.7'; dlerror: libnvinfer_plugin.so.7: cannot open shared object file: No such file or directory; LD_LIBRARY_PATH: :/home/frisus/Scrivania/sl2cfoam-next-dev/lib:/home/frisus/anaconda3/envs/tf/lib/\n",
      "2023-05-07 14:43:45.994608: W tensorflow/compiler/tf2tensorrt/utils/py_utils.cc:38] TF-TRT Warning: Cannot dlopen some TensorRT libraries. If you would like to use Nvidia GPU with TensorRT, please make sure the missing libraries mentioned above are installed properly.\n"
     ]
    }
   ],
   "source": [
    "import os\n",
    "from datetime import datetime\n",
    "\n",
    "from core.runner import Runner\n",
    "from core.environment import SingleVertexSpinFoam, StarModelSpinFoam\n",
    "\n",
    "\n",
    "def train_gfn(\n",
    "    spin_j,\n",
    "    sf_model,\n",
    "    main_layer_hidden_nodes,\n",
    "    branch1_hidden_nodes,\n",
    "    branch2_hidden_nodes,\n",
    "    activation,\n",
    "    exploration_rate,\n",
    "    training_fraction_from_back_traj,\n",
    "    learning_rate,\n",
    "    batch_size,\n",
    "    n_iterations,\n",
    "    evaluation_batch_size,\n",
    "    generate_samples_every_m_training_samples,\n",
    "):\n",
    "    if sf_model == \"single_vertex_model\":\n",
    "        spinfoam_model = SingleVertexSpinFoam(spin_j=spin_j)\n",
    "    elif sf_model == \"star_model\":\n",
    "        spinfoam_model = StarModelSpinFoam(spin_j=spin_j)\n",
    "    else:\n",
    "        raise ValueError(\n",
    "            \"Spinfoam model not yet implemented. \" \"Custom Spinfoam class can be made.\"\n",
    "        )\n",
    "\n",
    "    # training_run_datetime = datetime.now().strftime(\"%B %d, %Y at %H:%M:%S\")\n",
    "\n",
    "    directory_for_generated_samples = f\"./data/GFlowNet/{sf_model}/j_{spin_j}/n_iterations_{n_iterations}/main_layer_hid_nodes_{main_layer_hidden_nodes}/exploration_rate_{exploration_rate}/learning_rate_{learning_rate}/batch_size_{batch_size}\"\n",
    "\n",
    "    runner = Runner(\n",
    "        spinfoam_model=spinfoam_model,\n",
    "        main_layer_hidden_nodes=main_layer_hidden_nodes,\n",
    "        branch1_hidden_nodes=branch1_hidden_nodes,\n",
    "        branch2_hidden_nodes=branch2_hidden_nodes,\n",
    "        activation=activation,\n",
    "        exploration_rate=exploration_rate,\n",
    "        training_fraction_from_back_traj=training_fraction_from_back_traj,\n",
    "        learning_rate=learning_rate,\n",
    "    )\n",
    "\n",
    "    ave_losses = runner.train_agent(\n",
    "        batch_size,\n",
    "        n_iterations,\n",
    "        evaluation_batch_size,\n",
    "        generate_samples_every_m_training_samples,\n",
    "        directory_for_generated_samples,\n",
    "    )\n",
    "\n",
    "    return ave_losses"
   ]
  },
  {
   "attachments": {},
   "cell_type": "markdown",
   "id": "ed40d73f",
   "metadata": {},
   "source": [
    "## Vertex Amplitude"
   ]
  },
  {
   "cell_type": "code",
   "execution_count": 2,
   "id": "7937ad91",
   "metadata": {},
   "outputs": [],
   "source": [
    "spin_j = 3.5\n",
    "sf_model = \"single_vertex_model\"\n",
    "main_layer_hidden_nodes = (30, 20)\n",
    "branch1_hidden_nodes = ()\n",
    "branch2_hidden_nodes = ()\n",
    "activation = \"swish\"\n",
    "exploration_rate = 0.5\n",
    "training_fraction_from_back_traj = 0.0\n",
    "learning_rate = 0.0005\n",
    "batch_size = int(5e1)\n",
    "n_iterations = int(5e2)\n",
    "evaluation_batch_size = int(5e3)\n",
    "generate_samples_every_m_training_samples = int(5e3)"
   ]
  },
  {
   "cell_type": "code",
   "execution_count": 3,
   "id": "b2a4bb70",
   "metadata": {},
   "outputs": [
    {
     "name": "stderr",
     "output_type": "stream",
     "text": [
      "2023-05-07 14:43:46.634966: I tensorflow/stream_executor/cuda/cuda_gpu_executor.cc:980] successful NUMA node read from SysFS had negative value (-1), but there must be at least one NUMA node, so returning NUMA node zero\n",
      "2023-05-07 14:43:46.641337: I tensorflow/stream_executor/cuda/cuda_gpu_executor.cc:980] successful NUMA node read from SysFS had negative value (-1), but there must be at least one NUMA node, so returning NUMA node zero\n",
      "2023-05-07 14:43:46.641812: I tensorflow/stream_executor/cuda/cuda_gpu_executor.cc:980] successful NUMA node read from SysFS had negative value (-1), but there must be at least one NUMA node, so returning NUMA node zero\n",
      "2023-05-07 14:43:46.642336: I tensorflow/core/platform/cpu_feature_guard.cc:193] This TensorFlow binary is optimized with oneAPI Deep Neural Network Library (oneDNN) to use the following CPU instructions in performance-critical operations:  AVX2 FMA\n",
      "To enable them in other operations, rebuild TensorFlow with the appropriate compiler flags.\n",
      "2023-05-07 14:43:46.642844: I tensorflow/stream_executor/cuda/cuda_gpu_executor.cc:980] successful NUMA node read from SysFS had negative value (-1), but there must be at least one NUMA node, so returning NUMA node zero\n",
      "2023-05-07 14:43:46.643173: I tensorflow/stream_executor/cuda/cuda_gpu_executor.cc:980] successful NUMA node read from SysFS had negative value (-1), but there must be at least one NUMA node, so returning NUMA node zero\n",
      "2023-05-07 14:43:46.643481: I tensorflow/stream_executor/cuda/cuda_gpu_executor.cc:980] successful NUMA node read from SysFS had negative value (-1), but there must be at least one NUMA node, so returning NUMA node zero\n",
      "2023-05-07 14:43:47.079498: I tensorflow/stream_executor/cuda/cuda_gpu_executor.cc:980] successful NUMA node read from SysFS had negative value (-1), but there must be at least one NUMA node, so returning NUMA node zero\n",
      "2023-05-07 14:43:47.079881: I tensorflow/stream_executor/cuda/cuda_gpu_executor.cc:980] successful NUMA node read from SysFS had negative value (-1), but there must be at least one NUMA node, so returning NUMA node zero\n",
      "2023-05-07 14:43:47.080189: I tensorflow/stream_executor/cuda/cuda_gpu_executor.cc:980] successful NUMA node read from SysFS had negative value (-1), but there must be at least one NUMA node, so returning NUMA node zero\n",
      "2023-05-07 14:43:47.080615: I tensorflow/core/common_runtime/gpu/gpu_device.cc:1616] Created device /job:localhost/replica:0/task:0/device:GPU:0 with 6650 MB memory:  -> device: 0, name: NVIDIA GeForce RTX 2070 Super, pci bus id: 0000:01:00.0, compute capability: 7.5\n"
     ]
    },
    {
     "name": "stdout",
     "output_type": "stream",
     "text": [
      "Nth iteration: 100 Trained on K samples: 5000 Average Loss: 7.8366326117182723\n",
      "Nth iteration: 200 Trained on K samples: 10000 Average Loss: 7.9035970357317975\n",
      "Nth iteration: 300 Trained on K samples: 15000 Average Loss: 3.9587579854827286\n",
      "Nth iteration: 400 Trained on K samples: 20000 Average Loss: 3.6611270087984678\n",
      "Nth iteration: 500 Trained on K samples: 25000 Average Loss: 6.194059498610188\n"
     ]
    }
   ],
   "source": [
    "ave_losses = train_gfn(\n",
    "    spin_j,\n",
    "    sf_model,\n",
    "    main_layer_hidden_nodes,\n",
    "    branch1_hidden_nodes,\n",
    "    branch2_hidden_nodes,\n",
    "    activation,\n",
    "    exploration_rate,\n",
    "    training_fraction_from_back_traj,\n",
    "    learning_rate,\n",
    "    batch_size,\n",
    "    n_iterations,\n",
    "    evaluation_batch_size,\n",
    "    generate_samples_every_m_training_samples,\n",
    ")"
   ]
  },
  {
   "attachments": {},
   "cell_type": "markdown",
   "id": "242645ab-5297-40f9-9a23-e88cf084de3d",
   "metadata": {},
   "source": [
    "# TODO list"
   ]
  },
  {
   "attachments": {},
   "cell_type": "markdown",
   "id": "1de65249-ac2d-4a29-9cf2-6f6894d7d371",
   "metadata": {},
   "source": [
    "- Write a script on Compute Canada clusters (possibly with GPU offloading) to test the algorithm (at least with the 4-simplex or vertex amplitude model) using different parameters, such as: \n",
    "  \n",
    "  NODES AND LAYERS (neural network architectures):\n",
    "  (160, 160, 80, 80, 40, 40),\n",
    "  (160, 160, 40, 40),\n",
    "  (80, 80, 40, 40),\n",
    "  (80, 40).\n",
    "  \n",
    "  EXPLORATION RATES:\n",
    "  0, 0.25, 0.5.\n",
    "  \n",
    "  LEARNING RATES:\n",
    "  0.01, 0.001, 0.0001.\n",
    "\n",
    "  BATCH SIZE: \n",
    "  ...\n",
    "  \n",
    "  NUMBER OF ITERATIONS: \n",
    "  ...\n",
    "\n",
    "  EVALUATION BATCH SIZE:\n",
    "  ...\n"
   ]
  },
  {
   "cell_type": "code",
   "execution_count": null,
   "id": "33706991-56b3-4eb0-8c66-6e3d4ce8e91e",
   "metadata": {},
   "outputs": [],
   "source": []
  }
 ],
 "metadata": {
  "kernelspec": {
   "display_name": "Python 3 (ipykernel)",
   "language": "python",
   "name": "python3"
  },
  "language_info": {
   "codemirror_mode": {
    "name": "ipython",
    "version": 3
   },
   "file_extension": ".py",
   "mimetype": "text/x-python",
   "name": "python",
   "nbconvert_exporter": "python",
   "pygments_lexer": "ipython3",
   "version": "3.9.15"
  }
 },
 "nbformat": 4,
 "nbformat_minor": 5
}
