{
 "cells": [
  {
   "cell_type": "code",
   "execution_count": 1,
   "id": "9c46a19a",
   "metadata": {
    "ExecuteTime": {
     "end_time": "2023-02-04T02:59:51.716371Z",
     "start_time": "2023-02-04T02:59:45.296799Z"
    }
   },
   "outputs": [
    {
     "name": "stderr",
     "output_type": "stream",
     "text": [
      "2023-05-10 11:21:55.728264: I tensorflow/core/platform/cpu_feature_guard.cc:193] This TensorFlow binary is optimized with oneAPI Deep Neural Network Library (oneDNN) to use the following CPU instructions in performance-critical operations:  AVX2 FMA\n",
      "To enable them in other operations, rebuild TensorFlow with the appropriate compiler flags.\n",
      "2023-05-10 11:21:55.845506: E tensorflow/stream_executor/cuda/cuda_blas.cc:2981] Unable to register cuBLAS factory: Attempting to register factory for plugin cuBLAS when one has already been registered\n",
      "2023-05-10 11:21:56.331782: W tensorflow/stream_executor/platform/default/dso_loader.cc:64] Could not load dynamic library 'libnvinfer.so.7'; dlerror: libnvinfer.so.7: cannot open shared object file: No such file or directory; LD_LIBRARY_PATH: :/home/frisus/Scrivania/sl2cfoam-next-dev/lib:/home/frisus/anaconda3/envs/tf/lib/\n",
      "2023-05-10 11:21:56.331831: W tensorflow/stream_executor/platform/default/dso_loader.cc:64] Could not load dynamic library 'libnvinfer_plugin.so.7'; dlerror: libnvinfer_plugin.so.7: cannot open shared object file: No such file or directory; LD_LIBRARY_PATH: :/home/frisus/Scrivania/sl2cfoam-next-dev/lib:/home/frisus/anaconda3/envs/tf/lib/\n",
      "2023-05-10 11:21:56.331837: W tensorflow/compiler/tf2tensorrt/utils/py_utils.cc:38] TF-TRT Warning: Cannot dlopen some TensorRT libraries. If you would like to use Nvidia GPU with TensorRT, please make sure the missing libraries mentioned above are installed properly.\n"
     ]
    }
   ],
   "source": [
    "import os\n",
    "from datetime import datetime\n",
    "\n",
    "from core.runner import Runner\n",
    "from core.environment import SingleVertexSpinFoam, StarModelSpinFoam\n",
    "\n",
    "\n",
    "def train_gfn(\n",
    "    spin_j,\n",
    "    sf_model,\n",
    "    main_layer_hidden_nodes,\n",
    "    branch1_hidden_nodes,\n",
    "    branch2_hidden_nodes,\n",
    "    activation,\n",
    "    exploration_rate,\n",
    "    training_fraction_from_back_traj,\n",
    "    learning_rate,\n",
    "    batch_size,\n",
    "    n_iterations,\n",
    "    evaluation_batch_size,\n",
    "    generate_samples_every_m_training_samples,\n",
    "):\n",
    "    if sf_model == \"single_vertex_model\":\n",
    "        spinfoam_model = SingleVertexSpinFoam(spin_j=spin_j)\n",
    "    elif sf_model == \"star_model\":\n",
    "        spinfoam_model = StarModelSpinFoam(spin_j=spin_j)\n",
    "    else:\n",
    "        raise ValueError(\n",
    "            \"Spinfoam model not yet implemented. \" \"Custom Spinfoam class can be made.\"\n",
    "        )\n",
    "\n",
    "    # training_run_datetime = datetime.now().strftime(\"%B %d, %Y at %H:%M:%S\")\n",
    "\n",
    "    directory_for_generated_samples = f\"./data/GFlowNet/{sf_model}/j_{spin_j}/n_iterations_{n_iterations}/main_layer_hid_nodes_{main_layer_hidden_nodes}/exploration_rate_{exploration_rate}/learning_rate_{learning_rate}/batch_size_{batch_size}\"\n",
    "\n",
    "    runner = Runner(\n",
    "        spinfoam_model=spinfoam_model,\n",
    "        main_layer_hidden_nodes=main_layer_hidden_nodes,\n",
    "        branch1_hidden_nodes=branch1_hidden_nodes,\n",
    "        branch2_hidden_nodes=branch2_hidden_nodes,\n",
    "        activation=activation,\n",
    "        exploration_rate=exploration_rate,\n",
    "        training_fraction_from_back_traj=training_fraction_from_back_traj,\n",
    "        learning_rate=learning_rate,\n",
    "    )\n",
    "\n",
    "    ave_losses = runner.train_agent(\n",
    "        batch_size,\n",
    "        n_iterations,\n",
    "        evaluation_batch_size,\n",
    "        generate_samples_every_m_training_samples,\n",
    "        directory_for_generated_samples,\n",
    "    )\n",
    "\n",
    "    return ave_losses"
   ]
  },
  {
   "attachments": {},
   "cell_type": "markdown",
   "id": "ed40d73f",
   "metadata": {},
   "source": [
    "## Vertex Amplitude"
   ]
  },
  {
   "cell_type": "code",
   "execution_count": 4,
   "id": "7937ad91",
   "metadata": {},
   "outputs": [],
   "source": [
    "spin_j = 2.0\n",
    "sf_model = \"star_model\"\n",
    "main_layer_hidden_nodes = (30, 20)\n",
    "branch1_hidden_nodes = ()\n",
    "branch2_hidden_nodes = ()\n",
    "activation = \"swish\"\n",
    "exploration_rate = 0.5\n",
    "training_fraction_from_back_traj = 0.0\n",
    "learning_rate = 0.0005\n",
    "batch_size = int(5e2)\n",
    "n_iterations = int(5e3)\n",
    "evaluation_batch_size = int(5e4)\n",
    "generate_samples_every_m_training_samples = int(5e4)"
   ]
  },
  {
   "cell_type": "code",
   "execution_count": 5,
   "id": "b2a4bb70",
   "metadata": {},
   "outputs": [
    {
     "name": "stdout",
     "output_type": "stream",
     "text": [
      "Nth iteration: 100 Trained on K samples: 50000 Average Loss: 64.422575157154967\n",
      "Nth iteration: 200 Trained on K samples: 100000 Average Loss: 35.141102826201035\n",
      "Nth iteration: 300 Trained on K samples: 150000 Average Loss: 31.566294092764487\n",
      "Nth iteration: 400 Trained on K samples: 200000 Average Loss: 25.880135097169664\n",
      "Nth iteration: 500 Trained on K samples: 250000 Average Loss: 22.92952863419351\n",
      "Nth iteration: 600 Trained on K samples: 300000 Average Loss: 21.485759464330496\n",
      "Nth iteration: 700 Trained on K samples: 350000 Average Loss: 20.267821919020633\n",
      "Nth iteration: 800 Trained on K samples: 400000 Average Loss: 20.889253686118447\n",
      "Nth iteration: 900 Trained on K samples: 450000 Average Loss: 21.637274807374204\n",
      "Nth iteration: 1000 Trained on K samples: 500000 Average Loss: 17.521728326780771\n",
      "Nth iteration: 1100 Trained on K samples: 550000 Average Loss: 18.457537865879377\n",
      "Nth iteration: 1200 Trained on K samples: 600000 Average Loss: 18.39601951616125\n",
      "Nth iteration: 1300 Trained on K samples: 650000 Average Loss: 21.53998140686512\n",
      "Nth iteration: 1400 Trained on K samples: 700000 Average Loss: 18.676349077073152\n",
      "Nth iteration: 1500 Trained on K samples: 750000 Average Loss: 18.939303620514025\n",
      "Nth iteration: 1600 Trained on K samples: 800000 Average Loss: 16.821764331016347\n",
      "Nth iteration: 1700 Trained on K samples: 850000 Average Loss: 18.296834458580054\n",
      "Nth iteration: 1800 Trained on K samples: 900000 Average Loss: 13.998804737745214\n",
      "Nth iteration: 1900 Trained on K samples: 950000 Average Loss: 17.735818882035041\n",
      "Nth iteration: 2000 Trained on K samples: 1000000 Average Loss: 18.986121948635951\n",
      "Nth iteration: 2100 Trained on K samples: 1050000 Average Loss: 17.483546851354731\n",
      "Nth iteration: 2200 Trained on K samples: 1100000 Average Loss: 17.526586087171385\n",
      "Nth iteration: 2300 Trained on K samples: 1150000 Average Loss: 19.315448865719318\n",
      "Nth iteration: 2400 Trained on K samples: 1200000 Average Loss: 17.228640454654222\n",
      "Nth iteration: 2500 Trained on K samples: 1250000 Average Loss: 16.741506973366057\n",
      "Nth iteration: 2600 Trained on K samples: 1300000 Average Loss: 15.86329673608558\n",
      "Nth iteration: 2700 Trained on K samples: 1350000 Average Loss: 16.314543555758334\n",
      "Nth iteration: 2800 Trained on K samples: 1400000 Average Loss: 15.291938968540325\n",
      "Nth iteration: 2900 Trained on K samples: 1450000 Average Loss: 15.729815985954657\n",
      "Nth iteration: 3000 Trained on K samples: 1500000 Average Loss: 16.552105924102531\n",
      "Nth iteration: 3100 Trained on K samples: 1550000 Average Loss: 16.022095482884456\n",
      "Nth iteration: 3200 Trained on K samples: 1600000 Average Loss: 17.246087451913766\n",
      "Nth iteration: 3300 Trained on K samples: 1650000 Average Loss: 14.652850996178989\n",
      "Nth iteration: 3400 Trained on K samples: 1700000 Average Loss: 15.892047710922542\n",
      "Nth iteration: 3500 Trained on K samples: 1750000 Average Loss: 16.935863717507434\n",
      "Nth iteration: 3600 Trained on K samples: 1800000 Average Loss: 15.09714315362057\n",
      "Nth iteration: 3700 Trained on K samples: 1850000 Average Loss: 15.921859445839743\n",
      "Nth iteration: 3800 Trained on K samples: 1900000 Average Loss: 17.651648187045613\n",
      "Nth iteration: 3900 Trained on K samples: 1950000 Average Loss: 16.46216127830353\n",
      "Nth iteration: 4000 Trained on K samples: 2000000 Average Loss: 16.379744160418088\n",
      "Nth iteration: 4100 Trained on K samples: 2050000 Average Loss: 15.700203356688828\n",
      "Nth iteration: 4200 Trained on K samples: 2100000 Average Loss: 14.723553779943432\n",
      "Nth iteration: 4300 Trained on K samples: 2150000 Average Loss: 15.645935069017753\n",
      "Nth iteration: 4400 Trained on K samples: 2200000 Average Loss: 18.560195021433938\n",
      "Nth iteration: 4500 Trained on K samples: 2250000 Average Loss: 14.535479688391609\n",
      "Nth iteration: 4600 Trained on K samples: 2300000 Average Loss: 15.727111978566191\n",
      "Nth iteration: 4700 Trained on K samples: 2350000 Average Loss: 16.120951150752393\n",
      "Nth iteration: 4800 Trained on K samples: 2400000 Average Loss: 15.260186908666656\n",
      "Nth iteration: 4900 Trained on K samples: 2450000 Average Loss: 14.733099351635271\n",
      "Nth iteration: 5000 Trained on K samples: 2500000 Average Loss: 14.445441859575313\n",
      "INFO:tensorflow:Assets written to: /home/frisus/Scrivania/GFlowNets_on_SpinFoams/data/GFlowNet/star_model/j_2.0/n_iterations_5000/main_layer_hid_nodes_(30, 20)/exploration_rate_0.5/learning_rate_0.0005/batch_size_500/trained_agent_policy/assets\n"
     ]
    }
   ],
   "source": [
    "ave_losses = train_gfn(\n",
    "    spin_j,\n",
    "    sf_model,\n",
    "    main_layer_hidden_nodes,\n",
    "    branch1_hidden_nodes,\n",
    "    branch2_hidden_nodes,\n",
    "    activation,\n",
    "    exploration_rate,\n",
    "    training_fraction_from_back_traj,\n",
    "    learning_rate,\n",
    "    batch_size,\n",
    "    n_iterations,\n",
    "    evaluation_batch_size,\n",
    "    generate_samples_every_m_training_samples,\n",
    ")"
   ]
  }
 ],
 "metadata": {
  "kernelspec": {
   "display_name": "Python 3 (ipykernel)",
   "language": "python",
   "name": "python3"
  },
  "language_info": {
   "codemirror_mode": {
    "name": "ipython",
    "version": 3
   },
   "file_extension": ".py",
   "mimetype": "text/x-python",
   "name": "python",
   "nbconvert_exporter": "python",
   "pygments_lexer": "ipython3",
   "version": "3.9.15"
  }
 },
 "nbformat": 4,
 "nbformat_minor": 5
}
