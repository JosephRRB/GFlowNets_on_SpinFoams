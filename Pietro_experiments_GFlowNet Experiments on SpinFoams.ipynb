{
 "cells": [
  {
   "cell_type": "code",
   "execution_count": 1,
   "id": "9c46a19a",
   "metadata": {
    "ExecuteTime": {
     "end_time": "2023-02-04T02:59:51.716371Z",
     "start_time": "2023-02-04T02:59:45.296799Z"
    }
   },
   "outputs": [
    {
     "name": "stderr",
     "output_type": "stream",
     "text": [
      "2023-05-10 15:25:16.365229: I tensorflow/core/platform/cpu_feature_guard.cc:193] This TensorFlow binary is optimized with oneAPI Deep Neural Network Library (oneDNN) to use the following CPU instructions in performance-critical operations:  AVX2 FMA\n",
      "To enable them in other operations, rebuild TensorFlow with the appropriate compiler flags.\n",
      "2023-05-10 15:25:16.529056: E tensorflow/stream_executor/cuda/cuda_blas.cc:2981] Unable to register cuBLAS factory: Attempting to register factory for plugin cuBLAS when one has already been registered\n",
      "2023-05-10 15:25:17.169273: W tensorflow/stream_executor/platform/default/dso_loader.cc:64] Could not load dynamic library 'libnvinfer.so.7'; dlerror: libnvinfer.so.7: cannot open shared object file: No such file or directory; LD_LIBRARY_PATH: :/home/frisus/Scrivania/sl2cfoam-next-dev/lib:/home/frisus/anaconda3/envs/tf/lib/\n",
      "2023-05-10 15:25:17.169385: W tensorflow/stream_executor/platform/default/dso_loader.cc:64] Could not load dynamic library 'libnvinfer_plugin.so.7'; dlerror: libnvinfer_plugin.so.7: cannot open shared object file: No such file or directory; LD_LIBRARY_PATH: :/home/frisus/Scrivania/sl2cfoam-next-dev/lib:/home/frisus/anaconda3/envs/tf/lib/\n",
      "2023-05-10 15:25:17.169416: W tensorflow/compiler/tf2tensorrt/utils/py_utils.cc:38] TF-TRT Warning: Cannot dlopen some TensorRT libraries. If you would like to use Nvidia GPU with TensorRT, please make sure the missing libraries mentioned above are installed properly.\n"
     ]
    }
   ],
   "source": [
    "import os\n",
    "from datetime import datetime\n",
    "\n",
    "from core.runner import Runner\n",
    "from core.environment import SingleVertexSpinFoam, StarModelSpinFoam\n",
    "\n",
    "\n",
    "def train_gfn(\n",
    "    spin_j,\n",
    "    sf_model,\n",
    "    main_layer_hidden_nodes,\n",
    "    branch1_hidden_nodes,\n",
    "    branch2_hidden_nodes,\n",
    "    activation,\n",
    "    exploration_rate,\n",
    "    training_fraction_from_back_traj,\n",
    "    learning_rate,\n",
    "    batch_size,\n",
    "    n_iterations,\n",
    "    evaluation_batch_size,\n",
    "    generate_samples_every_m_training_samples,\n",
    "):\n",
    "    if sf_model == \"single_vertex_model\":\n",
    "        spinfoam_model = SingleVertexSpinFoam(spin_j=spin_j)\n",
    "    elif sf_model == \"star_model\":\n",
    "        spinfoam_model = StarModelSpinFoam(spin_j=spin_j)\n",
    "    else:\n",
    "        raise ValueError(\n",
    "            \"Spinfoam model not yet implemented. \" \"Custom Spinfoam class can be made.\"\n",
    "        )\n",
    "\n",
    "    # training_run_datetime = datetime.now().strftime(\"%B %d, %Y at %H:%M:%S\")\n",
    "\n",
    "    directory_for_generated_samples = f\"./data/GFlowNet/{sf_model}/j_{spin_j}/n_iterations_{n_iterations}/main_layer_hid_nodes_{main_layer_hidden_nodes}/exploration_rate_{exploration_rate}/learning_rate_{learning_rate}/batch_size_{batch_size}\"\n",
    "\n",
    "    runner = Runner(\n",
    "        spinfoam_model=spinfoam_model,\n",
    "        main_layer_hidden_nodes=main_layer_hidden_nodes,\n",
    "        branch1_hidden_nodes=branch1_hidden_nodes,\n",
    "        branch2_hidden_nodes=branch2_hidden_nodes,\n",
    "        activation=activation,\n",
    "        exploration_rate=exploration_rate,\n",
    "        training_fraction_from_back_traj=training_fraction_from_back_traj,\n",
    "        learning_rate=learning_rate,\n",
    "    )\n",
    "\n",
    "    ave_losses = runner.train_agent(\n",
    "        batch_size,\n",
    "        n_iterations,\n",
    "        evaluation_batch_size,\n",
    "        generate_samples_every_m_training_samples,\n",
    "        directory_for_generated_samples,\n",
    "    )\n",
    "\n",
    "    return ave_losses"
   ]
  },
  {
   "attachments": {},
   "cell_type": "markdown",
   "id": "ed40d73f",
   "metadata": {},
   "source": [
    "## Vertex Amplitude"
   ]
  },
  {
   "cell_type": "code",
   "execution_count": 15,
   "id": "7937ad91",
   "metadata": {},
   "outputs": [],
   "source": [
    "spin = 2.0\n",
    "model = \"single_vertex_model\"\n",
    "main_layer_hidden_nodes = (30, 20)\n",
    "branch1_hidden_nodes = ()\n",
    "branch2_hidden_nodes = ()\n",
    "activation = \"swish\"\n",
    "exploration_rate = 0.5\n",
    "training_fraction_from_back_traj = 0.0\n",
    "learning_rate = 0.0005\n",
    "batch_size = int(5)\n",
    "n_iterations = int(1000)\n",
    "evaluation_batch_size = int(50)\n",
    "generate_samples_every_m_training_samples = int(500)"
   ]
  },
  {
   "cell_type": "code",
   "execution_count": 16,
   "id": "b2a4bb70",
   "metadata": {},
   "outputs": [
    {
     "name": "stdout",
     "output_type": "stream",
     "text": [
      "Nth iteration: 100 Trained on K samples: 500 Average Loss: 3.8884426316875205\n",
      "Nth iteration: 200 Trained on K samples: 1000 Average Loss: 9.7164215727356513\n",
      "Nth iteration: 300 Trained on K samples: 1500 Average Loss: 4.1279017883337223\n",
      "Nth iteration: 400 Trained on K samples: 2000 Average Loss: 2.0790750299431204\n",
      "Nth iteration: 500 Trained on K samples: 2500 Average Loss: 5.6359868475528838\n",
      "Nth iteration: 600 Trained on K samples: 3000 Average Loss: 3.3148722181111694\n",
      "Nth iteration: 700 Trained on K samples: 3500 Average Loss: 2.2778822708690862\n",
      "Nth iteration: 800 Trained on K samples: 4000 Average Loss: 13.146121589586064\n",
      "Nth iteration: 900 Trained on K samples: 4500 Average Loss: 7.7209288838855361\n",
      "Nth iteration: 1000 Trained on K samples: 5000 Average Loss: 0.77825408351842129\n",
      "INFO:tensorflow:Assets written to: /home/frisus/Scrivania/GFlowNets_on_SpinFoams/data/GFlowNet/single_vertex_model/j_2.0/n_iterations_1000/main_layer_hid_nodes_(30, 20)/exploration_rate_0.5/learning_rate_0.0005/batch_size_5/trained_agent_policy/assets\n"
     ]
    }
   ],
   "source": [
    "ave_losses = train_gfn(\n",
    "    spin,\n",
    "    model,\n",
    "    main_layer_hidden_nodes,\n",
    "    branch1_hidden_nodes,\n",
    "    branch2_hidden_nodes,\n",
    "    activation,\n",
    "    exploration_rate,\n",
    "    training_fraction_from_back_traj,\n",
    "    learning_rate,\n",
    "    batch_size,\n",
    "    n_iterations,\n",
    "    evaluation_batch_size,\n",
    "    generate_samples_every_m_training_samples,\n",
    ")"
   ]
  },
  {
   "cell_type": "code",
   "execution_count": null,
   "id": "7ca1091d",
   "metadata": {},
   "outputs": [],
   "source": []
  }
 ],
 "metadata": {
  "kernelspec": {
   "display_name": "Python 3 (ipykernel)",
   "language": "python",
   "name": "python3"
  },
  "language_info": {
   "codemirror_mode": {
    "name": "ipython",
    "version": 3
   },
   "file_extension": ".py",
   "mimetype": "text/x-python",
   "name": "python",
   "nbconvert_exporter": "python",
   "pygments_lexer": "ipython3",
   "version": "3.9.15"
  }
 },
 "nbformat": 4,
 "nbformat_minor": 5
}
