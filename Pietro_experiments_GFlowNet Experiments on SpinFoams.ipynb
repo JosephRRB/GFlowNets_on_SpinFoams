{
 "cells": [
  {
   "cell_type": "code",
   "execution_count": 5,
   "id": "9c46a19a",
   "metadata": {
    "ExecuteTime": {
     "end_time": "2023-02-04T02:59:51.716371Z",
     "start_time": "2023-02-04T02:59:45.296799Z"
    }
   },
   "outputs": [],
   "source": [
    "import os\n",
    "from datetime import datetime\n",
    "\n",
    "from core.runner import Runner\n",
    "from core.environment import SingleVertexSpinFoam, StarModelSpinFoam\n",
    "\n",
    "def train_gfn(\n",
    "    spin_j, \n",
    "    sf_model,\n",
    "    main_layer_hidden_nodes, \n",
    "    branch1_hidden_nodes, \n",
    "    branch2_hidden_nodes,\n",
    "    activation,\n",
    "    exploration_rate,\n",
    "    training_fraction_from_back_traj,\n",
    "    learning_rate,\n",
    "    batch_size,\n",
    "    n_iterations,\n",
    "    evaluation_batch_size,\n",
    "    generate_samples_every_m_training_samples,\n",
    "):\n",
    "    if sf_model == \"single_vertex_model\":\n",
    "        spinfoam_model = SingleVertexSpinFoam(spin_j=spin_j)\n",
    "    elif sf_model == \"star_model\":\n",
    "        spinfoam_model = StarModelSpinFoam(spin_j=spin_j)\n",
    "    else:\n",
    "        raise ValueError(\n",
    "            \"Spinfoam model not yet implemented. \"\n",
    "            \"Custom Spinfoam class can be made.\"\n",
    "        )\n",
    "        \n",
    "    #training_run_datetime = datetime.now().strftime(\"%B %d, %Y at %H:%M:%S\")\n",
    "    \n",
    "    directory_for_generated_samples = (\n",
    "        f\"./data/GFlowNet/gener_samples_during_train/{sf_model}/j_{spin_j}/n_iterations_{n_iterations}/main_layer_hid_nodes_{main_layer_hidden_nodes}/exploration_rate_{exploration_rate}/learning_rate_{learning_rate}/batch_size_{batch_size}\"\n",
    "    )\n",
    "    \n",
    "    runner = Runner(\n",
    "        spinfoam_model=spinfoam_model,\n",
    "        main_layer_hidden_nodes=main_layer_hidden_nodes,\n",
    "        branch1_hidden_nodes=branch1_hidden_nodes,\n",
    "        branch2_hidden_nodes=branch2_hidden_nodes,\n",
    "        activation=activation,\n",
    "        exploration_rate=exploration_rate,\n",
    "        training_fraction_from_back_traj=training_fraction_from_back_traj,\n",
    "        learning_rate=learning_rate\n",
    "    )\n",
    "    \n",
    "    ave_losses = runner.train_agent(\n",
    "        batch_size, n_iterations, \n",
    "        evaluation_batch_size, generate_samples_every_m_training_samples,\n",
    "        directory_for_generated_samples\n",
    "    )\n",
    "    \n",
    "    return ave_losses"
   ]
  },
  {
   "attachments": {},
   "cell_type": "markdown",
   "id": "ed40d73f",
   "metadata": {},
   "source": [
    "## Vertex Amplitude"
   ]
  },
  {
   "cell_type": "code",
   "execution_count": 11,
   "id": "7937ad91",
   "metadata": {},
   "outputs": [],
   "source": [
    "spin_j=3.5 \n",
    "sf_model=\"single_vertex_model\"\n",
    "main_layer_hidden_nodes=(30, 20) \n",
    "branch1_hidden_nodes=()\n",
    "branch2_hidden_nodes=()\n",
    "activation=\"swish\"\n",
    "exploration_rate=0.5\n",
    "training_fraction_from_back_traj=0.0\n",
    "learning_rate=0.0005\n",
    "batch_size=int(1e2)\n",
    "n_iterations=int(1e3)\n",
    "evaluation_batch_size=int(1e5)\n",
    "generate_samples_every_m_training_samples=int(1e5)\n"
   ]
  },
  {
   "cell_type": "code",
   "execution_count": 12,
   "id": "b2a4bb70",
   "metadata": {},
   "outputs": [
    {
     "name": "stdout",
     "output_type": "stream",
     "text": [
      "Nth iteration: 1000 Trained on K samples: 100000 Average Loss: 7.5104173708239133\n"
     ]
    }
   ],
   "source": [
    "ave_losses = train_gfn(\n",
    "    spin_j, \n",
    "    sf_model,\n",
    "    main_layer_hidden_nodes, \n",
    "    branch1_hidden_nodes, \n",
    "    branch2_hidden_nodes,\n",
    "    activation,\n",
    "    exploration_rate,\n",
    "    training_fraction_from_back_traj,\n",
    "    learning_rate,\n",
    "    batch_size,\n",
    "    n_iterations,\n",
    "    evaluation_batch_size,\n",
    "    generate_samples_every_m_training_samples,\n",
    ")"
   ]
  },
  {
   "cell_type": "markdown",
   "id": "242645ab-5297-40f9-9a23-e88cf084de3d",
   "metadata": {},
   "source": [
    "# TODO list"
   ]
  },
  {
   "attachments": {},
   "cell_type": "markdown",
   "id": "1de65249-ac2d-4a29-9cf2-6f6894d7d371",
   "metadata": {},
   "source": [
    "- Write a script on Compute Canada clusters (possibly with GPU offloading) to test the algorithm (at least with the 4-simplex or vertex amplitude model) using different parameters, such as: \n",
    "  \n",
    "  NODES AND LAYERS (neural network architectures):\n",
    "  (160, 160, 80, 80, 40, 40),\n",
    "  (160, 160, 40, 40),\n",
    "  (80, 80, 40, 40),\n",
    "  (80, 40).\n",
    "  \n",
    "  EXPLORATION RATES:\n",
    "  0, 0.25, 0.5.\n",
    "  \n",
    "  LEARNING RATES:\n",
    "  0.01, 0.001, 0.0001.\n"
   ]
  },
  {
   "cell_type": "code",
   "execution_count": null,
   "id": "33706991-56b3-4eb0-8c66-6e3d4ce8e91e",
   "metadata": {},
   "outputs": [],
   "source": []
  }
 ],
 "metadata": {
  "kernelspec": {
   "display_name": "Python 3 (ipykernel)",
   "language": "python",
   "name": "python3"
  },
  "language_info": {
   "codemirror_mode": {
    "name": "ipython",
    "version": 3
   },
   "file_extension": ".py",
   "mimetype": "text/x-python",
   "name": "python",
   "nbconvert_exporter": "python",
   "pygments_lexer": "ipython3",
   "version": "3.9.15"
  }
 },
 "nbformat": 4,
 "nbformat_minor": 5
}
