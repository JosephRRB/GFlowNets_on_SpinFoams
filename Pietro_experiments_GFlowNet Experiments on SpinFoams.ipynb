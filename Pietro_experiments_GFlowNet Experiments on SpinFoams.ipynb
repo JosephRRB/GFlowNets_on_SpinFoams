{
 "cells": [
  {
   "cell_type": "code",
   "execution_count": 1,
   "id": "9c46a19a",
   "metadata": {
    "ExecuteTime": {
     "end_time": "2023-02-04T02:59:51.716371Z",
     "start_time": "2023-02-04T02:59:45.296799Z"
    }
   },
   "outputs": [
    {
     "name": "stderr",
     "output_type": "stream",
     "text": [
      "2023-05-08 12:44:43.818368: I tensorflow/core/platform/cpu_feature_guard.cc:193] This TensorFlow binary is optimized with oneAPI Deep Neural Network Library (oneDNN) to use the following CPU instructions in performance-critical operations:  AVX2 FMA\n",
      "To enable them in other operations, rebuild TensorFlow with the appropriate compiler flags.\n",
      "2023-05-08 12:44:43.947811: E tensorflow/stream_executor/cuda/cuda_blas.cc:2981] Unable to register cuBLAS factory: Attempting to register factory for plugin cuBLAS when one has already been registered\n",
      "2023-05-08 12:44:44.469493: W tensorflow/stream_executor/platform/default/dso_loader.cc:64] Could not load dynamic library 'libnvinfer.so.7'; dlerror: libnvinfer.so.7: cannot open shared object file: No such file or directory; LD_LIBRARY_PATH: :/home/frisus/Scrivania/sl2cfoam-next-dev/lib:/home/frisus/anaconda3/envs/tf/lib/\n",
      "2023-05-08 12:44:44.469543: W tensorflow/stream_executor/platform/default/dso_loader.cc:64] Could not load dynamic library 'libnvinfer_plugin.so.7'; dlerror: libnvinfer_plugin.so.7: cannot open shared object file: No such file or directory; LD_LIBRARY_PATH: :/home/frisus/Scrivania/sl2cfoam-next-dev/lib:/home/frisus/anaconda3/envs/tf/lib/\n",
      "2023-05-08 12:44:44.469549: W tensorflow/compiler/tf2tensorrt/utils/py_utils.cc:38] TF-TRT Warning: Cannot dlopen some TensorRT libraries. If you would like to use Nvidia GPU with TensorRT, please make sure the missing libraries mentioned above are installed properly.\n"
     ]
    }
   ],
   "source": [
    "import os\n",
    "from datetime import datetime\n",
    "\n",
    "from core.runner import Runner\n",
    "from core.environment import SingleVertexSpinFoam, StarModelSpinFoam\n",
    "\n",
    "\n",
    "def train_gfn(\n",
    "    spin_j,\n",
    "    sf_model,\n",
    "    main_layer_hidden_nodes,\n",
    "    branch1_hidden_nodes,\n",
    "    branch2_hidden_nodes,\n",
    "    activation,\n",
    "    exploration_rate,\n",
    "    training_fraction_from_back_traj,\n",
    "    learning_rate,\n",
    "    batch_size,\n",
    "    n_iterations,\n",
    "    evaluation_batch_size,\n",
    "    generate_samples_every_m_training_samples,\n",
    "):\n",
    "    if sf_model == \"single_vertex_model\":\n",
    "        spinfoam_model = SingleVertexSpinFoam(spin_j=spin_j)\n",
    "    elif sf_model == \"star_model\":\n",
    "        spinfoam_model = StarModelSpinFoam(spin_j=spin_j)\n",
    "    else:\n",
    "        raise ValueError(\n",
    "            \"Spinfoam model not yet implemented. \" \"Custom Spinfoam class can be made.\"\n",
    "        )\n",
    "\n",
    "    # training_run_datetime = datetime.now().strftime(\"%B %d, %Y at %H:%M:%S\")\n",
    "\n",
    "    directory_for_generated_samples = f\"./data/GFlowNet/{sf_model}/j_{spin_j}/n_iterations_{n_iterations}/main_layer_hid_nodes_{main_layer_hidden_nodes}/exploration_rate_{exploration_rate}/learning_rate_{learning_rate}/batch_size_{batch_size}\"\n",
    "\n",
    "    runner = Runner(\n",
    "        spinfoam_model=spinfoam_model,\n",
    "        main_layer_hidden_nodes=main_layer_hidden_nodes,\n",
    "        branch1_hidden_nodes=branch1_hidden_nodes,\n",
    "        branch2_hidden_nodes=branch2_hidden_nodes,\n",
    "        activation=activation,\n",
    "        exploration_rate=exploration_rate,\n",
    "        training_fraction_from_back_traj=training_fraction_from_back_traj,\n",
    "        learning_rate=learning_rate,\n",
    "    )\n",
    "\n",
    "    ave_losses = runner.train_agent(\n",
    "        batch_size,\n",
    "        n_iterations,\n",
    "        evaluation_batch_size,\n",
    "        generate_samples_every_m_training_samples,\n",
    "        directory_for_generated_samples,\n",
    "    )\n",
    "\n",
    "    return ave_losses"
   ]
  },
  {
   "attachments": {},
   "cell_type": "markdown",
   "id": "ed40d73f",
   "metadata": {},
   "source": [
    "## Vertex Amplitude"
   ]
  },
  {
   "cell_type": "code",
   "execution_count": 2,
   "id": "7937ad91",
   "metadata": {},
   "outputs": [],
   "source": [
    "spin_j = 3.5\n",
    "sf_model = \"single_vertex_model\"\n",
    "main_layer_hidden_nodes = (30, 20)\n",
    "branch1_hidden_nodes = ()\n",
    "branch2_hidden_nodes = ()\n",
    "activation = \"swish\"\n",
    "exploration_rate = 0.5\n",
    "training_fraction_from_back_traj = 0.0\n",
    "learning_rate = 0.0005\n",
    "batch_size = int(5e2)\n",
    "n_iterations = int(5e3)\n",
    "evaluation_batch_size = int(5e4)\n",
    "generate_samples_every_m_training_samples = int(5e4)"
   ]
  },
  {
   "cell_type": "code",
   "execution_count": 3,
   "id": "b2a4bb70",
   "metadata": {},
   "outputs": [
    {
     "name": "stderr",
     "output_type": "stream",
     "text": [
      "2023-05-08 12:44:45.045814: I tensorflow/stream_executor/cuda/cuda_gpu_executor.cc:980] successful NUMA node read from SysFS had negative value (-1), but there must be at least one NUMA node, so returning NUMA node zero\n",
      "2023-05-08 12:44:45.050586: I tensorflow/stream_executor/cuda/cuda_gpu_executor.cc:980] successful NUMA node read from SysFS had negative value (-1), but there must be at least one NUMA node, so returning NUMA node zero\n",
      "2023-05-08 12:44:45.051020: I tensorflow/stream_executor/cuda/cuda_gpu_executor.cc:980] successful NUMA node read from SysFS had negative value (-1), but there must be at least one NUMA node, so returning NUMA node zero\n",
      "2023-05-08 12:44:45.051732: I tensorflow/core/platform/cpu_feature_guard.cc:193] This TensorFlow binary is optimized with oneAPI Deep Neural Network Library (oneDNN) to use the following CPU instructions in performance-critical operations:  AVX2 FMA\n",
      "To enable them in other operations, rebuild TensorFlow with the appropriate compiler flags.\n",
      "2023-05-08 12:44:45.052193: I tensorflow/stream_executor/cuda/cuda_gpu_executor.cc:980] successful NUMA node read from SysFS had negative value (-1), but there must be at least one NUMA node, so returning NUMA node zero\n",
      "2023-05-08 12:44:45.052562: I tensorflow/stream_executor/cuda/cuda_gpu_executor.cc:980] successful NUMA node read from SysFS had negative value (-1), but there must be at least one NUMA node, so returning NUMA node zero\n",
      "2023-05-08 12:44:45.052887: I tensorflow/stream_executor/cuda/cuda_gpu_executor.cc:980] successful NUMA node read from SysFS had negative value (-1), but there must be at least one NUMA node, so returning NUMA node zero\n",
      "2023-05-08 12:44:45.475392: I tensorflow/stream_executor/cuda/cuda_gpu_executor.cc:980] successful NUMA node read from SysFS had negative value (-1), but there must be at least one NUMA node, so returning NUMA node zero\n",
      "2023-05-08 12:44:45.475706: I tensorflow/stream_executor/cuda/cuda_gpu_executor.cc:980] successful NUMA node read from SysFS had negative value (-1), but there must be at least one NUMA node, so returning NUMA node zero\n",
      "2023-05-08 12:44:45.475979: I tensorflow/stream_executor/cuda/cuda_gpu_executor.cc:980] successful NUMA node read from SysFS had negative value (-1), but there must be at least one NUMA node, so returning NUMA node zero\n",
      "2023-05-08 12:44:45.476234: I tensorflow/core/common_runtime/gpu/gpu_device.cc:1616] Created device /job:localhost/replica:0/task:0/device:GPU:0 with 6650 MB memory:  -> device: 0, name: NVIDIA GeForce RTX 2070 Super, pci bus id: 0000:01:00.0, compute capability: 7.5\n"
     ]
    },
    {
     "name": "stdout",
     "output_type": "stream",
     "text": [
      "Nth iteration: 100 Trained on K samples: 50000 Average Loss: 5.6060997787433795\n",
      "Nth iteration: 200 Trained on K samples: 100000 Average Loss: 3.9060522182829844\n",
      "Nth iteration: 300 Trained on K samples: 150000 Average Loss: 2.898848861694733\n",
      "Nth iteration: 400 Trained on K samples: 200000 Average Loss: 4.1603532212172976\n",
      "Nth iteration: 500 Trained on K samples: 250000 Average Loss: 3.8688368279604886\n",
      "Nth iteration: 600 Trained on K samples: 300000 Average Loss: 3.3284441518368659\n",
      "Nth iteration: 700 Trained on K samples: 350000 Average Loss: 2.5813868279787968\n",
      "Nth iteration: 800 Trained on K samples: 400000 Average Loss: 3.5617790081781271\n",
      "Nth iteration: 900 Trained on K samples: 450000 Average Loss: 3.0784937711871381\n",
      "Nth iteration: 1000 Trained on K samples: 500000 Average Loss: 2.2928123631064854\n",
      "Nth iteration: 1100 Trained on K samples: 550000 Average Loss: 1.5401934747558998\n",
      "Nth iteration: 1200 Trained on K samples: 600000 Average Loss: 2.2493091721505087\n",
      "Nth iteration: 1300 Trained on K samples: 650000 Average Loss: 1.9010754150809173\n",
      "Nth iteration: 1400 Trained on K samples: 700000 Average Loss: 1.6926917310688041\n",
      "Nth iteration: 1500 Trained on K samples: 750000 Average Loss: 2.3324860082978494\n",
      "Nth iteration: 1600 Trained on K samples: 800000 Average Loss: 1.6841755163768632\n",
      "Nth iteration: 1700 Trained on K samples: 850000 Average Loss: 1.5997598175534433\n",
      "Nth iteration: 1800 Trained on K samples: 900000 Average Loss: 1.2392215072802111\n",
      "Nth iteration: 1900 Trained on K samples: 950000 Average Loss: 1.4206192001106139\n",
      "Nth iteration: 2000 Trained on K samples: 1000000 Average Loss: 1.5675362337892857\n",
      "Nth iteration: 2100 Trained on K samples: 1050000 Average Loss: 1.9700531984951657\n",
      "Nth iteration: 2200 Trained on K samples: 1100000 Average Loss: 1.4103130707252252\n",
      "Nth iteration: 2300 Trained on K samples: 1150000 Average Loss: 1.7881983652743703\n",
      "Nth iteration: 2400 Trained on K samples: 1200000 Average Loss: 2.0432251407399766\n",
      "Nth iteration: 2500 Trained on K samples: 1250000 Average Loss: 2.0037255437406563\n",
      "Nth iteration: 2600 Trained on K samples: 1300000 Average Loss: 2.39913772376696\n",
      "Nth iteration: 2700 Trained on K samples: 1350000 Average Loss: 2.146462654872944\n",
      "Nth iteration: 2800 Trained on K samples: 1400000 Average Loss: 1.6703854198540475\n",
      "Nth iteration: 2900 Trained on K samples: 1450000 Average Loss: 1.7095889475083021\n",
      "Nth iteration: 3000 Trained on K samples: 1500000 Average Loss: 1.5816324502060906\n",
      "Nth iteration: 3100 Trained on K samples: 1550000 Average Loss: 1.4583447382635997\n",
      "Nth iteration: 3200 Trained on K samples: 1600000 Average Loss: 1.8852483403488747\n",
      "Nth iteration: 3300 Trained on K samples: 1650000 Average Loss: 1.8978925441039636\n",
      "Nth iteration: 3400 Trained on K samples: 1700000 Average Loss: 1.2480110848792181\n",
      "Nth iteration: 3500 Trained on K samples: 1750000 Average Loss: 1.9227398012519556\n",
      "Nth iteration: 3600 Trained on K samples: 1800000 Average Loss: 1.5823100889210311\n",
      "Nth iteration: 3700 Trained on K samples: 1850000 Average Loss: 1.6209419039341417\n",
      "Nth iteration: 3800 Trained on K samples: 1900000 Average Loss: 1.3147169544634036\n",
      "Nth iteration: 3900 Trained on K samples: 1950000 Average Loss: 1.5771219647589216\n",
      "Nth iteration: 4000 Trained on K samples: 2000000 Average Loss: 0.918637796147476\n",
      "Nth iteration: 4100 Trained on K samples: 2050000 Average Loss: 0.7496759586217594\n",
      "Nth iteration: 4200 Trained on K samples: 2100000 Average Loss: 1.0551003985423253\n",
      "Nth iteration: 4300 Trained on K samples: 2150000 Average Loss: 1.205098606658632\n",
      "Nth iteration: 4400 Trained on K samples: 2200000 Average Loss: 0.9978551437928227\n",
      "Nth iteration: 4500 Trained on K samples: 2250000 Average Loss: 1.2380403612983966\n",
      "Nth iteration: 4600 Trained on K samples: 2300000 Average Loss: 0.79928611080849\n",
      "Nth iteration: 4700 Trained on K samples: 2350000 Average Loss: 1.0297698439464655\n",
      "Nth iteration: 4800 Trained on K samples: 2400000 Average Loss: 1.0786732087385251\n",
      "Nth iteration: 4900 Trained on K samples: 2450000 Average Loss: 1.4596547590779234\n",
      "Nth iteration: 5000 Trained on K samples: 2500000 Average Loss: 0.84137811903895887\n"
     ]
    }
   ],
   "source": [
    "ave_losses = train_gfn(\n",
    "    spin_j,\n",
    "    sf_model,\n",
    "    main_layer_hidden_nodes,\n",
    "    branch1_hidden_nodes,\n",
    "    branch2_hidden_nodes,\n",
    "    activation,\n",
    "    exploration_rate,\n",
    "    training_fraction_from_back_traj,\n",
    "    learning_rate,\n",
    "    batch_size,\n",
    "    n_iterations,\n",
    "    evaluation_batch_size,\n",
    "    generate_samples_every_m_training_samples,\n",
    ")"
   ]
  },
  {
   "attachments": {},
   "cell_type": "markdown",
   "id": "242645ab-5297-40f9-9a23-e88cf084de3d",
   "metadata": {},
   "source": [
    "# TODO list"
   ]
  },
  {
   "attachments": {},
   "cell_type": "markdown",
   "id": "1de65249-ac2d-4a29-9cf2-6f6894d7d371",
   "metadata": {},
   "source": [
    "- Write a script on Compute Canada clusters (possibly with GPU offloading) to test the algorithm (at least with the 4-simplex or vertex amplitude model) using different parameters, such as: \n",
    "  \n",
    "  NODES AND LAYERS (neural network architectures):\n",
    "  (160, 160, 80, 80, 40, 40),\n",
    "  (160, 160, 40, 40),\n",
    "  (80, 80, 40, 40),\n",
    "  (80, 40).\n",
    "  \n",
    "  EXPLORATION RATES:\n",
    "  0, 0.25, 0.5.\n",
    "  \n",
    "  LEARNING RATES:\n",
    "  0.01, 0.001, 0.0001.\n",
    "\n",
    "  BATCH SIZE: \n",
    "  ...\n",
    "  \n",
    "  NUMBER OF ITERATIONS: \n",
    "  ...\n",
    "\n",
    "  EVALUATION BATCH SIZE:\n",
    "  ...\n"
   ]
  },
  {
   "cell_type": "code",
   "execution_count": null,
   "id": "33706991-56b3-4eb0-8c66-6e3d4ce8e91e",
   "metadata": {},
   "outputs": [],
   "source": []
  }
 ],
 "metadata": {
  "kernelspec": {
   "display_name": "Python 3 (ipykernel)",
   "language": "python",
   "name": "python3"
  },
  "language_info": {
   "codemirror_mode": {
    "name": "ipython",
    "version": 3
   },
   "file_extension": ".py",
   "mimetype": "text/x-python",
   "name": "python",
   "nbconvert_exporter": "python",
   "pygments_lexer": "ipython3",
   "version": "3.9.15"
  }
 },
 "nbformat": 4,
 "nbformat_minor": 5
}
