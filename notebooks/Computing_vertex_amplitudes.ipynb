{
 "cells": [
  {
   "cell_type": "markdown",
   "id": "9a257288-6cae-49fd-bd1a-0030622dcc71",
   "metadata": {},
   "source": [
    "# Computing vertex amplitudes"
   ]
  },
  {
   "cell_type": "markdown",
   "id": "b5465d0f-7568-447c-9a8b-e092f35b315b",
   "metadata": {},
   "source": [
    "In this notebook we compute the vertex amplitudes. We store them in multiple formats, so that they can be retrieved with Python and julia "
   ]
  },
  {
   "cell_type": "code",
   "execution_count": 24,
   "id": "c7bfa708-5ed0-45ce-b892-16bdebbd8dab",
   "metadata": {},
   "outputs": [],
   "source": [
    "using SL2Cfoam, HalfIntegers, JLD2, NPZ"
   ]
  },
  {
   "cell_type": "code",
   "execution_count": 8,
   "id": "ca05ce7a-38b2-4711-9490-0e9f0519f3f7",
   "metadata": {},
   "outputs": [
    {
     "data": {
      "text/plain": [
       "1-element Vector{Function}:\n",
       " format_current_cell (generic function with 1 method)"
      ]
     },
     "execution_count": 8,
     "metadata": {},
     "output_type": "execute_result"
    }
   ],
   "source": [
    "using JupyterFormatter\n",
    "enable_autoformat()"
   ]
  },
  {
   "cell_type": "code",
   "execution_count": 62,
   "id": "455376cc-06f4-4c67-b97b-45b2db4c2d72",
   "metadata": {},
   "outputs": [],
   "source": [
    "# Barbero-Immirzi parameter\n",
    "γ = 1.0\n",
    "\n",
    "# initializing sl2cfoam-next   \n",
    "sl2c_data_folder = \"/home/frisus95/Scrivania/sl2cfoam_next/data_sl2cfoam\"\n",
    "sl2c_configuration = SL2Cfoam.Config(VerbosityOff, VeryHighAccuracy, 100, 0)\n",
    "sl2c_result_return = (ret = true, store = true, store_batches = true)\n",
    "# to store only the booster functions and not the full amplitude, use:\n",
    "# sl2c_result_return = (ret = true, store = false, store_batches = false);\n",
    "\n",
    "SL2Cfoam.cinit(sl2c_data_folder, γ, sl2c_configuration)"
   ]
  },
  {
   "cell_type": "code",
   "execution_count": 63,
   "id": "e6d2a72b-b0b5-4fa4-bae3-48609593a7db",
   "metadata": {},
   "outputs": [],
   "source": [
    "# folder in which vertices are stored\n",
    "VERTEX_BF_FOLDER = \"../data/BF_vertices\"\n",
    "VERTEX_EPRL_FOLDER = \"../data/EPRL_vertices\"\n",
    "\n",
    "# max value of boundary spins\n",
    "J_MAX = 6\n",
    "\n",
    "# cut-off for EPRL model\n",
    "DL = 0;"
   ]
  },
  {
   "cell_type": "code",
   "execution_count": 64,
   "id": "07316e62-f5a8-4118-bd70-d66fc41337f9",
   "metadata": {},
   "outputs": [
    {
     "data": {
      "text/plain": [
       "computing_BF_vertices (generic function with 2 methods)"
      ]
     },
     "execution_count": 64,
     "metadata": {},
     "output_type": "execute_result"
    }
   ],
   "source": [
    "function computing_BF_vertices(J_MAX, VERTEX_FOLDER, step = half(1))\n",
    "\n",
    "    mkpath(\"$(VERTEX_FOLDER)/julia\")\n",
    "    mkpath(\"$(VERTEX_FOLDER)/python\")\n",
    "\n",
    "    for j = half(1):step:J_MAX\n",
    "\n",
    "        j_float = twice(j) / 2\n",
    "\n",
    "        spins = [j for index = 1:10]\n",
    "\n",
    "        v = vertex_BF_compute(spins)\n",
    "        vertex = v.a\n",
    "\n",
    "        @save \"$(VERTEX_FOLDER)/julia/vertex_j_$(j_float).jld2\" vertex\n",
    "        npzwrite(\"$(VERTEX_FOLDER)/python/vertex_j_$(j_float).npz\", vertex)\n",
    "\n",
    "    end\n",
    "\n",
    "end"
   ]
  },
  {
   "cell_type": "code",
   "execution_count": 65,
   "id": "0ffd920d-f0f9-4bd9-9387-77b7d8ad9a6b",
   "metadata": {},
   "outputs": [
    {
     "name": "stdout",
     "output_type": "stream",
     "text": [
      "  0.308251 seconds (142.03 k allocations: 7.340 MiB, 14.82% compilation time)\n"
     ]
    }
   ],
   "source": [
    "@time computing_BF_vertices(J_MAX, VERTEX_BF_FOLDER)"
   ]
  },
  {
   "cell_type": "code",
   "execution_count": 66,
   "id": "04038b46-e7c8-49c1-84e6-9d6709de9e01",
   "metadata": {},
   "outputs": [
    {
     "data": {
      "text/plain": [
       "computing_EPRL_vertices (generic function with 2 methods)"
      ]
     },
     "execution_count": 66,
     "metadata": {},
     "output_type": "execute_result"
    }
   ],
   "source": [
    "function computing_EPRL_vertices(J_MAX, DL, VERTEX_FOLDER, step = half(1))\n",
    "\n",
    "    mkpath(\"$(VERTEX_FOLDER)/julia\")\n",
    "    mkpath(\"$(VERTEX_FOLDER)/python\")\n",
    "\n",
    "    for j = half(1):step:J_MAX\n",
    "\n",
    "        j_float = twice(j) / 2\n",
    "\n",
    "        spins = [j for index = 1:10]\n",
    "\n",
    "        v = vertex_compute(spins, DL; result = sl2c_result_return)\n",
    "        vertex = v.a\n",
    "\n",
    "        @save \"$(VERTEX_FOLDER)/julia/vertex_j_$(j_float).jld2\" vertex\n",
    "        npzwrite(\"$(VERTEX_FOLDER)/python/vertex_j_$(j_float).npz\", vertex)\n",
    "\n",
    "    end\n",
    "\n",
    "end"
   ]
  },
  {
   "cell_type": "code",
   "execution_count": 67,
   "id": "1536ef2b-a942-4b42-bf17-e4434a3bd579",
   "metadata": {},
   "outputs": [
    {
     "name": "stdout",
     "output_type": "stream",
     "text": [
      "  0.243874 seconds (143.67 k allocations: 7.425 MiB, 19.03% compilation time)\n"
     ]
    }
   ],
   "source": [
    "@time computing_EPRL_vertices(J_MAX, DL, VERTEX_EPRL_FOLDER)"
   ]
  }
 ],
 "metadata": {
  "kernelspec": {
   "display_name": "Julia 1.8.0",
   "language": "julia",
   "name": "julia-1.8"
  },
  "language_info": {
   "file_extension": ".jl",
   "mimetype": "application/julia",
   "name": "julia",
   "version": "1.8.0"
  }
 },
 "nbformat": 4,
 "nbformat_minor": 5
}
