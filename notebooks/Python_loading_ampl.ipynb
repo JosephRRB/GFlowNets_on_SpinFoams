{
 "cells": [
  {
   "cell_type": "markdown",
   "id": "7528848a-139f-47f6-a539-244265a1a56c",
   "metadata": {},
   "source": [
    "## Importing the vertex amplitude as numpy array in Python"
   ]
  },
  {
   "cell_type": "markdown",
   "id": "87dc9420-8b10-45ee-8dc6-d0fb331109c8",
   "metadata": {},
   "source": [
    "The EPRL vertex corresponds to the following object:\n",
    "\n",
    "![alt text](pics/vertex_amplitude.png \"Title\")"
   ]
  },
  {
   "cell_type": "markdown",
   "id": "9de804e0-7eb0-4e80-83d1-bde0d1a925e1",
   "metadata": {},
   "source": [
    "in which $j_{12} = j_{13} = j_{14} = \\dots = j_{45} = j$,. \n",
    "\n",
    "At fixed $j$, the amplitude can be interpreted as a 5-dim array with dimensions $(2j+1)^5$, where each entry corresponds to different\n",
    "values for the intertwiners $i_1 \\dots i_5$ (notice that $k_5$ in the pic is a typo) . \n",
    "\n",
    "In fact, there are $2j+1$ possible values for each intertwiner (from $0$ to $2j$).\n",
    "\n",
    "In the folder are provided the vertices for $j = 0.5, 1, \\dots 5$.\n",
    "\n",
    "For example, we can load the 5-dimensional array corresponding to $j = 3$:"
   ]
  },
  {
   "cell_type": "code",
   "execution_count": 7,
   "id": "0c32b4d5-0efb-464a-9b4a-9ed3d64a1a12",
   "metadata": {},
   "outputs": [],
   "source": [
    "import numpy as np\n",
    "\n",
    "j = 3;\n",
    "\n",
    "vertex = np.load(f\"../data/EPRL_vertices/python/vertex_j_{j}.0.npz\");"
   ]
  },
  {
   "cell_type": "markdown",
   "id": "c357611a-f530-4c32-b001-0fd046b99ef0",
   "metadata": {},
   "source": [
    "### Correspondence between array elements and intertwiners\n",
    "\n",
    "The amplitude $A \\left( j, i_1 = 0, i_2 = 2, i_3 = 0, i_4 = 3, i_5 = 0 \\right)$ correspons to the following element:"
   ]
  },
  {
   "cell_type": "code",
   "execution_count": 9,
   "id": "7a0c8dd1-7265-4be1-87b8-74958f02a6fe",
   "metadata": {},
   "outputs": [
    {
     "data": {
      "text/plain": [
       "-7.021548787502716e-13"
      ]
     },
     "execution_count": 9,
     "metadata": {},
     "output_type": "execute_result"
    }
   ],
   "source": [
    "vertex[0,3,0,2,0]"
   ]
  },
  {
   "cell_type": "markdown",
   "id": "d7f8e4ff-180d-4676-8221-015488da858b",
   "metadata": {},
   "source": [
    "etc."
   ]
  },
  {
   "cell_type": "markdown",
   "id": "543e05c2-2f7f-4552-b20b-1972a48f3b19",
   "metadata": {},
   "source": [
    "## Computing the dihedral angle (diagonal operator)"
   ]
  },
  {
   "cell_type": "markdown",
   "id": "2cd27967-5e70-4d20-940b-fcbeb3dafc44",
   "metadata": {},
   "source": [
    "If we want to compute the dihedral angle on one node, the equation is:\n",
    "\n",
    "$$\n",
    "\\langle O_1 \\rangle = \\frac{1}{Z} \\sum_{i_1 \\dots i_5} A^2 \\left( j, i_1, i_2, i_3, i_4, i_5 \\right) f \\left( j, i_1 \\right)\n",
    "$$\n",
    "\n",
    "where:\n",
    "\n",
    "$$\n",
    "f \\left( j, i_1 \\right) = \\frac{i_1(i_1 + 1) - 2j(j+1)}{2j(j+1)}\n",
    "$$\n",
    "\n",
    "is the (diagonal) matrix element, and:\n",
    "\n",
    "$$\n",
    "Z = \\sum_{i_1 \\dots i_5} A^2 \\left( j, i_1, i_2, i_3, i_4, i_5 \\right)\n",
    "$$\n",
    "\n",
    "is the normalization factor. Of course we have:\n",
    "\n",
    "$$\n",
    "\\sum_{i_1 \\dots i_5} \\equiv \\sum_{i_1=0}^{2j} \\sum_{i_2=0}^{2j} \\sum_{i_3=0}^{2j} \\sum_{i_4=0}^{2j} \\sum_{i_5=0}^{2j}\n",
    "$$\n",
    "\n",
    "I don't remember if numpy stores arrays in row or column major order, therefore the computation below is probably not efficient"
   ]
  },
  {
   "cell_type": "code",
   "execution_count": 8,
   "id": "227d68ca-e7e2-42c7-8c5e-ff6e2dc1e410",
   "metadata": {},
   "outputs": [
    {
     "name": "stdout",
     "output_type": "stream",
     "text": [
      "Expectation value is -0.33333333333333026\n"
     ]
    }
   ],
   "source": [
    "def boundary_angle(i,j):\n",
    "    angle = (i*(i+1) - 2*j*(j+1)) / (2*j*(j+1));\n",
    "    return angle\n",
    "\n",
    "exp_value = 0.0\n",
    "norm_factor = 0.0\n",
    "\n",
    "for i1 in range(0,2*j+1):\n",
    "    \n",
    "    angle = boundary_angle(i1, j)\n",
    "    \n",
    "    for i2 in range(0,2*j+1): \n",
    "        for i3 in range(0,2*j+1): \n",
    "            for i4 in range(0,2*j+1): \n",
    "                for i5 in range(0,2*j+1): \n",
    "                    \n",
    "                    A_squared = pow(vertex[i1,i2,i3,i4,i5],2)\n",
    "                    \n",
    "                    exp_value += A_squared*angle\n",
    "                    norm_factor += A_squared    \n",
    "                    \n",
    "print(f\"Expectation value is {exp_value/norm_factor}\")                    "
   ]
  }
 ],
 "metadata": {
  "kernelspec": {
   "display_name": "Python 3 (ipykernel)",
   "language": "python",
   "name": "python3"
  },
  "language_info": {
   "codemirror_mode": {
    "name": "ipython",
    "version": 3
   },
   "file_extension": ".py",
   "mimetype": "text/x-python",
   "name": "python",
   "nbconvert_exporter": "python",
   "pygments_lexer": "ipython3",
   "version": "3.9.7"
  }
 },
 "nbformat": 4,
 "nbformat_minor": 5
}
