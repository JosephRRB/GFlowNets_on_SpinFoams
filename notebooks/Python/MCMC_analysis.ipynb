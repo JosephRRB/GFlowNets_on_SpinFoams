{
 "cells": [
  {
   "attachments": {},
   "cell_type": "markdown",
   "id": "16eed45f-9117-4ee4-82dd-67c9903fbc47",
   "metadata": {},
   "source": [
    "# Initialization"
   ]
  },
  {
   "attachments": {},
   "cell_type": "markdown",
   "id": "8db862ce-aece-4e7d-8fef-3c5bc304220b",
   "metadata": {},
   "source": [
    "## Importing libs and setting plot style"
   ]
  },
  {
   "cell_type": "code",
   "execution_count": 2,
   "id": "4e6dd698",
   "metadata": {},
   "outputs": [
    {
     "name": "stdout",
     "output_type": "stream",
     "text": [
      "Collecting atpbar\n",
      "  Downloading atpbar-1.1.4-py3-none-any.whl (33 kB)\n",
      "Installing collected packages: atpbar\n",
      "Successfully installed atpbar-1.1.4\n",
      "Note: you may need to restart the kernel to use updated packages.\n"
     ]
    }
   ],
   "source": [
    "%pip install atpbar"
   ]
  },
  {
   "cell_type": "code",
   "execution_count": 3,
   "id": "af5a467a-00c4-4ab4-bba0-53f0bc9d3d61",
   "metadata": {},
   "outputs": [],
   "source": [
    "import itertools\n",
    "import multiprocessing as mp\n",
    "import os\n",
    "import random\n",
    "import threading\n",
    "import time\n",
    "import warnings\n",
    "\n",
    "import matplotlib.pyplot as plt\n",
    "import numpy as np\n",
    "import pandas as pd\n",
    "import seaborn as sns\n",
    "import statsmodels.api as sm\n",
    "from atpbar import atpbar, flush\n",
    "from matplotlib import rc"
   ]
  },
  {
   "cell_type": "code",
   "execution_count": 4,
   "id": "22b1a0e6-318b-4f06-acfd-47eadcaa0421",
   "metadata": {},
   "outputs": [],
   "source": [
    "# Setting plot style\n",
    "\n",
    "sns.set()\n",
    "sns.set_context(\"paper\", font_scale=1.5, rc={\"lines.linewidth\": 2.0})\n",
    "\n",
    "rc(\"text\", usetex=True)\n",
    "\n",
    "sns.set_style(\"ticks\")\n",
    "sns.set_style(\n",
    "    \"whitegrid\",\n",
    "    {\n",
    "        \"axes.edgecolor\": \"black\",\n",
    "        \"axes.grid\": True,\n",
    "        \"axes.axisbelow\": True,\n",
    "        \"axes.labelcolor\": \".15\",\n",
    "        \"grid.color\": \"0.9\",\n",
    "        \"grid.linestyle\": \"-\",\n",
    "        \"xtick.direction\": \"in\",\n",
    "        \"ytick.direction\": \"in\",\n",
    "        \"xtick.bottom\": True,\n",
    "        \"xtick.top\": True,\n",
    "        \"ytick.left\": True,\n",
    "        \"ytick.right\": True,\n",
    "        \"font.family\": [\"sans-serif\"],\n",
    "        \"font.sans-serif\": [\"Liberation Sans\", \"Bitstream Vera Sans\", \"sans-serif\"],\n",
    "    },\n",
    ")"
   ]
  },
  {
   "attachments": {},
   "cell_type": "markdown",
   "id": "70b36922-790a-445c-b873-0421dacab698",
   "metadata": {},
   "source": [
    "## Global variables"
   ]
  },
  {
   "cell_type": "code",
   "execution_count": 5,
   "id": "c6c4fe1e-49bb-4837-a26c-74c60fceb985",
   "metadata": {},
   "outputs": [
    {
     "name": "stdout",
     "output_type": "stream",
     "text": [
      "optimal number of threads: 24\n"
     ]
    }
   ],
   "source": [
    "# folder with stored data\n",
    "data_folder = \"../../data\"\n",
    "\n",
    "# spinfoam model\n",
    "model = \"star\"\n",
    "\n",
    "# MH parameters\n",
    "spins = [0.5, 1.0, 1.5, 2.0, 2.5, 3.0, 3.5, 4.0, 4.5, 5.0, 5.5, 6.0]\n",
    "sigmas = [0.4 for i in range(0, 12)]\n",
    "lengths = [10**6 for i in range(0, 12)]\n",
    "burnins = [0 for i in range(0, 12)] \n",
    "batch_sizes = [10**5 for i in range(0, 12)]\n",
    "\n",
    "# set optimal number of threads\n",
    "optimal_number_of_threads = int(mp.cpu_count())\n",
    "print(f\"optimal number of threads: {optimal_number_of_threads}\")"
   ]
  },
  {
   "attachments": {},
   "cell_type": "markdown",
   "id": "99a6354b-9fae-42f9-9413-acbfdf797ab6",
   "metadata": {},
   "source": [
    "# Angles"
   ]
  },
  {
   "attachments": {},
   "cell_type": "markdown",
   "id": "6bd73c9b-c09d-4eee-8c36-008a8ec6d39b",
   "metadata": {},
   "source": [
    "## Computation"
   ]
  },
  {
   "cell_type": "code",
   "execution_count": 6,
   "id": "cd8381bf-7a92-4be8-8107-3f2634fc1b46",
   "metadata": {},
   "outputs": [],
   "source": [
    "# takes an intertwiner and returns the corresponding angle eigenvalue\n",
    "def from_intertwiner_to_angle(matrix_element, spin):\n",
    "    return (matrix_element * (matrix_element + 1) - 2 * spin * (spin + 1)) / (\n",
    "        2 * spin * (spin + 1)\n",
    "    )"
   ]
  },
  {
   "cell_type": "code",
   "execution_count": 7,
   "id": "5fe0ab0a-333b-4a89-bdac-0b0cb6bf1661",
   "metadata": {},
   "outputs": [],
   "source": [
    "def from_draws_to_angles(\n",
    "    folder_prefix,\n",
    "    spin,\n",
    "    angle_path,\n",
    "    batch_id,\n",
    "    n,\n",
    "    name,\n",
    "    lag_max_autocorr=8000,\n",
    "    node_autocorr=1,\n",
    "):\n",
    "\n",
    "    for i in atpbar(range(n), name=name):\n",
    "        time.sleep(0.0001)\n",
    "\n",
    "    draw_path = f\"{folder_prefix}/draws/draws_batch_n_{batch_id}.csv\"\n",
    "\n",
    "    # load in memory the stored draws\n",
    "    df = pd.read_csv(draw_path, low_memory=False)\n",
    "    df.columns = df.columns.str.replace(\"intertwiner \", \"node \", regex=True)\n",
    "\n",
    "    # retrieving relevant parameters\n",
    "    multiplicity = df[[\"multiplicity\"]].to_numpy().astype(int)\n",
    "\n",
    "    # from intertwiners to angles\n",
    "    df.iloc[:, :-1] = df.iloc[:, :-1].apply(from_intertwiner_to_angle, args=(spin,))\n",
    "\n",
    "    # taking multiplicity into account\n",
    "    df = df.loc[df.index.repeat(df[\"multiplicity\"])]\n",
    "\n",
    "    # dropping multiplicity column\n",
    "    df = df.drop(\n",
    "        columns=[\n",
    "            \"multiplicity\",\n",
    "        ]\n",
    "    )\n",
    "\n",
    "    ##################################\n",
    "    # Computing autocorrelation (acf)\n",
    "    ##################################\n",
    "\n",
    "    acf_node = sm.tsa.acf(df[f\"node {node_autocorr}\"], nlags=lag_max_autocorr)\n",
    "    df_final = pd.DataFrame(acf_node, columns=[f\"node {node_autocorr}\"])\n",
    "    df_final.index.names = [\"lag\"]\n",
    "\n",
    "    angle_autocorr_path_batch = (\n",
    "        f\"{angle_path}/autocorrelations/node_{node_autocorr}_batch_{batch_id}.csv\"\n",
    "    )\n",
    "    df_final.to_csv(angle_autocorr_path_batch, index=True)\n",
    "\n",
    "    #############################\n",
    "    # Computing exp values (avg)\n",
    "    #############################\n",
    "\n",
    "    df_final = pd.concat([df.mean()], axis=1)\n",
    "    df_final.columns = [\"cosine angle avg\"]\n",
    "\n",
    "    angle_exp_values_path_batch = f\"{angle_path}/exp_values/batch_{batch_id}.csv\"\n",
    "    df_final.to_csv(angle_exp_values_path_batch, index=True)"
   ]
  },
  {
   "cell_type": "code",
   "execution_count": 8,
   "id": "de4fb098-86fb-4d41-ad0a-b908d55af39b",
   "metadata": {},
   "outputs": [],
   "source": [
    "# Converts multiple draws into angles exp. values, quantum spread, correlations and autocorrelations.\n",
    "# Store the result for each batch, then combines all batchs in another CSV file\n",
    "\n",
    "def angles_compute(\n",
    "    data_folder,\n",
    "    spin,\n",
    "    length,\n",
    "    model,\n",
    "    batch_size,\n",
    "    sigma,\n",
    "    burnin,\n",
    "    number_of_threads=optimal_number_of_threads,\n",
    "    node_autocorr=1,\n",
    "):\n",
    "\n",
    "    number_of_batches = int(length/batch_size)\n",
    "    \n",
    "    folder_prefix = f\"{data_folder}/MCMC/{model}/iterations_{length}_batch_size_{batch_size}_burnin_{burnin}_sigma_{sigma}/j_{spin}\"\n",
    "    batch_id_collection = []\n",
    "    batches_id_string = []\n",
    "\n",
    "    for batch_id in range(1, number_of_batches + 1):\n",
    "        draw_path = f\"{folder_prefix}/draws/draws_batch_n_{batch_id}.csv\"\n",
    "        if os.path.isfile(draw_path):\n",
    "            batch_id_collection.append(batch_id)\n",
    "            batches_id_string.append(f\"batch {batch_id}\")\n",
    "            \n",
    "        else:\n",
    "            warnings.warn(\"Warning: the draw %s was not found\" % (draw_path))\n",
    "\n",
    "    batches_to_assemble = len(batch_id_collection)\n",
    "\n",
    "    if batches_to_assemble != 0:\n",
    "\n",
    "        angle_path = f\"{folder_prefix}/operators/angles\"\n",
    "\n",
    "        angle_path_exp_values = f\"{angle_path}/exp_values\"\n",
    "        angle_path_autocorrelations = f\"{angle_path}/autocorrelations\"\n",
    "\n",
    "        os.makedirs(f\"{angle_path_exp_values}\", exist_ok=True)\n",
    "        os.makedirs(f\"{angle_path_autocorrelations}\", exist_ok=True)\n",
    "\n",
    "        print(f\"\\nComputing exp. values and autocorrelations of {batches_to_assemble} draws batches, using {number_of_threads} threads...\\n\")\n",
    "        print(f\"\\nspin = {spin}, length = {length}, sigma = {sigma}, length = {length}, burnin = {burnin}, node_autocorr = {node_autocorr}\\n\")\n",
    "\n",
    "        threads = []\n",
    "        for batch_id in batch_id_collection:\n",
    "\n",
    "            name = \"batch {}\".format(batch_id)\n",
    "            n = random.randint(number_of_threads, 10000)\n",
    "\n",
    "            t = threading.Thread(\n",
    "                target=from_draws_to_angles,\n",
    "                args=(\n",
    "                    folder_prefix,\n",
    "                    spin,\n",
    "                    angle_path,\n",
    "                    batch_id,\n",
    "                    n,\n",
    "                    name,\n",
    "                ),\n",
    "            )\n",
    "            threads.append(t)\n",
    "            t.start()\n",
    "\n",
    "        # wait for the threads to complete\n",
    "        for t in threads:\n",
    "            t.join()\n",
    "\n",
    "        flush()\n",
    "\n",
    "        print(f\"All draws in all batches have been processed\")\n",
    "        print(f\"\\nAssembling {batches_to_assemble} batches...\")\n",
    "\n",
    "        ##########################################################\n",
    "        ### Assembling autocorrelation\n",
    "        ##########################################################\n",
    "\n",
    "        DF_list = [\n",
    "            pd.read_csv(\n",
    "                f\"{angle_path}/autocorrelations/node_{node_autocorr}_batch_{batch_id+1}.csv\",\n",
    "                index_col=0,\n",
    "                low_memory=False,\n",
    "            )\n",
    "            for batch_id in range(batches_to_assemble)\n",
    "        ]\n",
    "\n",
    "        df_all_batches = pd.concat(DF_list[:]).groupby(level=0, sort=False)\n",
    "\n",
    "        df_final = pd.concat([df_all_batches.mean()], axis=1)\n",
    "        df_final.columns = [f\"node {node_autocorr}\"]\n",
    "        df_final.to_csv(\n",
    "            f\"{angle_path_autocorrelations}/batches_assembled_{batches_to_assemble}.csv\",\n",
    "            index=True,\n",
    "        )\n",
    "\n",
    "        ##########################################################\n",
    "        ### Assembling exp values and quantum spread\n",
    "        ##########################################################\n",
    "\n",
    "        DF_list = [\n",
    "            pd.read_csv(\n",
    "                f\"{angle_path_exp_values}/batch_{batch_id+1}.csv\",\n",
    "                index_col=0,\n",
    "                low_memory=False,\n",
    "            )\n",
    "            for batch_id in range(batches_to_assemble)\n",
    "        ]\n",
    "\n",
    "        df_all_batches = pd.concat(DF_list[:], axis=1, keys = batches_id_string) \n",
    "        df_all_batches.columns = df_all_batches.columns.droplevel(-1)\n",
    "        df_all_batches.T\n",
    "        df_all_batches.to_csv(\n",
    "            f\"{angle_path_exp_values}/batches_assembled_{batches_to_assemble}.csv\",\n",
    "            index=True,\n",
    "        )\n",
    "\n",
    "        print(\"Done\")\n",
    "\n",
    "    else:\n",
    "        warnings.warn(\"I can't compute angles since there are no batches available\")"
   ]
  },
  {
   "cell_type": "code",
   "execution_count": 11,
   "id": "b404de98-a6d7-4a8d-8798-0521b5975d24",
   "metadata": {},
   "outputs": [
    {
     "name": "stdout",
     "output_type": "stream",
     "text": [
      "\n",
      "Computing exp. values and autocorrelations of 10 draws batches, using 24 threads...\n",
      "\n",
      "\n",
      "spin = 0.5, length = 1000000, sigma = 0.4, length = 1000000, burnin = 0, node_autocorr = 1\n",
      "\n"
     ]
    },
    {
     "data": {
      "application/vnd.jupyter.widget-view+json": {
       "model_id": "5b23d77ed03f435bb40171fd6013f0d4",
       "version_major": 2,
       "version_minor": 0
      },
      "text/plain": [
       "VBox()"
      ]
     },
     "metadata": {},
     "output_type": "display_data"
    },
    {
     "name": "stdout",
     "output_type": "stream",
     "text": [
      "All draws in all batches have been processed\n",
      "\n",
      "Assembling 10 batches...\n",
      "Done\n",
      "\n",
      "Computing exp. values and autocorrelations of 10 draws batches, using 24 threads...\n",
      "\n",
      "\n",
      "spin = 1.0, length = 1000000, sigma = 0.4, length = 1000000, burnin = 0, node_autocorr = 1\n",
      "\n"
     ]
    },
    {
     "data": {
      "application/vnd.jupyter.widget-view+json": {
       "model_id": "19640c8b3a4d4d1aaa256231af57f3b2",
       "version_major": 2,
       "version_minor": 0
      },
      "text/plain": [
       "VBox()"
      ]
     },
     "metadata": {},
     "output_type": "display_data"
    },
    {
     "name": "stdout",
     "output_type": "stream",
     "text": [
      "All draws in all batches have been processed\n",
      "\n",
      "Assembling 10 batches...\n",
      "Done\n",
      "\n",
      "Computing exp. values and autocorrelations of 10 draws batches, using 24 threads...\n",
      "\n",
      "\n",
      "spin = 1.5, length = 1000000, sigma = 0.4, length = 1000000, burnin = 0, node_autocorr = 1\n",
      "\n"
     ]
    },
    {
     "data": {
      "application/vnd.jupyter.widget-view+json": {
       "model_id": "4e287a2d87714ffb87f34dfd1d0c4b48",
       "version_major": 2,
       "version_minor": 0
      },
      "text/plain": [
       "VBox()"
      ]
     },
     "metadata": {},
     "output_type": "display_data"
    },
    {
     "name": "stdout",
     "output_type": "stream",
     "text": [
      "All draws in all batches have been processed\n",
      "\n",
      "Assembling 10 batches...\n",
      "Done\n",
      "\n",
      "Computing exp. values and autocorrelations of 10 draws batches, using 24 threads...\n",
      "\n",
      "\n",
      "spin = 2.0, length = 1000000, sigma = 0.4, length = 1000000, burnin = 0, node_autocorr = 1\n",
      "\n"
     ]
    },
    {
     "data": {
      "application/vnd.jupyter.widget-view+json": {
       "model_id": "cde206975be64ca49d8d9bc7a6415706",
       "version_major": 2,
       "version_minor": 0
      },
      "text/plain": [
       "VBox()"
      ]
     },
     "metadata": {},
     "output_type": "display_data"
    },
    {
     "name": "stdout",
     "output_type": "stream",
     "text": [
      "All draws in all batches have been processed\n",
      "\n",
      "Assembling 10 batches...\n",
      "Done\n",
      "\n",
      "Computing exp. values and autocorrelations of 10 draws batches, using 24 threads...\n",
      "\n",
      "\n",
      "spin = 2.5, length = 1000000, sigma = 0.4, length = 1000000, burnin = 0, node_autocorr = 1\n",
      "\n"
     ]
    },
    {
     "data": {
      "application/vnd.jupyter.widget-view+json": {
       "model_id": "2edeeb4203ab4609960b6c2cd50a67c2",
       "version_major": 2,
       "version_minor": 0
      },
      "text/plain": [
       "VBox()"
      ]
     },
     "metadata": {},
     "output_type": "display_data"
    },
    {
     "name": "stdout",
     "output_type": "stream",
     "text": [
      "All draws in all batches have been processed\n",
      "\n",
      "Assembling 10 batches...\n",
      "Done\n",
      "\n",
      "Computing exp. values and autocorrelations of 10 draws batches, using 24 threads...\n",
      "\n",
      "\n",
      "spin = 3.0, length = 1000000, sigma = 0.4, length = 1000000, burnin = 0, node_autocorr = 1\n",
      "\n"
     ]
    },
    {
     "data": {
      "application/vnd.jupyter.widget-view+json": {
       "model_id": "dda8c8996c6f40cea17f6470d038152c",
       "version_major": 2,
       "version_minor": 0
      },
      "text/plain": [
       "VBox()"
      ]
     },
     "metadata": {},
     "output_type": "display_data"
    },
    {
     "name": "stdout",
     "output_type": "stream",
     "text": [
      "All draws in all batches have been processed\n",
      "\n",
      "Assembling 10 batches...\n",
      "Done\n",
      "\n",
      "Computing exp. values and autocorrelations of 10 draws batches, using 24 threads...\n",
      "\n",
      "\n",
      "spin = 3.5, length = 1000000, sigma = 0.4, length = 1000000, burnin = 0, node_autocorr = 1\n",
      "\n"
     ]
    },
    {
     "data": {
      "application/vnd.jupyter.widget-view+json": {
       "model_id": "7b8739121e114133b4b6be7bac61643b",
       "version_major": 2,
       "version_minor": 0
      },
      "text/plain": [
       "VBox()"
      ]
     },
     "metadata": {},
     "output_type": "display_data"
    },
    {
     "name": "stdout",
     "output_type": "stream",
     "text": [
      "All draws in all batches have been processed\n",
      "\n",
      "Assembling 10 batches...\n",
      "Done\n",
      "\n",
      "Computing exp. values and autocorrelations of 10 draws batches, using 24 threads...\n",
      "\n",
      "\n",
      "spin = 4.0, length = 1000000, sigma = 0.4, length = 1000000, burnin = 0, node_autocorr = 1\n",
      "\n"
     ]
    },
    {
     "data": {
      "application/vnd.jupyter.widget-view+json": {
       "model_id": "684c25967fcc4413a9e45588bf5614a8",
       "version_major": 2,
       "version_minor": 0
      },
      "text/plain": [
       "VBox()"
      ]
     },
     "metadata": {},
     "output_type": "display_data"
    },
    {
     "name": "stdout",
     "output_type": "stream",
     "text": [
      "All draws in all batches have been processed\n",
      "\n",
      "Assembling 10 batches...\n",
      "Done\n",
      "\n",
      "Computing exp. values and autocorrelations of 10 draws batches, using 24 threads...\n",
      "\n",
      "\n",
      "spin = 4.5, length = 1000000, sigma = 0.4, length = 1000000, burnin = 0, node_autocorr = 1\n",
      "\n"
     ]
    },
    {
     "data": {
      "application/vnd.jupyter.widget-view+json": {
       "model_id": "b46ada659cd84d52970a190efe62e471",
       "version_major": 2,
       "version_minor": 0
      },
      "text/plain": [
       "VBox()"
      ]
     },
     "metadata": {},
     "output_type": "display_data"
    },
    {
     "name": "stdout",
     "output_type": "stream",
     "text": [
      "All draws in all batches have been processed\n",
      "\n",
      "Assembling 10 batches...\n",
      "Done\n",
      "\n",
      "Computing exp. values and autocorrelations of 10 draws batches, using 24 threads...\n",
      "\n",
      "\n",
      "spin = 5.0, length = 1000000, sigma = 0.4, length = 1000000, burnin = 0, node_autocorr = 1\n",
      "\n"
     ]
    },
    {
     "data": {
      "application/vnd.jupyter.widget-view+json": {
       "model_id": "46b6887cfe9b47d1878830d28ace65ee",
       "version_major": 2,
       "version_minor": 0
      },
      "text/plain": [
       "VBox()"
      ]
     },
     "metadata": {},
     "output_type": "display_data"
    },
    {
     "name": "stdout",
     "output_type": "stream",
     "text": [
      "All draws in all batches have been processed\n",
      "\n",
      "Assembling 10 batches...\n",
      "Done\n",
      "\n",
      "Computing exp. values and autocorrelations of 10 draws batches, using 24 threads...\n",
      "\n",
      "\n",
      "spin = 5.5, length = 1000000, sigma = 0.4, length = 1000000, burnin = 0, node_autocorr = 1\n",
      "\n"
     ]
    },
    {
     "data": {
      "application/vnd.jupyter.widget-view+json": {
       "model_id": "20147298e70a45afb84cc7051c134c7f",
       "version_major": 2,
       "version_minor": 0
      },
      "text/plain": [
       "VBox()"
      ]
     },
     "metadata": {},
     "output_type": "display_data"
    },
    {
     "name": "stdout",
     "output_type": "stream",
     "text": [
      "All draws in all batches have been processed\n",
      "\n",
      "Assembling 10 batches...\n",
      "Done\n",
      "\n",
      "Computing exp. values and autocorrelations of 10 draws batches, using 24 threads...\n",
      "\n",
      "\n",
      "spin = 6.0, length = 1000000, sigma = 0.4, length = 1000000, burnin = 0, node_autocorr = 1\n",
      "\n"
     ]
    },
    {
     "data": {
      "application/vnd.jupyter.widget-view+json": {
       "model_id": "bfde47db26134f138674644e9d18d181",
       "version_major": 2,
       "version_minor": 0
      },
      "text/plain": [
       "VBox()"
      ]
     },
     "metadata": {},
     "output_type": "display_data"
    },
    {
     "name": "stdout",
     "output_type": "stream",
     "text": [
      "All draws in all batches have been processed\n",
      "\n",
      "Assembling 10 batches...\n",
      "Done\n"
     ]
    }
   ],
   "source": [
    "for spin, length, batch_size, sigma, burnin in zip(\n",
    "    spins, lengths, batch_sizes, sigmas, burnins\n",
    "):\n",
    "\n",
    "    angles_compute(data_folder, spin, length, model, batch_size, sigma, burnin)"
   ]
  },
  {
   "attachments": {},
   "cell_type": "markdown",
   "id": "ed4beb46-c9de-44f9-a31a-28037a642b97",
   "metadata": {},
   "source": [
    "## Plots"
   ]
  },
  {
   "cell_type": "code",
   "execution_count": 10,
   "id": "e92b2e67-5fa5-4d08-bff6-09a8bba34ed3",
   "metadata": {},
   "outputs": [
    {
     "ename": "FileNotFoundError",
     "evalue": "[Errno 2] No such file or directory: '../../data/MCMC/star/iterations_1000000_batch_size_100000_burnin_0_sigma_0.4/j_0.5/operators/angles/exp_values/batches_assembled_10.csv'",
     "output_type": "error",
     "traceback": [
      "\u001b[1;31m---------------------------------------------------------------------------\u001b[0m",
      "\u001b[1;31mFileNotFoundError\u001b[0m                         Traceback (most recent call last)",
      "\u001b[1;32mc:\\Users\\Jared\\OneDrive\\Github\\GFlowNets_on_SpinFoams\\notebooks\\Python\\MCMC_analysis.ipynb Cell 15\u001b[0m in \u001b[0;36m<cell line: 1>\u001b[1;34m()\u001b[0m\n\u001b[0;32m      <a href='vscode-notebook-cell:/c%3A/Users/Jared/OneDrive/Github/GFlowNets_on_SpinFoams/notebooks/Python/MCMC_analysis.ipynb#X16sZmlsZQ%3D%3D?line=4'>5</a>\u001b[0m batches_assembled \u001b[39m=\u001b[39m \u001b[39mint\u001b[39m(length\u001b[39m/\u001b[39mbatch_size)\n\u001b[0;32m      <a href='vscode-notebook-cell:/c%3A/Users/Jared/OneDrive/Github/GFlowNets_on_SpinFoams/notebooks/Python/MCMC_analysis.ipynb#X16sZmlsZQ%3D%3D?line=6'>7</a>\u001b[0m CSV_path \u001b[39m=\u001b[39m \u001b[39mf\u001b[39m\u001b[39m\"\u001b[39m\u001b[39m{\u001b[39;00mdata_folder\u001b[39m}\u001b[39;00m\u001b[39m/MCMC/\u001b[39m\u001b[39m{\u001b[39;00mmodel\u001b[39m}\u001b[39;00m\u001b[39m/iterations_\u001b[39m\u001b[39m{\u001b[39;00mlength\u001b[39m}\u001b[39;00m\u001b[39m_batch_size_\u001b[39m\u001b[39m{\u001b[39;00mbatch_size\u001b[39m}\u001b[39;00m\u001b[39m_burnin_\u001b[39m\u001b[39m{\u001b[39;00mburnin\u001b[39m}\u001b[39;00m\u001b[39m_sigma_\u001b[39m\u001b[39m{\u001b[39;00msigma\u001b[39m}\u001b[39;00m\u001b[39m/j_\u001b[39m\u001b[39m{\u001b[39;00mspin\u001b[39m}\u001b[39;00m\u001b[39m/operators/angles/exp_values/batches_assembled_\u001b[39m\u001b[39m{\u001b[39;00mbatches_assembled\u001b[39m}\u001b[39;00m\u001b[39m.csv\u001b[39m\u001b[39m\"\u001b[39m\n\u001b[1;32m----> <a href='vscode-notebook-cell:/c%3A/Users/Jared/OneDrive/Github/GFlowNets_on_SpinFoams/notebooks/Python/MCMC_analysis.ipynb#X16sZmlsZQ%3D%3D?line=8'>9</a>\u001b[0m df \u001b[39m=\u001b[39m pd\u001b[39m.\u001b[39;49mread_csv(\n\u001b[0;32m     <a href='vscode-notebook-cell:/c%3A/Users/Jared/OneDrive/Github/GFlowNets_on_SpinFoams/notebooks/Python/MCMC_analysis.ipynb#X16sZmlsZQ%3D%3D?line=9'>10</a>\u001b[0m \u001b[39mf\u001b[39;49m\u001b[39m\"\u001b[39;49m\u001b[39m{\u001b[39;49;00mCSV_path\u001b[39m}\u001b[39;49;00m\u001b[39m\"\u001b[39;49m,\n\u001b[0;32m     <a href='vscode-notebook-cell:/c%3A/Users/Jared/OneDrive/Github/GFlowNets_on_SpinFoams/notebooks/Python/MCMC_analysis.ipynb#X16sZmlsZQ%3D%3D?line=10'>11</a>\u001b[0m low_memory\u001b[39m=\u001b[39;49m\u001b[39mFalse\u001b[39;49;00m,\n\u001b[0;32m     <a href='vscode-notebook-cell:/c%3A/Users/Jared/OneDrive/Github/GFlowNets_on_SpinFoams/notebooks/Python/MCMC_analysis.ipynb#X16sZmlsZQ%3D%3D?line=11'>12</a>\u001b[0m index_col\u001b[39m=\u001b[39;49m\u001b[39m0\u001b[39;49m,\n\u001b[0;32m     <a href='vscode-notebook-cell:/c%3A/Users/Jared/OneDrive/Github/GFlowNets_on_SpinFoams/notebooks/Python/MCMC_analysis.ipynb#X16sZmlsZQ%3D%3D?line=12'>13</a>\u001b[0m )\n\u001b[0;32m     <a href='vscode-notebook-cell:/c%3A/Users/Jared/OneDrive/Github/GFlowNets_on_SpinFoams/notebooks/Python/MCMC_analysis.ipynb#X16sZmlsZQ%3D%3D?line=14'>15</a>\u001b[0m df \u001b[39m=\u001b[39m df\u001b[39m.\u001b[39mT\n\u001b[0;32m     <a href='vscode-notebook-cell:/c%3A/Users/Jared/OneDrive/Github/GFlowNets_on_SpinFoams/notebooks/Python/MCMC_analysis.ipynb#X16sZmlsZQ%3D%3D?line=16'>17</a>\u001b[0m spin_list \u001b[39m=\u001b[39m [\u001b[39m0.5\u001b[39m, \u001b[39m1.0\u001b[39m, \u001b[39m1.5\u001b[39m, \u001b[39m2.0\u001b[39m, \u001b[39m2.5\u001b[39m, \u001b[39m3.0\u001b[39m, \u001b[39m3.5\u001b[39m, \u001b[39m4.0\u001b[39m, \u001b[39m4.5\u001b[39m, \u001b[39m5.0\u001b[39m, \u001b[39m5.5\u001b[39m, \u001b[39m6.0\u001b[39m]\n",
      "File \u001b[1;32mc:\\Users\\Jared\\anaconda3\\lib\\site-packages\\pandas\\util\\_decorators.py:311\u001b[0m, in \u001b[0;36mdeprecate_nonkeyword_arguments.<locals>.decorate.<locals>.wrapper\u001b[1;34m(*args, **kwargs)\u001b[0m\n\u001b[0;32m    305\u001b[0m \u001b[39mif\u001b[39;00m \u001b[39mlen\u001b[39m(args) \u001b[39m>\u001b[39m num_allow_args:\n\u001b[0;32m    306\u001b[0m     warnings\u001b[39m.\u001b[39mwarn(\n\u001b[0;32m    307\u001b[0m         msg\u001b[39m.\u001b[39mformat(arguments\u001b[39m=\u001b[39marguments),\n\u001b[0;32m    308\u001b[0m         \u001b[39mFutureWarning\u001b[39;00m,\n\u001b[0;32m    309\u001b[0m         stacklevel\u001b[39m=\u001b[39mstacklevel,\n\u001b[0;32m    310\u001b[0m     )\n\u001b[1;32m--> 311\u001b[0m \u001b[39mreturn\u001b[39;00m func(\u001b[39m*\u001b[39margs, \u001b[39m*\u001b[39m\u001b[39m*\u001b[39mkwargs)\n",
      "File \u001b[1;32mc:\\Users\\Jared\\anaconda3\\lib\\site-packages\\pandas\\io\\parsers\\readers.py:680\u001b[0m, in \u001b[0;36mread_csv\u001b[1;34m(filepath_or_buffer, sep, delimiter, header, names, index_col, usecols, squeeze, prefix, mangle_dupe_cols, dtype, engine, converters, true_values, false_values, skipinitialspace, skiprows, skipfooter, nrows, na_values, keep_default_na, na_filter, verbose, skip_blank_lines, parse_dates, infer_datetime_format, keep_date_col, date_parser, dayfirst, cache_dates, iterator, chunksize, compression, thousands, decimal, lineterminator, quotechar, quoting, doublequote, escapechar, comment, encoding, encoding_errors, dialect, error_bad_lines, warn_bad_lines, on_bad_lines, delim_whitespace, low_memory, memory_map, float_precision, storage_options)\u001b[0m\n\u001b[0;32m    665\u001b[0m kwds_defaults \u001b[39m=\u001b[39m _refine_defaults_read(\n\u001b[0;32m    666\u001b[0m     dialect,\n\u001b[0;32m    667\u001b[0m     delimiter,\n\u001b[1;32m   (...)\u001b[0m\n\u001b[0;32m    676\u001b[0m     defaults\u001b[39m=\u001b[39m{\u001b[39m\"\u001b[39m\u001b[39mdelimiter\u001b[39m\u001b[39m\"\u001b[39m: \u001b[39m\"\u001b[39m\u001b[39m,\u001b[39m\u001b[39m\"\u001b[39m},\n\u001b[0;32m    677\u001b[0m )\n\u001b[0;32m    678\u001b[0m kwds\u001b[39m.\u001b[39mupdate(kwds_defaults)\n\u001b[1;32m--> 680\u001b[0m \u001b[39mreturn\u001b[39;00m _read(filepath_or_buffer, kwds)\n",
      "File \u001b[1;32mc:\\Users\\Jared\\anaconda3\\lib\\site-packages\\pandas\\io\\parsers\\readers.py:575\u001b[0m, in \u001b[0;36m_read\u001b[1;34m(filepath_or_buffer, kwds)\u001b[0m\n\u001b[0;32m    572\u001b[0m _validate_names(kwds\u001b[39m.\u001b[39mget(\u001b[39m\"\u001b[39m\u001b[39mnames\u001b[39m\u001b[39m\"\u001b[39m, \u001b[39mNone\u001b[39;00m))\n\u001b[0;32m    574\u001b[0m \u001b[39m# Create the parser.\u001b[39;00m\n\u001b[1;32m--> 575\u001b[0m parser \u001b[39m=\u001b[39m TextFileReader(filepath_or_buffer, \u001b[39m*\u001b[39m\u001b[39m*\u001b[39mkwds)\n\u001b[0;32m    577\u001b[0m \u001b[39mif\u001b[39;00m chunksize \u001b[39mor\u001b[39;00m iterator:\n\u001b[0;32m    578\u001b[0m     \u001b[39mreturn\u001b[39;00m parser\n",
      "File \u001b[1;32mc:\\Users\\Jared\\anaconda3\\lib\\site-packages\\pandas\\io\\parsers\\readers.py:933\u001b[0m, in \u001b[0;36mTextFileReader.__init__\u001b[1;34m(self, f, engine, **kwds)\u001b[0m\n\u001b[0;32m    930\u001b[0m     \u001b[39mself\u001b[39m\u001b[39m.\u001b[39moptions[\u001b[39m\"\u001b[39m\u001b[39mhas_index_names\u001b[39m\u001b[39m\"\u001b[39m] \u001b[39m=\u001b[39m kwds[\u001b[39m\"\u001b[39m\u001b[39mhas_index_names\u001b[39m\u001b[39m\"\u001b[39m]\n\u001b[0;32m    932\u001b[0m \u001b[39mself\u001b[39m\u001b[39m.\u001b[39mhandles: IOHandles \u001b[39m|\u001b[39m \u001b[39mNone\u001b[39;00m \u001b[39m=\u001b[39m \u001b[39mNone\u001b[39;00m\n\u001b[1;32m--> 933\u001b[0m \u001b[39mself\u001b[39m\u001b[39m.\u001b[39m_engine \u001b[39m=\u001b[39m \u001b[39mself\u001b[39;49m\u001b[39m.\u001b[39;49m_make_engine(f, \u001b[39mself\u001b[39;49m\u001b[39m.\u001b[39;49mengine)\n",
      "File \u001b[1;32mc:\\Users\\Jared\\anaconda3\\lib\\site-packages\\pandas\\io\\parsers\\readers.py:1217\u001b[0m, in \u001b[0;36mTextFileReader._make_engine\u001b[1;34m(self, f, engine)\u001b[0m\n\u001b[0;32m   1213\u001b[0m     mode \u001b[39m=\u001b[39m \u001b[39m\"\u001b[39m\u001b[39mrb\u001b[39m\u001b[39m\"\u001b[39m\n\u001b[0;32m   1214\u001b[0m \u001b[39m# error: No overload variant of \"get_handle\" matches argument types\u001b[39;00m\n\u001b[0;32m   1215\u001b[0m \u001b[39m# \"Union[str, PathLike[str], ReadCsvBuffer[bytes], ReadCsvBuffer[str]]\"\u001b[39;00m\n\u001b[0;32m   1216\u001b[0m \u001b[39m# , \"str\", \"bool\", \"Any\", \"Any\", \"Any\", \"Any\", \"Any\"\u001b[39;00m\n\u001b[1;32m-> 1217\u001b[0m \u001b[39mself\u001b[39m\u001b[39m.\u001b[39mhandles \u001b[39m=\u001b[39m get_handle(  \u001b[39m# type: ignore[call-overload]\u001b[39;49;00m\n\u001b[0;32m   1218\u001b[0m     f,\n\u001b[0;32m   1219\u001b[0m     mode,\n\u001b[0;32m   1220\u001b[0m     encoding\u001b[39m=\u001b[39;49m\u001b[39mself\u001b[39;49m\u001b[39m.\u001b[39;49moptions\u001b[39m.\u001b[39;49mget(\u001b[39m\"\u001b[39;49m\u001b[39mencoding\u001b[39;49m\u001b[39m\"\u001b[39;49m, \u001b[39mNone\u001b[39;49;00m),\n\u001b[0;32m   1221\u001b[0m     compression\u001b[39m=\u001b[39;49m\u001b[39mself\u001b[39;49m\u001b[39m.\u001b[39;49moptions\u001b[39m.\u001b[39;49mget(\u001b[39m\"\u001b[39;49m\u001b[39mcompression\u001b[39;49m\u001b[39m\"\u001b[39;49m, \u001b[39mNone\u001b[39;49;00m),\n\u001b[0;32m   1222\u001b[0m     memory_map\u001b[39m=\u001b[39;49m\u001b[39mself\u001b[39;49m\u001b[39m.\u001b[39;49moptions\u001b[39m.\u001b[39;49mget(\u001b[39m\"\u001b[39;49m\u001b[39mmemory_map\u001b[39;49m\u001b[39m\"\u001b[39;49m, \u001b[39mFalse\u001b[39;49;00m),\n\u001b[0;32m   1223\u001b[0m     is_text\u001b[39m=\u001b[39;49mis_text,\n\u001b[0;32m   1224\u001b[0m     errors\u001b[39m=\u001b[39;49m\u001b[39mself\u001b[39;49m\u001b[39m.\u001b[39;49moptions\u001b[39m.\u001b[39;49mget(\u001b[39m\"\u001b[39;49m\u001b[39mencoding_errors\u001b[39;49m\u001b[39m\"\u001b[39;49m, \u001b[39m\"\u001b[39;49m\u001b[39mstrict\u001b[39;49m\u001b[39m\"\u001b[39;49m),\n\u001b[0;32m   1225\u001b[0m     storage_options\u001b[39m=\u001b[39;49m\u001b[39mself\u001b[39;49m\u001b[39m.\u001b[39;49moptions\u001b[39m.\u001b[39;49mget(\u001b[39m\"\u001b[39;49m\u001b[39mstorage_options\u001b[39;49m\u001b[39m\"\u001b[39;49m, \u001b[39mNone\u001b[39;49;00m),\n\u001b[0;32m   1226\u001b[0m )\n\u001b[0;32m   1227\u001b[0m \u001b[39massert\u001b[39;00m \u001b[39mself\u001b[39m\u001b[39m.\u001b[39mhandles \u001b[39mis\u001b[39;00m \u001b[39mnot\u001b[39;00m \u001b[39mNone\u001b[39;00m\n\u001b[0;32m   1228\u001b[0m f \u001b[39m=\u001b[39m \u001b[39mself\u001b[39m\u001b[39m.\u001b[39mhandles\u001b[39m.\u001b[39mhandle\n",
      "File \u001b[1;32mc:\\Users\\Jared\\anaconda3\\lib\\site-packages\\pandas\\io\\common.py:789\u001b[0m, in \u001b[0;36mget_handle\u001b[1;34m(path_or_buf, mode, encoding, compression, memory_map, is_text, errors, storage_options)\u001b[0m\n\u001b[0;32m    784\u001b[0m \u001b[39melif\u001b[39;00m \u001b[39misinstance\u001b[39m(handle, \u001b[39mstr\u001b[39m):\n\u001b[0;32m    785\u001b[0m     \u001b[39m# Check whether the filename is to be opened in binary mode.\u001b[39;00m\n\u001b[0;32m    786\u001b[0m     \u001b[39m# Binary mode does not support 'encoding' and 'newline'.\u001b[39;00m\n\u001b[0;32m    787\u001b[0m     \u001b[39mif\u001b[39;00m ioargs\u001b[39m.\u001b[39mencoding \u001b[39mand\u001b[39;00m \u001b[39m\"\u001b[39m\u001b[39mb\u001b[39m\u001b[39m\"\u001b[39m \u001b[39mnot\u001b[39;00m \u001b[39min\u001b[39;00m ioargs\u001b[39m.\u001b[39mmode:\n\u001b[0;32m    788\u001b[0m         \u001b[39m# Encoding\u001b[39;00m\n\u001b[1;32m--> 789\u001b[0m         handle \u001b[39m=\u001b[39m \u001b[39mopen\u001b[39;49m(\n\u001b[0;32m    790\u001b[0m             handle,\n\u001b[0;32m    791\u001b[0m             ioargs\u001b[39m.\u001b[39;49mmode,\n\u001b[0;32m    792\u001b[0m             encoding\u001b[39m=\u001b[39;49mioargs\u001b[39m.\u001b[39;49mencoding,\n\u001b[0;32m    793\u001b[0m             errors\u001b[39m=\u001b[39;49merrors,\n\u001b[0;32m    794\u001b[0m             newline\u001b[39m=\u001b[39;49m\u001b[39m\"\u001b[39;49m\u001b[39m\"\u001b[39;49m,\n\u001b[0;32m    795\u001b[0m         )\n\u001b[0;32m    796\u001b[0m     \u001b[39melse\u001b[39;00m:\n\u001b[0;32m    797\u001b[0m         \u001b[39m# Binary mode\u001b[39;00m\n\u001b[0;32m    798\u001b[0m         handle \u001b[39m=\u001b[39m \u001b[39mopen\u001b[39m(handle, ioargs\u001b[39m.\u001b[39mmode)\n",
      "\u001b[1;31mFileNotFoundError\u001b[0m: [Errno 2] No such file or directory: '../../data/MCMC/star/iterations_1000000_batch_size_100000_burnin_0_sigma_0.4/j_0.5/operators/angles/exp_values/batches_assembled_10.csv'"
     ]
    }
   ],
   "source": [
    "for spin, length, batch_size, sigma, burnin in zip(\n",
    "    spins, lengths, batch_sizes, sigmas, burnins\n",
    "):\n",
    "    \n",
    "    batches_assembled = int(length/batch_size)\n",
    "\n",
    "    CSV_path = f\"{data_folder}/MCMC/{model}/iterations_{length}_batch_size_{batch_size}_burnin_{burnin}_sigma_{sigma}/j_{spin}/operators/angles/exp_values/batches_assembled_{batches_assembled}.csv\"\n",
    "\n",
    "    df = pd.read_csv(\n",
    "    f\"{CSV_path}\",\n",
    "    low_memory=False,\n",
    "    index_col=0,\n",
    "    )\n",
    "    \n",
    "    df = df.T\n",
    "\n",
    "    spin_list = [0.5, 1.0, 1.5, 2.0, 2.5, 3.0, 3.5, 4.0, 4.5, 5.0, 5.5, 6.0]\n",
    "    df[\"batches\"] = [i for i in range(0, batches_assembled)]\n",
    "    df[\"reg_angles\"] = [-0.33333 for i in range(0, batches_assembled)]\n",
    "    \n",
    "    ax = df.plot(\n",
    "    x=\"batches\",\n",
    "    y=\"node 1\",\n",
    "    s=100,\n",
    "    kind=\"scatter\",\n",
    "    grid=\"false\",\n",
    "    color=\"tab:purple\",\n",
    "    label=\"computed cosine angle value\",\n",
    "    figsize=(12, 6.75),\n",
    "    legend=False,\n",
    "    )\n",
    "    df.plot(\n",
    "    #x=\"spin\",\n",
    "    y=\"reg_angles\",\n",
    "    ax=ax,\n",
    "    kind=\"line\",\n",
    "    color=\"tab:orange\",\n",
    "    linewidth=1.2,\n",
    "    label=\"cosine angle regular tetrahedron\",\n",
    "    legend=False,\n",
    "    )\n",
    "\n",
    "    delta = 0.3 \n",
    "    ax.set_ylim([-0.333 - delta, -0.3333 + delta])\n",
    "    plt.ylabel(r\"$\\langle \\cos (\\theta)_1 \\rangle_{mc}$\")\n",
    "    plt.xlabel(\" \")\n",
    "\n",
    "    # save the plot\n",
    "    plot_path =  f\"./plots/MCMC/{model}/iterations_{length}_batch_size_{batch_size}_burnin_{burnin}_sigma_{sigma}\"\n",
    "    os.makedirs(plot_path, exist_ok=True)\n",
    "    \n",
    "    printfile = f\"{plot_path}/j_{spin}_batches_assembled_{batches_assembled}\"\n",
    "    plt.savefig(printfile + \".svg\")\n",
    "    # plt.savefig(printfile+'.png',dpi=300)"
   ]
  },
  {
   "cell_type": "code",
   "execution_count": null,
   "id": "4f3dad9f-fa61-4a56-95a0-f1160778a5e6",
   "metadata": {},
   "outputs": [],
   "source": [
    "##########################################################\n",
    "### Assembling autocorrelation\n",
    "##########################################################\n",
    "        \n",
    "node_autocorr = 1        \n",
    "\n",
    "df_autocorr_list = []\n",
    "\n",
    "for spin, length, batch_size, sigma, burnin in zip(spins, lengths, batch_sizes, sigmas, burnins):     \n",
    "    \n",
    "    folder_prefix = f\"{data_folder}/MCMC/{model}/iterations_{length}_batch_size_{batch_size}_burnin_{burnin}_sigma_{sigma}/j_{spin}\"\n",
    "    \n",
    "    angle_path = f\"{folder_prefix}/operators/angles\"\n",
    "    angle_path_autocorrelations = f\"{angle_path}/autocorrelations\"\n",
    "        \n",
    "    df = pd.read_csv(\n",
    "       f\"{angle_path_autocorrelations}/batches_assembled_{batches_assembled}.csv\",\n",
    "       low_memory=False,\n",
    "       index_col=0,\n",
    "       )\n",
    "\n",
    "    df.rename(columns={f\"node {node_autocorr}\": f\"spin {spin}\"}, inplace=True)\n",
    "\n",
    "    df_autocorr_list.append(df)\n",
    "    \n",
    "df = pd.concat(df_autocorr_list[:], axis=1)   \n",
    "\n",
    "df[\"lag\"] = df.index"
   ]
  },
  {
   "cell_type": "code",
   "execution_count": null,
   "id": "095f58ce-08f1-45f0-8246-0a9228dae939",
   "metadata": {},
   "outputs": [],
   "source": [
    "df"
   ]
  },
  {
   "cell_type": "code",
   "execution_count": null,
   "id": "ecbfd9bf-8ac3-45d3-aa40-bb811f04b283",
   "metadata": {},
   "outputs": [],
   "source": [
    "df.plot(\n",
    "    x=\"lag\",\n",
    "    y=[\n",
    "        \"spin 0.5\",\n",
    "        \"spin 1.0\",\n",
    "        \"spin 1.5\",\n",
    "        \"spin 2.0\",\n",
    "        \"spin 2.5\",\n",
    "        \"spin 3.0\",\n",
    "        \"spin 3.5\",\n",
    "        \"spin 4.0\",\n",
    "        \"spin 4.5\",\n",
    "        \"spin 5.0\",\n",
    "        \"spin 5.5\",\n",
    "        \"spin 6.0\"\n",
    "    ],\n",
    "    # s=20,\n",
    "    # xticks=corresponding_spin,\n",
    "    kind=\"line\",\n",
    "    grid=\"false\",\n",
    "    # color=\"tab:purple\",\n",
    "    label=[\n",
    "        r\"$j = 0.5$\",\n",
    "        r\"$j = 1$\",\n",
    "        r\"$j = 1.5$\",\n",
    "        r\"$j = 2$\",\n",
    "        r\"$j = 2.5$\",\n",
    "        r\"$j = 3$\",\n",
    "        r\"$j = 3.5$\",\n",
    "        r\"$j = 4$\",\n",
    "        r\"$j = 4.5$\",\n",
    "        r\"$j = 5$\",\n",
    "        r\"$j = 5.5$\",\n",
    "        r\"$j = 6$\"       \n",
    "    ],\n",
    "    figsize=(12, 6.75),\n",
    ")\n",
    "\n",
    "plt.legend(title=\"boundary spin\", loc=\"upper right\", fontsize=\"large\", fancybox=True)\n",
    "\n",
    "plt.ylabel(r\"$R_{\\cos (\\theta)}$\")\n",
    "plt.xlabel(\"lag ($d$)\")\n",
    "# plt.title(\"Autocorrelation function\", fontsize=16)\n",
    "\n",
    "\n",
    "    # save the plot\n",
    "plot_path =  f\"./plots/MCMC/{model}/iterations_{length}_batch_size_{batch_size}_burnin_{burnin}_sigma_{sigma}\"\n",
    "os.makedirs(plot_path, exist_ok=True)\n",
    "    \n",
    "printfile = f\"{plot_path}/angles_autocorrelations_batches_assembled_{batches_assembled}\"\n",
    "plt.savefig(printfile + \".svg\")"
   ]
  },
  {
   "attachments": {},
   "cell_type": "markdown",
   "id": "49a57a5b-57be-47b4-9ef4-d0488657f881",
   "metadata": {},
   "source": [
    "# Distribution"
   ]
  },
  {
   "cell_type": "code",
   "execution_count": null,
   "id": "1c21ee9b-dc0d-4d8f-85bb-b25f3cdc32e7",
   "metadata": {},
   "outputs": [],
   "source": [
    "\"\"\"\n",
    "Load vertex tensor as numpy multidimensional array\n",
    "The vertex is returned in ROW-MAJOR (C-like) order\n",
    "The vertex is read as [i5, i4, i3, i2, i1]\n",
    "\"\"\"\n",
    "def VertexLoad(spin, path=\"../../data/EPRL_vertices/Python/Dl_20\"):\n",
    "\n",
    "    assert (spin/0.5).is_integer(), \"Please assign spin as float halfinteger\"\n",
    "    DIM = int(2*spin+1) \n",
    "\n",
    "    vertex_loaded = np.load(f\"{path}/vertex_j_{float(spin)}.npz\")\n",
    "\n",
    "    if vertex_loaded.flags['F_CONTIGUOUS'] == False:\n",
    "        vertex_loaded = np.transpose(vertex_loaded)     \n",
    "\n",
    "    vertex = np.zeros((DIM,DIM,DIM,DIM,DIM), order='C')\n",
    "    vertex[:] = vertex_loaded[:]\n",
    "    \n",
    "    return vertex"
   ]
  },
  {
   "cell_type": "code",
   "execution_count": null,
   "id": "4ed3ef7b-75ef-4d6f-a3d2-c1e34e404777",
   "metadata": {},
   "outputs": [],
   "source": [
    "Amplitude = VertexLoad(6)"
   ]
  },
  {
   "cell_type": "code",
   "execution_count": null,
   "id": "77c28714-1062-4036-83ff-a72aead0f845",
   "metadata": {},
   "outputs": [],
   "source": [
    "Distribution = Amplitude**2"
   ]
  },
  {
   "cell_type": "code",
   "execution_count": null,
   "id": "5ac36edf-9ff0-4d7e-9c5c-4f86b266dae8",
   "metadata": {},
   "outputs": [],
   "source": [
    "dist = Distribution[2,:,1,:,4]"
   ]
  },
  {
   "cell_type": "code",
   "execution_count": null,
   "id": "f7208577-f42b-450c-9784-afc720e6cc2e",
   "metadata": {},
   "outputs": [],
   "source": [
    "sns.heatmap(dist)"
   ]
  },
  {
   "attachments": {},
   "cell_type": "markdown",
   "id": "0d327f01-1648-4387-88c4-97ae620a0d52",
   "metadata": {},
   "source": [
    "There's no good way of visualizing a 5-dim distribution graphically..."
   ]
  }
 ],
 "metadata": {
  "kernelspec": {
   "display_name": "Python 3 (ipykernel)",
   "language": "python",
   "name": "python3"
  },
  "language_info": {
   "codemirror_mode": {
    "name": "ipython",
    "version": 3
   },
   "file_extension": ".py",
   "mimetype": "text/x-python",
   "name": "python",
   "nbconvert_exporter": "python",
   "pygments_lexer": "ipython3",
   "version": "3.9.12"
  }
 },
 "nbformat": 4,
 "nbformat_minor": 5
}
