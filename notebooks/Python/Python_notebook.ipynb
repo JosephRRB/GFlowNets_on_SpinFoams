{
 "cells": [
  {
   "cell_type": "markdown",
   "id": "7528848a-139f-47f6-a539-244265a1a56c",
   "metadata": {},
   "source": [
    "## Importing the vertex amplitude as numpy array in Python"
   ]
  },
  {
   "attachments": {},
   "cell_type": "markdown",
   "id": "87dc9420-8b10-45ee-8dc6-d0fb331109c8",
   "metadata": {},
   "source": [
    "The EPRL vertex corresponds to the following object:\n",
    "\n",
    "![alt text](../pics/vertex_amplitude.png \"Title\")"
   ]
  },
  {
   "attachments": {},
   "cell_type": "markdown",
   "id": "9de804e0-7eb0-4e80-83d1-bde0d1a925e1",
   "metadata": {},
   "source": [
    "in which $j_{12} = j_{13} = j_{14} = \\dots = j_{45} = j$,. \n",
    "\n",
    "At fixed $j$, the amplitude can be interpreted as a 5-dim array with dimensions $(2j+1)^5$, where each entry corresponds to different\n",
    "values for the intertwiners $i_1 \\dots i_5$ (notice that $k_5$ in the pic is a typo) . \n",
    "In fact, there are $2j+1$ possible values for each intertwiner (from $0$ to $2j$).\n",
    "\n",
    "In the `../../data/EPRL_vertices/python` folder are provided the vertices for $j = 0.5, 1, \\dots 5$, stored in `.npz` format."
   ]
  },
  {
   "cell_type": "code",
   "execution_count": 35,
   "id": "4c3c5e64",
   "metadata": {},
   "outputs": [],
   "source": [
    "import numpy as np\n",
    "\n",
    "\"\"\"\n",
    "Load vertex tensor as numpy multidimensional array (row-major ordering)\n",
    "The vertex is read as [i1, i2, i3, i4, i5]\n",
    "\"\"\"\n",
    "def VertexLoad(spin, path=\"../../data/EPRL_vertices/python\"):\n",
    "\n",
    "    assert (spin/0.5).is_integer(), \"Please assign spin as float halfinteger\"\n",
    "\n",
    "    return np.load(f\"{path}/vertex_j_{float(spin)}.npz\")\n"
   ]
  },
  {
   "attachments": {},
   "cell_type": "markdown",
   "id": "7a4601cd",
   "metadata": {},
   "source": [
    "For example, we can load the 5-dimensional array corresponding to $j = 3$:"
   ]
  },
  {
   "cell_type": "code",
   "execution_count": 43,
   "id": "dd04856b",
   "metadata": {},
   "outputs": [],
   "source": [
    "vertex = VertexLoad(0.5)"
   ]
  },
  {
   "cell_type": "code",
   "execution_count": 44,
   "id": "42e6294b",
   "metadata": {},
   "outputs": [
    {
     "data": {
      "text/plain": [
       "True"
      ]
     },
     "execution_count": 44,
     "metadata": {},
     "output_type": "execute_result"
    }
   ],
   "source": [
    "vertex.data.contiguous"
   ]
  },
  {
   "cell_type": "code",
   "execution_count": 45,
   "id": "efa13b8a",
   "metadata": {},
   "outputs": [
    {
     "data": {
      "text/plain": [
       "True"
      ]
     },
     "execution_count": 45,
     "metadata": {},
     "output_type": "execute_result"
    }
   ],
   "source": [
    "vertex.flags['F_CONTIGUOUS']"
   ]
  },
  {
   "cell_type": "code",
   "execution_count": 46,
   "id": "a7b40b60",
   "metadata": {},
   "outputs": [
    {
     "data": {
      "text/plain": [
       "False"
      ]
     },
     "execution_count": 46,
     "metadata": {},
     "output_type": "execute_result"
    }
   ],
   "source": [
    "vertex.flags['C_CONTIGUOUS']"
   ]
  },
  {
   "cell_type": "code",
   "execution_count": 48,
   "id": "de6d620c",
   "metadata": {},
   "outputs": [
    {
     "data": {
      "text/plain": [
       "array([[[[ 5.92215706e-09, -1.02574769e-08],\n",
       "         [-1.02574769e-08, -5.92215706e-09]],\n",
       "\n",
       "        [[-1.02574769e-08,  1.77664712e-08],\n",
       "         [-5.92215706e-09, -3.41915897e-09]]],\n",
       "\n",
       "\n",
       "       [[[-1.02574769e-08,  1.77664712e-08],\n",
       "         [ 1.77664712e-08,  1.02574769e-08]],\n",
       "\n",
       "        [[-5.92215706e-09,  1.02574769e-08],\n",
       "         [-3.41915897e-09, -1.97405235e-09]]]])"
      ]
     },
     "execution_count": 48,
     "metadata": {},
     "output_type": "execute_result"
    }
   ],
   "source": [
    "vertex[0]"
   ]
  },
  {
   "cell_type": "code",
   "execution_count": null,
   "id": "4a65b2c7",
   "metadata": {},
   "outputs": [],
   "source": []
  },
  {
   "cell_type": "markdown",
   "id": "c357611a-f530-4c32-b001-0fd046b99ef0",
   "metadata": {},
   "source": [
    "### Correspondence between array elements and intertwiners\n",
    "\n",
    "The amplitude $A \\left( j, i_1 = 0, i_2 = 2, i_3 = 0, i_4 = 3, i_5 = 0 \\right)$ correspons to the following element:"
   ]
  },
  {
   "cell_type": "code",
   "execution_count": 2,
   "id": "7a0c8dd1-7265-4be1-87b8-74958f02a6fe",
   "metadata": {
    "ExecuteTime": {
     "end_time": "2023-01-19T20:10:55.884889Z",
     "start_time": "2023-01-19T20:10:55.847950Z"
    }
   },
   "outputs": [
    {
     "data": {
      "text/plain": [
       "-7.021548787502716e-13"
      ]
     },
     "execution_count": 2,
     "metadata": {},
     "output_type": "execute_result"
    }
   ],
   "source": [
    "vertex[0,3,0,2,0]"
   ]
  },
  {
   "cell_type": "markdown",
   "id": "d7f8e4ff-180d-4676-8221-015488da858b",
   "metadata": {},
   "source": [
    "etc."
   ]
  },
  {
   "cell_type": "code",
   "execution_count": 38,
   "id": "5f553818",
   "metadata": {},
   "outputs": [],
   "source": [
    "def naive_contraction(tensor, indices):\n",
    "\n",
    "    result = 0.0\n",
    "\n",
    "    for i in range(5):\n",
    "       for j in range(5):\n",
    "          for k in range(5):\n",
    "\n",
    "             result += tensor[i,j,k] * tensor[indices[0], indices[1], i] * tensor[indices[2], indices[3], j] * tensor[indices[4], indices[5], k]        \n",
    "\n",
    "    return result         "
   ]
  },
  {
   "cell_type": "code",
   "execution_count": 39,
   "id": "7a40b2ec",
   "metadata": {},
   "outputs": [],
   "source": [
    "def optimized_contraction(tensor, indices):\n",
    "\n",
    "    result_einsum = np.einsum('ijk, i, j, k ->', tensor, tensor[indices[0], indices[1], :], tensor[indices[2], indices[3], :], tensor[indices[4], indices[5], :])\n",
    "\n",
    "    return result_einsum"
   ]
  },
  {
   "cell_type": "code",
   "execution_count": 42,
   "id": "6d894a52",
   "metadata": {},
   "outputs": [
    {
     "name": "stdout",
     "output_type": "stream",
     "text": [
      "6.378338855687118\n",
      "6.378338855687118\n"
     ]
    }
   ],
   "source": [
    "tensor = np.random.rand(5,5,5)\n",
    "\n",
    "indices = [0,1,4,3,0,1]\n",
    "\n",
    "result_naive = naive_contraction(tensor, indices)\n",
    "result_einsum = optimized_contraction(tensor, indices)\n",
    "\n",
    "print(result_naive)\n",
    "print(result_einsum)"
   ]
  },
  {
   "cell_type": "code",
   "execution_count": 36,
   "id": "a3eb3f6e",
   "metadata": {},
   "outputs": [],
   "source": [
    "def optimized_contraction(tensor, indices):\n",
    "\n",
    "    result_einsum = np.einsum('ijk, i, j, k ->', tensor, tensor[indices[0], indices[1], :], tensor[indices[2], indices[3], :], tensor[indices[4], indices[5], :])\n",
    "\n",
    "    return result_einsum\n"
   ]
  },
  {
   "cell_type": "code",
   "execution_count": 23,
   "id": "7813f6d7",
   "metadata": {},
   "outputs": [
    {
     "data": {
      "text/plain": [
       "array([0.70055418, 0.07775691, 0.56603202, 0.7285566 , 0.50234412])"
      ]
     },
     "execution_count": 23,
     "metadata": {},
     "output_type": "execute_result"
    }
   ],
   "source": [
    "tensor[indices[0], indices[1], :]"
   ]
  },
  {
   "cell_type": "code",
   "execution_count": 35,
   "id": "963324b1",
   "metadata": {},
   "outputs": [],
   "source": [
    "path = np.einsum_path('ijk,ilm,njm,nlk,abc->',a,a,a,a,a, optimize='optimal')[0]\n",
    "for iteration in range(500):\n",
    "    _ = np.einsum('ijk, i, j, k ->', tensor, tensor[indices[0], indices[1], :], tensor[indices[2], indices[3], :], tensor[indices[4], indices[5], :])"
   ]
  },
  {
   "cell_type": "markdown",
   "id": "543e05c2-2f7f-4552-b20b-1972a48f3b19",
   "metadata": {},
   "source": [
    "## Computing the dihedral angle (diagonal operator)"
   ]
  },
  {
   "cell_type": "markdown",
   "id": "2cd27967-5e70-4d20-940b-fcbeb3dafc44",
   "metadata": {},
   "source": [
    "If we want to compute the dihedral angle on one node, the equation is:\n",
    "\n",
    "$$\n",
    "\\langle O_1 \\rangle = \\frac{1}{Z} \\sum_{i_1 \\dots i_5} A^2 \\left( j, i_1, i_2, i_3, i_4, i_5 \\right) f \\left( j, i_1 \\right)\n",
    "$$\n",
    "\n",
    "where:\n",
    "\n",
    "$$\n",
    "f \\left( j, i_1 \\right) = \\frac{i_1(i_1 + 1) - 2j(j+1)}{2j(j+1)}\n",
    "$$\n",
    "\n",
    "is the (diagonal) matrix element, and:\n",
    "\n",
    "$$\n",
    "Z = \\sum_{i_1 \\dots i_5} A^2 \\left( j, i_1, i_2, i_3, i_4, i_5 \\right)\n",
    "$$\n",
    "\n",
    "is the normalization factor. Of course we have:\n",
    "\n",
    "$$\n",
    "\\sum_{i_1 \\dots i_5} \\equiv \\sum_{i_1=0}^{2j} \\sum_{i_2=0}^{2j} \\sum_{i_3=0}^{2j} \\sum_{i_4=0}^{2j} \\sum_{i_5=0}^{2j}\n",
    "$$\n",
    "\n",
    "I don't remember if numpy stores arrays in row or column major order, therefore the computation below is probably not efficient"
   ]
  },
  {
   "cell_type": "code",
   "execution_count": 3,
   "id": "227d68ca-e7e2-42c7-8c5e-ff6e2dc1e410",
   "metadata": {
    "ExecuteTime": {
     "end_time": "2023-01-19T20:10:59.085356Z",
     "start_time": "2023-01-19T20:10:58.997333Z"
    }
   },
   "outputs": [
    {
     "name": "stdout",
     "output_type": "stream",
     "text": [
      "Expectation value is -0.33333333333333365\n"
     ]
    }
   ],
   "source": [
    "def boundary_angle(i,j):\n",
    "    angle = (i*(i+1) - 2*j*(j+1)) / (2*j*(j+1));\n",
    "    return angle\n",
    "\n",
    "exp_value = 0.0\n",
    "norm_factor = 0.0\n",
    "\n",
    "for i1 in range(0,2*j+1):\n",
    "    \n",
    "    angle = boundary_angle(i1, j)\n",
    "    \n",
    "    for i2 in range(0,2*j+1): \n",
    "        for i3 in range(0,2*j+1): \n",
    "            for i4 in range(0,2*j+1): \n",
    "                for i5 in range(0,2*j+1): \n",
    "                    \n",
    "                    A_squared = pow(vertex[i1,i2,i3,i4,i5],2)\n",
    "                    \n",
    "                    exp_value += A_squared*angle\n",
    "                    norm_factor += A_squared    \n",
    "                    \n",
    "print(f\"Expectation value is {exp_value/norm_factor}\")                    "
   ]
  },
  {
   "cell_type": "code",
   "execution_count": null,
   "id": "eb9f999b",
   "metadata": {},
   "outputs": [],
   "source": []
  },
  {
   "cell_type": "code",
   "execution_count": 4,
   "id": "c8914b92",
   "metadata": {
    "ExecuteTime": {
     "end_time": "2023-01-19T20:11:38.623572Z",
     "start_time": "2023-01-19T20:11:32.583676Z"
    }
   },
   "outputs": [
    {
     "name": "stderr",
     "output_type": "stream",
     "text": [
      "2023-01-19 15:11:38.613782: I tensorflow/core/platform/cpu_feature_guard.cc:193] This TensorFlow binary is optimized with oneAPI Deep Neural Network Library (oneDNN) to use the following CPU instructions in performance-critical operations:  SSE4.1 SSE4.2 AVX AVX2 FMA\n",
      "To enable them in other operations, rebuild TensorFlow with the appropriate compiler flags.\n"
     ]
    }
   ],
   "source": [
    "import tensorflow as tf\n",
    "\n",
    "\n",
    "spin_j = j\n",
    "vertex_amplitudes = tf.convert_to_tensor(\n",
    "    vertex, dtype=tf.float64\n",
    ")\n",
    "squared_amplitudes = tf.math.square(vertex_amplitudes)\n",
    "scale = tf.math.reduce_sum(squared_amplitudes)\n",
    "# rewards = tf.cast(squared_amplitudes/scale, dtype=tf.float32)\n",
    "rewards = squared_amplitudes/scale"
   ]
  },
  {
   "cell_type": "code",
   "execution_count": 6,
   "id": "53018a04",
   "metadata": {
    "ExecuteTime": {
     "end_time": "2023-01-19T19:36:30.761336Z",
     "start_time": "2023-01-19T19:36:30.742038Z"
    }
   },
   "outputs": [
    {
     "data": {
      "text/plain": [
       "TensorShape([7, 7, 7, 7, 7])"
      ]
     },
     "execution_count": 6,
     "metadata": {},
     "output_type": "execute_result"
    }
   ],
   "source": [
    "rewards.shape"
   ]
  },
  {
   "cell_type": "code",
   "execution_count": 8,
   "id": "d51aa3b5",
   "metadata": {
    "ExecuteTime": {
     "end_time": "2023-01-19T20:12:46.065537Z",
     "start_time": "2023-01-19T20:12:46.040013Z"
    }
   },
   "outputs": [],
   "source": [
    "inds_1d = tf.range(7)\n",
    "inds = tf.meshgrid(*[inds_1d]*5, indexing='ij')\n",
    "\n",
    "i1 = tf.cast(inds[0], dtype=tf.float64)"
   ]
  },
  {
   "cell_type": "code",
   "execution_count": 9,
   "id": "1f695185",
   "metadata": {
    "ExecuteTime": {
     "end_time": "2023-01-19T20:12:46.734967Z",
     "start_time": "2023-01-19T20:12:46.717022Z"
    }
   },
   "outputs": [],
   "source": [
    "angle = (i1*(i1 + 1) - 2*spin_j*(spin_j + 1)) / (2*spin_j*(spin_j + 1))"
   ]
  },
  {
   "cell_type": "code",
   "execution_count": 10,
   "id": "00ea424f",
   "metadata": {
    "ExecuteTime": {
     "end_time": "2023-01-19T20:12:47.538897Z",
     "start_time": "2023-01-19T20:12:47.519374Z"
    }
   },
   "outputs": [
    {
     "data": {
      "text/plain": [
       "<tf.Tensor: shape=(), dtype=float64, numpy=-0.33333333333333376>"
      ]
     },
     "execution_count": 10,
     "metadata": {},
     "output_type": "execute_result"
    }
   ],
   "source": [
    "tf.reduce_sum(rewards*angle)"
   ]
  },
  {
   "cell_type": "code",
   "execution_count": null,
   "id": "9c63a743",
   "metadata": {},
   "outputs": [],
   "source": []
  }
 ],
 "metadata": {
  "kernelspec": {
   "display_name": "Python 3 (ipykernel)",
   "language": "python",
   "name": "python3"
  },
  "language_info": {
   "codemirror_mode": {
    "name": "ipython",
    "version": 3
   },
   "file_extension": ".py",
   "mimetype": "text/x-python",
   "name": "python",
   "nbconvert_exporter": "python",
   "pygments_lexer": "ipython3",
   "version": "3.9.15"
  }
 },
 "nbformat": 4,
 "nbformat_minor": 5
}
