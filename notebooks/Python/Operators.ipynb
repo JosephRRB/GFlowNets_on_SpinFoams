{
 "cells": [
  {
   "cell_type": "markdown",
   "id": "16eed45f-9117-4ee4-82dd-67c9903fbc47",
   "metadata": {},
   "source": [
    "# Initialization"
   ]
  },
  {
   "cell_type": "markdown",
   "id": "8db862ce-aece-4e7d-8fef-3c5bc304220b",
   "metadata": {},
   "source": [
    "## Importing libs and setting plot style"
   ]
  },
  {
   "cell_type": "code",
   "execution_count": 1,
   "id": "af5a467a-00c4-4ab4-bba0-53f0bc9d3d61",
   "metadata": {},
   "outputs": [],
   "source": [
    "import itertools\n",
    "import multiprocessing as mp\n",
    "import os\n",
    "import random\n",
    "import threading\n",
    "import time\n",
    "import warnings\n",
    "\n",
    "import matplotlib.pyplot as plt\n",
    "import numpy as np\n",
    "import pandas as pd\n",
    "import seaborn as sns\n",
    "import statsmodels.api as sm\n",
    "from atpbar import atpbar, flush\n",
    "from matplotlib import rc"
   ]
  },
  {
   "cell_type": "code",
   "execution_count": 88,
   "id": "22b1a0e6-318b-4f06-acfd-47eadcaa0421",
   "metadata": {},
   "outputs": [],
   "source": [
    "# Setting plot style\n",
    "\n",
    "sns.set()\n",
    "sns.set_context(\"paper\", font_scale=1.5, rc={\"lines.linewidth\": 2.0})\n",
    "\n",
    "rc(\"text\", usetex=True)\n",
    "\n",
    "sns.set_style(\"ticks\")\n",
    "sns.set_style(\n",
    "    \"whitegrid\",\n",
    "    {\n",
    "        \"axes.edgecolor\": \"black\",\n",
    "        \"axes.grid\": True,\n",
    "        \"axes.axisbelow\": True,\n",
    "        \"axes.labelcolor\": \".15\",\n",
    "        \"grid.color\": \"0.9\",\n",
    "        \"grid.linestyle\": \"-\",\n",
    "        \"xtick.direction\": \"in\",\n",
    "        \"ytick.direction\": \"in\",\n",
    "        \"xtick.bottom\": True,\n",
    "        \"xtick.top\": True,\n",
    "        \"ytick.left\": True,\n",
    "        \"ytick.right\": True,\n",
    "        \"font.family\": [\"sans-serif\"],\n",
    "        \"font.sans-serif\": [\"Liberation Sans\", \"Bitstream Vera Sans\", \"sans-serif\"],\n",
    "    },\n",
    ")"
   ]
  },
  {
   "cell_type": "markdown",
   "id": "70b36922-790a-445c-b873-0421dacab698",
   "metadata": {},
   "source": [
    "## Global variables"
   ]
  },
  {
   "cell_type": "code",
   "execution_count": 102,
   "id": "c6c4fe1e-49bb-4837-a26c-74c60fceb985",
   "metadata": {},
   "outputs": [
    {
     "name": "stdout",
     "output_type": "stream",
     "text": [
      "optimal number of threads: 12\n"
     ]
    }
   ],
   "source": [
    "# folder with stored data\n",
    "data_folder = \"../../data\"\n",
    "\n",
    "# MH parameters\n",
    "spins = [0.5, 1.0, 1.5, 2.0, 2.5, 3.0, 3.5, 4.0, 4.5, 5.0, 5.5, 6]\n",
    "sigmas = [0.8, 0.8, 0.8, 0.8, 0.8, 0.8, 0.8, 0.8]\n",
    "lengths = [1000000, 1000000, 1000000, 1000000, 1000000, 1000000, 1000000, 1000000]\n",
    "burnins = [0, 0, 0, 0, 0, 0, 0, 0]\n",
    "batch_sizes = [100000, 100000, 100000, 100000, 100000, 100000, 100000, 100000]\n",
    "\n",
    "# set optimal number of threads\n",
    "optimal_number_of_threads = int(mp.cpu_count())\n",
    "print(f\"optimal number of threads: {optimal_number_of_threads}\")"
   ]
  },
  {
   "cell_type": "markdown",
   "id": "99a6354b-9fae-42f9-9413-acbfdf797ab6",
   "metadata": {},
   "source": [
    "# Angles"
   ]
  },
  {
   "cell_type": "markdown",
   "id": "6bd73c9b-c09d-4eee-8c36-008a8ec6d39b",
   "metadata": {},
   "source": [
    "## Computation"
   ]
  },
  {
   "cell_type": "code",
   "execution_count": 103,
   "id": "cd8381bf-7a92-4be8-8107-3f2634fc1b46",
   "metadata": {},
   "outputs": [],
   "source": [
    "# takes an intertwiner and returns the corresponding angle eigenvalue\n",
    "def from_intertwiner_to_angle(matrix_element, spin):\n",
    "    return (matrix_element * (matrix_element + 1) - 2 * spin * (spin + 1)) / (\n",
    "        2 * spin * (spin + 1)\n",
    "    )"
   ]
  },
  {
   "cell_type": "code",
   "execution_count": 104,
   "id": "5fe0ab0a-333b-4a89-bdac-0b0cb6bf1661",
   "metadata": {},
   "outputs": [],
   "source": [
    "def from_draws_to_angles(\n",
    "    folder_prefix,\n",
    "    spin,\n",
    "    angle_path,\n",
    "    batch_id,\n",
    "    n,\n",
    "    name,\n",
    "    lag_max_autocorr=8000,\n",
    "    node_autocorr=1,\n",
    "):\n",
    "\n",
    "    for i in atpbar(range(n), name=name):\n",
    "        time.sleep(0.0001)\n",
    "\n",
    "    draw_path = f\"{folder_prefix}/draws/draws_batch_n_{batch_id}.csv\"\n",
    "\n",
    "    # load in memory the stored draws\n",
    "    df = pd.read_csv(draw_path, low_memory=False)\n",
    "    df.columns = df.columns.str.replace(\"intertwiner \", \"node \", regex=True)\n",
    "\n",
    "    # retrieving relevant parameters\n",
    "    multiplicity = df[[\"multiplicity\"]].to_numpy().astype(int)\n",
    "    #total_accept_draws = int(df[\"total accept. draws\"][0])\n",
    "    #total_accept_rate = float(df[\"total accept. rate\"][0].strip(\"%\"))\n",
    "    #total_run_time = float(df[\"total run time\"][0].strip(\" s\"))\n",
    "\n",
    "    # dropping columns (leaving multiplicity)\n",
    "    #df = df.drop(\n",
    "    #    columns=[\n",
    "    #        \"draw amplitude\",\n",
    "    #        \"total accept. draws\",\n",
    "    #        \"total accept. rate\",\n",
    "    #        \"total run time\",\n",
    "    #    ]\n",
    "    #)\n",
    "\n",
    "    # from intertwiners to angles\n",
    "    df.iloc[:, :5] = df.iloc[:, :5].apply(from_intertwiner_to_angle, args=(spin,))\n",
    "\n",
    "    # taking multiplicity into account\n",
    "    df = df.loc[df.index.repeat(df[\"multiplicity\"])]\n",
    "\n",
    "    # dropping multiplicity column\n",
    "    df = df.drop(\n",
    "        columns=[\n",
    "            \"multiplicity\",\n",
    "        ]\n",
    "    )\n",
    "\n",
    "    ##########################################################\n",
    "    # Computing autocorrelation (acf)\n",
    "    ##########################################################\n",
    "\n",
    "    acf_node = sm.tsa.acf(df[f\"node {node_autocorr}\"], nlags=lag_max_autocorr)\n",
    "    df_final = pd.DataFrame(acf_node, columns=[f\"node {node_autocorr}\"])\n",
    "    df_final.index.names = [\"lag\"]\n",
    "\n",
    "    angle_autocorr_path_batch = (\n",
    "        f\"{angle_path}/autocorrelations/node_{node_autocorr}_batch_{batch_id}.csv\"\n",
    "    )\n",
    "    df_final.to_csv(angle_autocorr_path_batch, index=True)\n",
    "\n",
    "    ##########################################################\n",
    "    # Computing exp values (avg) and quantum spread (std dev)\n",
    "    ##########################################################\n",
    "\n",
    "    df_final = pd.concat([df.mean(), df.std()], axis=1)\n",
    "    df_final.columns = [\"cosine angle avg\", \"cosine angle std\"]\n",
    "\n",
    "    angle_exp_values_path_batch = f\"{angle_path}/exp_values/batch_{batch_id}.csv\"\n",
    "    df_final.to_csv(angle_exp_values_path_batch, index=True)"
   ]
  },
  {
   "cell_type": "code",
   "execution_count": 105,
   "id": "de4fb098-86fb-4d41-ad0a-b908d55af39b",
   "metadata": {},
   "outputs": [],
   "source": [
    "# Converts multiple draws into angles exp. values, quantum spread, correlations and autocorrelations.\n",
    "# Store the result for each batch, then combines all batchs in another CSV file\n",
    "def angles_compute(\n",
    "    data_folder,\n",
    "    spin,\n",
    "    length,\n",
    "    batch_size,\n",
    "    sigma,\n",
    "    burnin,\n",
    "    number_of_threads=optimal_number_of_threads,\n",
    "    node_autocorr=1,\n",
    "):\n",
    "\n",
    "    number_of_batches = int(length/batch_size)\n",
    "    \n",
    "    folder_prefix = f\"{data_folder}/MCMC/iterations_{length}_batch_size_{batch_size}_burnin_{burnin}_sigma_{sigma}/j_{spin}\"\n",
    "    batch_id_collection = []\n",
    "\n",
    "    for batch_id in range(1, number_of_batches + 1):\n",
    "        draw_path = f\"{folder_prefix}/draws/draws_batch_n_{batch_id}.csv\"\n",
    "        if os.path.isfile(draw_path):\n",
    "            batch_id_collection.append(batch_id)\n",
    "        else:\n",
    "            warnings.warn(\"Warning: the draw %s was not found\" % (draw_path))\n",
    "\n",
    "    batches_to_assemble = len(batch_id_collection)\n",
    "\n",
    "    if batches_to_assemble != 0:\n",
    "\n",
    "        angle_path = f\"{folder_prefix}/operators/angles\"\n",
    "\n",
    "        angle_path_exp_values = f\"{angle_path}/exp_values\"\n",
    "        angle_path_autocorrelations = f\"{angle_path}/autocorrelations\"\n",
    "\n",
    "        os.makedirs(f\"{angle_path_exp_values}\", exist_ok=True)\n",
    "        os.makedirs(f\"{angle_path_autocorrelations}\", exist_ok=True)\n",
    "\n",
    "        print(\n",
    "            f\"\\nComputing exp. values and autocorrelations of {batches_to_assemble} draws batches, using {number_of_threads} threads...\\n\"\n",
    "        )\n",
    "\n",
    "        print(\n",
    "            f\"\\nspin = {spin}, length = {length}, sigma = {sigma}, length = {length}, burnin = {burnin}, node_autocorr = {node_autocorr}\\n\"\n",
    "        )\n",
    "\n",
    "        threads = []\n",
    "        for batch_id in batch_id_collection:\n",
    "\n",
    "            name = \"batch {}\".format(batch_id)\n",
    "            n = random.randint(number_of_threads, 10000)\n",
    "\n",
    "            t = threading.Thread(\n",
    "                target=from_draws_to_angles,\n",
    "                args=(\n",
    "                    folder_prefix,\n",
    "                    spin,\n",
    "                    angle_path,\n",
    "                    batch_id,\n",
    "                    n,\n",
    "                    name,\n",
    "                ),\n",
    "            )\n",
    "            threads.append(t)\n",
    "            t.start()\n",
    "\n",
    "        # wait for the threads to complete\n",
    "        for t in threads:\n",
    "            t.join()\n",
    "\n",
    "        flush()\n",
    "\n",
    "        print(f\"All draws have been processed\")\n",
    "        \n",
    "        ###\n",
    "        print(f\"\\nAssembling {batches_to_assemble} batches...\")\n",
    "\n",
    "        ##########################################################\n",
    "        # Assembling autocorrelation\n",
    "        ##########################################################\n",
    "        \n",
    "        '''\n",
    "\n",
    "        DF_list = [\n",
    "            pd.read_csv(\n",
    "                f\"{angle_path}/autocorrelations/node_{node_autocorr}_batch_{batch_id+1}.csv\",\n",
    "                index_col=0,\n",
    "                low_memory=False,\n",
    "            )\n",
    "            for batch_id in range(batches_to_assemble)\n",
    "        ]\n",
    "\n",
    "        df_all_batches = pd.concat(DF_list[:]).groupby(level=0, sort=False)\n",
    "\n",
    "        df_final = pd.concat([df_all_batches.mean()], axis=1)\n",
    "        df_final.columns = [\"node 1\"]\n",
    "\n",
    "        df_final.to_csv(\n",
    "            f\"{angle_path_autocorrelations}/batches_assembled_{batches_to_assemble}.csv\",\n",
    "            index=True,\n",
    "        )\n",
    "\n",
    "        ##########################################################\n",
    "        # Assembling exp values and quantum spread\n",
    "        ##########################################################\n",
    "\n",
    "        DF_list = [\n",
    "            pd.read_csv(\n",
    "                f\"{angle_path_exp_values}/chain_{chain_id+1}.csv\",\n",
    "                index_col=0,\n",
    "                low_memory=False,\n",
    "            )\n",
    "            for chain_id in range(chains_to_assemble)\n",
    "        ]\n",
    "\n",
    "        df_all_chains = pd.concat(DF_list[:]).groupby(level=0, sort=False)\n",
    "\n",
    "        df_tmp = df_all_chains.std()\n",
    "        df_tmp.drop(columns=df_tmp.columns[-1], axis=1, inplace=True)\n",
    "        df_tmp.columns = [\"cos avg std over chains\"]\n",
    "\n",
    "        df_final = pd.concat([df_all_chains.mean(), df_tmp], axis=1)\n",
    "        df_final.columns = [\"cos avg\", \"cos std\", \"cos avg std over chains\"]\n",
    "        df_final.T\n",
    "\n",
    "        df_final.to_csv(\n",
    "            f\"{angle_path_exp_values}/chains_assembled_{chains_to_assemble}.csv\",\n",
    "            index=True,\n",
    "        )\n",
    "\n",
    "        ##########################################################\n",
    "        # Assembling correlations\n",
    "        ###########################################################\n",
    "\n",
    "        DF_list = [\n",
    "            pd.read_csv(\n",
    "                f\"{angle_path_correlations}/chain_{chain_id+1}.csv\",\n",
    "                index_col=0,\n",
    "                low_memory=False,\n",
    "            )\n",
    "            for chain_id in range(chains_to_assemble)\n",
    "        ]\n",
    "\n",
    "        df_all_chains = pd.concat(DF_list[:]).groupby(level=0, sort=False)\n",
    "\n",
    "        df_final = pd.concat([df_all_chains.mean()], axis=1)\n",
    "\n",
    "        df_final.to_csv(\n",
    "            f\"{angle_path_correlations}/chains_assembled_{chains_to_assemble}.csv\",\n",
    "            index=True,\n",
    "        )\n",
    "\n",
    "        print(\"Done\")\n",
    "        \n",
    "        '''\n",
    "\n",
    "    else:\n",
    "        warnings.warn(\"I can't compute angles since there are no chains available\")"
   ]
  },
  {
   "cell_type": "code",
   "execution_count": 106,
   "id": "b404de98-a6d7-4a8d-8798-0521b5975d24",
   "metadata": {},
   "outputs": [
    {
     "name": "stdout",
     "output_type": "stream",
     "text": [
      "\n",
      "Computing exp. values and autocorrelations of 10 draws batches, using 12 threads...\n",
      "\n",
      "\n",
      "spin = 0.5, length = 1000000, sigma = 0.8, length = 1000000, burnin = 0, node_autocorr = 1\n",
      "\n"
     ]
    },
    {
     "data": {
      "application/vnd.jupyter.widget-view+json": {
       "model_id": "9b1db9e5f2224218838f5c3dab681c45",
       "version_major": 2,
       "version_minor": 0
      },
      "text/plain": [
       "VBox()"
      ]
     },
     "metadata": {},
     "output_type": "display_data"
    },
    {
     "name": "stdout",
     "output_type": "stream",
     "text": [
      "All draws have been processed\n",
      "\n",
      "Assembling 10 batches...\n",
      "\n",
      "Computing exp. values and autocorrelations of 10 draws batches, using 12 threads...\n",
      "\n",
      "\n",
      "spin = 1.0, length = 1000000, sigma = 0.8, length = 1000000, burnin = 0, node_autocorr = 1\n",
      "\n"
     ]
    },
    {
     "data": {
      "application/vnd.jupyter.widget-view+json": {
       "model_id": "5ef5c28087174076b441ef9f054c0eff",
       "version_major": 2,
       "version_minor": 0
      },
      "text/plain": [
       "VBox()"
      ]
     },
     "metadata": {},
     "output_type": "display_data"
    },
    {
     "name": "stdout",
     "output_type": "stream",
     "text": [
      "All draws have been processed\n",
      "\n",
      "Assembling 10 batches...\n",
      "\n",
      "Computing exp. values and autocorrelations of 10 draws batches, using 12 threads...\n",
      "\n",
      "\n",
      "spin = 1.5, length = 1000000, sigma = 0.8, length = 1000000, burnin = 0, node_autocorr = 1\n",
      "\n"
     ]
    },
    {
     "data": {
      "application/vnd.jupyter.widget-view+json": {
       "model_id": "b9170d824f4043d4b5222cb17fd0182a",
       "version_major": 2,
       "version_minor": 0
      },
      "text/plain": [
       "VBox()"
      ]
     },
     "metadata": {},
     "output_type": "display_data"
    },
    {
     "name": "stdout",
     "output_type": "stream",
     "text": [
      "All draws have been processed\n",
      "\n",
      "Assembling 10 batches...\n",
      "\n",
      "Computing exp. values and autocorrelations of 10 draws batches, using 12 threads...\n",
      "\n",
      "\n",
      "spin = 2.0, length = 1000000, sigma = 0.8, length = 1000000, burnin = 0, node_autocorr = 1\n",
      "\n"
     ]
    },
    {
     "data": {
      "application/vnd.jupyter.widget-view+json": {
       "model_id": "aabfb5c9e33441249599419d2e96e54b",
       "version_major": 2,
       "version_minor": 0
      },
      "text/plain": [
       "VBox()"
      ]
     },
     "metadata": {},
     "output_type": "display_data"
    },
    {
     "name": "stdout",
     "output_type": "stream",
     "text": [
      "All draws have been processed\n",
      "\n",
      "Assembling 10 batches...\n",
      "\n",
      "Computing exp. values and autocorrelations of 10 draws batches, using 12 threads...\n",
      "\n",
      "\n",
      "spin = 2.5, length = 1000000, sigma = 0.8, length = 1000000, burnin = 0, node_autocorr = 1\n",
      "\n"
     ]
    },
    {
     "data": {
      "application/vnd.jupyter.widget-view+json": {
       "model_id": "3f2bf44261a14dad933ce657e63cb16d",
       "version_major": 2,
       "version_minor": 0
      },
      "text/plain": [
       "VBox()"
      ]
     },
     "metadata": {},
     "output_type": "display_data"
    },
    {
     "name": "stdout",
     "output_type": "stream",
     "text": [
      "All draws have been processed\n",
      "\n",
      "Assembling 10 batches...\n",
      "\n",
      "Computing exp. values and autocorrelations of 10 draws batches, using 12 threads...\n",
      "\n",
      "\n",
      "spin = 3.0, length = 1000000, sigma = 0.8, length = 1000000, burnin = 0, node_autocorr = 1\n",
      "\n"
     ]
    },
    {
     "data": {
      "application/vnd.jupyter.widget-view+json": {
       "model_id": "6eadc5001b5a4475a9e4688d1e4a9a7d",
       "version_major": 2,
       "version_minor": 0
      },
      "text/plain": [
       "VBox()"
      ]
     },
     "metadata": {},
     "output_type": "display_data"
    },
    {
     "name": "stdout",
     "output_type": "stream",
     "text": [
      "All draws have been processed\n",
      "\n",
      "Assembling 10 batches...\n",
      "\n",
      "Computing exp. values and autocorrelations of 10 draws batches, using 12 threads...\n",
      "\n",
      "\n",
      "spin = 3.5, length = 1000000, sigma = 0.8, length = 1000000, burnin = 0, node_autocorr = 1\n",
      "\n"
     ]
    },
    {
     "data": {
      "application/vnd.jupyter.widget-view+json": {
       "model_id": "69e9f6c39fdc477fbc98f38eb231070a",
       "version_major": 2,
       "version_minor": 0
      },
      "text/plain": [
       "VBox()"
      ]
     },
     "metadata": {},
     "output_type": "display_data"
    },
    {
     "name": "stdout",
     "output_type": "stream",
     "text": [
      "All draws have been processed\n",
      "\n",
      "Assembling 10 batches...\n",
      "\n",
      "Computing exp. values and autocorrelations of 10 draws batches, using 12 threads...\n",
      "\n",
      "\n",
      "spin = 4.0, length = 1000000, sigma = 0.8, length = 1000000, burnin = 0, node_autocorr = 1\n",
      "\n"
     ]
    },
    {
     "data": {
      "application/vnd.jupyter.widget-view+json": {
       "model_id": "7aa816547f2547b286b6a9d8cdf35d91",
       "version_major": 2,
       "version_minor": 0
      },
      "text/plain": [
       "VBox()"
      ]
     },
     "metadata": {},
     "output_type": "display_data"
    },
    {
     "name": "stdout",
     "output_type": "stream",
     "text": [
      "All draws have been processed\n",
      "\n",
      "Assembling 10 batches...\n"
     ]
    }
   ],
   "source": [
    "for spin, length, batch_size, sigma, burnin in zip(\n",
    "    spins, lengths, batch_sizes, sigmas, burnins\n",
    "):\n",
    "\n",
    "    angles_compute(data_folder, spin, length, batch_size, sigma, burnin)"
   ]
  },
  {
   "cell_type": "code",
   "execution_count": null,
   "id": "e92b2e67-5fa5-4d08-bff6-09a8bba34ed3",
   "metadata": {},
   "outputs": [],
   "source": []
  }
 ],
 "metadata": {
  "kernelspec": {
   "display_name": "Python 3 (ipykernel)",
   "language": "python",
   "name": "python3"
  },
  "language_info": {
   "codemirror_mode": {
    "name": "ipython",
    "version": 3
   },
   "file_extension": ".py",
   "mimetype": "text/x-python",
   "name": "python",
   "nbconvert_exporter": "python",
   "pygments_lexer": "ipython3",
   "version": "3.9.15"
  }
 },
 "nbformat": 4,
 "nbformat_minor": 5
}
